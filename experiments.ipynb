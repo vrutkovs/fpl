{
 "cells": [
  {
   "cell_type": "markdown",
   "metadata": {},
   "source": [
    "Read all players in 2024-2025 season"
   ]
  },
  {
   "cell_type": "code",
   "execution_count": 103,
   "metadata": {},
   "outputs": [
    {
     "name": "stdout",
     "output_type": "stream",
     "text": [
      "         first_name             second_name  goals_scored  assists  \\\n",
      "0             Fábio         Ferreira Vieira             0        0   \n",
      "1           Gabriel       Fernando de Jesus             0        0   \n",
      "2           Gabriel    dos Santos Magalhães             2        0   \n",
      "3               Kai                 Havertz             3        1   \n",
      "4              Karl                    Hein             0        0   \n",
      "..              ...                     ...           ...      ...   \n",
      "659    Toti António                   Gomes             0        1   \n",
      "660         Bastien                Meupiyou             0        0   \n",
      "661           André  Trindade da Costa Neto             0        0   \n",
      "662  Carlos Roberto            Forbs Borges             0        0   \n",
      "663           Alfie                    Pond             0        0   \n",
      "\n",
      "     total_points  minutes  goals_conceded  creativity  influence  threat  \\\n",
      "0               0        0               0         0.0        0.0     0.0   \n",
      "1               2       19               1         0.8       12.2    17.0   \n",
      "2              37      540               5        32.9      190.2   149.0   \n",
      "3              32      540               5        68.9      171.6   244.0   \n",
      "4               0        0               0         0.0        0.0     0.0   \n",
      "..            ...      ...             ...         ...        ...     ...   \n",
      "659             4      360              11        14.6       61.8     8.0   \n",
      "660             0        0               0         0.0        0.0     0.0   \n",
      "661             5      260               6        16.1       34.0     5.0   \n",
      "662             1       42               1         1.6        2.2    17.0   \n",
      "663             0        0               0         0.0        0.0     0.0   \n",
      "\n",
      "     bonus  bps  ict_index  clean_sheets  red_cards  yellow_cards  \\\n",
      "0        0    0        0.0             0          0             0   \n",
      "1        0    9        3.0             0          0             2   \n",
      "2        4  126       37.2             3          0             1   \n",
      "3        5  122       48.4             3          0             0   \n",
      "4        0    0        0.0             0          0             0   \n",
      "..     ...  ...        ...           ...        ...           ...   \n",
      "659      0   12        8.4             0          0             2   \n",
      "660      0    0        0.0             0          0             0   \n",
      "661      0   46        5.5             0          0             2   \n",
      "662      0    4        2.0             0          0             1   \n",
      "663      0    0        0.0             0          0             0   \n",
      "\n",
      "     selected_by_percent  now_cost element_type  \n",
      "0                    0.0        54          MID  \n",
      "1                    0.9        68          FWD  \n",
      "2                   24.7        62          DEF  \n",
      "3                   19.0        82          FWD  \n",
      "4                    0.0        40           GK  \n",
      "..                   ...       ...          ...  \n",
      "659                  0.2        43          DEF  \n",
      "660                  0.2        40          DEF  \n",
      "661                  0.0        50          MID  \n",
      "662                  0.0        55          MID  \n",
      "663                  0.1        40          DEF  \n",
      "\n",
      "[664 rows x 19 columns]\n"
     ]
    }
   ],
   "source": [
    "import pandas as pd\n",
    "import numpy as np\n",
    "df = pd.read_csv(\"data/2024-25/cleaned_players.csv\")\n",
    "print(df)"
   ]
  },
  {
   "cell_type": "markdown",
   "metadata": {},
   "source": [
    "Most expensive player"
   ]
  },
  {
   "cell_type": "code",
   "execution_count": 68,
   "metadata": {},
   "outputs": [
    {
     "data": {
      "text/html": [
       "<div>\n",
       "<style scoped>\n",
       "    .dataframe tbody tr th:only-of-type {\n",
       "        vertical-align: middle;\n",
       "    }\n",
       "\n",
       "    .dataframe tbody tr th {\n",
       "        vertical-align: top;\n",
       "    }\n",
       "\n",
       "    .dataframe thead th {\n",
       "        text-align: right;\n",
       "    }\n",
       "</style>\n",
       "<table border=\"1\" class=\"dataframe\">\n",
       "  <thead>\n",
       "    <tr style=\"text-align: right;\">\n",
       "      <th></th>\n",
       "      <th>first_name</th>\n",
       "      <th>second_name</th>\n",
       "      <th>goals_scored</th>\n",
       "      <th>assists</th>\n",
       "      <th>total_points</th>\n",
       "      <th>minutes</th>\n",
       "      <th>goals_conceded</th>\n",
       "      <th>creativity</th>\n",
       "      <th>influence</th>\n",
       "      <th>threat</th>\n",
       "      <th>bonus</th>\n",
       "      <th>bps</th>\n",
       "      <th>ict_index</th>\n",
       "      <th>clean_sheets</th>\n",
       "      <th>red_cards</th>\n",
       "      <th>yellow_cards</th>\n",
       "      <th>selected_by_percent</th>\n",
       "      <th>now_cost</th>\n",
       "      <th>element_type</th>\n",
       "    </tr>\n",
       "  </thead>\n",
       "  <tbody>\n",
       "    <tr>\n",
       "      <th>413</th>\n",
       "      <td>Erling</td>\n",
       "      <td>Haaland</td>\n",
       "      <td>10</td>\n",
       "      <td>0</td>\n",
       "      <td>65</td>\n",
       "      <td>539</td>\n",
       "      <td>6</td>\n",
       "      <td>29.3</td>\n",
       "      <td>369.6</td>\n",
       "      <td>443.0</td>\n",
       "      <td>14</td>\n",
       "      <td>307</td>\n",
       "      <td>84.3</td>\n",
       "      <td>1</td>\n",
       "      <td>0</td>\n",
       "      <td>1</td>\n",
       "      <td>73.1</td>\n",
       "      <td>153</td>\n",
       "      <td>FWD</td>\n",
       "    </tr>\n",
       "    <tr>\n",
       "      <th>389</th>\n",
       "      <td>Mohamed</td>\n",
       "      <td>Salah</td>\n",
       "      <td>4</td>\n",
       "      <td>4</td>\n",
       "      <td>59</td>\n",
       "      <td>532</td>\n",
       "      <td>2</td>\n",
       "      <td>184.6</td>\n",
       "      <td>271.4</td>\n",
       "      <td>365.0</td>\n",
       "      <td>11</td>\n",
       "      <td>204</td>\n",
       "      <td>82.0</td>\n",
       "      <td>4</td>\n",
       "      <td>0</td>\n",
       "      <td>0</td>\n",
       "      <td>42.0</td>\n",
       "      <td>128</td>\n",
       "      <td>MID</td>\n",
       "    </tr>\n",
       "    <tr>\n",
       "      <th>205</th>\n",
       "      <td>Cole</td>\n",
       "      <td>Palmer</td>\n",
       "      <td>6</td>\n",
       "      <td>4</td>\n",
       "      <td>61</td>\n",
       "      <td>505</td>\n",
       "      <td>7</td>\n",
       "      <td>228.2</td>\n",
       "      <td>330.4</td>\n",
       "      <td>148.0</td>\n",
       "      <td>7</td>\n",
       "      <td>247</td>\n",
       "      <td>70.7</td>\n",
       "      <td>2</td>\n",
       "      <td>0</td>\n",
       "      <td>2</td>\n",
       "      <td>44.3</td>\n",
       "      <td>107</td>\n",
       "      <td>MID</td>\n",
       "    </tr>\n",
       "    <tr>\n",
       "      <th>13</th>\n",
       "      <td>Bukayo</td>\n",
       "      <td>Saka</td>\n",
       "      <td>1</td>\n",
       "      <td>5</td>\n",
       "      <td>38</td>\n",
       "      <td>476</td>\n",
       "      <td>4</td>\n",
       "      <td>288.4</td>\n",
       "      <td>211.0</td>\n",
       "      <td>268.0</td>\n",
       "      <td>5</td>\n",
       "      <td>165</td>\n",
       "      <td>76.7</td>\n",
       "      <td>3</td>\n",
       "      <td>0</td>\n",
       "      <td>1</td>\n",
       "      <td>33.2</td>\n",
       "      <td>101</td>\n",
       "      <td>MID</td>\n",
       "    </tr>\n",
       "    <tr>\n",
       "      <th>587</th>\n",
       "      <td>Son</td>\n",
       "      <td>Heung-min</td>\n",
       "      <td>2</td>\n",
       "      <td>2</td>\n",
       "      <td>33</td>\n",
       "      <td>450</td>\n",
       "      <td>5</td>\n",
       "      <td>184.9</td>\n",
       "      <td>161.8</td>\n",
       "      <td>113.0</td>\n",
       "      <td>6</td>\n",
       "      <td>149</td>\n",
       "      <td>46.0</td>\n",
       "      <td>1</td>\n",
       "      <td>0</td>\n",
       "      <td>0</td>\n",
       "      <td>6.8</td>\n",
       "      <td>99</td>\n",
       "      <td>MID</td>\n",
       "    </tr>\n",
       "    <tr>\n",
       "      <th>...</th>\n",
       "      <td>...</td>\n",
       "      <td>...</td>\n",
       "      <td>...</td>\n",
       "      <td>...</td>\n",
       "      <td>...</td>\n",
       "      <td>...</td>\n",
       "      <td>...</td>\n",
       "      <td>...</td>\n",
       "      <td>...</td>\n",
       "      <td>...</td>\n",
       "      <td>...</td>\n",
       "      <td>...</td>\n",
       "      <td>...</td>\n",
       "      <td>...</td>\n",
       "      <td>...</td>\n",
       "      <td>...</td>\n",
       "      <td>...</td>\n",
       "      <td>...</td>\n",
       "      <td>...</td>\n",
       "    </tr>\n",
       "    <tr>\n",
       "      <th>607</th>\n",
       "      <td>Łukasz</td>\n",
       "      <td>Fabiański</td>\n",
       "      <td>0</td>\n",
       "      <td>0</td>\n",
       "      <td>1</td>\n",
       "      <td>45</td>\n",
       "      <td>1</td>\n",
       "      <td>0.0</td>\n",
       "      <td>16.4</td>\n",
       "      <td>0.0</td>\n",
       "      <td>0</td>\n",
       "      <td>4</td>\n",
       "      <td>1.6</td>\n",
       "      <td>0</td>\n",
       "      <td>0</td>\n",
       "      <td>0</td>\n",
       "      <td>16.7</td>\n",
       "      <td>40</td>\n",
       "      <td>GK</td>\n",
       "    </tr>\n",
       "    <tr>\n",
       "      <th>623</th>\n",
       "      <td>Kaelan</td>\n",
       "      <td>Casey</td>\n",
       "      <td>0</td>\n",
       "      <td>0</td>\n",
       "      <td>0</td>\n",
       "      <td>0</td>\n",
       "      <td>0</td>\n",
       "      <td>0.0</td>\n",
       "      <td>0.0</td>\n",
       "      <td>0.0</td>\n",
       "      <td>0</td>\n",
       "      <td>0</td>\n",
       "      <td>0.0</td>\n",
       "      <td>0</td>\n",
       "      <td>0</td>\n",
       "      <td>0</td>\n",
       "      <td>0.2</td>\n",
       "      <td>40</td>\n",
       "      <td>DEF</td>\n",
       "    </tr>\n",
       "    <tr>\n",
       "      <th>660</th>\n",
       "      <td>Bastien</td>\n",
       "      <td>Meupiyou</td>\n",
       "      <td>0</td>\n",
       "      <td>0</td>\n",
       "      <td>0</td>\n",
       "      <td>0</td>\n",
       "      <td>0</td>\n",
       "      <td>0.0</td>\n",
       "      <td>0.0</td>\n",
       "      <td>0.0</td>\n",
       "      <td>0</td>\n",
       "      <td>0</td>\n",
       "      <td>0.0</td>\n",
       "      <td>0</td>\n",
       "      <td>0</td>\n",
       "      <td>0</td>\n",
       "      <td>0.2</td>\n",
       "      <td>40</td>\n",
       "      <td>DEF</td>\n",
       "    </tr>\n",
       "    <tr>\n",
       "      <th>4</th>\n",
       "      <td>Karl</td>\n",
       "      <td>Hein</td>\n",
       "      <td>0</td>\n",
       "      <td>0</td>\n",
       "      <td>0</td>\n",
       "      <td>0</td>\n",
       "      <td>0</td>\n",
       "      <td>0.0</td>\n",
       "      <td>0.0</td>\n",
       "      <td>0.0</td>\n",
       "      <td>0</td>\n",
       "      <td>0</td>\n",
       "      <td>0.0</td>\n",
       "      <td>0</td>\n",
       "      <td>0</td>\n",
       "      <td>0</td>\n",
       "      <td>0.0</td>\n",
       "      <td>40</td>\n",
       "      <td>GK</td>\n",
       "    </tr>\n",
       "    <tr>\n",
       "      <th>663</th>\n",
       "      <td>Alfie</td>\n",
       "      <td>Pond</td>\n",
       "      <td>0</td>\n",
       "      <td>0</td>\n",
       "      <td>0</td>\n",
       "      <td>0</td>\n",
       "      <td>0</td>\n",
       "      <td>0.0</td>\n",
       "      <td>0.0</td>\n",
       "      <td>0.0</td>\n",
       "      <td>0</td>\n",
       "      <td>0</td>\n",
       "      <td>0.0</td>\n",
       "      <td>0</td>\n",
       "      <td>0</td>\n",
       "      <td>0</td>\n",
       "      <td>0.1</td>\n",
       "      <td>40</td>\n",
       "      <td>DEF</td>\n",
       "    </tr>\n",
       "  </tbody>\n",
       "</table>\n",
       "<p>664 rows × 19 columns</p>\n",
       "</div>"
      ],
      "text/plain": [
       "    first_name second_name  goals_scored  assists  total_points  minutes  \\\n",
       "413     Erling     Haaland            10        0            65      539   \n",
       "389    Mohamed       Salah             4        4            59      532   \n",
       "205       Cole      Palmer             6        4            61      505   \n",
       "13      Bukayo        Saka             1        5            38      476   \n",
       "587        Son   Heung-min             2        2            33      450   \n",
       "..         ...         ...           ...      ...           ...      ...   \n",
       "607     Łukasz   Fabiański             0        0             1       45   \n",
       "623     Kaelan       Casey             0        0             0        0   \n",
       "660    Bastien    Meupiyou             0        0             0        0   \n",
       "4         Karl        Hein             0        0             0        0   \n",
       "663      Alfie        Pond             0        0             0        0   \n",
       "\n",
       "     goals_conceded  creativity  influence  threat  bonus  bps  ict_index  \\\n",
       "413               6        29.3      369.6   443.0     14  307       84.3   \n",
       "389               2       184.6      271.4   365.0     11  204       82.0   \n",
       "205               7       228.2      330.4   148.0      7  247       70.7   \n",
       "13                4       288.4      211.0   268.0      5  165       76.7   \n",
       "587               5       184.9      161.8   113.0      6  149       46.0   \n",
       "..              ...         ...        ...     ...    ...  ...        ...   \n",
       "607               1         0.0       16.4     0.0      0    4        1.6   \n",
       "623               0         0.0        0.0     0.0      0    0        0.0   \n",
       "660               0         0.0        0.0     0.0      0    0        0.0   \n",
       "4                 0         0.0        0.0     0.0      0    0        0.0   \n",
       "663               0         0.0        0.0     0.0      0    0        0.0   \n",
       "\n",
       "     clean_sheets  red_cards  yellow_cards  selected_by_percent  now_cost  \\\n",
       "413             1          0             1                 73.1       153   \n",
       "389             4          0             0                 42.0       128   \n",
       "205             2          0             2                 44.3       107   \n",
       "13              3          0             1                 33.2       101   \n",
       "587             1          0             0                  6.8        99   \n",
       "..            ...        ...           ...                  ...       ...   \n",
       "607             0          0             0                 16.7        40   \n",
       "623             0          0             0                  0.2        40   \n",
       "660             0          0             0                  0.2        40   \n",
       "4               0          0             0                  0.0        40   \n",
       "663             0          0             0                  0.1        40   \n",
       "\n",
       "    element_type  \n",
       "413          FWD  \n",
       "389          MID  \n",
       "205          MID  \n",
       "13           MID  \n",
       "587          MID  \n",
       "..           ...  \n",
       "607           GK  \n",
       "623          DEF  \n",
       "660          DEF  \n",
       "4             GK  \n",
       "663          DEF  \n",
       "\n",
       "[664 rows x 19 columns]"
      ]
     },
     "execution_count": 68,
     "metadata": {},
     "output_type": "execute_result"
    }
   ],
   "source": [
    "df.sort_values(by=\"now_cost\", ascending=False)"
   ]
  },
  {
   "cell_type": "markdown",
   "metadata": {},
   "source": [
    "Total points vs. Total cost"
   ]
  },
  {
   "cell_type": "code",
   "execution_count": 69,
   "metadata": {},
   "outputs": [
    {
     "data": {
      "application/vnd.plotly.v1+json": {
       "config": {
        "plotlyServerURL": "https://plot.ly"
       },
       "data": [
        {
         "customdata": [
          [
           "Fábio",
           "Ferreira Vieira"
          ],
          [
           "Gabriel",
           "Fernando de Jesus"
          ],
          [
           "Gabriel",
           "dos Santos Magalhães"
          ],
          [
           "Kai",
           "Havertz"
          ],
          [
           "Karl",
           "Hein"
          ],
          [
           "Jurriën",
           "Timber"
          ],
          [
           "Jorge Luiz",
           "Frello Filho"
          ],
          [
           "Jakub",
           "Kiwior"
          ],
          [
           "Gabriel",
           "Martinelli Silva"
          ],
          [
           "Ethan",
           "Nwaneri"
          ],
          [
           "Martin",
           "Ødegaard"
          ],
          [
           "David",
           "Raya Martin"
          ],
          [
           "Declan",
           "Rice"
          ],
          [
           "Bukayo",
           "Saka"
          ],
          [
           "William",
           "Saliba"
          ],
          [
           "Thomas",
           "Partey"
          ],
          [
           "Kieran",
           "Tierney"
          ],
          [
           "Tomiyasu",
           "Takehiro"
          ],
          [
           "Leandro",
           "Trossard"
          ],
          [
           "Benjamin",
           "White"
          ],
          [
           "Oleksandr",
           "Zinchenko"
          ],
          [
           "Norberto",
           "Murara Neto"
          ],
          [
           "Raheem",
           "Sterling"
          ],
          [
           "Riccardo",
           "Calafiori"
          ],
          [
           "Myles",
           "Lewis-Skelly"
          ],
          [
           "Mikel",
           "Merino"
          ],
          [
           "Salah-Eddine",
           "Oulad M'hand"
          ],
          [
           "Tommy",
           "Setford"
          ],
          [
           "Maldini",
           "Kacurri"
          ],
          [
           "Ayden",
           "Heaven"
          ],
          [
           "Ismeal",
           "Kabia"
          ],
          [
           "Josh",
           "Nichols"
          ],
          [
           "Leon",
           "Bailey"
          ],
          [
           "Ross",
           "Barkley"
          ],
          [
           "Enzo",
           "Barrenechea"
          ],
          [
           "Emiliano",
           "Buendía Stati"
          ],
          [
           "Matty",
           "Cash"
          ],
          [
           "Leander",
           "Dendoncker"
          ],
          [
           "Moussa",
           "Diaby"
          ],
          [
           "Diego Carlos",
           "Santos Silva"
          ],
          [
           "Lucas",
           "Digne"
          ],
          [
           "Lewis",
           "Dobbin"
          ],
          [
           "Jhon",
           "Durán"
          ],
          [
           "Joe",
           "Gauci"
          ],
          [
           "Kortney",
           "Hause"
          ],
          [
           "Samuel",
           "Iling-Junior"
          ],
          [
           "Boubacar",
           "Kamara"
          ],
          [
           "Kaine",
           "Kesler-Hayden"
          ],
          [
           "Ezri",
           "Konsa Ngoyo"
          ],
          [
           "Ian",
           "Maatsen"
          ],
          [
           "Filip",
           "Marschall"
          ],
          [
           "Emiliano",
           "Martínez Romero"
          ],
          [
           "John",
           "McGinn"
          ],
          [
           "Tyrone",
           "Mings"
          ],
          [
           "Kosta",
           "Nedeljković"
          ],
          [
           "Robin",
           "Olsen"
          ],
          [
           "Pau",
           "Torres"
          ],
          [
           "Jacob",
           "Ramsey"
          ],
          [
           "Morgan",
           "Rogers"
          ],
          [
           "Viljami",
           "Sinisalo"
          ],
          [
           "Lino",
           "da Cruz Sousa"
          ],
          [
           "Youri",
           "Tielemans"
          ],
          [
           "Ollie",
           "Watkins"
          ],
          [
           "Amadou",
           "Onana"
          ],
          [
           "Jaden",
           "Philogene"
          ],
          [
           "Lamare",
           "Bogarde"
          ],
          [
           "Sil",
           "Swinkels"
          ],
          [
           "Oliwier",
           "Zych"
          ],
          [
           "Kadan",
           "Young"
          ],
          [
           "Max",
           "Aarons"
          ],
          [
           "Tyler",
           "Adams"
          ],
          [
           "Jaidon",
           "Anthony"
          ],
          [
           "David",
           "Brooks"
          ],
          [
           "Ryan",
           "Christie"
          ],
          [
           "Lewis",
           "Cook"
          ],
          [
           "Enes",
           "Ünal"
          ],
          [
           "Romain",
           "Faivre"
          ],
          [
           "Hamed",
           "Traorè"
          ],
          [
           "James",
           "Hill"
          ],
          [
           "Daniel",
           "Jebbison"
          ],
          [
           "Milos",
           "Kerkez"
          ],
          [
           "Justin",
           "Kluivert"
          ],
          [
           "Chris",
           "Mepham"
          ],
          [
           "Dango",
           "Ouattara"
          ],
          [
           "Alex",
           "Paulsen"
          ],
          [
           "Philip",
           "Billing"
          ],
          [
           "Alex",
           "Scott"
          ],
          [
           "Antoine",
           "Semenyo"
          ],
          [
           "Marcos",
           "Senesi"
          ],
          [
           "Luis",
           "Sinisterra"
          ],
          [
           "Adam",
           "Smith"
          ],
          [
           "Marcus",
           "Tavernier"
          ],
          [
           "Mark",
           "Travers"
          ],
          [
           "Illia",
           "Zabarnyi"
          ],
          [
           "Kepa",
           "Arrizabalaga"
          ],
          [
           "Dean",
           "Huijsen"
          ],
          [
           "Julián",
           "Araujo Zúñiga"
          ],
          [
           "Will",
           "Dennis"
          ],
          [
           "Francisco Evanilson",
           "de Lima Barbosa"
          ],
          [
           "Kristoffer",
           "Ajer"
          ],
          [
           "Ethan",
           "Brierley"
          ],
          [
           "Nathan",
           "Collins"
          ],
          [
           "Mikkel",
           "Damsgaard"
          ],
          [
           "Josh",
           "Dasilva"
          ],
          [
           "Mark",
           "Flekken"
          ],
          [
           "Rico",
           "Henry"
          ],
          [
           "Aaron",
           "Hickey"
          ],
          [
           "Vitaly",
           "Janelt"
          ],
          [
           "Mathias",
           "Jensen"
          ],
          [
           "Kim",
           "Ji-soo"
          ],
          [
           "Yunus Emre",
           "Konak"
          ],
          [
           "Keane",
           "Lewis-Potter"
          ],
          [
           "Bryan",
           "Mbeumo"
          ],
          [
           "Ben",
           "Mee"
          ],
          [
           "Christian",
           "Nørgaard"
          ],
          [
           "Frank",
           "Onyeka"
          ],
          [
           "Myles",
           "Peart-Harris"
          ],
          [
           "Ethan",
           "Pinnock"
          ],
          [
           "Mads",
           "Roerslev Rasmussen"
          ],
          [
           "Kevin",
           "Schade"
          ],
          [
           "Igor Thiago",
           "Nascimento Rodrigues"
          ],
          [
           "Ivan",
           "Toney"
          ],
          [
           "Hákon",
           "Valdimarsson"
          ],
          [
           "Yoane",
           "Wissa"
          ],
          [
           "Yehor",
           "Yarmoliuk"
          ],
          [
           "Mathias",
           "Jorgensen"
          ],
          [
           "Fábio",
           "Freitas Gouveia Carvalho"
          ],
          [
           "Sepp",
           "van den Berg"
          ],
          [
           "Ryan",
           "Trevitt"
          ],
          [
           "Gustavo",
           "Nunes Fernandes Gomes"
          ],
          [
           "Jayden",
           "Meghoma"
          ],
          [
           "Tony",
           "Yogane"
          ],
          [
           "Simon",
           "Adingra"
          ],
          [
           "Benicio",
           "Baker-Boaitey"
          ],
          [
           "Carlos",
           "Baleba"
          ],
          [
           "Valentín",
           "Barco"
          ],
          [
           "Amario",
           "Cozier-Duberry"
          ],
          [
           "Mahmoud",
           "Dahoud"
          ],
          [
           "Lewis",
           "Dunk"
          ],
          [
           "Julio",
           "Enciso"
          ],
          [
           "Pervis",
           "Estupiñán"
          ],
          [
           "Evan",
           "Ferguson"
          ],
          [
           "Billy",
           "Gilmour"
          ],
          [
           "Pascal",
           "Groß"
          ],
          [
           "Jack",
           "Hinshelwood"
          ],
          [
           "Ibrahim",
           "Osman"
          ],
          [
           "Igor Julio",
           "dos Santos de Paulo"
          ],
          [
           "João Pedro",
           "Junqueira de Jesus"
          ],
          [
           "Kacper",
           "Kozłowski"
          ],
          [
           "Tariq",
           "Lamptey"
          ],
          [
           "Solly",
           "March"
          ],
          [
           "Adrian",
           "Mazilu"
          ],
          [
           "James",
           "Milner"
          ],
          [
           "Yankuba",
           "Minteh"
          ],
          [
           "Mitoma",
           "Kaoru"
          ],
          [
           "Jakub",
           "Moder"
          ],
          [
           "Mark",
           "O’Mahony"
          ],
          [
           "Odeluga",
           "Offiah"
          ],
          [
           "Cameron",
           "Peupion"
          ],
          [
           "Jeremy",
           "Sarmiento Morante"
          ],
          [
           "Jason",
           "Steele"
          ],
          [
           "Deniz",
           "Undav"
          ],
          [
           "Jan Paul",
           "van Hecke"
          ],
          [
           "Joël",
           "Veltman"
          ],
          [
           "Bart",
           "Verbruggen"
          ],
          [
           "Adam",
           "Webster"
          ],
          [
           "Danny",
           "Welbeck"
          ],
          [
           "Mats",
           "Wieffer"
          ],
          [
           "Brajan",
           "Gruda"
          ],
          [
           "Yasin",
           "Ayari"
          ],
          [
           "Andrew",
           "Moran"
          ],
          [
           "Carl",
           "Rushworth"
          ],
          [
           "Georginio",
           "Rutter"
          ],
          [
           "Ferdi",
           "Kadioglu"
          ],
          [
           "Matt",
           "O'Riley"
          ],
          [
           "Imari",
           "Samuels"
          ],
          [
           "Andrey",
           "Nascimento dos Santos"
          ],
          [
           "Ângelo Gabriel",
           "Borges Damaceno"
          ],
          [
           "Benoît",
           "Badiashile"
          ],
          [
           "Lucas",
           "Bergström"
          ],
          [
           "Marcus",
           "Bettinelli"
          ],
          [
           "Moisés",
           "Caicedo Corozo"
          ],
          [
           "Cesare",
           "Casadei"
          ],
          [
           "Ben",
           "Chilwell"
          ],
          [
           "Carney",
           "Chukwuemeka"
          ],
          [
           "Levi",
           "Colwill"
          ],
          [
           "Marc",
           "Cucurella Saseta"
          ],
          [
           "David Datro",
           "Fofana"
          ],
          [
           "Deivid Washington",
           "de Souza Eugênio"
          ],
          [
           "Kiernan",
           "Dewsbury-Hall"
          ],
          [
           "Axel",
           "Disasi"
          ],
          [
           "Enzo",
           "Fernández"
          ],
          [
           "Conor",
           "Gallagher"
          ],
          [
           "Alfie",
           "Gilchrist"
          ],
          [
           "Malo",
           "Gusto"
          ],
          [
           "Reece",
           "James"
          ],
          [
           "Omari",
           "Kellyman"
          ],
          [
           "Roméo",
           "Lavia"
          ],
          [
           "Romelu",
           "Lukaku Bolingoli"
          ],
          [
           "Malang",
           "Sarr"
          ],
          [
           "Noni",
           "Madueke"
          ],
          [
           "Marc",
           "Guiu Paz"
          ],
          [
           "Mykhailo",
           "Mudryk"
          ],
          [
           "Nicolas",
           "Jackson"
          ],
          [
           "Christopher",
           "Nkunku"
          ],
          [
           "Cole",
           "Palmer"
          ],
          [
           "Đorđe",
           "Petrović"
          ],
          [
           "Renato",
           "Palma Veiga"
          ],
          [
           "Robert",
           "Sánchez"
          ],
          [
           "Tosin",
           "Adarabioyo"
          ],
          [
           "Wesley",
           "Fofana"
          ],
          [
           "Jadon",
           "Sancho"
          ],
          [
           "Pedro",
           "Lomba Neto"
          ],
          [
           "Caleb",
           "Wiley"
          ],
          [
           "Filip",
           "Jørgensen"
          ],
          [
           "João",
           "Félix Sequeira"
          ],
          [
           "Eddie",
           "Nketiah"
          ],
          [
           "Trevoh",
           "Chalobah"
          ],
          [
           "Naouirou",
           "Ahamada"
          ],
          [
           "Cheick",
           "Doucouré"
          ],
          [
           "Chris",
           "Richards"
          ],
          [
           "Chadi",
           "Riad Dnanou"
          ],
          [
           "Nathaniel",
           "Clyne"
          ],
          [
           "Malcolm",
           "Ebiowei"
          ],
          [
           "Eberechi",
           "Eze"
          ],
          [
           "Marc",
           "Guéhi"
          ],
          [
           "Dean",
           "Henderson"
          ],
          [
           "Rob",
           "Holding"
          ],
          [
           "Will",
           "Hughes"
          ],
          [
           "Daichi",
           "Kamada"
          ],
          [
           "Jefferson",
           "Lerma Solís"
          ],
          [
           "Jean-Philippe",
           "Mateta"
          ],
          [
           "Matheus",
           "França de Oliveira"
          ],
          [
           "Remi",
           "Matthews"
          ],
          [
           "Tyrick",
           "Mitchell"
          ],
          [
           "Daniel",
           "Muñoz"
          ],
          [
           "David",
           "Ozoh"
          ],
          [
           "Jesurun",
           "Rak-Sakyi"
          ],
          [
           "Jeffrey",
           "Schlupp"
          ],
          [
           "Joel",
           "Ward"
          ],
          [
           "Adam",
           "Wharton"
          ],
          [
           "Matt",
           "Turner"
          ],
          [
           "Ismaïla",
           "Sarr"
          ],
          [
           "Franco",
           "Umeh-Chibueze"
          ],
          [
           "Justin",
           "Devenny"
          ],
          [
           "Asher",
           "Agbinone"
          ],
          [
           "Kaden",
           "Rodney"
          ],
          [
           "Maxence",
           "Lacroix"
          ],
          [
           "Armando",
           "Broja"
          ],
          [
           "Abdoulaye",
           "Doucouré"
          ],
          [
           "Norberto Bercique",
           "Gomes Betuncal"
          ],
          [
           "Jarrad",
           "Branthwaite"
          ],
          [
           "Dominic",
           "Calvert-Lewin"
          ],
          [
           "Séamus",
           "Coleman"
          ],
          [
           "Idrissa",
           "Gueye"
          ],
          [
           "James",
           "Garner"
          ],
          [
           "Jack",
           "Harrison"
          ],
          [
           "Mason",
           "Holgate"
          ],
          [
           "Tim",
           "Iroegbunam"
          ],
          [
           "João",
           "Neves Virgínia"
          ],
          [
           "Michael",
           "Keane"
          ],
          [
           "Neal",
           "Maupay"
          ],
          [
           "Dwight",
           "McNeil"
          ],
          [
           "Vitalii",
           "Mykolenko"
          ],
          [
           "Iliman",
           "Ndiaye"
          ],
          [
           "Nathan",
           "Patterson"
          ],
          [
           "Jordan",
           "Pickford"
          ],
          [
           "James",
           "Tarkowski"
          ],
          [
           "Youssef",
           "Ramalho Chermiti"
          ],
          [
           "Ashley",
           "Young"
          ],
          [
           "Jesper",
           "Lindstrøm"
          ],
          [
           "Jake",
           "O'Brien"
          ],
          [
           "Harrison",
           "Armstrong"
          ],
          [
           "Jenson",
           "Metcalfe"
          ],
          [
           "Asmir",
           "Begovic"
          ],
          [
           "Roman",
           "Dixon"
          ],
          [
           "Orel",
           "Mangala"
          ],
          [
           "Reiss",
           "Nelson"
          ],
          [
           "Emile",
           "Smith Rowe"
          ],
          [
           "Joachim",
           "Andersen"
          ],
          [
           "Adama",
           "Traoré"
          ],
          [
           "Andreas",
           "Hoelgebaum Pereira"
          ],
          [
           "Calvin",
           "Bassey"
          ],
          [
           "Steven",
           "Benda"
          ],
          [
           "Tom",
           "Cairney"
          ],
          [
           "Timothy",
           "Castagne"
          ],
          [
           "Issa",
           "Diop"
          ],
          [
           "Luke",
           "Harris"
          ],
          [
           "Alex",
           "Iwobi"
          ],
          [
           "Bernd",
           "Leno"
          ],
          [
           "Saša",
           "Lukić"
          ],
          [
           "Kevin",
           "Mbabu"
          ],
          [
           "Rodrigo",
           "Muniz Carvalho"
          ],
          [
           "Raúl",
           "Jiménez"
          ],
          [
           "Tim",
           "Ream"
          ],
          [
           "Harrison",
           "Reed"
          ],
          [
           "Antonee",
           "Robinson"
          ],
          [
           "Jay",
           "Stansfield"
          ],
          [
           "Kenny",
           "Tete"
          ],
          [
           "Carlos Vinícius",
           "Alves Morais"
          ],
          [
           "Harry",
           "Wilson"
          ],
          [
           "Ryan",
           "Sessegnon"
          ],
          [
           "Jorge",
           "Cuenca Barreno"
          ],
          [
           "Josh",
           "King"
          ],
          [
           "Martial",
           "Godo"
          ],
          [
           "Sander",
           "Berge"
          ],
          [
           "Ali",
           "Al-Hamadi"
          ],
          [
           "Elkan",
           "Baggott"
          ],
          [
           "Nathan",
           "Broadhead"
          ],
          [
           "Cameron",
           "Burgess"
          ],
          [
           "Wes",
           "Burns"
          ],
          [
           "Conor",
           "Chaplin"
          ],
          [
           "Harry",
           "Clarke"
          ],
          [
           "Leif",
           "Davis"
          ],
          [
           "Liam",
           "Delap"
          ],
          [
           "George",
           "Edmundson"
          ],
          [
           "Jacob",
           "Greaves"
          ],
          [
           "Marcus",
           "Myers-Harness"
          ],
          [
           "George",
           "Hirst"
          ],
          [
           "Cameron",
           "Humphreys"
          ],
          [
           "Omari",
           "Giraud-Hutchinson"
          ],
          [
           "Ben",
           "Johnson"
          ],
          [
           "Freddie",
           "Ladapo"
          ],
          [
           "Massimo",
           "Luongo"
          ],
          [
           "Sam",
           "Morsy"
          ],
          [
           "Corrie",
           "Ndaba"
          ],
          [
           "Cieran",
           "Slicker"
          ],
          [
           "Jack",
           "Taylor"
          ],
          [
           "Axel",
           "Tuanzebe"
          ],
          [
           "Christian",
           "Walton"
          ],
          [
           "Luke",
           "Woolfenden"
          ],
          [
           "Kalvin",
           "Phillips"
          ],
          [
           "Arijanet",
           "Muric"
          ],
          [
           "Conor",
           "Townsend"
          ],
          [
           "Sam",
           "Szmodics"
          ],
          [
           "Jens",
           "Cajuste"
          ],
          [
           "Dara",
           "O'Shea"
          ],
          [
           "Jack",
           "Clarke"
          ],
          [
           "Chiedozie",
           "Ogbene"
          ],
          [
           "Facundo",
           "Buonanotte"
          ],
          [
           "Jordan",
           "Ayew"
          ],
          [
           "Odsonne",
           "Edouard"
          ],
          [
           "Boubakary",
           "Soumaré"
          ],
          [
           "Tom",
           "Cannon"
          ],
          [
           "Hamza",
           "Choudhury"
          ],
          [
           "Conor",
           "Coady"
          ],
          [
           "Patson",
           "Daka"
          ],
          [
           "Bobby",
           "De Cordova-Reid"
          ],
          [
           "Wout",
           "Faes"
          ],
          [
           "Michael",
           "Golding"
          ],
          [
           "Mads",
           "Hermansen"
          ],
          [
           "Daniel",
           "Iversen"
          ],
          [
           "James",
           "Justin"
          ],
          [
           "Victor",
           "Kristiansen"
          ],
          [
           "Wanya",
           "Marçal-Madivádua"
          ],
          [
           "Stephy",
           "Mavididi"
          ],
          [
           "Kasey",
           "McAteer"
          ],
          [
           "Wilfred",
           "Ndidi"
          ],
          [
           "Caleb",
           "Okoli"
          ],
          [
           "Ricardo",
           "Barbosa Pereira"
          ],
          [
           "Harry",
           "Souttar"
          ],
          [
           "Jakub",
           "Stolarczyk"
          ],
          [
           "Luke",
           "Thomas"
          ],
          [
           "Jamie",
           "Vardy"
          ],
          [
           "Jannik",
           "Vestergaard"
          ],
          [
           "Danny",
           "Ward"
          ],
          [
           "Harry",
           "Winks"
          ],
          [
           "Oliver",
           "Skipp"
          ],
          [
           "Abdul",
           "Fatawu"
          ],
          [
           "Will",
           "Alves"
          ],
          [
           "Ben",
           "Nelson"
          ],
          [
           "Bilal",
           "El Khannouss"
          ],
          [
           "Alisson",
           "Ramses Becker"
          ],
          [
           "Trent",
           "Alexander-Arnold"
          ],
          [
           "Stefan",
           "Bajčetić Maquieira"
          ],
          [
           "Conor",
           "Bradley"
          ],
          [
           "Bobby",
           "Clark"
          ],
          [
           "Darwin",
           "Núñez Ribeiro"
          ],
          [
           "Diogo",
           "Teixeira da Silva"
          ],
          [
           "Ben",
           "Doak"
          ],
          [
           "Harvey",
           "Elliott"
          ],
          [
           "Endo",
           "Wataru"
          ],
          [
           "Cody",
           "Gakpo"
          ],
          [
           "Joe",
           "Gomez"
          ],
          [
           "Ryan",
           "Gravenberch"
          ],
          [
           "Curtis",
           "Jones"
          ],
          [
           "Caoimhin",
           "Kelleher"
          ],
          [
           "Ibrahima",
           "Konaté"
          ],
          [
           "Luis",
           "Díaz"
          ],
          [
           "Mohamed",
           "Salah"
          ],
          [
           "Alexis",
           "Mac Allister"
          ],
          [
           "James",
           "McConnell"
          ],
          [
           "Tyler",
           "Morton"
          ],
          [
           "Nathaniel",
           "Phillips"
          ],
          [
           "Jarell",
           "Quansah"
          ],
          [
           "Rhys",
           "Williams"
          ],
          [
           "Andrew",
           "Robertson"
          ],
          [
           "Dominik",
           "Szoboszlai"
          ],
          [
           "Konstantinos",
           "Tsimikas"
          ],
          [
           "Virgil",
           "van Dijk"
          ],
          [
           "Federico",
           "Chiesa"
          ],
          [
           "Vítezslav",
           "Jaros"
          ],
          [
           "Manuel",
           "Akanji"
          ],
          [
           "Nathan",
           "Aké"
          ],
          [
           "Bernardo",
           "Veiga de Carvalho e Silva"
          ],
          [
           "Oscar",
           "Bobb"
          ],
          [
           "Scott",
           "Carson"
          ],
          [
           "Kevin",
           "De Bruyne"
          ],
          [
           "Jérémy",
           "Doku"
          ],
          [
           "Ederson",
           "Santana de Moraes"
          ],
          [
           "Phil",
           "Foden"
          ],
          [
           "Jack",
           "Grealish"
          ],
          [
           "Joško",
           "Gvardiol"
          ],
          [
           "Erling",
           "Haaland"
          ],
          [
           "Julián",
           "Álvarez"
          ],
          [
           "João",
           "Cavaco Cancelo"
          ],
          [
           "Mateo",
           "Kovačić"
          ],
          [
           "Rico",
           "Lewis"
          ],
          [
           "Matheus Luiz",
           "Nunes"
          ],
          [
           "James",
           "McAtee"
          ],
          [
           "Stefan",
           "Ortega Moreno"
          ],
          [
           "Rodrigo 'Rodri'",
           "Hernandez"
          ],
          [
           "Rúben",
           "Gato Alves Dias"
          ],
          [
           "John",
           "Stones"
          ],
          [
           "Kyle",
           "Walker"
          ],
          [
           "Sávio 'Savinho'",
           "Moreira de Oliveira"
          ],
          [
           "Nico",
           "O'Reilly"
          ],
          [
           "Ilkay",
           "Gündogan"
          ],
          [
           "Issa",
           "Kaboré"
          ],
          [
           "Amad",
           "Diallo"
          ],
          [
           "Antony Matheus",
           "dos Santos"
          ],
          [
           "Bruno",
           "Borges Fernandes"
          ],
          [
           "Altay",
           "Bayindir"
          ],
          [
           "Carlos Henrique",
           "Casimiro"
          ],
          [
           "Diogo",
           "Dalot Teixeira"
          ],
          [
           "Christian",
           "Eriksen"
          ],
          [
           "Jonny",
           "Evans"
          ],
          [
           "Alejandro",
           "Garnacho"
          ],
          [
           "Hannibal",
           "Mejbri"
          ],
          [
           "Tom",
           "Heaton"
          ],
          [
           "Rasmus",
           "Højlund"
          ],
          [
           "Victor",
           "Lindelöf"
          ],
          [
           "Harry",
           "Maguire"
          ],
          [
           "Kobbie",
           "Mainoo"
          ],
          [
           "Tyrell",
           "Malacia"
          ],
          [
           "Lisandro",
           "Martínez"
          ],
          [
           "Scott",
           "McTominay"
          ],
          [
           "Mason",
           "Mount"
          ],
          [
           "André",
           "Onana"
          ],
          [
           "Facundo",
           "Pellistri Rebollo"
          ],
          [
           "Marcus",
           "Rashford"
          ],
          [
           "Luke",
           "Shaw"
          ],
          [
           "Joshua",
           "Zirkzee"
          ],
          [
           "Leny",
           "Yoro"
          ],
          [
           "Matthijs",
           "de Ligt"
          ],
          [
           "Noussair",
           "Mazraoui"
          ],
          [
           "Toby",
           "Collyer"
          ],
          [
           "Ethan",
           "Wheatley"
          ],
          [
           "Manuel",
           "Ugarte"
          ],
          [
           "Alex",
           "Murphy"
          ],
          [
           "Miguel",
           "Almirón Rejala"
          ],
          [
           "Harvey",
           "Barnes"
          ],
          [
           "Sven",
           "Botman"
          ],
          [
           "Bruno",
           "Guimarães Rodriguez Moura"
          ],
          [
           "Dan",
           "Burn"
          ],
          [
           "Martin",
           "Dúbravka"
          ],
          [
           "Anthony",
           "Gordon"
          ],
          [
           "Lewis",
           "Hall"
          ],
          [
           "Isaac",
           "Hayden"
          ],
          [
           "Alexander",
           "Isak"
          ],
          [
           "Jacob",
           "Murphy"
          ],
          [
           "Joelinton Cássio",
           "Apolinário de Lira"
          ],
          [
           "Lloyd",
           "Kelly"
          ],
          [
           "Emil",
           "Krafth"
          ],
          [
           "Garang",
           "Kuol"
          ],
          [
           "Jamaal",
           "Lascelles"
          ],
          [
           "Jamal",
           "Lewis"
          ],
          [
           "Tino",
           "Livramento"
          ],
          [
           "Sean",
           "Longstaff"
          ],
          [
           "Lewis",
           "Miley"
          ],
          [
           "Odysseas",
           "Vlachodimos"
          ],
          [
           "Nick",
           "Pope"
          ],
          [
           "John",
           "Ruddy"
          ],
          [
           "Fabian",
           "Schär"
          ],
          [
           "Matt",
           "Targett"
          ],
          [
           "Sandro",
           "Tonali"
          ],
          [
           "Kieran",
           "Trippier"
          ],
          [
           "Joe",
           "White"
          ],
          [
           "Joe",
           "Willock"
          ],
          [
           "Callum",
           "Wilson"
          ],
          [
           "Miodrag",
           "Pivaš"
          ],
          [
           "William",
           "Osula"
          ],
          [
           "Álex",
           "Moreno Lopera"
          ],
          [
           "Ola",
           "Aina"
          ],
          [
           "Elliot",
           "Anderson"
          ],
          [
           "Taiwo",
           "Awoniyi"
          ],
          [
           "Willy",
           "Boly"
          ],
          [
           "Josh",
           "Bowler"
          ],
          [
           "Carlos Miguel",
           "dos Santos Pereira"
          ],
          [
           "Eric",
           "da Silva Moreira"
          ],
          [
           "Danilo",
           "dos Santos de Oliveira"
          ],
          [
           "Emmanuel",
           "Dennis"
          ],
          [
           "Nicolás",
           "Domínguez"
          ],
          [
           "Anthony",
           "Elanga"
          ],
          [
           "Morgan",
           "Gibbs-White"
          ],
          [
           "Callum",
           "Hudson-Odoi"
          ],
          [
           "Alex",
           "Mighten"
          ],
          [
           "Murillo",
           "Santiago Costa dos Santos"
          ],
          [
           "Neco",
           "Williams"
          ],
          [
           "Omar",
           "Richards"
          ],
          [
           "Lewis",
           "O'Brien"
          ],
          [
           "Andrew",
           "Omobamidele"
          ],
          [
           "Jonathan",
           "Panzo"
          ],
          [
           "Ibrahim",
           "Sangaré"
          ],
          [
           "Matz",
           "Sels"
          ],
          [
           "Harry",
           "Toffolo"
          ],
          [
           "Hwang",
           "Ui-jo"
          ],
          [
           "Chris",
           "Wood"
          ],
          [
           "Joe",
           "Worrall"
          ],
          [
           "Ryan",
           "Yates"
          ],
          [
           "James",
           "Ward-Prowse"
          ],
          [
           "Nikola",
           "Milenković"
          ],
          [
           "João Pedro",
           "Ferreira Silva"
          ],
          [
           "Ramón",
           "Sosa"
          ],
          [
           "Felipe",
           "Rodrigues da Silva"
          ],
          [
           "Aaron",
           "Ramsdale"
          ],
          [
           "Cameron",
           "Archer"
          ],
          [
           "Lesley",
           "Ugochukwu"
          ],
          [
           "Ryan",
           "Fraser"
          ],
          [
           "Carlos",
           "Alcaraz Durán"
          ],
          [
           "Samuel",
           "Amo-Ameyaw"
          ],
          [
           "Joe",
           "Aribo"
          ],
          [
           "Adam",
           "Armstrong"
          ],
          [
           "Gavin",
           "Bazunu"
          ],
          [
           "Jan",
           "Bednarek"
          ],
          [
           "Armel",
           "Bella-Kotchap"
          ],
          [
           "James",
           "Bree"
          ],
          [
           "Shea",
           "Charles"
          ],
          [
           "Samuel",
           "Edozie"
          ],
          [
           "Ronnie",
           "Edwards"
          ],
          [
           "Taylor",
           "Harwood-Bellis"
          ],
          [
           "Kamaldeen",
           "Sulemana"
          ],
          [
           "Adam",
           "Lallana"
          ],
          [
           "Juan",
           "Larios López"
          ],
          [
           "Mateusz",
           "Lis"
          ],
          [
           "Joe",
           "Lumley"
          ],
          [
           "Ryan",
           "Manning"
          ],
          [
           "Sékou",
           "Mara"
          ],
          [
           "Alex",
           "McCarthy"
          ],
          [
           "Paul",
           "Onuachu"
          ],
          [
           "Will",
           "Smallbone"
          ],
          [
           "Jack",
           "Stephens"
          ],
          [
           "Ross",
           "Stewart"
          ],
          [
           "Sugawara",
           "Yukinari"
          ],
          [
           "Charlie",
           "Taylor"
          ],
          [
           "Kyle",
           "Walker-Peters"
          ],
          [
           "Nathan",
           "Wood-Gordon"
          ],
          [
           "Maxwel",
           "Cornet"
          ],
          [
           "Flynn",
           "Downes"
          ],
          [
           "Ben",
           "Brereton Díaz"
          ],
          [
           "Tyler",
           "Dibling"
          ],
          [
           "Mateus Gonçalo",
           "Espanha Fernandes"
          ],
          [
           "Dominic",
           "Solanke-Mitchell"
          ],
          [
           "Ashley",
           "Phillips"
          ],
          [
           "Brandon",
           "Austin"
          ],
          [
           "Rodrigo",
           "Bentancur"
          ],
          [
           "Lucas",
           "Bergvall"
          ],
          [
           "Yves",
           "Bissouma"
          ],
          [
           "Bryan",
           "Gil Salvatierra"
          ],
          [
           "Ben",
           "Davies"
          ],
          [
           "Alfie",
           "Devine"
          ],
          [
           "Radu",
           "Drăgușin"
          ],
          [
           "Emerson",
           "Leite de Souza Junior"
          ],
          [
           "Fraser",
           "Forster"
          ],
          [
           "Archie",
           "Gray"
          ],
          [
           "Pierre-Emile",
           "Højbjerg"
          ],
          [
           "Brennan",
           "Johnson"
          ],
          [
           "Dejan",
           "Kulusevski"
          ],
          [
           "Giovani",
           "Lo Celso"
          ],
          [
           "James",
           "Maddison"
          ],
          [
           "Pedro",
           "Porro"
          ],
          [
           "Sergio",
           "Reguilón"
          ],
          [
           "Richarlison",
           "de Andrade"
          ],
          [
           "Cristian",
           "Romero"
          ],
          [
           "Pape Matar",
           "Sarr"
          ],
          [
           "Dane",
           "Scarlett"
          ],
          [
           "Manor",
           "Solomon"
          ],
          [
           "Son",
           "Heung-min"
          ],
          [
           "Djed",
           "Spence"
          ],
          [
           "Destiny",
           "Udogie"
          ],
          [
           "Micky",
           "van de Ven"
          ],
          [
           "Alejo",
           "Véliz"
          ],
          [
           "Guglielmo",
           "Vicario"
          ],
          [
           "Timo",
           "Werner"
          ],
          [
           "Alfie",
           "Whiteman"
          ],
          [
           "Will",
           "Lankshear"
          ],
          [
           "Mikey",
           "Moore"
          ],
          [
           "Wilson",
           "Odobert"
          ],
          [
           "Aaron",
           "Wan-Bissaka"
          ],
          [
           "Edson",
           "Álvarez Velázquez"
          ],
          [
           "Michail",
           "Antonio"
          ],
          [
           "Alphonse",
           "Areola"
          ],
          [
           "Jarrod",
           "Bowen"
          ],
          [
           "Vladimír",
           "Coufal"
          ],
          [
           "Aaron",
           "Cresswell"
          ],
          [
           "George",
           "Earthy"
          ],
          [
           "Emerson",
           "Palmieri dos Santos"
          ],
          [
           "Łukasz",
           "Fabiański"
          ],
          [
           "Wes",
           "Foderingham"
          ],
          [
           "Danny",
           "Ings"
          ],
          [
           "Max",
           "Kilman"
          ],
          [
           "Mohammed",
           "Kudus"
          ],
          [
           "Luis Guilherme",
           "Lira dos Santos"
          ],
          [
           "Lucas",
           "Tolentino Coelho de Lima"
          ],
          [
           "Konstantinos",
           "Mavropanos"
          ],
          [
           "Nayef",
           "Aguerd"
          ],
          [
           "Tomáš",
           "Souček"
          ],
          [
           "Kurt",
           "Zouma"
          ],
          [
           "Andy",
           "Irving"
          ],
          [
           "Crysencio",
           "Summerville"
          ],
          [
           "Guido",
           "Rodríguez"
          ],
          [
           "Niclas",
           "Füllkrug"
          ],
          [
           "Jean-Clair",
           "Todibo"
          ],
          [
           "Kaelan",
           "Casey"
          ],
          [
           "Carlos",
           "Soler"
          ],
          [
           "Sam",
           "Johnstone"
          ],
          [
           "Rayan",
           "Aït-Nouri"
          ],
          [
           "Boubacar",
           "Traoré"
          ],
          [
           "Jean-Ricner",
           "Bellegarde"
          ],
          [
           "Daniel",
           "Bentley"
          ],
          [
           "Francisco Jorge",
           "Tomás Oliveira"
          ],
          [
           "Tawanda",
           "Chirewa"
          ],
          [
           "Leon",
           "Chiwome"
          ],
          [
           "Luke",
           "Cundle"
          ],
          [
           "Matheus",
           "Santos Carneiro Da Cunha"
          ],
          [
           "Craig",
           "Dawson"
          ],
          [
           "Matt",
           "Doherty"
          ],
          [
           "Tommy",
           "Doyle"
          ],
          [
           "Fábio",
           "Silva"
          ],
          [
           "Nathan",
           "Fraser"
          ],
          [
           "Enso",
           "González"
          ],
          [
           "Gonçalo Manuel",
           "Ganchinho Guedes"
          ],
          [
           "Hugo",
           "Bueno López"
          ],
          [
           "Hwang",
           "Hee-chan"
          ],
          [
           "Joe",
           "Hodge"
          ],
          [
           "Ki-Jana",
           "Hoever"
          ],
          [
           "João Victor",
           "Gomes da Silva"
          ],
          [
           "José",
           "Malheiro de Sá"
          ],
          [
           "Saša",
           "Kalajdžić"
          ],
          [
           "Tom",
           "King"
          ],
          [
           "Mario",
           "Lemina"
          ],
          [
           "Yerson",
           "Mosquera"
          ],
          [
           "Nélson",
           "Cabral Semedo"
          ],
          [
           "Pedro",
           "Cardoso de Lima"
          ],
          [
           "Daniel",
           "Castelo Podence"
          ],
          [
           "Rodrigo",
           "Martins Gomes"
          ],
          [
           "Santiago",
           "Bueno"
          ],
          [
           "Pablo",
           "Sarabia"
          ],
          [
           "Jørgen",
           "Strand Larsen"
          ],
          [
           "Toti António",
           "Gomes"
          ],
          [
           "Bastien",
           "Meupiyou"
          ],
          [
           "André",
           "Trindade da Costa Neto"
          ],
          [
           "Carlos Roberto",
           "Forbs Borges"
          ],
          [
           "Alfie",
           "Pond"
          ]
         ],
         "hovertemplate": "now_cost=%{x}<br>total_points=%{y}<br>first_name=%{customdata[0]}<br>second_name=%{customdata[1]}<extra></extra>",
         "legendgroup": "",
         "marker": {
          "color": "#636efa",
          "symbol": "circle"
         },
         "mode": "markers",
         "name": "",
         "orientation": "v",
         "showlegend": false,
         "type": "scatter",
         "x": [
          54,
          68,
          62,
          82,
          40,
          55,
          49,
          48,
          69,
          45,
          82,
          56,
          63,
          101,
          60,
          50,
          44,
          48,
          69,
          64,
          48,
          43,
          68,
          58,
          45,
          60,
          45,
          45,
          40,
          40,
          45,
          40,
          64,
          52,
          49,
          53,
          44,
          45,
          65,
          45,
          46,
          50,
          62,
          40,
          40,
          54,
          50,
          40,
          45,
          48,
          40,
          50,
          53,
          44,
          40,
          45,
          45,
          55,
          52,
          40,
          40,
          55,
          91,
          52,
          53,
          40,
          40,
          40,
          45,
          44,
          49,
          45,
          49,
          49,
          50,
          54,
          50,
          45,
          40,
          45,
          45,
          54,
          44,
          50,
          40,
          48,
          49,
          57,
          48,
          50,
          45,
          55,
          44,
          45,
          45,
          44,
          45,
          40,
          59,
          45,
          45,
          45,
          50,
          49,
          45,
          44,
          44,
          49,
          54,
          40,
          45,
          50,
          74,
          43,
          49,
          49,
          45,
          45,
          44,
          54,
          59,
          73,
          40,
          60,
          44,
          45,
          48,
          40,
          45,
          50,
          40,
          45,
          55,
          45,
          50,
          40,
          45,
          49,
          46,
          54,
          50,
          55,
          50,
          65,
          50,
          50,
          44,
          55,
          45,
          45,
          65,
          45,
          50,
          55,
          66,
          44,
          45,
          40,
          45,
          49,
          44,
          55,
          45,
          45,
          45,
          44,
          58,
          49,
          54,
          50,
          50,
          40,
          55,
          45,
          55,
          40,
          45,
          45,
          44,
          40,
          40,
          49,
          45,
          48,
          49,
          45,
          50,
          54,
          50,
          57,
          44,
          49,
          59,
          40,
          49,
          50,
          44,
          45,
          63,
          45,
          66,
          49,
          63,
          79,
          61,
          107,
          44,
          45,
          47,
          44,
          45,
          64,
          63,
          40,
          43,
          63,
          59,
          44,
          45,
          49,
          45,
          44,
          44,
          45,
          68,
          44,
          45,
          44,
          49,
          52,
          49,
          74,
          44,
          40,
          49,
          49,
          45,
          45,
          48,
          44,
          49,
          40,
          58,
          45,
          45,
          45,
          45,
          45,
          54,
          52,
          50,
          48,
          60,
          44,
          49,
          50,
          53,
          40,
          45,
          40,
          40,
          49,
          55,
          43,
          54,
          44,
          48,
          48,
          49,
          45,
          52,
          48,
          45,
          45,
          40,
          40,
          50,
          50,
          58,
          44,
          51,
          53,
          45,
          40,
          49,
          43,
          45,
          45,
          55,
          50,
          49,
          40,
          59,
          55,
          45,
          49,
          47,
          50,
          45,
          50,
          53,
          43,
          44,
          45,
          45,
          50,
          49,
          40,
          49,
          40,
          49,
          52,
          40,
          45,
          55,
          40,
          40,
          49,
          54,
          45,
          53,
          40,
          45,
          45,
          49,
          40,
          40,
          49,
          40,
          44,
          40,
          49,
          44,
          40,
          59,
          45,
          40,
          55,
          50,
          50,
          52,
          54,
          45,
          45,
          44,
          40,
          49,
          53,
          41,
          45,
          45,
          40,
          45,
          45,
          45,
          53,
          48,
          50,
          40,
          43,
          40,
          40,
          40,
          57,
          40,
          40,
          45,
          49,
          55,
          45,
          40,
          50,
          55,
          71,
          45,
          48,
          45,
          72,
          75,
          45,
          52,
          48,
          71,
          48,
          50,
          53,
          44,
          52,
          80,
          128,
          63,
          45,
          45,
          40,
          41,
          40,
          60,
          65,
          47,
          60,
          70,
          40,
          55,
          53,
          65,
          48,
          40,
          95,
          64,
          55,
          92,
          64,
          59,
          153,
          70,
          53,
          55,
          47,
          49,
          48,
          53,
          63,
          55,
          53,
          53,
          65,
          50,
          65,
          45,
          50,
          58,
          82,
          44,
          48,
          51,
          54,
          44,
          63,
          45,
          40,
          69,
          43,
          49,
          53,
          44,
          45,
          49,
          63,
          50,
          50,
          69,
          49,
          69,
          43,
          50,
          46,
          45,
          45,
          50,
          40,
          56,
          65,
          44,
          63,
          44,
          43,
          73,
          43,
          45,
          83,
          52,
          60,
          44,
          45,
          45,
          45,
          40,
          45,
          48,
          50,
          44,
          50,
          40,
          54,
          40,
          55,
          57,
          45,
          48,
          69,
          40,
          50,
          44,
          45,
          50,
          57,
          43,
          45,
          43,
          45,
          48,
          49,
          49,
          53,
          63,
          54,
          45,
          45,
          45,
          45,
          50,
          43,
          40,
          45,
          45,
          44,
          45,
          62,
          45,
          50,
          62,
          45,
          59,
          55,
          45,
          44,
          50,
          45,
          49,
          49,
          45,
          49,
          53,
          44,
          40,
          40,
          40,
          45,
          49,
          40,
          40,
          50,
          50,
          40,
          40,
          40,
          43,
          50,
          44,
          49,
          50,
          40,
          46,
          45,
          40,
          45,
          40,
          49,
          49,
          53,
          46,
          50,
          76,
          40,
          40,
          50,
          45,
          49,
          50,
          44,
          45,
          44,
          45,
          44,
          48,
          50,
          64,
          62,
          49,
          75,
          55,
          43,
          68,
          51,
          49,
          45,
          54,
          99,
          44,
          50,
          45,
          50,
          50,
          62,
          40,
          45,
          45,
          54,
          45,
          50,
          54,
          45,
          74,
          44,
          40,
          45,
          44,
          40,
          44,
          50,
          45,
          63,
          48,
          59,
          45,
          44,
          50,
          44,
          49,
          57,
          50,
          67,
          44,
          40,
          50,
          44,
          44,
          49,
          50,
          40,
          45,
          45,
          45,
          45,
          65,
          44,
          44,
          49,
          50,
          45,
          45,
          53,
          45,
          62,
          45,
          40,
          49,
          44,
          49,
          40,
          50,
          40,
          45,
          40,
          55,
          53,
          44,
          52,
          55,
          43,
          40,
          50,
          55,
          40
         ],
         "xaxis": "x",
         "y": [
          0,
          2,
          37,
          32,
          0,
          19,
          2,
          1,
          28,
          2,
          7,
          34,
          6,
          38,
          20,
          21,
          0,
          0,
          22,
          21,
          7,
          7,
          2,
          11,
          0,
          0,
          0,
          0,
          0,
          0,
          0,
          0,
          10,
          7,
          0,
          3,
          3,
          0,
          0,
          3,
          16,
          0,
          26,
          0,
          0,
          0,
          0,
          0,
          16,
          6,
          0,
          11,
          9,
          0,
          3,
          0,
          8,
          13,
          25,
          0,
          0,
          19,
          39,
          25,
          2,
          2,
          0,
          0,
          0,
          0,
          0,
          0,
          0,
          10,
          22,
          3,
          0,
          0,
          0,
          2,
          8,
          11,
          0,
          16,
          0,
          2,
          7,
          29,
          5,
          17,
          12,
          22,
          2,
          10,
          9,
          3,
          6,
          0,
          15,
          7,
          0,
          15,
          12,
          0,
          17,
          0,
          0,
          13,
          9,
          0,
          2,
          12,
          43,
          1,
          7,
          2,
          0,
          6,
          6,
          12,
          0,
          0,
          0,
          28,
          3,
          0,
          12,
          5,
          1,
          0,
          0,
          0,
          14,
          0,
          19,
          0,
          0,
          0,
          15,
          4,
          1,
          3,
          3,
          0,
          21,
          0,
          1,
          19,
          0,
          0,
          0,
          0,
          5,
          14,
          26,
          0,
          0,
          0,
          0,
          1,
          9,
          0,
          19,
          20,
          10,
          0,
          33,
          8,
          0,
          8,
          0,
          0,
          14,
          1,
          0,
          0,
          0,
          0,
          0,
          0,
          0,
          16,
          0,
          0,
          0,
          17,
          14,
          0,
          0,
          3,
          7,
          10,
          0,
          0,
          4,
          0,
          0,
          3,
          0,
          0,
          33,
          1,
          3,
          40,
          12,
          61,
          0,
          5,
          32,
          7,
          10,
          16,
          8,
          0,
          0,
          8,
          6,
          0,
          0,
          6,
          9,
          1,
          3,
          0,
          21,
          19,
          18,
          0,
          4,
          10,
          6,
          21,
          0,
          0,
          15,
          14,
          0,
          0,
          5,
          0,
          11,
          0,
          9,
          0,
          0,
          0,
          0,
          10,
          0,
          8,
          4,
          2,
          25,
          1,
          9,
          4,
          12,
          1,
          7,
          0,
          9,
          0,
          39,
          5,
          16,
          0,
          10,
          6,
          0,
          9,
          6,
          0,
          1,
          0,
          0,
          0,
          5,
          9,
          33,
          12,
          26,
          15,
          15,
          0,
          2,
          0,
          8,
          0,
          25,
          18,
          9,
          0,
          12,
          27,
          0,
          4,
          24,
          1,
          14,
          0,
          2,
          0,
          0,
          0,
          0,
          4,
          1,
          0,
          0,
          0,
          4,
          6,
          0,
          18,
          25,
          1,
          11,
          2,
          3,
          0,
          14,
          4,
          0,
          6,
          16,
          0,
          0,
          3,
          11,
          2,
          2,
          6,
          17,
          0,
          13,
          3,
          9,
          8,
          5,
          17,
          7,
          5,
          1,
          0,
          1,
          0,
          0,
          6,
          12,
          0,
          15,
          0,
          19,
          6,
          0,
          22,
          3,
          21,
          4,
          0,
          0,
          0,
          0,
          22,
          2,
          0,
          11,
          5,
          15,
          0,
          0,
          3,
          25,
          33,
          0,
          4,
          0,
          9,
          26,
          0,
          1,
          1,
          5,
          1,
          15,
          3,
          9,
          31,
          53,
          59,
          15,
          0,
          0,
          0,
          1,
          0,
          27,
          21,
          3,
          28,
          1,
          0,
          14,
          1,
          19,
          0,
          0,
          18,
          10,
          21,
          3,
          12,
          22,
          65,
          0,
          0,
          21,
          17,
          6,
          1,
          0,
          2,
          9,
          9,
          6,
          19,
          0,
          8,
          0,
          20,
          1,
          13,
          0,
          8,
          29,
          7,
          2,
          17,
          0,
          0,
          2,
          0,
          8,
          11,
          0,
          19,
          2,
          3,
          33,
          0,
          18,
          0,
          15,
          0,
          24,
          25,
          1,
          0,
          3,
          0,
          2,
          35,
          0,
          16,
          10,
          0,
          28,
          12,
          0,
          19,
          13,
          16,
          8,
          10,
          0,
          0,
          0,
          14,
          8,
          0,
          0,
          25,
          0,
          8,
          0,
          4,
          5,
          0,
          7,
          0,
          0,
          1,
          8,
          22,
          15,
          4,
          3,
          0,
          0,
          0,
          1,
          0,
          3,
          11,
          15,
          20,
          0,
          19,
          11,
          0,
          0,
          0,
          0,
          4,
          23,
          1,
          0,
          31,
          0,
          13,
          7,
          17,
          7,
          8,
          2,
          10,
          5,
          4,
          3,
          1,
          1,
          8,
          5,
          0,
          8,
          0,
          0,
          0,
          1,
          0,
          13,
          0,
          9,
          0,
          0,
          0,
          0,
          0,
          6,
          0,
          5,
          2,
          2,
          13,
          3,
          6,
          0,
          1,
          9,
          9,
          17,
          8,
          16,
          0,
          0,
          7,
          5,
          10,
          0,
          0,
          0,
          2,
          0,
          0,
          3,
          0,
          29,
          23,
          0,
          29,
          25,
          0,
          2,
          27,
          9,
          0,
          0,
          33,
          2,
          13,
          24,
          0,
          20,
          6,
          0,
          0,
          2,
          6,
          7,
          4,
          12,
          14,
          24,
          9,
          2,
          0,
          9,
          1,
          0,
          10,
          16,
          12,
          0,
          16,
          14,
          0,
          25,
          0,
          1,
          5,
          10,
          3,
          4,
          0,
          1,
          8,
          13,
          0,
          16,
          0,
          1,
          0,
          0,
          0,
          21,
          6,
          2,
          5,
          0,
          0,
          0,
          3,
          0,
          6,
          0,
          0,
          8,
          1,
          0,
          0,
          22,
          3,
          4,
          0,
          2,
          4,
          1,
          2,
          19,
          4,
          0,
          5,
          1,
          0
         ],
         "yaxis": "y"
        }
       ],
       "layout": {
        "legend": {
         "tracegroupgap": 0
        },
        "margin": {
         "t": 60
        },
        "template": {
         "data": {
          "bar": [
           {
            "error_x": {
             "color": "#2a3f5f"
            },
            "error_y": {
             "color": "#2a3f5f"
            },
            "marker": {
             "line": {
              "color": "#E5ECF6",
              "width": 0.5
             },
             "pattern": {
              "fillmode": "overlay",
              "size": 10,
              "solidity": 0.2
             }
            },
            "type": "bar"
           }
          ],
          "barpolar": [
           {
            "marker": {
             "line": {
              "color": "#E5ECF6",
              "width": 0.5
             },
             "pattern": {
              "fillmode": "overlay",
              "size": 10,
              "solidity": 0.2
             }
            },
            "type": "barpolar"
           }
          ],
          "carpet": [
           {
            "aaxis": {
             "endlinecolor": "#2a3f5f",
             "gridcolor": "white",
             "linecolor": "white",
             "minorgridcolor": "white",
             "startlinecolor": "#2a3f5f"
            },
            "baxis": {
             "endlinecolor": "#2a3f5f",
             "gridcolor": "white",
             "linecolor": "white",
             "minorgridcolor": "white",
             "startlinecolor": "#2a3f5f"
            },
            "type": "carpet"
           }
          ],
          "choropleth": [
           {
            "colorbar": {
             "outlinewidth": 0,
             "ticks": ""
            },
            "type": "choropleth"
           }
          ],
          "contour": [
           {
            "colorbar": {
             "outlinewidth": 0,
             "ticks": ""
            },
            "colorscale": [
             [
              0,
              "#0d0887"
             ],
             [
              0.1111111111111111,
              "#46039f"
             ],
             [
              0.2222222222222222,
              "#7201a8"
             ],
             [
              0.3333333333333333,
              "#9c179e"
             ],
             [
              0.4444444444444444,
              "#bd3786"
             ],
             [
              0.5555555555555556,
              "#d8576b"
             ],
             [
              0.6666666666666666,
              "#ed7953"
             ],
             [
              0.7777777777777778,
              "#fb9f3a"
             ],
             [
              0.8888888888888888,
              "#fdca26"
             ],
             [
              1,
              "#f0f921"
             ]
            ],
            "type": "contour"
           }
          ],
          "contourcarpet": [
           {
            "colorbar": {
             "outlinewidth": 0,
             "ticks": ""
            },
            "type": "contourcarpet"
           }
          ],
          "heatmap": [
           {
            "colorbar": {
             "outlinewidth": 0,
             "ticks": ""
            },
            "colorscale": [
             [
              0,
              "#0d0887"
             ],
             [
              0.1111111111111111,
              "#46039f"
             ],
             [
              0.2222222222222222,
              "#7201a8"
             ],
             [
              0.3333333333333333,
              "#9c179e"
             ],
             [
              0.4444444444444444,
              "#bd3786"
             ],
             [
              0.5555555555555556,
              "#d8576b"
             ],
             [
              0.6666666666666666,
              "#ed7953"
             ],
             [
              0.7777777777777778,
              "#fb9f3a"
             ],
             [
              0.8888888888888888,
              "#fdca26"
             ],
             [
              1,
              "#f0f921"
             ]
            ],
            "type": "heatmap"
           }
          ],
          "heatmapgl": [
           {
            "colorbar": {
             "outlinewidth": 0,
             "ticks": ""
            },
            "colorscale": [
             [
              0,
              "#0d0887"
             ],
             [
              0.1111111111111111,
              "#46039f"
             ],
             [
              0.2222222222222222,
              "#7201a8"
             ],
             [
              0.3333333333333333,
              "#9c179e"
             ],
             [
              0.4444444444444444,
              "#bd3786"
             ],
             [
              0.5555555555555556,
              "#d8576b"
             ],
             [
              0.6666666666666666,
              "#ed7953"
             ],
             [
              0.7777777777777778,
              "#fb9f3a"
             ],
             [
              0.8888888888888888,
              "#fdca26"
             ],
             [
              1,
              "#f0f921"
             ]
            ],
            "type": "heatmapgl"
           }
          ],
          "histogram": [
           {
            "marker": {
             "pattern": {
              "fillmode": "overlay",
              "size": 10,
              "solidity": 0.2
             }
            },
            "type": "histogram"
           }
          ],
          "histogram2d": [
           {
            "colorbar": {
             "outlinewidth": 0,
             "ticks": ""
            },
            "colorscale": [
             [
              0,
              "#0d0887"
             ],
             [
              0.1111111111111111,
              "#46039f"
             ],
             [
              0.2222222222222222,
              "#7201a8"
             ],
             [
              0.3333333333333333,
              "#9c179e"
             ],
             [
              0.4444444444444444,
              "#bd3786"
             ],
             [
              0.5555555555555556,
              "#d8576b"
             ],
             [
              0.6666666666666666,
              "#ed7953"
             ],
             [
              0.7777777777777778,
              "#fb9f3a"
             ],
             [
              0.8888888888888888,
              "#fdca26"
             ],
             [
              1,
              "#f0f921"
             ]
            ],
            "type": "histogram2d"
           }
          ],
          "histogram2dcontour": [
           {
            "colorbar": {
             "outlinewidth": 0,
             "ticks": ""
            },
            "colorscale": [
             [
              0,
              "#0d0887"
             ],
             [
              0.1111111111111111,
              "#46039f"
             ],
             [
              0.2222222222222222,
              "#7201a8"
             ],
             [
              0.3333333333333333,
              "#9c179e"
             ],
             [
              0.4444444444444444,
              "#bd3786"
             ],
             [
              0.5555555555555556,
              "#d8576b"
             ],
             [
              0.6666666666666666,
              "#ed7953"
             ],
             [
              0.7777777777777778,
              "#fb9f3a"
             ],
             [
              0.8888888888888888,
              "#fdca26"
             ],
             [
              1,
              "#f0f921"
             ]
            ],
            "type": "histogram2dcontour"
           }
          ],
          "mesh3d": [
           {
            "colorbar": {
             "outlinewidth": 0,
             "ticks": ""
            },
            "type": "mesh3d"
           }
          ],
          "parcoords": [
           {
            "line": {
             "colorbar": {
              "outlinewidth": 0,
              "ticks": ""
             }
            },
            "type": "parcoords"
           }
          ],
          "pie": [
           {
            "automargin": true,
            "type": "pie"
           }
          ],
          "scatter": [
           {
            "fillpattern": {
             "fillmode": "overlay",
             "size": 10,
             "solidity": 0.2
            },
            "type": "scatter"
           }
          ],
          "scatter3d": [
           {
            "line": {
             "colorbar": {
              "outlinewidth": 0,
              "ticks": ""
             }
            },
            "marker": {
             "colorbar": {
              "outlinewidth": 0,
              "ticks": ""
             }
            },
            "type": "scatter3d"
           }
          ],
          "scattercarpet": [
           {
            "marker": {
             "colorbar": {
              "outlinewidth": 0,
              "ticks": ""
             }
            },
            "type": "scattercarpet"
           }
          ],
          "scattergeo": [
           {
            "marker": {
             "colorbar": {
              "outlinewidth": 0,
              "ticks": ""
             }
            },
            "type": "scattergeo"
           }
          ],
          "scattergl": [
           {
            "marker": {
             "colorbar": {
              "outlinewidth": 0,
              "ticks": ""
             }
            },
            "type": "scattergl"
           }
          ],
          "scattermapbox": [
           {
            "marker": {
             "colorbar": {
              "outlinewidth": 0,
              "ticks": ""
             }
            },
            "type": "scattermapbox"
           }
          ],
          "scatterpolar": [
           {
            "marker": {
             "colorbar": {
              "outlinewidth": 0,
              "ticks": ""
             }
            },
            "type": "scatterpolar"
           }
          ],
          "scatterpolargl": [
           {
            "marker": {
             "colorbar": {
              "outlinewidth": 0,
              "ticks": ""
             }
            },
            "type": "scatterpolargl"
           }
          ],
          "scatterternary": [
           {
            "marker": {
             "colorbar": {
              "outlinewidth": 0,
              "ticks": ""
             }
            },
            "type": "scatterternary"
           }
          ],
          "surface": [
           {
            "colorbar": {
             "outlinewidth": 0,
             "ticks": ""
            },
            "colorscale": [
             [
              0,
              "#0d0887"
             ],
             [
              0.1111111111111111,
              "#46039f"
             ],
             [
              0.2222222222222222,
              "#7201a8"
             ],
             [
              0.3333333333333333,
              "#9c179e"
             ],
             [
              0.4444444444444444,
              "#bd3786"
             ],
             [
              0.5555555555555556,
              "#d8576b"
             ],
             [
              0.6666666666666666,
              "#ed7953"
             ],
             [
              0.7777777777777778,
              "#fb9f3a"
             ],
             [
              0.8888888888888888,
              "#fdca26"
             ],
             [
              1,
              "#f0f921"
             ]
            ],
            "type": "surface"
           }
          ],
          "table": [
           {
            "cells": {
             "fill": {
              "color": "#EBF0F8"
             },
             "line": {
              "color": "white"
             }
            },
            "header": {
             "fill": {
              "color": "#C8D4E3"
             },
             "line": {
              "color": "white"
             }
            },
            "type": "table"
           }
          ]
         },
         "layout": {
          "annotationdefaults": {
           "arrowcolor": "#2a3f5f",
           "arrowhead": 0,
           "arrowwidth": 1
          },
          "autotypenumbers": "strict",
          "coloraxis": {
           "colorbar": {
            "outlinewidth": 0,
            "ticks": ""
           }
          },
          "colorscale": {
           "diverging": [
            [
             0,
             "#8e0152"
            ],
            [
             0.1,
             "#c51b7d"
            ],
            [
             0.2,
             "#de77ae"
            ],
            [
             0.3,
             "#f1b6da"
            ],
            [
             0.4,
             "#fde0ef"
            ],
            [
             0.5,
             "#f7f7f7"
            ],
            [
             0.6,
             "#e6f5d0"
            ],
            [
             0.7,
             "#b8e186"
            ],
            [
             0.8,
             "#7fbc41"
            ],
            [
             0.9,
             "#4d9221"
            ],
            [
             1,
             "#276419"
            ]
           ],
           "sequential": [
            [
             0,
             "#0d0887"
            ],
            [
             0.1111111111111111,
             "#46039f"
            ],
            [
             0.2222222222222222,
             "#7201a8"
            ],
            [
             0.3333333333333333,
             "#9c179e"
            ],
            [
             0.4444444444444444,
             "#bd3786"
            ],
            [
             0.5555555555555556,
             "#d8576b"
            ],
            [
             0.6666666666666666,
             "#ed7953"
            ],
            [
             0.7777777777777778,
             "#fb9f3a"
            ],
            [
             0.8888888888888888,
             "#fdca26"
            ],
            [
             1,
             "#f0f921"
            ]
           ],
           "sequentialminus": [
            [
             0,
             "#0d0887"
            ],
            [
             0.1111111111111111,
             "#46039f"
            ],
            [
             0.2222222222222222,
             "#7201a8"
            ],
            [
             0.3333333333333333,
             "#9c179e"
            ],
            [
             0.4444444444444444,
             "#bd3786"
            ],
            [
             0.5555555555555556,
             "#d8576b"
            ],
            [
             0.6666666666666666,
             "#ed7953"
            ],
            [
             0.7777777777777778,
             "#fb9f3a"
            ],
            [
             0.8888888888888888,
             "#fdca26"
            ],
            [
             1,
             "#f0f921"
            ]
           ]
          },
          "colorway": [
           "#636efa",
           "#EF553B",
           "#00cc96",
           "#ab63fa",
           "#FFA15A",
           "#19d3f3",
           "#FF6692",
           "#B6E880",
           "#FF97FF",
           "#FECB52"
          ],
          "font": {
           "color": "#2a3f5f"
          },
          "geo": {
           "bgcolor": "white",
           "lakecolor": "white",
           "landcolor": "#E5ECF6",
           "showlakes": true,
           "showland": true,
           "subunitcolor": "white"
          },
          "hoverlabel": {
           "align": "left"
          },
          "hovermode": "closest",
          "mapbox": {
           "style": "light"
          },
          "paper_bgcolor": "white",
          "plot_bgcolor": "#E5ECF6",
          "polar": {
           "angularaxis": {
            "gridcolor": "white",
            "linecolor": "white",
            "ticks": ""
           },
           "bgcolor": "#E5ECF6",
           "radialaxis": {
            "gridcolor": "white",
            "linecolor": "white",
            "ticks": ""
           }
          },
          "scene": {
           "xaxis": {
            "backgroundcolor": "#E5ECF6",
            "gridcolor": "white",
            "gridwidth": 2,
            "linecolor": "white",
            "showbackground": true,
            "ticks": "",
            "zerolinecolor": "white"
           },
           "yaxis": {
            "backgroundcolor": "#E5ECF6",
            "gridcolor": "white",
            "gridwidth": 2,
            "linecolor": "white",
            "showbackground": true,
            "ticks": "",
            "zerolinecolor": "white"
           },
           "zaxis": {
            "backgroundcolor": "#E5ECF6",
            "gridcolor": "white",
            "gridwidth": 2,
            "linecolor": "white",
            "showbackground": true,
            "ticks": "",
            "zerolinecolor": "white"
           }
          },
          "shapedefaults": {
           "line": {
            "color": "#2a3f5f"
           }
          },
          "ternary": {
           "aaxis": {
            "gridcolor": "white",
            "linecolor": "white",
            "ticks": ""
           },
           "baxis": {
            "gridcolor": "white",
            "linecolor": "white",
            "ticks": ""
           },
           "bgcolor": "#E5ECF6",
           "caxis": {
            "gridcolor": "white",
            "linecolor": "white",
            "ticks": ""
           }
          },
          "title": {
           "x": 0.05
          },
          "xaxis": {
           "automargin": true,
           "gridcolor": "white",
           "linecolor": "white",
           "ticks": "",
           "title": {
            "standoff": 15
           },
           "zerolinecolor": "white",
           "zerolinewidth": 2
          },
          "yaxis": {
           "automargin": true,
           "gridcolor": "white",
           "linecolor": "white",
           "ticks": "",
           "title": {
            "standoff": 15
           },
           "zerolinecolor": "white",
           "zerolinewidth": 2
          }
         }
        },
        "xaxis": {
         "anchor": "y",
         "domain": [
          0,
          1
         ],
         "title": {
          "text": "now_cost"
         }
        },
        "yaxis": {
         "anchor": "x",
         "domain": [
          0,
          1
         ],
         "title": {
          "text": "total_points"
         }
        }
       }
      },
      "text/html": [
       "<div>                            <div id=\"cb826a08-b527-4bf2-a2f2-b308ff149a2b\" class=\"plotly-graph-div\" style=\"height:525px; width:100%;\"></div>            <script type=\"text/javascript\">                require([\"plotly\"], function(Plotly) {                    window.PLOTLYENV=window.PLOTLYENV || {};                                    if (document.getElementById(\"cb826a08-b527-4bf2-a2f2-b308ff149a2b\")) {                    Plotly.newPlot(                        \"cb826a08-b527-4bf2-a2f2-b308ff149a2b\",                        [{\"customdata\":[[\"F\\u00e1bio\",\"Ferreira Vieira\"],[\"Gabriel\",\"Fernando de Jesus\"],[\"Gabriel\",\"dos Santos Magalh\\u00e3es\"],[\"Kai\",\"Havertz\"],[\"Karl\",\"Hein\"],[\"Jurri\\u00ebn\",\"Timber\"],[\"Jorge Luiz\",\"Frello Filho\"],[\"Jakub\",\"Kiwior\"],[\"Gabriel\",\"Martinelli Silva\"],[\"Ethan\",\"Nwaneri\"],[\"Martin\",\"\\u00d8degaard\"],[\"David\",\"Raya Martin\"],[\"Declan\",\"Rice\"],[\"Bukayo\",\"Saka\"],[\"William\",\"Saliba\"],[\"Thomas\",\"Partey\"],[\"Kieran\",\"Tierney\"],[\"Tomiyasu\",\"Takehiro\"],[\"Leandro\",\"Trossard\"],[\"Benjamin\",\"White\"],[\"Oleksandr\",\"Zinchenko\"],[\"Norberto\",\"Murara Neto\"],[\"Raheem\",\"Sterling\"],[\"Riccardo\",\"Calafiori\"],[\"Myles\",\"Lewis-Skelly\"],[\"Mikel\",\"Merino\"],[\"Salah-Eddine\",\"Oulad M'hand\"],[\"Tommy\",\"Setford\"],[\"Maldini\",\"Kacurri\"],[\"Ayden\",\"Heaven\"],[\"Ismeal\",\"Kabia\"],[\"Josh\",\"Nichols\"],[\"Leon\",\"Bailey\"],[\"Ross\",\"Barkley\"],[\"Enzo\",\"Barrenechea\"],[\"Emiliano\",\"Buend\\u00eda Stati\"],[\"Matty\",\"Cash\"],[\"Leander\",\"Dendoncker\"],[\"Moussa\",\"Diaby\"],[\"Diego Carlos\",\"Santos Silva\"],[\"Lucas\",\"Digne\"],[\"Lewis\",\"Dobbin\"],[\"Jhon\",\"Dur\\u00e1n\"],[\"Joe\",\"Gauci\"],[\"Kortney\",\"Hause\"],[\"Samuel\",\"Iling-Junior\"],[\"Boubacar\",\"Kamara\"],[\"Kaine\",\"Kesler-Hayden\"],[\"Ezri\",\"Konsa Ngoyo\"],[\"Ian\",\"Maatsen\"],[\"Filip\",\"Marschall\"],[\"Emiliano\",\"Mart\\u00ednez Romero\"],[\"John\",\"McGinn\"],[\"Tyrone\",\"Mings\"],[\"Kosta\",\"Nedeljkovi\\u0107\"],[\"Robin\",\"Olsen\"],[\"Pau\",\"Torres\"],[\"Jacob\",\"Ramsey\"],[\"Morgan\",\"Rogers\"],[\"Viljami\",\"Sinisalo\"],[\"Lino\",\"da Cruz Sousa\"],[\"Youri\",\"Tielemans\"],[\"Ollie\",\"Watkins\"],[\"Amadou\",\"Onana\"],[\"Jaden\",\"Philogene\"],[\"Lamare\",\"Bogarde\"],[\"Sil\",\"Swinkels\"],[\"Oliwier\",\"Zych\"],[\"Kadan\",\"Young\"],[\"Max\",\"Aarons\"],[\"Tyler\",\"Adams\"],[\"Jaidon\",\"Anthony\"],[\"David\",\"Brooks\"],[\"Ryan\",\"Christie\"],[\"Lewis\",\"Cook\"],[\"Enes\",\"\\u00dcnal\"],[\"Romain\",\"Faivre\"],[\"Hamed\",\"Traor\\u00e8\"],[\"James\",\"Hill\"],[\"Daniel\",\"Jebbison\"],[\"Milos\",\"Kerkez\"],[\"Justin\",\"Kluivert\"],[\"Chris\",\"Mepham\"],[\"Dango\",\"Ouattara\"],[\"Alex\",\"Paulsen\"],[\"Philip\",\"Billing\"],[\"Alex\",\"Scott\"],[\"Antoine\",\"Semenyo\"],[\"Marcos\",\"Senesi\"],[\"Luis\",\"Sinisterra\"],[\"Adam\",\"Smith\"],[\"Marcus\",\"Tavernier\"],[\"Mark\",\"Travers\"],[\"Illia\",\"Zabarnyi\"],[\"Kepa\",\"Arrizabalaga\"],[\"Dean\",\"Huijsen\"],[\"Juli\\u00e1n\",\"Araujo Z\\u00fa\\u00f1iga\"],[\"Will\",\"Dennis\"],[\"Francisco Evanilson\",\"de Lima Barbosa\"],[\"Kristoffer\",\"Ajer\"],[\"Ethan\",\"Brierley\"],[\"Nathan\",\"Collins\"],[\"Mikkel\",\"Damsgaard\"],[\"Josh\",\"Dasilva\"],[\"Mark\",\"Flekken\"],[\"Rico\",\"Henry\"],[\"Aaron\",\"Hickey\"],[\"Vitaly\",\"Janelt\"],[\"Mathias\",\"Jensen\"],[\"Kim\",\"Ji-soo\"],[\"Yunus Emre\",\"Konak\"],[\"Keane\",\"Lewis-Potter\"],[\"Bryan\",\"Mbeumo\"],[\"Ben\",\"Mee\"],[\"Christian\",\"N\\u00f8rgaard\"],[\"Frank\",\"Onyeka\"],[\"Myles\",\"Peart-Harris\"],[\"Ethan\",\"Pinnock\"],[\"Mads\",\"Roerslev Rasmussen\"],[\"Kevin\",\"Schade\"],[\"Igor Thiago\",\"Nascimento Rodrigues\"],[\"Ivan\",\"Toney\"],[\"H\\u00e1kon\",\"Valdimarsson\"],[\"Yoane\",\"Wissa\"],[\"Yehor\",\"Yarmoliuk\"],[\"Mathias\",\"Jorgensen\"],[\"F\\u00e1bio\",\"Freitas Gouveia Carvalho\"],[\"Sepp\",\"van den Berg\"],[\"Ryan\",\"Trevitt\"],[\"Gustavo\",\"Nunes Fernandes Gomes\"],[\"Jayden\",\"Meghoma\"],[\"Tony\",\"Yogane\"],[\"Simon\",\"Adingra\"],[\"Benicio\",\"Baker-Boaitey\"],[\"Carlos\",\"Baleba\"],[\"Valent\\u00edn\",\"Barco\"],[\"Amario\",\"Cozier-Duberry\"],[\"Mahmoud\",\"Dahoud\"],[\"Lewis\",\"Dunk\"],[\"Julio\",\"Enciso\"],[\"Pervis\",\"Estupi\\u00f1\\u00e1n\"],[\"Evan\",\"Ferguson\"],[\"Billy\",\"Gilmour\"],[\"Pascal\",\"Gro\\u00df\"],[\"Jack\",\"Hinshelwood\"],[\"Ibrahim\",\"Osman\"],[\"Igor Julio\",\"dos Santos de Paulo\"],[\"Jo\\u00e3o Pedro\",\"Junqueira de Jesus\"],[\"Kacper\",\"Koz\\u0142owski\"],[\"Tariq\",\"Lamptey\"],[\"Solly\",\"March\"],[\"Adrian\",\"Mazilu\"],[\"James\",\"Milner\"],[\"Yankuba\",\"Minteh\"],[\"Mitoma\",\"Kaoru\"],[\"Jakub\",\"Moder\"],[\"Mark\",\"O\\u2019Mahony\"],[\"Odeluga\",\"Offiah\"],[\"Cameron\",\"Peupion\"],[\"Jeremy\",\"Sarmiento Morante\"],[\"Jason\",\"Steele\"],[\"Deniz\",\"Undav\"],[\"Jan Paul\",\"van Hecke\"],[\"Jo\\u00ebl\",\"Veltman\"],[\"Bart\",\"Verbruggen\"],[\"Adam\",\"Webster\"],[\"Danny\",\"Welbeck\"],[\"Mats\",\"Wieffer\"],[\"Brajan\",\"Gruda\"],[\"Yasin\",\"Ayari\"],[\"Andrew\",\"Moran\"],[\"Carl\",\"Rushworth\"],[\"Georginio\",\"Rutter\"],[\"Ferdi\",\"Kadioglu\"],[\"Matt\",\"O'Riley\"],[\"Imari\",\"Samuels\"],[\"Andrey\",\"Nascimento dos Santos\"],[\"\\u00c2ngelo Gabriel\",\"Borges Damaceno\"],[\"Beno\\u00eet\",\"Badiashile\"],[\"Lucas\",\"Bergstr\\u00f6m\"],[\"Marcus\",\"Bettinelli\"],[\"Mois\\u00e9s\",\"Caicedo Corozo\"],[\"Cesare\",\"Casadei\"],[\"Ben\",\"Chilwell\"],[\"Carney\",\"Chukwuemeka\"],[\"Levi\",\"Colwill\"],[\"Marc\",\"Cucurella Saseta\"],[\"David Datro\",\"Fofana\"],[\"Deivid Washington\",\"de Souza Eug\\u00eanio\"],[\"Kiernan\",\"Dewsbury-Hall\"],[\"Axel\",\"Disasi\"],[\"Enzo\",\"Fern\\u00e1ndez\"],[\"Conor\",\"Gallagher\"],[\"Alfie\",\"Gilchrist\"],[\"Malo\",\"Gusto\"],[\"Reece\",\"James\"],[\"Omari\",\"Kellyman\"],[\"Rom\\u00e9o\",\"Lavia\"],[\"Romelu\",\"Lukaku Bolingoli\"],[\"Malang\",\"Sarr\"],[\"Noni\",\"Madueke\"],[\"Marc\",\"Guiu Paz\"],[\"Mykhailo\",\"Mudryk\"],[\"Nicolas\",\"Jackson\"],[\"Christopher\",\"Nkunku\"],[\"Cole\",\"Palmer\"],[\"\\u0110or\\u0111e\",\"Petrovi\\u0107\"],[\"Renato\",\"Palma Veiga\"],[\"Robert\",\"S\\u00e1nchez\"],[\"Tosin\",\"Adarabioyo\"],[\"Wesley\",\"Fofana\"],[\"Jadon\",\"Sancho\"],[\"Pedro\",\"Lomba Neto\"],[\"Caleb\",\"Wiley\"],[\"Filip\",\"J\\u00f8rgensen\"],[\"Jo\\u00e3o\",\"F\\u00e9lix Sequeira\"],[\"Eddie\",\"Nketiah\"],[\"Trevoh\",\"Chalobah\"],[\"Naouirou\",\"Ahamada\"],[\"Cheick\",\"Doucour\\u00e9\"],[\"Chris\",\"Richards\"],[\"Chadi\",\"Riad Dnanou\"],[\"Nathaniel\",\"Clyne\"],[\"Malcolm\",\"Ebiowei\"],[\"Eberechi\",\"Eze\"],[\"Marc\",\"Gu\\u00e9hi\"],[\"Dean\",\"Henderson\"],[\"Rob\",\"Holding\"],[\"Will\",\"Hughes\"],[\"Daichi\",\"Kamada\"],[\"Jefferson\",\"Lerma Sol\\u00eds\"],[\"Jean-Philippe\",\"Mateta\"],[\"Matheus\",\"Fran\\u00e7a de Oliveira\"],[\"Remi\",\"Matthews\"],[\"Tyrick\",\"Mitchell\"],[\"Daniel\",\"Mu\\u00f1oz\"],[\"David\",\"Ozoh\"],[\"Jesurun\",\"Rak-Sakyi\"],[\"Jeffrey\",\"Schlupp\"],[\"Joel\",\"Ward\"],[\"Adam\",\"Wharton\"],[\"Matt\",\"Turner\"],[\"Isma\\u00efla\",\"Sarr\"],[\"Franco\",\"Umeh-Chibueze\"],[\"Justin\",\"Devenny\"],[\"Asher\",\"Agbinone\"],[\"Kaden\",\"Rodney\"],[\"Maxence\",\"Lacroix\"],[\"Armando\",\"Broja\"],[\"Abdoulaye\",\"Doucour\\u00e9\"],[\"Norberto Bercique\",\"Gomes Betuncal\"],[\"Jarrad\",\"Branthwaite\"],[\"Dominic\",\"Calvert-Lewin\"],[\"S\\u00e9amus\",\"Coleman\"],[\"Idrissa\",\"Gueye\"],[\"James\",\"Garner\"],[\"Jack\",\"Harrison\"],[\"Mason\",\"Holgate\"],[\"Tim\",\"Iroegbunam\"],[\"Jo\\u00e3o\",\"Neves Virg\\u00ednia\"],[\"Michael\",\"Keane\"],[\"Neal\",\"Maupay\"],[\"Dwight\",\"McNeil\"],[\"Vitalii\",\"Mykolenko\"],[\"Iliman\",\"Ndiaye\"],[\"Nathan\",\"Patterson\"],[\"Jordan\",\"Pickford\"],[\"James\",\"Tarkowski\"],[\"Youssef\",\"Ramalho Chermiti\"],[\"Ashley\",\"Young\"],[\"Jesper\",\"Lindstr\\u00f8m\"],[\"Jake\",\"O'Brien\"],[\"Harrison\",\"Armstrong\"],[\"Jenson\",\"Metcalfe\"],[\"Asmir\",\"Begovic\"],[\"Roman\",\"Dixon\"],[\"Orel\",\"Mangala\"],[\"Reiss\",\"Nelson\"],[\"Emile\",\"Smith Rowe\"],[\"Joachim\",\"Andersen\"],[\"Adama\",\"Traor\\u00e9\"],[\"Andreas\",\"Hoelgebaum Pereira\"],[\"Calvin\",\"Bassey\"],[\"Steven\",\"Benda\"],[\"Tom\",\"Cairney\"],[\"Timothy\",\"Castagne\"],[\"Issa\",\"Diop\"],[\"Luke\",\"Harris\"],[\"Alex\",\"Iwobi\"],[\"Bernd\",\"Leno\"],[\"Sa\\u0161a\",\"Luki\\u0107\"],[\"Kevin\",\"Mbabu\"],[\"Rodrigo\",\"Muniz Carvalho\"],[\"Ra\\u00fal\",\"Jim\\u00e9nez\"],[\"Tim\",\"Ream\"],[\"Harrison\",\"Reed\"],[\"Antonee\",\"Robinson\"],[\"Jay\",\"Stansfield\"],[\"Kenny\",\"Tete\"],[\"Carlos Vin\\u00edcius\",\"Alves Morais\"],[\"Harry\",\"Wilson\"],[\"Ryan\",\"Sessegnon\"],[\"Jorge\",\"Cuenca Barreno\"],[\"Josh\",\"King\"],[\"Martial\",\"Godo\"],[\"Sander\",\"Berge\"],[\"Ali\",\"Al-Hamadi\"],[\"Elkan\",\"Baggott\"],[\"Nathan\",\"Broadhead\"],[\"Cameron\",\"Burgess\"],[\"Wes\",\"Burns\"],[\"Conor\",\"Chaplin\"],[\"Harry\",\"Clarke\"],[\"Leif\",\"Davis\"],[\"Liam\",\"Delap\"],[\"George\",\"Edmundson\"],[\"Jacob\",\"Greaves\"],[\"Marcus\",\"Myers-Harness\"],[\"George\",\"Hirst\"],[\"Cameron\",\"Humphreys\"],[\"Omari\",\"Giraud-Hutchinson\"],[\"Ben\",\"Johnson\"],[\"Freddie\",\"Ladapo\"],[\"Massimo\",\"Luongo\"],[\"Sam\",\"Morsy\"],[\"Corrie\",\"Ndaba\"],[\"Cieran\",\"Slicker\"],[\"Jack\",\"Taylor\"],[\"Axel\",\"Tuanzebe\"],[\"Christian\",\"Walton\"],[\"Luke\",\"Woolfenden\"],[\"Kalvin\",\"Phillips\"],[\"Arijanet\",\"Muric\"],[\"Conor\",\"Townsend\"],[\"Sam\",\"Szmodics\"],[\"Jens\",\"Cajuste\"],[\"Dara\",\"O'Shea\"],[\"Jack\",\"Clarke\"],[\"Chiedozie\",\"Ogbene\"],[\"Facundo\",\"Buonanotte\"],[\"Jordan\",\"Ayew\"],[\"Odsonne\",\"Edouard\"],[\"Boubakary\",\"Soumar\\u00e9\"],[\"Tom\",\"Cannon\"],[\"Hamza\",\"Choudhury\"],[\"Conor\",\"Coady\"],[\"Patson\",\"Daka\"],[\"Bobby\",\"De Cordova-Reid\"],[\"Wout\",\"Faes\"],[\"Michael\",\"Golding\"],[\"Mads\",\"Hermansen\"],[\"Daniel\",\"Iversen\"],[\"James\",\"Justin\"],[\"Victor\",\"Kristiansen\"],[\"Wanya\",\"Mar\\u00e7al-Madiv\\u00e1dua\"],[\"Stephy\",\"Mavididi\"],[\"Kasey\",\"McAteer\"],[\"Wilfred\",\"Ndidi\"],[\"Caleb\",\"Okoli\"],[\"Ricardo\",\"Barbosa Pereira\"],[\"Harry\",\"Souttar\"],[\"Jakub\",\"Stolarczyk\"],[\"Luke\",\"Thomas\"],[\"Jamie\",\"Vardy\"],[\"Jannik\",\"Vestergaard\"],[\"Danny\",\"Ward\"],[\"Harry\",\"Winks\"],[\"Oliver\",\"Skipp\"],[\"Abdul\",\"Fatawu\"],[\"Will\",\"Alves\"],[\"Ben\",\"Nelson\"],[\"Bilal\",\"El Khannouss\"],[\"Alisson\",\"Ramses Becker\"],[\"Trent\",\"Alexander-Arnold\"],[\"Stefan\",\"Baj\\u010deti\\u0107 Maquieira\"],[\"Conor\",\"Bradley\"],[\"Bobby\",\"Clark\"],[\"Darwin\",\"N\\u00fa\\u00f1ez Ribeiro\"],[\"Diogo\",\"Teixeira da Silva\"],[\"Ben\",\"Doak\"],[\"Harvey\",\"Elliott\"],[\"Endo\",\"Wataru\"],[\"Cody\",\"Gakpo\"],[\"Joe\",\"Gomez\"],[\"Ryan\",\"Gravenberch\"],[\"Curtis\",\"Jones\"],[\"Caoimhin\",\"Kelleher\"],[\"Ibrahima\",\"Konat\\u00e9\"],[\"Luis\",\"D\\u00edaz\"],[\"Mohamed\",\"Salah\"],[\"Alexis\",\"Mac Allister\"],[\"James\",\"McConnell\"],[\"Tyler\",\"Morton\"],[\"Nathaniel\",\"Phillips\"],[\"Jarell\",\"Quansah\"],[\"Rhys\",\"Williams\"],[\"Andrew\",\"Robertson\"],[\"Dominik\",\"Szoboszlai\"],[\"Konstantinos\",\"Tsimikas\"],[\"Virgil\",\"van Dijk\"],[\"Federico\",\"Chiesa\"],[\"V\\u00edtezslav\",\"Jaros\"],[\"Manuel\",\"Akanji\"],[\"Nathan\",\"Ak\\u00e9\"],[\"Bernardo\",\"Veiga de Carvalho e Silva\"],[\"Oscar\",\"Bobb\"],[\"Scott\",\"Carson\"],[\"Kevin\",\"De Bruyne\"],[\"J\\u00e9r\\u00e9my\",\"Doku\"],[\"Ederson\",\"Santana de Moraes\"],[\"Phil\",\"Foden\"],[\"Jack\",\"Grealish\"],[\"Jo\\u0161ko\",\"Gvardiol\"],[\"Erling\",\"Haaland\"],[\"Juli\\u00e1n\",\"\\u00c1lvarez\"],[\"Jo\\u00e3o\",\"Cavaco Cancelo\"],[\"Mateo\",\"Kova\\u010di\\u0107\"],[\"Rico\",\"Lewis\"],[\"Matheus Luiz\",\"Nunes\"],[\"James\",\"McAtee\"],[\"Stefan\",\"Ortega Moreno\"],[\"Rodrigo 'Rodri'\",\"Hernandez\"],[\"R\\u00faben\",\"Gato Alves Dias\"],[\"John\",\"Stones\"],[\"Kyle\",\"Walker\"],[\"S\\u00e1vio 'Savinho'\",\"Moreira de Oliveira\"],[\"Nico\",\"O'Reilly\"],[\"Ilkay\",\"G\\u00fcndogan\"],[\"Issa\",\"Kabor\\u00e9\"],[\"Amad\",\"Diallo\"],[\"Antony Matheus\",\"dos Santos\"],[\"Bruno\",\"Borges Fernandes\"],[\"Altay\",\"Bayindir\"],[\"Carlos Henrique\",\"Casimiro\"],[\"Diogo\",\"Dalot Teixeira\"],[\"Christian\",\"Eriksen\"],[\"Jonny\",\"Evans\"],[\"Alejandro\",\"Garnacho\"],[\"Hannibal\",\"Mejbri\"],[\"Tom\",\"Heaton\"],[\"Rasmus\",\"H\\u00f8jlund\"],[\"Victor\",\"Lindel\\u00f6f\"],[\"Harry\",\"Maguire\"],[\"Kobbie\",\"Mainoo\"],[\"Tyrell\",\"Malacia\"],[\"Lisandro\",\"Mart\\u00ednez\"],[\"Scott\",\"McTominay\"],[\"Mason\",\"Mount\"],[\"Andr\\u00e9\",\"Onana\"],[\"Facundo\",\"Pellistri Rebollo\"],[\"Marcus\",\"Rashford\"],[\"Luke\",\"Shaw\"],[\"Joshua\",\"Zirkzee\"],[\"Leny\",\"Yoro\"],[\"Matthijs\",\"de Ligt\"],[\"Noussair\",\"Mazraoui\"],[\"Toby\",\"Collyer\"],[\"Ethan\",\"Wheatley\"],[\"Manuel\",\"Ugarte\"],[\"Alex\",\"Murphy\"],[\"Miguel\",\"Almir\\u00f3n Rejala\"],[\"Harvey\",\"Barnes\"],[\"Sven\",\"Botman\"],[\"Bruno\",\"Guimar\\u00e3es Rodriguez Moura\"],[\"Dan\",\"Burn\"],[\"Martin\",\"D\\u00fabravka\"],[\"Anthony\",\"Gordon\"],[\"Lewis\",\"Hall\"],[\"Isaac\",\"Hayden\"],[\"Alexander\",\"Isak\"],[\"Jacob\",\"Murphy\"],[\"Joelinton C\\u00e1ssio\",\"Apolin\\u00e1rio de Lira\"],[\"Lloyd\",\"Kelly\"],[\"Emil\",\"Krafth\"],[\"Garang\",\"Kuol\"],[\"Jamaal\",\"Lascelles\"],[\"Jamal\",\"Lewis\"],[\"Tino\",\"Livramento\"],[\"Sean\",\"Longstaff\"],[\"Lewis\",\"Miley\"],[\"Odysseas\",\"Vlachodimos\"],[\"Nick\",\"Pope\"],[\"John\",\"Ruddy\"],[\"Fabian\",\"Sch\\u00e4r\"],[\"Matt\",\"Targett\"],[\"Sandro\",\"Tonali\"],[\"Kieran\",\"Trippier\"],[\"Joe\",\"White\"],[\"Joe\",\"Willock\"],[\"Callum\",\"Wilson\"],[\"Miodrag\",\"Piva\\u0161\"],[\"William\",\"Osula\"],[\"\\u00c1lex\",\"Moreno Lopera\"],[\"Ola\",\"Aina\"],[\"Elliot\",\"Anderson\"],[\"Taiwo\",\"Awoniyi\"],[\"Willy\",\"Boly\"],[\"Josh\",\"Bowler\"],[\"Carlos Miguel\",\"dos Santos Pereira\"],[\"Eric\",\"da Silva Moreira\"],[\"Danilo\",\"dos Santos de Oliveira\"],[\"Emmanuel\",\"Dennis\"],[\"Nicol\\u00e1s\",\"Dom\\u00ednguez\"],[\"Anthony\",\"Elanga\"],[\"Morgan\",\"Gibbs-White\"],[\"Callum\",\"Hudson-Odoi\"],[\"Alex\",\"Mighten\"],[\"Murillo\",\"Santiago Costa dos Santos\"],[\"Neco\",\"Williams\"],[\"Omar\",\"Richards\"],[\"Lewis\",\"O'Brien\"],[\"Andrew\",\"Omobamidele\"],[\"Jonathan\",\"Panzo\"],[\"Ibrahim\",\"Sangar\\u00e9\"],[\"Matz\",\"Sels\"],[\"Harry\",\"Toffolo\"],[\"Hwang\",\"Ui-jo\"],[\"Chris\",\"Wood\"],[\"Joe\",\"Worrall\"],[\"Ryan\",\"Yates\"],[\"James\",\"Ward-Prowse\"],[\"Nikola\",\"Milenkovi\\u0107\"],[\"Jo\\u00e3o Pedro\",\"Ferreira Silva\"],[\"Ram\\u00f3n\",\"Sosa\"],[\"Felipe\",\"Rodrigues da Silva\"],[\"Aaron\",\"Ramsdale\"],[\"Cameron\",\"Archer\"],[\"Lesley\",\"Ugochukwu\"],[\"Ryan\",\"Fraser\"],[\"Carlos\",\"Alcaraz Dur\\u00e1n\"],[\"Samuel\",\"Amo-Ameyaw\"],[\"Joe\",\"Aribo\"],[\"Adam\",\"Armstrong\"],[\"Gavin\",\"Bazunu\"],[\"Jan\",\"Bednarek\"],[\"Armel\",\"Bella-Kotchap\"],[\"James\",\"Bree\"],[\"Shea\",\"Charles\"],[\"Samuel\",\"Edozie\"],[\"Ronnie\",\"Edwards\"],[\"Taylor\",\"Harwood-Bellis\"],[\"Kamaldeen\",\"Sulemana\"],[\"Adam\",\"Lallana\"],[\"Juan\",\"Larios L\\u00f3pez\"],[\"Mateusz\",\"Lis\"],[\"Joe\",\"Lumley\"],[\"Ryan\",\"Manning\"],[\"S\\u00e9kou\",\"Mara\"],[\"Alex\",\"McCarthy\"],[\"Paul\",\"Onuachu\"],[\"Will\",\"Smallbone\"],[\"Jack\",\"Stephens\"],[\"Ross\",\"Stewart\"],[\"Sugawara\",\"Yukinari\"],[\"Charlie\",\"Taylor\"],[\"Kyle\",\"Walker-Peters\"],[\"Nathan\",\"Wood-Gordon\"],[\"Maxwel\",\"Cornet\"],[\"Flynn\",\"Downes\"],[\"Ben\",\"Brereton D\\u00edaz\"],[\"Tyler\",\"Dibling\"],[\"Mateus Gon\\u00e7alo\",\"Espanha Fernandes\"],[\"Dominic\",\"Solanke-Mitchell\"],[\"Ashley\",\"Phillips\"],[\"Brandon\",\"Austin\"],[\"Rodrigo\",\"Bentancur\"],[\"Lucas\",\"Bergvall\"],[\"Yves\",\"Bissouma\"],[\"Bryan\",\"Gil Salvatierra\"],[\"Ben\",\"Davies\"],[\"Alfie\",\"Devine\"],[\"Radu\",\"Dr\\u0103gu\\u0219in\"],[\"Emerson\",\"Leite de Souza Junior\"],[\"Fraser\",\"Forster\"],[\"Archie\",\"Gray\"],[\"Pierre-Emile\",\"H\\u00f8jbjerg\"],[\"Brennan\",\"Johnson\"],[\"Dejan\",\"Kulusevski\"],[\"Giovani\",\"Lo Celso\"],[\"James\",\"Maddison\"],[\"Pedro\",\"Porro\"],[\"Sergio\",\"Reguil\\u00f3n\"],[\"Richarlison\",\"de Andrade\"],[\"Cristian\",\"Romero\"],[\"Pape Matar\",\"Sarr\"],[\"Dane\",\"Scarlett\"],[\"Manor\",\"Solomon\"],[\"Son\",\"Heung-min\"],[\"Djed\",\"Spence\"],[\"Destiny\",\"Udogie\"],[\"Micky\",\"van de Ven\"],[\"Alejo\",\"V\\u00e9liz\"],[\"Guglielmo\",\"Vicario\"],[\"Timo\",\"Werner\"],[\"Alfie\",\"Whiteman\"],[\"Will\",\"Lankshear\"],[\"Mikey\",\"Moore\"],[\"Wilson\",\"Odobert\"],[\"Aaron\",\"Wan-Bissaka\"],[\"Edson\",\"\\u00c1lvarez Vel\\u00e1zquez\"],[\"Michail\",\"Antonio\"],[\"Alphonse\",\"Areola\"],[\"Jarrod\",\"Bowen\"],[\"Vladim\\u00edr\",\"Coufal\"],[\"Aaron\",\"Cresswell\"],[\"George\",\"Earthy\"],[\"Emerson\",\"Palmieri dos Santos\"],[\"\\u0141ukasz\",\"Fabia\\u0144ski\"],[\"Wes\",\"Foderingham\"],[\"Danny\",\"Ings\"],[\"Max\",\"Kilman\"],[\"Mohammed\",\"Kudus\"],[\"Luis Guilherme\",\"Lira dos Santos\"],[\"Lucas\",\"Tolentino Coelho de Lima\"],[\"Konstantinos\",\"Mavropanos\"],[\"Nayef\",\"Aguerd\"],[\"Tom\\u00e1\\u0161\",\"Sou\\u010dek\"],[\"Kurt\",\"Zouma\"],[\"Andy\",\"Irving\"],[\"Crysencio\",\"Summerville\"],[\"Guido\",\"Rodr\\u00edguez\"],[\"Niclas\",\"F\\u00fcllkrug\"],[\"Jean-Clair\",\"Todibo\"],[\"Kaelan\",\"Casey\"],[\"Carlos\",\"Soler\"],[\"Sam\",\"Johnstone\"],[\"Rayan\",\"A\\u00eft-Nouri\"],[\"Boubacar\",\"Traor\\u00e9\"],[\"Jean-Ricner\",\"Bellegarde\"],[\"Daniel\",\"Bentley\"],[\"Francisco Jorge\",\"Tom\\u00e1s Oliveira\"],[\"Tawanda\",\"Chirewa\"],[\"Leon\",\"Chiwome\"],[\"Luke\",\"Cundle\"],[\"Matheus\",\"Santos Carneiro Da Cunha\"],[\"Craig\",\"Dawson\"],[\"Matt\",\"Doherty\"],[\"Tommy\",\"Doyle\"],[\"F\\u00e1bio\",\"Silva\"],[\"Nathan\",\"Fraser\"],[\"Enso\",\"Gonz\\u00e1lez\"],[\"Gon\\u00e7alo Manuel\",\"Ganchinho Guedes\"],[\"Hugo\",\"Bueno L\\u00f3pez\"],[\"Hwang\",\"Hee-chan\"],[\"Joe\",\"Hodge\"],[\"Ki-Jana\",\"Hoever\"],[\"Jo\\u00e3o Victor\",\"Gomes da Silva\"],[\"Jos\\u00e9\",\"Malheiro de S\\u00e1\"],[\"Sa\\u0161a\",\"Kalajd\\u017ei\\u0107\"],[\"Tom\",\"King\"],[\"Mario\",\"Lemina\"],[\"Yerson\",\"Mosquera\"],[\"N\\u00e9lson\",\"Cabral Semedo\"],[\"Pedro\",\"Cardoso de Lima\"],[\"Daniel\",\"Castelo Podence\"],[\"Rodrigo\",\"Martins Gomes\"],[\"Santiago\",\"Bueno\"],[\"Pablo\",\"Sarabia\"],[\"J\\u00f8rgen\",\"Strand Larsen\"],[\"Toti Ant\\u00f3nio\",\"Gomes\"],[\"Bastien\",\"Meupiyou\"],[\"Andr\\u00e9\",\"Trindade da Costa Neto\"],[\"Carlos Roberto\",\"Forbs Borges\"],[\"Alfie\",\"Pond\"]],\"hovertemplate\":\"now_cost=%{x}\\u003cbr\\u003etotal_points=%{y}\\u003cbr\\u003efirst_name=%{customdata[0]}\\u003cbr\\u003esecond_name=%{customdata[1]}\\u003cextra\\u003e\\u003c\\u002fextra\\u003e\",\"legendgroup\":\"\",\"marker\":{\"color\":\"#636efa\",\"symbol\":\"circle\"},\"mode\":\"markers\",\"name\":\"\",\"orientation\":\"v\",\"showlegend\":false,\"x\":[54,68,62,82,40,55,49,48,69,45,82,56,63,101,60,50,44,48,69,64,48,43,68,58,45,60,45,45,40,40,45,40,64,52,49,53,44,45,65,45,46,50,62,40,40,54,50,40,45,48,40,50,53,44,40,45,45,55,52,40,40,55,91,52,53,40,40,40,45,44,49,45,49,49,50,54,50,45,40,45,45,54,44,50,40,48,49,57,48,50,45,55,44,45,45,44,45,40,59,45,45,45,50,49,45,44,44,49,54,40,45,50,74,43,49,49,45,45,44,54,59,73,40,60,44,45,48,40,45,50,40,45,55,45,50,40,45,49,46,54,50,55,50,65,50,50,44,55,45,45,65,45,50,55,66,44,45,40,45,49,44,55,45,45,45,44,58,49,54,50,50,40,55,45,55,40,45,45,44,40,40,49,45,48,49,45,50,54,50,57,44,49,59,40,49,50,44,45,63,45,66,49,63,79,61,107,44,45,47,44,45,64,63,40,43,63,59,44,45,49,45,44,44,45,68,44,45,44,49,52,49,74,44,40,49,49,45,45,48,44,49,40,58,45,45,45,45,45,54,52,50,48,60,44,49,50,53,40,45,40,40,49,55,43,54,44,48,48,49,45,52,48,45,45,40,40,50,50,58,44,51,53,45,40,49,43,45,45,55,50,49,40,59,55,45,49,47,50,45,50,53,43,44,45,45,50,49,40,49,40,49,52,40,45,55,40,40,49,54,45,53,40,45,45,49,40,40,49,40,44,40,49,44,40,59,45,40,55,50,50,52,54,45,45,44,40,49,53,41,45,45,40,45,45,45,53,48,50,40,43,40,40,40,57,40,40,45,49,55,45,40,50,55,71,45,48,45,72,75,45,52,48,71,48,50,53,44,52,80,128,63,45,45,40,41,40,60,65,47,60,70,40,55,53,65,48,40,95,64,55,92,64,59,153,70,53,55,47,49,48,53,63,55,53,53,65,50,65,45,50,58,82,44,48,51,54,44,63,45,40,69,43,49,53,44,45,49,63,50,50,69,49,69,43,50,46,45,45,50,40,56,65,44,63,44,43,73,43,45,83,52,60,44,45,45,45,40,45,48,50,44,50,40,54,40,55,57,45,48,69,40,50,44,45,50,57,43,45,43,45,48,49,49,53,63,54,45,45,45,45,50,43,40,45,45,44,45,62,45,50,62,45,59,55,45,44,50,45,49,49,45,49,53,44,40,40,40,45,49,40,40,50,50,40,40,40,43,50,44,49,50,40,46,45,40,45,40,49,49,53,46,50,76,40,40,50,45,49,50,44,45,44,45,44,48,50,64,62,49,75,55,43,68,51,49,45,54,99,44,50,45,50,50,62,40,45,45,54,45,50,54,45,74,44,40,45,44,40,44,50,45,63,48,59,45,44,50,44,49,57,50,67,44,40,50,44,44,49,50,40,45,45,45,45,65,44,44,49,50,45,45,53,45,62,45,40,49,44,49,40,50,40,45,40,55,53,44,52,55,43,40,50,55,40],\"xaxis\":\"x\",\"y\":[0,2,37,32,0,19,2,1,28,2,7,34,6,38,20,21,0,0,22,21,7,7,2,11,0,0,0,0,0,0,0,0,10,7,0,3,3,0,0,3,16,0,26,0,0,0,0,0,16,6,0,11,9,0,3,0,8,13,25,0,0,19,39,25,2,2,0,0,0,0,0,0,0,10,22,3,0,0,0,2,8,11,0,16,0,2,7,29,5,17,12,22,2,10,9,3,6,0,15,7,0,15,12,0,17,0,0,13,9,0,2,12,43,1,7,2,0,6,6,12,0,0,0,28,3,0,12,5,1,0,0,0,14,0,19,0,0,0,15,4,1,3,3,0,21,0,1,19,0,0,0,0,5,14,26,0,0,0,0,1,9,0,19,20,10,0,33,8,0,8,0,0,14,1,0,0,0,0,0,0,0,16,0,0,0,17,14,0,0,3,7,10,0,0,4,0,0,3,0,0,33,1,3,40,12,61,0,5,32,7,10,16,8,0,0,8,6,0,0,6,9,1,3,0,21,19,18,0,4,10,6,21,0,0,15,14,0,0,5,0,11,0,9,0,0,0,0,10,0,8,4,2,25,1,9,4,12,1,7,0,9,0,39,5,16,0,10,6,0,9,6,0,1,0,0,0,5,9,33,12,26,15,15,0,2,0,8,0,25,18,9,0,12,27,0,4,24,1,14,0,2,0,0,0,0,4,1,0,0,0,4,6,0,18,25,1,11,2,3,0,14,4,0,6,16,0,0,3,11,2,2,6,17,0,13,3,9,8,5,17,7,5,1,0,1,0,0,6,12,0,15,0,19,6,0,22,3,21,4,0,0,0,0,22,2,0,11,5,15,0,0,3,25,33,0,4,0,9,26,0,1,1,5,1,15,3,9,31,53,59,15,0,0,0,1,0,27,21,3,28,1,0,14,1,19,0,0,18,10,21,3,12,22,65,0,0,21,17,6,1,0,2,9,9,6,19,0,8,0,20,1,13,0,8,29,7,2,17,0,0,2,0,8,11,0,19,2,3,33,0,18,0,15,0,24,25,1,0,3,0,2,35,0,16,10,0,28,12,0,19,13,16,8,10,0,0,0,14,8,0,0,25,0,8,0,4,5,0,7,0,0,1,8,22,15,4,3,0,0,0,1,0,3,11,15,20,0,19,11,0,0,0,0,4,23,1,0,31,0,13,7,17,7,8,2,10,5,4,3,1,1,8,5,0,8,0,0,0,1,0,13,0,9,0,0,0,0,0,6,0,5,2,2,13,3,6,0,1,9,9,17,8,16,0,0,7,5,10,0,0,0,2,0,0,3,0,29,23,0,29,25,0,2,27,9,0,0,33,2,13,24,0,20,6,0,0,2,6,7,4,12,14,24,9,2,0,9,1,0,10,16,12,0,16,14,0,25,0,1,5,10,3,4,0,1,8,13,0,16,0,1,0,0,0,21,6,2,5,0,0,0,3,0,6,0,0,8,1,0,0,22,3,4,0,2,4,1,2,19,4,0,5,1,0],\"yaxis\":\"y\",\"type\":\"scatter\"}],                        {\"template\":{\"data\":{\"histogram2dcontour\":[{\"type\":\"histogram2dcontour\",\"colorbar\":{\"outlinewidth\":0,\"ticks\":\"\"},\"colorscale\":[[0.0,\"#0d0887\"],[0.1111111111111111,\"#46039f\"],[0.2222222222222222,\"#7201a8\"],[0.3333333333333333,\"#9c179e\"],[0.4444444444444444,\"#bd3786\"],[0.5555555555555556,\"#d8576b\"],[0.6666666666666666,\"#ed7953\"],[0.7777777777777778,\"#fb9f3a\"],[0.8888888888888888,\"#fdca26\"],[1.0,\"#f0f921\"]]}],\"choropleth\":[{\"type\":\"choropleth\",\"colorbar\":{\"outlinewidth\":0,\"ticks\":\"\"}}],\"histogram2d\":[{\"type\":\"histogram2d\",\"colorbar\":{\"outlinewidth\":0,\"ticks\":\"\"},\"colorscale\":[[0.0,\"#0d0887\"],[0.1111111111111111,\"#46039f\"],[0.2222222222222222,\"#7201a8\"],[0.3333333333333333,\"#9c179e\"],[0.4444444444444444,\"#bd3786\"],[0.5555555555555556,\"#d8576b\"],[0.6666666666666666,\"#ed7953\"],[0.7777777777777778,\"#fb9f3a\"],[0.8888888888888888,\"#fdca26\"],[1.0,\"#f0f921\"]]}],\"heatmap\":[{\"type\":\"heatmap\",\"colorbar\":{\"outlinewidth\":0,\"ticks\":\"\"},\"colorscale\":[[0.0,\"#0d0887\"],[0.1111111111111111,\"#46039f\"],[0.2222222222222222,\"#7201a8\"],[0.3333333333333333,\"#9c179e\"],[0.4444444444444444,\"#bd3786\"],[0.5555555555555556,\"#d8576b\"],[0.6666666666666666,\"#ed7953\"],[0.7777777777777778,\"#fb9f3a\"],[0.8888888888888888,\"#fdca26\"],[1.0,\"#f0f921\"]]}],\"heatmapgl\":[{\"type\":\"heatmapgl\",\"colorbar\":{\"outlinewidth\":0,\"ticks\":\"\"},\"colorscale\":[[0.0,\"#0d0887\"],[0.1111111111111111,\"#46039f\"],[0.2222222222222222,\"#7201a8\"],[0.3333333333333333,\"#9c179e\"],[0.4444444444444444,\"#bd3786\"],[0.5555555555555556,\"#d8576b\"],[0.6666666666666666,\"#ed7953\"],[0.7777777777777778,\"#fb9f3a\"],[0.8888888888888888,\"#fdca26\"],[1.0,\"#f0f921\"]]}],\"contourcarpet\":[{\"type\":\"contourcarpet\",\"colorbar\":{\"outlinewidth\":0,\"ticks\":\"\"}}],\"contour\":[{\"type\":\"contour\",\"colorbar\":{\"outlinewidth\":0,\"ticks\":\"\"},\"colorscale\":[[0.0,\"#0d0887\"],[0.1111111111111111,\"#46039f\"],[0.2222222222222222,\"#7201a8\"],[0.3333333333333333,\"#9c179e\"],[0.4444444444444444,\"#bd3786\"],[0.5555555555555556,\"#d8576b\"],[0.6666666666666666,\"#ed7953\"],[0.7777777777777778,\"#fb9f3a\"],[0.8888888888888888,\"#fdca26\"],[1.0,\"#f0f921\"]]}],\"surface\":[{\"type\":\"surface\",\"colorbar\":{\"outlinewidth\":0,\"ticks\":\"\"},\"colorscale\":[[0.0,\"#0d0887\"],[0.1111111111111111,\"#46039f\"],[0.2222222222222222,\"#7201a8\"],[0.3333333333333333,\"#9c179e\"],[0.4444444444444444,\"#bd3786\"],[0.5555555555555556,\"#d8576b\"],[0.6666666666666666,\"#ed7953\"],[0.7777777777777778,\"#fb9f3a\"],[0.8888888888888888,\"#fdca26\"],[1.0,\"#f0f921\"]]}],\"mesh3d\":[{\"type\":\"mesh3d\",\"colorbar\":{\"outlinewidth\":0,\"ticks\":\"\"}}],\"scatter\":[{\"fillpattern\":{\"fillmode\":\"overlay\",\"size\":10,\"solidity\":0.2},\"type\":\"scatter\"}],\"parcoords\":[{\"type\":\"parcoords\",\"line\":{\"colorbar\":{\"outlinewidth\":0,\"ticks\":\"\"}}}],\"scatterpolargl\":[{\"type\":\"scatterpolargl\",\"marker\":{\"colorbar\":{\"outlinewidth\":0,\"ticks\":\"\"}}}],\"bar\":[{\"error_x\":{\"color\":\"#2a3f5f\"},\"error_y\":{\"color\":\"#2a3f5f\"},\"marker\":{\"line\":{\"color\":\"#E5ECF6\",\"width\":0.5},\"pattern\":{\"fillmode\":\"overlay\",\"size\":10,\"solidity\":0.2}},\"type\":\"bar\"}],\"scattergeo\":[{\"type\":\"scattergeo\",\"marker\":{\"colorbar\":{\"outlinewidth\":0,\"ticks\":\"\"}}}],\"scatterpolar\":[{\"type\":\"scatterpolar\",\"marker\":{\"colorbar\":{\"outlinewidth\":0,\"ticks\":\"\"}}}],\"histogram\":[{\"marker\":{\"pattern\":{\"fillmode\":\"overlay\",\"size\":10,\"solidity\":0.2}},\"type\":\"histogram\"}],\"scattergl\":[{\"type\":\"scattergl\",\"marker\":{\"colorbar\":{\"outlinewidth\":0,\"ticks\":\"\"}}}],\"scatter3d\":[{\"type\":\"scatter3d\",\"line\":{\"colorbar\":{\"outlinewidth\":0,\"ticks\":\"\"}},\"marker\":{\"colorbar\":{\"outlinewidth\":0,\"ticks\":\"\"}}}],\"scattermapbox\":[{\"type\":\"scattermapbox\",\"marker\":{\"colorbar\":{\"outlinewidth\":0,\"ticks\":\"\"}}}],\"scatterternary\":[{\"type\":\"scatterternary\",\"marker\":{\"colorbar\":{\"outlinewidth\":0,\"ticks\":\"\"}}}],\"scattercarpet\":[{\"type\":\"scattercarpet\",\"marker\":{\"colorbar\":{\"outlinewidth\":0,\"ticks\":\"\"}}}],\"carpet\":[{\"aaxis\":{\"endlinecolor\":\"#2a3f5f\",\"gridcolor\":\"white\",\"linecolor\":\"white\",\"minorgridcolor\":\"white\",\"startlinecolor\":\"#2a3f5f\"},\"baxis\":{\"endlinecolor\":\"#2a3f5f\",\"gridcolor\":\"white\",\"linecolor\":\"white\",\"minorgridcolor\":\"white\",\"startlinecolor\":\"#2a3f5f\"},\"type\":\"carpet\"}],\"table\":[{\"cells\":{\"fill\":{\"color\":\"#EBF0F8\"},\"line\":{\"color\":\"white\"}},\"header\":{\"fill\":{\"color\":\"#C8D4E3\"},\"line\":{\"color\":\"white\"}},\"type\":\"table\"}],\"barpolar\":[{\"marker\":{\"line\":{\"color\":\"#E5ECF6\",\"width\":0.5},\"pattern\":{\"fillmode\":\"overlay\",\"size\":10,\"solidity\":0.2}},\"type\":\"barpolar\"}],\"pie\":[{\"automargin\":true,\"type\":\"pie\"}]},\"layout\":{\"autotypenumbers\":\"strict\",\"colorway\":[\"#636efa\",\"#EF553B\",\"#00cc96\",\"#ab63fa\",\"#FFA15A\",\"#19d3f3\",\"#FF6692\",\"#B6E880\",\"#FF97FF\",\"#FECB52\"],\"font\":{\"color\":\"#2a3f5f\"},\"hovermode\":\"closest\",\"hoverlabel\":{\"align\":\"left\"},\"paper_bgcolor\":\"white\",\"plot_bgcolor\":\"#E5ECF6\",\"polar\":{\"bgcolor\":\"#E5ECF6\",\"angularaxis\":{\"gridcolor\":\"white\",\"linecolor\":\"white\",\"ticks\":\"\"},\"radialaxis\":{\"gridcolor\":\"white\",\"linecolor\":\"white\",\"ticks\":\"\"}},\"ternary\":{\"bgcolor\":\"#E5ECF6\",\"aaxis\":{\"gridcolor\":\"white\",\"linecolor\":\"white\",\"ticks\":\"\"},\"baxis\":{\"gridcolor\":\"white\",\"linecolor\":\"white\",\"ticks\":\"\"},\"caxis\":{\"gridcolor\":\"white\",\"linecolor\":\"white\",\"ticks\":\"\"}},\"coloraxis\":{\"colorbar\":{\"outlinewidth\":0,\"ticks\":\"\"}},\"colorscale\":{\"sequential\":[[0.0,\"#0d0887\"],[0.1111111111111111,\"#46039f\"],[0.2222222222222222,\"#7201a8\"],[0.3333333333333333,\"#9c179e\"],[0.4444444444444444,\"#bd3786\"],[0.5555555555555556,\"#d8576b\"],[0.6666666666666666,\"#ed7953\"],[0.7777777777777778,\"#fb9f3a\"],[0.8888888888888888,\"#fdca26\"],[1.0,\"#f0f921\"]],\"sequentialminus\":[[0.0,\"#0d0887\"],[0.1111111111111111,\"#46039f\"],[0.2222222222222222,\"#7201a8\"],[0.3333333333333333,\"#9c179e\"],[0.4444444444444444,\"#bd3786\"],[0.5555555555555556,\"#d8576b\"],[0.6666666666666666,\"#ed7953\"],[0.7777777777777778,\"#fb9f3a\"],[0.8888888888888888,\"#fdca26\"],[1.0,\"#f0f921\"]],\"diverging\":[[0,\"#8e0152\"],[0.1,\"#c51b7d\"],[0.2,\"#de77ae\"],[0.3,\"#f1b6da\"],[0.4,\"#fde0ef\"],[0.5,\"#f7f7f7\"],[0.6,\"#e6f5d0\"],[0.7,\"#b8e186\"],[0.8,\"#7fbc41\"],[0.9,\"#4d9221\"],[1,\"#276419\"]]},\"xaxis\":{\"gridcolor\":\"white\",\"linecolor\":\"white\",\"ticks\":\"\",\"title\":{\"standoff\":15},\"zerolinecolor\":\"white\",\"automargin\":true,\"zerolinewidth\":2},\"yaxis\":{\"gridcolor\":\"white\",\"linecolor\":\"white\",\"ticks\":\"\",\"title\":{\"standoff\":15},\"zerolinecolor\":\"white\",\"automargin\":true,\"zerolinewidth\":2},\"scene\":{\"xaxis\":{\"backgroundcolor\":\"#E5ECF6\",\"gridcolor\":\"white\",\"linecolor\":\"white\",\"showbackground\":true,\"ticks\":\"\",\"zerolinecolor\":\"white\",\"gridwidth\":2},\"yaxis\":{\"backgroundcolor\":\"#E5ECF6\",\"gridcolor\":\"white\",\"linecolor\":\"white\",\"showbackground\":true,\"ticks\":\"\",\"zerolinecolor\":\"white\",\"gridwidth\":2},\"zaxis\":{\"backgroundcolor\":\"#E5ECF6\",\"gridcolor\":\"white\",\"linecolor\":\"white\",\"showbackground\":true,\"ticks\":\"\",\"zerolinecolor\":\"white\",\"gridwidth\":2}},\"shapedefaults\":{\"line\":{\"color\":\"#2a3f5f\"}},\"annotationdefaults\":{\"arrowcolor\":\"#2a3f5f\",\"arrowhead\":0,\"arrowwidth\":1},\"geo\":{\"bgcolor\":\"white\",\"landcolor\":\"#E5ECF6\",\"subunitcolor\":\"white\",\"showland\":true,\"showlakes\":true,\"lakecolor\":\"white\"},\"title\":{\"x\":0.05},\"mapbox\":{\"style\":\"light\"}}},\"xaxis\":{\"anchor\":\"y\",\"domain\":[0.0,1.0],\"title\":{\"text\":\"now_cost\"}},\"yaxis\":{\"anchor\":\"x\",\"domain\":[0.0,1.0],\"title\":{\"text\":\"total_points\"}},\"legend\":{\"tracegroupgap\":0},\"margin\":{\"t\":60}},                        {\"responsive\": true}                    ).then(function(){\n",
       "                            \n",
       "var gd = document.getElementById('cb826a08-b527-4bf2-a2f2-b308ff149a2b');\n",
       "var x = new MutationObserver(function (mutations, observer) {{\n",
       "        var display = window.getComputedStyle(gd).display;\n",
       "        if (!display || display === 'none') {{\n",
       "            console.log([gd, 'removed!']);\n",
       "            Plotly.purge(gd);\n",
       "            observer.disconnect();\n",
       "        }}\n",
       "}});\n",
       "\n",
       "// Listen for the removal of the full notebook cells\n",
       "var notebookContainer = gd.closest('#notebook-container');\n",
       "if (notebookContainer) {{\n",
       "    x.observe(notebookContainer, {childList: true});\n",
       "}}\n",
       "\n",
       "// Listen for the clearing of the current output cell\n",
       "var outputEl = gd.closest('.output');\n",
       "if (outputEl) {{\n",
       "    x.observe(outputEl, {childList: true});\n",
       "}}\n",
       "\n",
       "                        })                };                });            </script>        </div>"
      ]
     },
     "metadata": {},
     "output_type": "display_data"
    }
   ],
   "source": [
    "pd.options.plotting.backend = \"plotly\"\n",
    "\n",
    "df.plot.scatter(x=\"now_cost\", y=\"total_points\", hover_data=[\"first_name\", \"second_name\"])"
   ]
  },
  {
   "cell_type": "markdown",
   "metadata": {},
   "source": [
    "Most scoring forward"
   ]
  },
  {
   "cell_type": "code",
   "execution_count": 70,
   "metadata": {},
   "outputs": [
    {
     "data": {
      "application/vnd.plotly.v1+json": {
       "config": {
        "plotlyServerURL": "https://plot.ly"
       },
       "data": [
        {
         "customdata": [
          [
           "Gabriel",
           "Fernando de Jesus"
          ],
          [
           "Kai",
           "Havertz"
          ],
          [
           "Jhon",
           "Durán"
          ],
          [
           "Ollie",
           "Watkins"
          ],
          [
           "Enes",
           "Ünal"
          ],
          [
           "Daniel",
           "Jebbison"
          ],
          [
           "Francisco Evanilson",
           "de Lima Barbosa"
          ],
          [
           "Igor Thiago",
           "Nascimento Rodrigues"
          ],
          [
           "Ivan",
           "Toney"
          ],
          [
           "Yoane",
           "Wissa"
          ],
          [
           "Evan",
           "Ferguson"
          ],
          [
           "João Pedro",
           "Junqueira de Jesus"
          ],
          [
           "Mark",
           "O’Mahony"
          ],
          [
           "Deniz",
           "Undav"
          ],
          [
           "Danny",
           "Welbeck"
          ],
          [
           "David Datro",
           "Fofana"
          ],
          [
           "Deivid Washington",
           "de Souza Eugênio"
          ],
          [
           "Romelu",
           "Lukaku Bolingoli"
          ],
          [
           "Marc",
           "Guiu Paz"
          ],
          [
           "Nicolas",
           "Jackson"
          ],
          [
           "Eddie",
           "Nketiah"
          ],
          [
           "Jean-Philippe",
           "Mateta"
          ],
          [
           "Armando",
           "Broja"
          ],
          [
           "Norberto Bercique",
           "Gomes Betuncal"
          ],
          [
           "Dominic",
           "Calvert-Lewin"
          ],
          [
           "Neal",
           "Maupay"
          ],
          [
           "Iliman",
           "Ndiaye"
          ],
          [
           "Youssef",
           "Ramalho Chermiti"
          ],
          [
           "Rodrigo",
           "Muniz Carvalho"
          ],
          [
           "Raúl",
           "Jiménez"
          ],
          [
           "Jay",
           "Stansfield"
          ],
          [
           "Carlos Vinícius",
           "Alves Morais"
          ],
          [
           "Ali",
           "Al-Hamadi"
          ],
          [
           "Liam",
           "Delap"
          ],
          [
           "George",
           "Hirst"
          ],
          [
           "Freddie",
           "Ladapo"
          ],
          [
           "Odsonne",
           "Edouard"
          ],
          [
           "Tom",
           "Cannon"
          ],
          [
           "Patson",
           "Daka"
          ],
          [
           "Jamie",
           "Vardy"
          ],
          [
           "Darwin",
           "Núñez Ribeiro"
          ],
          [
           "Cody",
           "Gakpo"
          ],
          [
           "Erling",
           "Haaland"
          ],
          [
           "Julián",
           "Álvarez"
          ],
          [
           "Rasmus",
           "Højlund"
          ],
          [
           "Joshua",
           "Zirkzee"
          ],
          [
           "Ethan",
           "Wheatley"
          ],
          [
           "Alexander",
           "Isak"
          ],
          [
           "Callum",
           "Wilson"
          ],
          [
           "William",
           "Osula"
          ],
          [
           "Taiwo",
           "Awoniyi"
          ],
          [
           "Emmanuel",
           "Dennis"
          ],
          [
           "Hwang",
           "Ui-jo"
          ],
          [
           "Chris",
           "Wood"
          ],
          [
           "Cameron",
           "Archer"
          ],
          [
           "Adam",
           "Armstrong"
          ],
          [
           "Sékou",
           "Mara"
          ],
          [
           "Paul",
           "Onuachu"
          ],
          [
           "Ross",
           "Stewart"
          ],
          [
           "Dominic",
           "Solanke-Mitchell"
          ],
          [
           "Richarlison",
           "de Andrade"
          ],
          [
           "Dane",
           "Scarlett"
          ],
          [
           "Alejo",
           "Véliz"
          ],
          [
           "Will",
           "Lankshear"
          ],
          [
           "Michail",
           "Antonio"
          ],
          [
           "Danny",
           "Ings"
          ],
          [
           "Niclas",
           "Füllkrug"
          ],
          [
           "Leon",
           "Chiwome"
          ],
          [
           "Matheus",
           "Santos Carneiro Da Cunha"
          ],
          [
           "Fábio",
           "Silva"
          ],
          [
           "Nathan",
           "Fraser"
          ],
          [
           "Saša",
           "Kalajdžić"
          ],
          [
           "Jørgen",
           "Strand Larsen"
          ]
         ],
         "hovertemplate": "now_cost=%{x}<br>total_points=%{y}<br>first_name=%{customdata[0]}<br>second_name=%{customdata[1]}<br>goals_scored=%{marker.color}<extra></extra>",
         "legendgroup": "",
         "marker": {
          "color": [
           0,
           3,
           4,
           4,
           0,
           0,
           1,
           0,
           0,
           3,
           0,
           2,
           0,
           0,
           3,
           0,
           0,
           0,
           0,
           4,
           0,
           2,
           0,
           0,
           2,
           0,
           1,
           0,
           0,
           3,
           0,
           0,
           0,
           3,
           0,
           0,
           0,
           0,
           0,
           2,
           1,
           0,
           10,
           0,
           0,
           1,
           0,
           1,
           0,
           0,
           0,
           0,
           0,
           3,
           0,
           0,
           0,
           0,
           0,
           2,
           0,
           0,
           0,
           0,
           0,
           1,
           0,
           0,
           2,
           0,
           0,
           0,
           1
          ],
          "coloraxis": "coloraxis",
          "symbol": "circle"
         },
         "mode": "markers",
         "name": "",
         "orientation": "v",
         "showlegend": false,
         "type": "scatter",
         "x": [
          68,
          82,
          62,
          91,
          54,
          45,
          59,
          59,
          73,
          60,
          55,
          55,
          45,
          55,
          58,
          54,
          50,
          63,
          49,
          79,
          59,
          74,
          54,
          50,
          60,
          49,
          54,
          49,
          59,
          55,
          50,
          50,
          49,
          55,
          54,
          45,
          54,
          45,
          49,
          57,
          72,
          71,
          153,
          70,
          69,
          69,
          45,
          83,
          69,
          50,
          57,
          49,
          45,
          62,
          50,
          53,
          50,
          49,
          46,
          76,
          68,
          45,
          50,
          45,
          54,
          50,
          67,
          45,
          65,
          50,
          45,
          49,
          55
         ],
         "xaxis": "x",
         "y": [
          2,
          32,
          26,
          39,
          3,
          2,
          15,
          0,
          0,
          28,
          3,
          19,
          0,
          0,
          33,
          0,
          0,
          0,
          1,
          40,
          6,
          21,
          0,
          4,
          25,
          0,
          16,
          0,
          12,
          27,
          1,
          0,
          1,
          25,
          3,
          0,
          5,
          0,
          0,
          22,
          9,
          5,
          65,
          0,
          2,
          15,
          0,
          19,
          0,
          1,
          4,
          0,
          0,
          31,
          5,
          5,
          0,
          0,
          2,
          16,
          2,
          0,
          0,
          0,
          12,
          10,
          3,
          0,
          21,
          0,
          0,
          0,
          19
         ],
         "yaxis": "y"
        },
        {
         "hovertemplate": "<b>OLS trendline</b><br>total_points = 0.592046 * now_cost + -25.5739<br>R<sup>2</sup>=0.498284<br><br>now_cost=%{x}<br>total_points=%{y} <b>(trend)</b><extra></extra>",
         "legendgroup": "",
         "marker": {
          "symbol": "circle"
         },
         "mode": "lines",
         "name": "",
         "showlegend": false,
         "type": "scatter",
         "x": [
          45,
          45,
          45,
          45,
          45,
          45,
          45,
          45,
          45,
          45,
          46,
          49,
          49,
          49,
          49,
          49,
          49,
          49,
          49,
          50,
          50,
          50,
          50,
          50,
          50,
          50,
          50,
          50,
          50,
          53,
          54,
          54,
          54,
          54,
          54,
          54,
          54,
          55,
          55,
          55,
          55,
          55,
          55,
          57,
          57,
          58,
          59,
          59,
          59,
          59,
          60,
          60,
          62,
          62,
          63,
          65,
          67,
          68,
          68,
          69,
          69,
          69,
          70,
          71,
          72,
          73,
          74,
          76,
          79,
          82,
          83,
          91,
          153
         ],
         "xaxis": "x",
         "y": [
          1.0681994419972867,
          1.0681994419972867,
          1.0681994419972867,
          1.0681994419972867,
          1.0681994419972867,
          1.0681994419972867,
          1.0681994419972867,
          1.0681994419972867,
          1.0681994419972867,
          1.0681994419972867,
          1.660245904915687,
          3.436385293670895,
          3.436385293670895,
          3.436385293670895,
          3.436385293670895,
          3.436385293670895,
          3.436385293670895,
          3.436385293670895,
          3.436385293670895,
          4.0284317565892955,
          4.0284317565892955,
          4.0284317565892955,
          4.0284317565892955,
          4.0284317565892955,
          4.0284317565892955,
          4.0284317565892955,
          4.0284317565892955,
          4.0284317565892955,
          4.0284317565892955,
          5.804571145344504,
          6.396617608262904,
          6.396617608262904,
          6.396617608262904,
          6.396617608262904,
          6.396617608262904,
          6.396617608262904,
          6.396617608262904,
          6.988664071181304,
          6.988664071181304,
          6.988664071181304,
          6.988664071181304,
          6.988664071181304,
          6.988664071181304,
          8.172756997018112,
          8.172756997018112,
          8.764803459936516,
          9.356849922854913,
          9.356849922854913,
          9.356849922854913,
          9.356849922854913,
          9.948896385773317,
          9.948896385773317,
          11.132989311610118,
          11.132989311610118,
          11.725035774528521,
          12.90912870036533,
          14.09322162620213,
          14.685268089120534,
          14.685268089120534,
          15.277314552038938,
          15.277314552038938,
          15.277314552038938,
          15.869361014957335,
          16.46140747787574,
          17.053453940794142,
          17.645500403712546,
          18.23754686663095,
          19.42163979246775,
          21.197779181222955,
          22.973918569978167,
          23.565965032896564,
          28.30233673624378,
          65.00921743718472
         ],
         "yaxis": "y"
        }
       ],
       "layout": {
        "coloraxis": {
         "colorbar": {
          "title": {
           "text": "goals_scored"
          }
         },
         "colorscale": [
          [
           0,
           "#0d0887"
          ],
          [
           0.1111111111111111,
           "#46039f"
          ],
          [
           0.2222222222222222,
           "#7201a8"
          ],
          [
           0.3333333333333333,
           "#9c179e"
          ],
          [
           0.4444444444444444,
           "#bd3786"
          ],
          [
           0.5555555555555556,
           "#d8576b"
          ],
          [
           0.6666666666666666,
           "#ed7953"
          ],
          [
           0.7777777777777778,
           "#fb9f3a"
          ],
          [
           0.8888888888888888,
           "#fdca26"
          ],
          [
           1,
           "#f0f921"
          ]
         ]
        },
        "legend": {
         "tracegroupgap": 0
        },
        "margin": {
         "t": 60
        },
        "template": {
         "data": {
          "bar": [
           {
            "error_x": {
             "color": "#2a3f5f"
            },
            "error_y": {
             "color": "#2a3f5f"
            },
            "marker": {
             "line": {
              "color": "#E5ECF6",
              "width": 0.5
             },
             "pattern": {
              "fillmode": "overlay",
              "size": 10,
              "solidity": 0.2
             }
            },
            "type": "bar"
           }
          ],
          "barpolar": [
           {
            "marker": {
             "line": {
              "color": "#E5ECF6",
              "width": 0.5
             },
             "pattern": {
              "fillmode": "overlay",
              "size": 10,
              "solidity": 0.2
             }
            },
            "type": "barpolar"
           }
          ],
          "carpet": [
           {
            "aaxis": {
             "endlinecolor": "#2a3f5f",
             "gridcolor": "white",
             "linecolor": "white",
             "minorgridcolor": "white",
             "startlinecolor": "#2a3f5f"
            },
            "baxis": {
             "endlinecolor": "#2a3f5f",
             "gridcolor": "white",
             "linecolor": "white",
             "minorgridcolor": "white",
             "startlinecolor": "#2a3f5f"
            },
            "type": "carpet"
           }
          ],
          "choropleth": [
           {
            "colorbar": {
             "outlinewidth": 0,
             "ticks": ""
            },
            "type": "choropleth"
           }
          ],
          "contour": [
           {
            "colorbar": {
             "outlinewidth": 0,
             "ticks": ""
            },
            "colorscale": [
             [
              0,
              "#0d0887"
             ],
             [
              0.1111111111111111,
              "#46039f"
             ],
             [
              0.2222222222222222,
              "#7201a8"
             ],
             [
              0.3333333333333333,
              "#9c179e"
             ],
             [
              0.4444444444444444,
              "#bd3786"
             ],
             [
              0.5555555555555556,
              "#d8576b"
             ],
             [
              0.6666666666666666,
              "#ed7953"
             ],
             [
              0.7777777777777778,
              "#fb9f3a"
             ],
             [
              0.8888888888888888,
              "#fdca26"
             ],
             [
              1,
              "#f0f921"
             ]
            ],
            "type": "contour"
           }
          ],
          "contourcarpet": [
           {
            "colorbar": {
             "outlinewidth": 0,
             "ticks": ""
            },
            "type": "contourcarpet"
           }
          ],
          "heatmap": [
           {
            "colorbar": {
             "outlinewidth": 0,
             "ticks": ""
            },
            "colorscale": [
             [
              0,
              "#0d0887"
             ],
             [
              0.1111111111111111,
              "#46039f"
             ],
             [
              0.2222222222222222,
              "#7201a8"
             ],
             [
              0.3333333333333333,
              "#9c179e"
             ],
             [
              0.4444444444444444,
              "#bd3786"
             ],
             [
              0.5555555555555556,
              "#d8576b"
             ],
             [
              0.6666666666666666,
              "#ed7953"
             ],
             [
              0.7777777777777778,
              "#fb9f3a"
             ],
             [
              0.8888888888888888,
              "#fdca26"
             ],
             [
              1,
              "#f0f921"
             ]
            ],
            "type": "heatmap"
           }
          ],
          "heatmapgl": [
           {
            "colorbar": {
             "outlinewidth": 0,
             "ticks": ""
            },
            "colorscale": [
             [
              0,
              "#0d0887"
             ],
             [
              0.1111111111111111,
              "#46039f"
             ],
             [
              0.2222222222222222,
              "#7201a8"
             ],
             [
              0.3333333333333333,
              "#9c179e"
             ],
             [
              0.4444444444444444,
              "#bd3786"
             ],
             [
              0.5555555555555556,
              "#d8576b"
             ],
             [
              0.6666666666666666,
              "#ed7953"
             ],
             [
              0.7777777777777778,
              "#fb9f3a"
             ],
             [
              0.8888888888888888,
              "#fdca26"
             ],
             [
              1,
              "#f0f921"
             ]
            ],
            "type": "heatmapgl"
           }
          ],
          "histogram": [
           {
            "marker": {
             "pattern": {
              "fillmode": "overlay",
              "size": 10,
              "solidity": 0.2
             }
            },
            "type": "histogram"
           }
          ],
          "histogram2d": [
           {
            "colorbar": {
             "outlinewidth": 0,
             "ticks": ""
            },
            "colorscale": [
             [
              0,
              "#0d0887"
             ],
             [
              0.1111111111111111,
              "#46039f"
             ],
             [
              0.2222222222222222,
              "#7201a8"
             ],
             [
              0.3333333333333333,
              "#9c179e"
             ],
             [
              0.4444444444444444,
              "#bd3786"
             ],
             [
              0.5555555555555556,
              "#d8576b"
             ],
             [
              0.6666666666666666,
              "#ed7953"
             ],
             [
              0.7777777777777778,
              "#fb9f3a"
             ],
             [
              0.8888888888888888,
              "#fdca26"
             ],
             [
              1,
              "#f0f921"
             ]
            ],
            "type": "histogram2d"
           }
          ],
          "histogram2dcontour": [
           {
            "colorbar": {
             "outlinewidth": 0,
             "ticks": ""
            },
            "colorscale": [
             [
              0,
              "#0d0887"
             ],
             [
              0.1111111111111111,
              "#46039f"
             ],
             [
              0.2222222222222222,
              "#7201a8"
             ],
             [
              0.3333333333333333,
              "#9c179e"
             ],
             [
              0.4444444444444444,
              "#bd3786"
             ],
             [
              0.5555555555555556,
              "#d8576b"
             ],
             [
              0.6666666666666666,
              "#ed7953"
             ],
             [
              0.7777777777777778,
              "#fb9f3a"
             ],
             [
              0.8888888888888888,
              "#fdca26"
             ],
             [
              1,
              "#f0f921"
             ]
            ],
            "type": "histogram2dcontour"
           }
          ],
          "mesh3d": [
           {
            "colorbar": {
             "outlinewidth": 0,
             "ticks": ""
            },
            "type": "mesh3d"
           }
          ],
          "parcoords": [
           {
            "line": {
             "colorbar": {
              "outlinewidth": 0,
              "ticks": ""
             }
            },
            "type": "parcoords"
           }
          ],
          "pie": [
           {
            "automargin": true,
            "type": "pie"
           }
          ],
          "scatter": [
           {
            "fillpattern": {
             "fillmode": "overlay",
             "size": 10,
             "solidity": 0.2
            },
            "type": "scatter"
           }
          ],
          "scatter3d": [
           {
            "line": {
             "colorbar": {
              "outlinewidth": 0,
              "ticks": ""
             }
            },
            "marker": {
             "colorbar": {
              "outlinewidth": 0,
              "ticks": ""
             }
            },
            "type": "scatter3d"
           }
          ],
          "scattercarpet": [
           {
            "marker": {
             "colorbar": {
              "outlinewidth": 0,
              "ticks": ""
             }
            },
            "type": "scattercarpet"
           }
          ],
          "scattergeo": [
           {
            "marker": {
             "colorbar": {
              "outlinewidth": 0,
              "ticks": ""
             }
            },
            "type": "scattergeo"
           }
          ],
          "scattergl": [
           {
            "marker": {
             "colorbar": {
              "outlinewidth": 0,
              "ticks": ""
             }
            },
            "type": "scattergl"
           }
          ],
          "scattermapbox": [
           {
            "marker": {
             "colorbar": {
              "outlinewidth": 0,
              "ticks": ""
             }
            },
            "type": "scattermapbox"
           }
          ],
          "scatterpolar": [
           {
            "marker": {
             "colorbar": {
              "outlinewidth": 0,
              "ticks": ""
             }
            },
            "type": "scatterpolar"
           }
          ],
          "scatterpolargl": [
           {
            "marker": {
             "colorbar": {
              "outlinewidth": 0,
              "ticks": ""
             }
            },
            "type": "scatterpolargl"
           }
          ],
          "scatterternary": [
           {
            "marker": {
             "colorbar": {
              "outlinewidth": 0,
              "ticks": ""
             }
            },
            "type": "scatterternary"
           }
          ],
          "surface": [
           {
            "colorbar": {
             "outlinewidth": 0,
             "ticks": ""
            },
            "colorscale": [
             [
              0,
              "#0d0887"
             ],
             [
              0.1111111111111111,
              "#46039f"
             ],
             [
              0.2222222222222222,
              "#7201a8"
             ],
             [
              0.3333333333333333,
              "#9c179e"
             ],
             [
              0.4444444444444444,
              "#bd3786"
             ],
             [
              0.5555555555555556,
              "#d8576b"
             ],
             [
              0.6666666666666666,
              "#ed7953"
             ],
             [
              0.7777777777777778,
              "#fb9f3a"
             ],
             [
              0.8888888888888888,
              "#fdca26"
             ],
             [
              1,
              "#f0f921"
             ]
            ],
            "type": "surface"
           }
          ],
          "table": [
           {
            "cells": {
             "fill": {
              "color": "#EBF0F8"
             },
             "line": {
              "color": "white"
             }
            },
            "header": {
             "fill": {
              "color": "#C8D4E3"
             },
             "line": {
              "color": "white"
             }
            },
            "type": "table"
           }
          ]
         },
         "layout": {
          "annotationdefaults": {
           "arrowcolor": "#2a3f5f",
           "arrowhead": 0,
           "arrowwidth": 1
          },
          "autotypenumbers": "strict",
          "coloraxis": {
           "colorbar": {
            "outlinewidth": 0,
            "ticks": ""
           }
          },
          "colorscale": {
           "diverging": [
            [
             0,
             "#8e0152"
            ],
            [
             0.1,
             "#c51b7d"
            ],
            [
             0.2,
             "#de77ae"
            ],
            [
             0.3,
             "#f1b6da"
            ],
            [
             0.4,
             "#fde0ef"
            ],
            [
             0.5,
             "#f7f7f7"
            ],
            [
             0.6,
             "#e6f5d0"
            ],
            [
             0.7,
             "#b8e186"
            ],
            [
             0.8,
             "#7fbc41"
            ],
            [
             0.9,
             "#4d9221"
            ],
            [
             1,
             "#276419"
            ]
           ],
           "sequential": [
            [
             0,
             "#0d0887"
            ],
            [
             0.1111111111111111,
             "#46039f"
            ],
            [
             0.2222222222222222,
             "#7201a8"
            ],
            [
             0.3333333333333333,
             "#9c179e"
            ],
            [
             0.4444444444444444,
             "#bd3786"
            ],
            [
             0.5555555555555556,
             "#d8576b"
            ],
            [
             0.6666666666666666,
             "#ed7953"
            ],
            [
             0.7777777777777778,
             "#fb9f3a"
            ],
            [
             0.8888888888888888,
             "#fdca26"
            ],
            [
             1,
             "#f0f921"
            ]
           ],
           "sequentialminus": [
            [
             0,
             "#0d0887"
            ],
            [
             0.1111111111111111,
             "#46039f"
            ],
            [
             0.2222222222222222,
             "#7201a8"
            ],
            [
             0.3333333333333333,
             "#9c179e"
            ],
            [
             0.4444444444444444,
             "#bd3786"
            ],
            [
             0.5555555555555556,
             "#d8576b"
            ],
            [
             0.6666666666666666,
             "#ed7953"
            ],
            [
             0.7777777777777778,
             "#fb9f3a"
            ],
            [
             0.8888888888888888,
             "#fdca26"
            ],
            [
             1,
             "#f0f921"
            ]
           ]
          },
          "colorway": [
           "#636efa",
           "#EF553B",
           "#00cc96",
           "#ab63fa",
           "#FFA15A",
           "#19d3f3",
           "#FF6692",
           "#B6E880",
           "#FF97FF",
           "#FECB52"
          ],
          "font": {
           "color": "#2a3f5f"
          },
          "geo": {
           "bgcolor": "white",
           "lakecolor": "white",
           "landcolor": "#E5ECF6",
           "showlakes": true,
           "showland": true,
           "subunitcolor": "white"
          },
          "hoverlabel": {
           "align": "left"
          },
          "hovermode": "closest",
          "mapbox": {
           "style": "light"
          },
          "paper_bgcolor": "white",
          "plot_bgcolor": "#E5ECF6",
          "polar": {
           "angularaxis": {
            "gridcolor": "white",
            "linecolor": "white",
            "ticks": ""
           },
           "bgcolor": "#E5ECF6",
           "radialaxis": {
            "gridcolor": "white",
            "linecolor": "white",
            "ticks": ""
           }
          },
          "scene": {
           "xaxis": {
            "backgroundcolor": "#E5ECF6",
            "gridcolor": "white",
            "gridwidth": 2,
            "linecolor": "white",
            "showbackground": true,
            "ticks": "",
            "zerolinecolor": "white"
           },
           "yaxis": {
            "backgroundcolor": "#E5ECF6",
            "gridcolor": "white",
            "gridwidth": 2,
            "linecolor": "white",
            "showbackground": true,
            "ticks": "",
            "zerolinecolor": "white"
           },
           "zaxis": {
            "backgroundcolor": "#E5ECF6",
            "gridcolor": "white",
            "gridwidth": 2,
            "linecolor": "white",
            "showbackground": true,
            "ticks": "",
            "zerolinecolor": "white"
           }
          },
          "shapedefaults": {
           "line": {
            "color": "#2a3f5f"
           }
          },
          "ternary": {
           "aaxis": {
            "gridcolor": "white",
            "linecolor": "white",
            "ticks": ""
           },
           "baxis": {
            "gridcolor": "white",
            "linecolor": "white",
            "ticks": ""
           },
           "bgcolor": "#E5ECF6",
           "caxis": {
            "gridcolor": "white",
            "linecolor": "white",
            "ticks": ""
           }
          },
          "title": {
           "x": 0.05
          },
          "xaxis": {
           "automargin": true,
           "gridcolor": "white",
           "linecolor": "white",
           "ticks": "",
           "title": {
            "standoff": 15
           },
           "zerolinecolor": "white",
           "zerolinewidth": 2
          },
          "yaxis": {
           "automargin": true,
           "gridcolor": "white",
           "linecolor": "white",
           "ticks": "",
           "title": {
            "standoff": 15
           },
           "zerolinecolor": "white",
           "zerolinewidth": 2
          }
         }
        },
        "xaxis": {
         "anchor": "y",
         "domain": [
          0,
          1
         ],
         "title": {
          "text": "now_cost"
         }
        },
        "yaxis": {
         "anchor": "x",
         "domain": [
          0,
          1
         ],
         "title": {
          "text": "total_points"
         }
        }
       }
      },
      "text/html": [
       "<div>                            <div id=\"4ef13d37-c42c-4e09-a105-0bb79a8fba4f\" class=\"plotly-graph-div\" style=\"height:525px; width:100%;\"></div>            <script type=\"text/javascript\">                require([\"plotly\"], function(Plotly) {                    window.PLOTLYENV=window.PLOTLYENV || {};                                    if (document.getElementById(\"4ef13d37-c42c-4e09-a105-0bb79a8fba4f\")) {                    Plotly.newPlot(                        \"4ef13d37-c42c-4e09-a105-0bb79a8fba4f\",                        [{\"customdata\":[[\"Gabriel\",\"Fernando de Jesus\"],[\"Kai\",\"Havertz\"],[\"Jhon\",\"Dur\\u00e1n\"],[\"Ollie\",\"Watkins\"],[\"Enes\",\"\\u00dcnal\"],[\"Daniel\",\"Jebbison\"],[\"Francisco Evanilson\",\"de Lima Barbosa\"],[\"Igor Thiago\",\"Nascimento Rodrigues\"],[\"Ivan\",\"Toney\"],[\"Yoane\",\"Wissa\"],[\"Evan\",\"Ferguson\"],[\"Jo\\u00e3o Pedro\",\"Junqueira de Jesus\"],[\"Mark\",\"O\\u2019Mahony\"],[\"Deniz\",\"Undav\"],[\"Danny\",\"Welbeck\"],[\"David Datro\",\"Fofana\"],[\"Deivid Washington\",\"de Souza Eug\\u00eanio\"],[\"Romelu\",\"Lukaku Bolingoli\"],[\"Marc\",\"Guiu Paz\"],[\"Nicolas\",\"Jackson\"],[\"Eddie\",\"Nketiah\"],[\"Jean-Philippe\",\"Mateta\"],[\"Armando\",\"Broja\"],[\"Norberto Bercique\",\"Gomes Betuncal\"],[\"Dominic\",\"Calvert-Lewin\"],[\"Neal\",\"Maupay\"],[\"Iliman\",\"Ndiaye\"],[\"Youssef\",\"Ramalho Chermiti\"],[\"Rodrigo\",\"Muniz Carvalho\"],[\"Ra\\u00fal\",\"Jim\\u00e9nez\"],[\"Jay\",\"Stansfield\"],[\"Carlos Vin\\u00edcius\",\"Alves Morais\"],[\"Ali\",\"Al-Hamadi\"],[\"Liam\",\"Delap\"],[\"George\",\"Hirst\"],[\"Freddie\",\"Ladapo\"],[\"Odsonne\",\"Edouard\"],[\"Tom\",\"Cannon\"],[\"Patson\",\"Daka\"],[\"Jamie\",\"Vardy\"],[\"Darwin\",\"N\\u00fa\\u00f1ez Ribeiro\"],[\"Cody\",\"Gakpo\"],[\"Erling\",\"Haaland\"],[\"Juli\\u00e1n\",\"\\u00c1lvarez\"],[\"Rasmus\",\"H\\u00f8jlund\"],[\"Joshua\",\"Zirkzee\"],[\"Ethan\",\"Wheatley\"],[\"Alexander\",\"Isak\"],[\"Callum\",\"Wilson\"],[\"William\",\"Osula\"],[\"Taiwo\",\"Awoniyi\"],[\"Emmanuel\",\"Dennis\"],[\"Hwang\",\"Ui-jo\"],[\"Chris\",\"Wood\"],[\"Cameron\",\"Archer\"],[\"Adam\",\"Armstrong\"],[\"S\\u00e9kou\",\"Mara\"],[\"Paul\",\"Onuachu\"],[\"Ross\",\"Stewart\"],[\"Dominic\",\"Solanke-Mitchell\"],[\"Richarlison\",\"de Andrade\"],[\"Dane\",\"Scarlett\"],[\"Alejo\",\"V\\u00e9liz\"],[\"Will\",\"Lankshear\"],[\"Michail\",\"Antonio\"],[\"Danny\",\"Ings\"],[\"Niclas\",\"F\\u00fcllkrug\"],[\"Leon\",\"Chiwome\"],[\"Matheus\",\"Santos Carneiro Da Cunha\"],[\"F\\u00e1bio\",\"Silva\"],[\"Nathan\",\"Fraser\"],[\"Sa\\u0161a\",\"Kalajd\\u017ei\\u0107\"],[\"J\\u00f8rgen\",\"Strand Larsen\"]],\"hovertemplate\":\"now_cost=%{x}\\u003cbr\\u003etotal_points=%{y}\\u003cbr\\u003efirst_name=%{customdata[0]}\\u003cbr\\u003esecond_name=%{customdata[1]}\\u003cbr\\u003egoals_scored=%{marker.color}\\u003cextra\\u003e\\u003c\\u002fextra\\u003e\",\"legendgroup\":\"\",\"marker\":{\"color\":[0,3,4,4,0,0,1,0,0,3,0,2,0,0,3,0,0,0,0,4,0,2,0,0,2,0,1,0,0,3,0,0,0,3,0,0,0,0,0,2,1,0,10,0,0,1,0,1,0,0,0,0,0,3,0,0,0,0,0,2,0,0,0,0,0,1,0,0,2,0,0,0,1],\"coloraxis\":\"coloraxis\",\"symbol\":\"circle\"},\"mode\":\"markers\",\"name\":\"\",\"orientation\":\"v\",\"showlegend\":false,\"x\":[68,82,62,91,54,45,59,59,73,60,55,55,45,55,58,54,50,63,49,79,59,74,54,50,60,49,54,49,59,55,50,50,49,55,54,45,54,45,49,57,72,71,153,70,69,69,45,83,69,50,57,49,45,62,50,53,50,49,46,76,68,45,50,45,54,50,67,45,65,50,45,49,55],\"xaxis\":\"x\",\"y\":[2,32,26,39,3,2,15,0,0,28,3,19,0,0,33,0,0,0,1,40,6,21,0,4,25,0,16,0,12,27,1,0,1,25,3,0,5,0,0,22,9,5,65,0,2,15,0,19,0,1,4,0,0,31,5,5,0,0,2,16,2,0,0,0,12,10,3,0,21,0,0,0,19],\"yaxis\":\"y\",\"type\":\"scatter\"},{\"hovertemplate\":\"\\u003cb\\u003eOLS trendline\\u003c\\u002fb\\u003e\\u003cbr\\u003etotal_points = 0.592046 * now_cost + -25.5739\\u003cbr\\u003eR\\u003csup\\u003e2\\u003c\\u002fsup\\u003e=0.498284\\u003cbr\\u003e\\u003cbr\\u003enow_cost=%{x}\\u003cbr\\u003etotal_points=%{y} \\u003cb\\u003e(trend)\\u003c\\u002fb\\u003e\\u003cextra\\u003e\\u003c\\u002fextra\\u003e\",\"legendgroup\":\"\",\"marker\":{\"symbol\":\"circle\"},\"mode\":\"lines\",\"name\":\"\",\"showlegend\":false,\"x\":[45,45,45,45,45,45,45,45,45,45,46,49,49,49,49,49,49,49,49,50,50,50,50,50,50,50,50,50,50,53,54,54,54,54,54,54,54,55,55,55,55,55,55,57,57,58,59,59,59,59,60,60,62,62,63,65,67,68,68,69,69,69,70,71,72,73,74,76,79,82,83,91,153],\"xaxis\":\"x\",\"y\":[1.0681994419972867,1.0681994419972867,1.0681994419972867,1.0681994419972867,1.0681994419972867,1.0681994419972867,1.0681994419972867,1.0681994419972867,1.0681994419972867,1.0681994419972867,1.660245904915687,3.436385293670895,3.436385293670895,3.436385293670895,3.436385293670895,3.436385293670895,3.436385293670895,3.436385293670895,3.436385293670895,4.0284317565892955,4.0284317565892955,4.0284317565892955,4.0284317565892955,4.0284317565892955,4.0284317565892955,4.0284317565892955,4.0284317565892955,4.0284317565892955,4.0284317565892955,5.804571145344504,6.396617608262904,6.396617608262904,6.396617608262904,6.396617608262904,6.396617608262904,6.396617608262904,6.396617608262904,6.988664071181304,6.988664071181304,6.988664071181304,6.988664071181304,6.988664071181304,6.988664071181304,8.172756997018112,8.172756997018112,8.764803459936516,9.356849922854913,9.356849922854913,9.356849922854913,9.356849922854913,9.948896385773317,9.948896385773317,11.132989311610118,11.132989311610118,11.725035774528521,12.90912870036533,14.09322162620213,14.685268089120534,14.685268089120534,15.277314552038938,15.277314552038938,15.277314552038938,15.869361014957335,16.46140747787574,17.053453940794142,17.645500403712546,18.23754686663095,19.42163979246775,21.197779181222955,22.973918569978167,23.565965032896564,28.30233673624378,65.00921743718472],\"yaxis\":\"y\",\"type\":\"scatter\"}],                        {\"template\":{\"data\":{\"histogram2dcontour\":[{\"type\":\"histogram2dcontour\",\"colorbar\":{\"outlinewidth\":0,\"ticks\":\"\"},\"colorscale\":[[0.0,\"#0d0887\"],[0.1111111111111111,\"#46039f\"],[0.2222222222222222,\"#7201a8\"],[0.3333333333333333,\"#9c179e\"],[0.4444444444444444,\"#bd3786\"],[0.5555555555555556,\"#d8576b\"],[0.6666666666666666,\"#ed7953\"],[0.7777777777777778,\"#fb9f3a\"],[0.8888888888888888,\"#fdca26\"],[1.0,\"#f0f921\"]]}],\"choropleth\":[{\"type\":\"choropleth\",\"colorbar\":{\"outlinewidth\":0,\"ticks\":\"\"}}],\"histogram2d\":[{\"type\":\"histogram2d\",\"colorbar\":{\"outlinewidth\":0,\"ticks\":\"\"},\"colorscale\":[[0.0,\"#0d0887\"],[0.1111111111111111,\"#46039f\"],[0.2222222222222222,\"#7201a8\"],[0.3333333333333333,\"#9c179e\"],[0.4444444444444444,\"#bd3786\"],[0.5555555555555556,\"#d8576b\"],[0.6666666666666666,\"#ed7953\"],[0.7777777777777778,\"#fb9f3a\"],[0.8888888888888888,\"#fdca26\"],[1.0,\"#f0f921\"]]}],\"heatmap\":[{\"type\":\"heatmap\",\"colorbar\":{\"outlinewidth\":0,\"ticks\":\"\"},\"colorscale\":[[0.0,\"#0d0887\"],[0.1111111111111111,\"#46039f\"],[0.2222222222222222,\"#7201a8\"],[0.3333333333333333,\"#9c179e\"],[0.4444444444444444,\"#bd3786\"],[0.5555555555555556,\"#d8576b\"],[0.6666666666666666,\"#ed7953\"],[0.7777777777777778,\"#fb9f3a\"],[0.8888888888888888,\"#fdca26\"],[1.0,\"#f0f921\"]]}],\"heatmapgl\":[{\"type\":\"heatmapgl\",\"colorbar\":{\"outlinewidth\":0,\"ticks\":\"\"},\"colorscale\":[[0.0,\"#0d0887\"],[0.1111111111111111,\"#46039f\"],[0.2222222222222222,\"#7201a8\"],[0.3333333333333333,\"#9c179e\"],[0.4444444444444444,\"#bd3786\"],[0.5555555555555556,\"#d8576b\"],[0.6666666666666666,\"#ed7953\"],[0.7777777777777778,\"#fb9f3a\"],[0.8888888888888888,\"#fdca26\"],[1.0,\"#f0f921\"]]}],\"contourcarpet\":[{\"type\":\"contourcarpet\",\"colorbar\":{\"outlinewidth\":0,\"ticks\":\"\"}}],\"contour\":[{\"type\":\"contour\",\"colorbar\":{\"outlinewidth\":0,\"ticks\":\"\"},\"colorscale\":[[0.0,\"#0d0887\"],[0.1111111111111111,\"#46039f\"],[0.2222222222222222,\"#7201a8\"],[0.3333333333333333,\"#9c179e\"],[0.4444444444444444,\"#bd3786\"],[0.5555555555555556,\"#d8576b\"],[0.6666666666666666,\"#ed7953\"],[0.7777777777777778,\"#fb9f3a\"],[0.8888888888888888,\"#fdca26\"],[1.0,\"#f0f921\"]]}],\"surface\":[{\"type\":\"surface\",\"colorbar\":{\"outlinewidth\":0,\"ticks\":\"\"},\"colorscale\":[[0.0,\"#0d0887\"],[0.1111111111111111,\"#46039f\"],[0.2222222222222222,\"#7201a8\"],[0.3333333333333333,\"#9c179e\"],[0.4444444444444444,\"#bd3786\"],[0.5555555555555556,\"#d8576b\"],[0.6666666666666666,\"#ed7953\"],[0.7777777777777778,\"#fb9f3a\"],[0.8888888888888888,\"#fdca26\"],[1.0,\"#f0f921\"]]}],\"mesh3d\":[{\"type\":\"mesh3d\",\"colorbar\":{\"outlinewidth\":0,\"ticks\":\"\"}}],\"scatter\":[{\"fillpattern\":{\"fillmode\":\"overlay\",\"size\":10,\"solidity\":0.2},\"type\":\"scatter\"}],\"parcoords\":[{\"type\":\"parcoords\",\"line\":{\"colorbar\":{\"outlinewidth\":0,\"ticks\":\"\"}}}],\"scatterpolargl\":[{\"type\":\"scatterpolargl\",\"marker\":{\"colorbar\":{\"outlinewidth\":0,\"ticks\":\"\"}}}],\"bar\":[{\"error_x\":{\"color\":\"#2a3f5f\"},\"error_y\":{\"color\":\"#2a3f5f\"},\"marker\":{\"line\":{\"color\":\"#E5ECF6\",\"width\":0.5},\"pattern\":{\"fillmode\":\"overlay\",\"size\":10,\"solidity\":0.2}},\"type\":\"bar\"}],\"scattergeo\":[{\"type\":\"scattergeo\",\"marker\":{\"colorbar\":{\"outlinewidth\":0,\"ticks\":\"\"}}}],\"scatterpolar\":[{\"type\":\"scatterpolar\",\"marker\":{\"colorbar\":{\"outlinewidth\":0,\"ticks\":\"\"}}}],\"histogram\":[{\"marker\":{\"pattern\":{\"fillmode\":\"overlay\",\"size\":10,\"solidity\":0.2}},\"type\":\"histogram\"}],\"scattergl\":[{\"type\":\"scattergl\",\"marker\":{\"colorbar\":{\"outlinewidth\":0,\"ticks\":\"\"}}}],\"scatter3d\":[{\"type\":\"scatter3d\",\"line\":{\"colorbar\":{\"outlinewidth\":0,\"ticks\":\"\"}},\"marker\":{\"colorbar\":{\"outlinewidth\":0,\"ticks\":\"\"}}}],\"scattermapbox\":[{\"type\":\"scattermapbox\",\"marker\":{\"colorbar\":{\"outlinewidth\":0,\"ticks\":\"\"}}}],\"scatterternary\":[{\"type\":\"scatterternary\",\"marker\":{\"colorbar\":{\"outlinewidth\":0,\"ticks\":\"\"}}}],\"scattercarpet\":[{\"type\":\"scattercarpet\",\"marker\":{\"colorbar\":{\"outlinewidth\":0,\"ticks\":\"\"}}}],\"carpet\":[{\"aaxis\":{\"endlinecolor\":\"#2a3f5f\",\"gridcolor\":\"white\",\"linecolor\":\"white\",\"minorgridcolor\":\"white\",\"startlinecolor\":\"#2a3f5f\"},\"baxis\":{\"endlinecolor\":\"#2a3f5f\",\"gridcolor\":\"white\",\"linecolor\":\"white\",\"minorgridcolor\":\"white\",\"startlinecolor\":\"#2a3f5f\"},\"type\":\"carpet\"}],\"table\":[{\"cells\":{\"fill\":{\"color\":\"#EBF0F8\"},\"line\":{\"color\":\"white\"}},\"header\":{\"fill\":{\"color\":\"#C8D4E3\"},\"line\":{\"color\":\"white\"}},\"type\":\"table\"}],\"barpolar\":[{\"marker\":{\"line\":{\"color\":\"#E5ECF6\",\"width\":0.5},\"pattern\":{\"fillmode\":\"overlay\",\"size\":10,\"solidity\":0.2}},\"type\":\"barpolar\"}],\"pie\":[{\"automargin\":true,\"type\":\"pie\"}]},\"layout\":{\"autotypenumbers\":\"strict\",\"colorway\":[\"#636efa\",\"#EF553B\",\"#00cc96\",\"#ab63fa\",\"#FFA15A\",\"#19d3f3\",\"#FF6692\",\"#B6E880\",\"#FF97FF\",\"#FECB52\"],\"font\":{\"color\":\"#2a3f5f\"},\"hovermode\":\"closest\",\"hoverlabel\":{\"align\":\"left\"},\"paper_bgcolor\":\"white\",\"plot_bgcolor\":\"#E5ECF6\",\"polar\":{\"bgcolor\":\"#E5ECF6\",\"angularaxis\":{\"gridcolor\":\"white\",\"linecolor\":\"white\",\"ticks\":\"\"},\"radialaxis\":{\"gridcolor\":\"white\",\"linecolor\":\"white\",\"ticks\":\"\"}},\"ternary\":{\"bgcolor\":\"#E5ECF6\",\"aaxis\":{\"gridcolor\":\"white\",\"linecolor\":\"white\",\"ticks\":\"\"},\"baxis\":{\"gridcolor\":\"white\",\"linecolor\":\"white\",\"ticks\":\"\"},\"caxis\":{\"gridcolor\":\"white\",\"linecolor\":\"white\",\"ticks\":\"\"}},\"coloraxis\":{\"colorbar\":{\"outlinewidth\":0,\"ticks\":\"\"}},\"colorscale\":{\"sequential\":[[0.0,\"#0d0887\"],[0.1111111111111111,\"#46039f\"],[0.2222222222222222,\"#7201a8\"],[0.3333333333333333,\"#9c179e\"],[0.4444444444444444,\"#bd3786\"],[0.5555555555555556,\"#d8576b\"],[0.6666666666666666,\"#ed7953\"],[0.7777777777777778,\"#fb9f3a\"],[0.8888888888888888,\"#fdca26\"],[1.0,\"#f0f921\"]],\"sequentialminus\":[[0.0,\"#0d0887\"],[0.1111111111111111,\"#46039f\"],[0.2222222222222222,\"#7201a8\"],[0.3333333333333333,\"#9c179e\"],[0.4444444444444444,\"#bd3786\"],[0.5555555555555556,\"#d8576b\"],[0.6666666666666666,\"#ed7953\"],[0.7777777777777778,\"#fb9f3a\"],[0.8888888888888888,\"#fdca26\"],[1.0,\"#f0f921\"]],\"diverging\":[[0,\"#8e0152\"],[0.1,\"#c51b7d\"],[0.2,\"#de77ae\"],[0.3,\"#f1b6da\"],[0.4,\"#fde0ef\"],[0.5,\"#f7f7f7\"],[0.6,\"#e6f5d0\"],[0.7,\"#b8e186\"],[0.8,\"#7fbc41\"],[0.9,\"#4d9221\"],[1,\"#276419\"]]},\"xaxis\":{\"gridcolor\":\"white\",\"linecolor\":\"white\",\"ticks\":\"\",\"title\":{\"standoff\":15},\"zerolinecolor\":\"white\",\"automargin\":true,\"zerolinewidth\":2},\"yaxis\":{\"gridcolor\":\"white\",\"linecolor\":\"white\",\"ticks\":\"\",\"title\":{\"standoff\":15},\"zerolinecolor\":\"white\",\"automargin\":true,\"zerolinewidth\":2},\"scene\":{\"xaxis\":{\"backgroundcolor\":\"#E5ECF6\",\"gridcolor\":\"white\",\"linecolor\":\"white\",\"showbackground\":true,\"ticks\":\"\",\"zerolinecolor\":\"white\",\"gridwidth\":2},\"yaxis\":{\"backgroundcolor\":\"#E5ECF6\",\"gridcolor\":\"white\",\"linecolor\":\"white\",\"showbackground\":true,\"ticks\":\"\",\"zerolinecolor\":\"white\",\"gridwidth\":2},\"zaxis\":{\"backgroundcolor\":\"#E5ECF6\",\"gridcolor\":\"white\",\"linecolor\":\"white\",\"showbackground\":true,\"ticks\":\"\",\"zerolinecolor\":\"white\",\"gridwidth\":2}},\"shapedefaults\":{\"line\":{\"color\":\"#2a3f5f\"}},\"annotationdefaults\":{\"arrowcolor\":\"#2a3f5f\",\"arrowhead\":0,\"arrowwidth\":1},\"geo\":{\"bgcolor\":\"white\",\"landcolor\":\"#E5ECF6\",\"subunitcolor\":\"white\",\"showland\":true,\"showlakes\":true,\"lakecolor\":\"white\"},\"title\":{\"x\":0.05},\"mapbox\":{\"style\":\"light\"}}},\"xaxis\":{\"anchor\":\"y\",\"domain\":[0.0,1.0],\"title\":{\"text\":\"now_cost\"}},\"yaxis\":{\"anchor\":\"x\",\"domain\":[0.0,1.0],\"title\":{\"text\":\"total_points\"}},\"coloraxis\":{\"colorbar\":{\"title\":{\"text\":\"goals_scored\"}},\"colorscale\":[[0.0,\"#0d0887\"],[0.1111111111111111,\"#46039f\"],[0.2222222222222222,\"#7201a8\"],[0.3333333333333333,\"#9c179e\"],[0.4444444444444444,\"#bd3786\"],[0.5555555555555556,\"#d8576b\"],[0.6666666666666666,\"#ed7953\"],[0.7777777777777778,\"#fb9f3a\"],[0.8888888888888888,\"#fdca26\"],[1.0,\"#f0f921\"]]},\"legend\":{\"tracegroupgap\":0},\"margin\":{\"t\":60}},                        {\"responsive\": true}                    ).then(function(){\n",
       "                            \n",
       "var gd = document.getElementById('4ef13d37-c42c-4e09-a105-0bb79a8fba4f');\n",
       "var x = new MutationObserver(function (mutations, observer) {{\n",
       "        var display = window.getComputedStyle(gd).display;\n",
       "        if (!display || display === 'none') {{\n",
       "            console.log([gd, 'removed!']);\n",
       "            Plotly.purge(gd);\n",
       "            observer.disconnect();\n",
       "        }}\n",
       "}});\n",
       "\n",
       "// Listen for the removal of the full notebook cells\n",
       "var notebookContainer = gd.closest('#notebook-container');\n",
       "if (notebookContainer) {{\n",
       "    x.observe(notebookContainer, {childList: true});\n",
       "}}\n",
       "\n",
       "// Listen for the clearing of the current output cell\n",
       "var outputEl = gd.closest('.output');\n",
       "if (outputEl) {{\n",
       "    x.observe(outputEl, {childList: true});\n",
       "}}\n",
       "\n",
       "                        })                };                });            </script>        </div>"
      ]
     },
     "metadata": {},
     "output_type": "display_data"
    }
   ],
   "source": [
    "forwards = df[df['element_type']==\"FWD\"]\n",
    "forwards.plot.scatter(x=\"now_cost\", y=\"total_points\", hover_data=[\"first_name\", \"second_name\"], color='goals_scored', trendline=\"ols\")"
   ]
  },
  {
   "cell_type": "code",
   "execution_count": 71,
   "metadata": {},
   "outputs": [
    {
     "data": {
      "application/vnd.plotly.v1+json": {
       "config": {
        "plotlyServerURL": "https://plot.ly"
       },
       "data": [
        {
         "customdata": [
          [
           "Gabriel",
           "Fernando de Jesus"
          ],
          [
           "Kai",
           "Havertz"
          ],
          [
           "Jhon",
           "Durán"
          ],
          [
           "Ollie",
           "Watkins"
          ],
          [
           "Enes",
           "Ünal"
          ],
          [
           "Daniel",
           "Jebbison"
          ],
          [
           "Francisco Evanilson",
           "de Lima Barbosa"
          ],
          [
           "Igor Thiago",
           "Nascimento Rodrigues"
          ],
          [
           "Ivan",
           "Toney"
          ],
          [
           "Yoane",
           "Wissa"
          ],
          [
           "Evan",
           "Ferguson"
          ],
          [
           "João Pedro",
           "Junqueira de Jesus"
          ],
          [
           "Mark",
           "O’Mahony"
          ],
          [
           "Deniz",
           "Undav"
          ],
          [
           "Danny",
           "Welbeck"
          ],
          [
           "David Datro",
           "Fofana"
          ],
          [
           "Deivid Washington",
           "de Souza Eugênio"
          ],
          [
           "Romelu",
           "Lukaku Bolingoli"
          ],
          [
           "Marc",
           "Guiu Paz"
          ],
          [
           "Nicolas",
           "Jackson"
          ],
          [
           "Eddie",
           "Nketiah"
          ],
          [
           "Jean-Philippe",
           "Mateta"
          ],
          [
           "Armando",
           "Broja"
          ],
          [
           "Norberto Bercique",
           "Gomes Betuncal"
          ],
          [
           "Dominic",
           "Calvert-Lewin"
          ],
          [
           "Neal",
           "Maupay"
          ],
          [
           "Iliman",
           "Ndiaye"
          ],
          [
           "Youssef",
           "Ramalho Chermiti"
          ],
          [
           "Rodrigo",
           "Muniz Carvalho"
          ],
          [
           "Raúl",
           "Jiménez"
          ],
          [
           "Jay",
           "Stansfield"
          ],
          [
           "Carlos Vinícius",
           "Alves Morais"
          ],
          [
           "Ali",
           "Al-Hamadi"
          ],
          [
           "Liam",
           "Delap"
          ],
          [
           "George",
           "Hirst"
          ],
          [
           "Freddie",
           "Ladapo"
          ],
          [
           "Odsonne",
           "Edouard"
          ],
          [
           "Tom",
           "Cannon"
          ],
          [
           "Patson",
           "Daka"
          ],
          [
           "Jamie",
           "Vardy"
          ],
          [
           "Darwin",
           "Núñez Ribeiro"
          ],
          [
           "Cody",
           "Gakpo"
          ],
          [
           "Erling",
           "Haaland"
          ],
          [
           "Julián",
           "Álvarez"
          ],
          [
           "Rasmus",
           "Højlund"
          ],
          [
           "Joshua",
           "Zirkzee"
          ],
          [
           "Ethan",
           "Wheatley"
          ],
          [
           "Alexander",
           "Isak"
          ],
          [
           "Callum",
           "Wilson"
          ],
          [
           "William",
           "Osula"
          ],
          [
           "Taiwo",
           "Awoniyi"
          ],
          [
           "Emmanuel",
           "Dennis"
          ],
          [
           "Hwang",
           "Ui-jo"
          ],
          [
           "Chris",
           "Wood"
          ],
          [
           "Cameron",
           "Archer"
          ],
          [
           "Adam",
           "Armstrong"
          ],
          [
           "Sékou",
           "Mara"
          ],
          [
           "Paul",
           "Onuachu"
          ],
          [
           "Ross",
           "Stewart"
          ],
          [
           "Dominic",
           "Solanke-Mitchell"
          ],
          [
           "Richarlison",
           "de Andrade"
          ],
          [
           "Dane",
           "Scarlett"
          ],
          [
           "Alejo",
           "Véliz"
          ],
          [
           "Will",
           "Lankshear"
          ],
          [
           "Michail",
           "Antonio"
          ],
          [
           "Danny",
           "Ings"
          ],
          [
           "Niclas",
           "Füllkrug"
          ],
          [
           "Leon",
           "Chiwome"
          ],
          [
           "Matheus",
           "Santos Carneiro Da Cunha"
          ],
          [
           "Fábio",
           "Silva"
          ],
          [
           "Nathan",
           "Fraser"
          ],
          [
           "Saša",
           "Kalajdžić"
          ],
          [
           "Jørgen",
           "Strand Larsen"
          ]
         ],
         "hovertemplate": "now_cost=%{x}<br>total_points=%{y}<br>first_name=%{customdata[0]}<br>second_name=%{customdata[1]}<br>goals_scored=%{marker.color}<extra></extra>",
         "legendgroup": "",
         "marker": {
          "color": [
           0,
           3,
           4,
           4,
           0,
           0,
           1,
           0,
           0,
           3,
           0,
           2,
           0,
           0,
           3,
           0,
           0,
           0,
           0,
           4,
           0,
           2,
           0,
           0,
           2,
           0,
           1,
           0,
           0,
           3,
           0,
           0,
           0,
           3,
           0,
           0,
           0,
           0,
           0,
           2,
           1,
           0,
           10,
           0,
           0,
           1,
           0,
           1,
           0,
           0,
           0,
           0,
           0,
           3,
           0,
           0,
           0,
           0,
           0,
           2,
           0,
           0,
           0,
           0,
           0,
           1,
           0,
           0,
           2,
           0,
           0,
           0,
           1
          ],
          "coloraxis": "coloraxis",
          "symbol": "circle"
         },
         "mode": "markers",
         "name": "",
         "orientation": "v",
         "showlegend": false,
         "type": "scatter",
         "x": [
          68,
          82,
          62,
          91,
          54,
          45,
          59,
          59,
          73,
          60,
          55,
          55,
          45,
          55,
          58,
          54,
          50,
          63,
          49,
          79,
          59,
          74,
          54,
          50,
          60,
          49,
          54,
          49,
          59,
          55,
          50,
          50,
          49,
          55,
          54,
          45,
          54,
          45,
          49,
          57,
          72,
          71,
          153,
          70,
          69,
          69,
          45,
          83,
          69,
          50,
          57,
          49,
          45,
          62,
          50,
          53,
          50,
          49,
          46,
          76,
          68,
          45,
          50,
          45,
          54,
          50,
          67,
          45,
          65,
          50,
          45,
          49,
          55
         ],
         "xaxis": "x",
         "y": [
          2,
          32,
          26,
          39,
          3,
          2,
          15,
          0,
          0,
          28,
          3,
          19,
          0,
          0,
          33,
          0,
          0,
          0,
          1,
          40,
          6,
          21,
          0,
          4,
          25,
          0,
          16,
          0,
          12,
          27,
          1,
          0,
          1,
          25,
          3,
          0,
          5,
          0,
          0,
          22,
          9,
          5,
          65,
          0,
          2,
          15,
          0,
          19,
          0,
          1,
          4,
          0,
          0,
          31,
          5,
          5,
          0,
          0,
          2,
          16,
          2,
          0,
          0,
          0,
          12,
          10,
          3,
          0,
          21,
          0,
          0,
          0,
          19
         ],
         "yaxis": "y"
        },
        {
         "hovertemplate": "<b>OLS trendline</b><br>total_points = 97.6653 * log10(now_cost) + -162.463<br>R<sup>2</sup>=0.473626<br><br>now_cost=%{x}<br>total_points=%{y} <b>(trend)</b><extra></extra>",
         "legendgroup": "",
         "marker": {
          "symbol": "circle"
         },
         "mode": "lines",
         "name": "",
         "showlegend": false,
         "type": "scatter",
         "x": [
          45,
          45,
          45,
          45,
          45,
          45,
          45,
          45,
          45,
          45,
          46,
          49,
          49,
          49,
          49,
          49,
          49,
          49,
          49,
          50,
          50,
          50,
          50,
          50,
          50,
          50,
          50,
          50,
          50,
          53,
          54,
          54,
          54,
          54,
          54,
          54,
          54,
          55,
          55,
          55,
          55,
          55,
          55,
          57,
          57,
          58,
          59,
          59,
          59,
          59,
          60,
          60,
          62,
          62,
          63,
          65,
          67,
          68,
          68,
          69,
          69,
          69,
          70,
          71,
          72,
          73,
          74,
          76,
          79,
          82,
          83,
          91,
          153
         ],
         "xaxis": "x",
         "y": [
          -1.0016252047323349,
          -1.0016252047323349,
          -1.0016252047323349,
          -1.0016252047323349,
          -1.0016252047323349,
          -1.0016252047323349,
          -1.0016252047323349,
          -1.0016252047323349,
          -1.0016252047323349,
          -1.0016252047323349,
          -0.0693787111943891,
          2.610386495322331,
          2.610386495322331,
          2.610386495322331,
          2.610386495322331,
          2.610386495322331,
          2.610386495322331,
          2.610386495322331,
          2.610386495322331,
          3.4672945889647906,
          3.4672945889647906,
          3.4672945889647906,
          3.4672945889647906,
          3.4672945889647906,
          3.4672945889647906,
          3.4672945889647906,
          3.4672945889647906,
          3.4672945889647906,
          3.4672945889647906,
          5.938799927055925,
          6.731636244179867,
          6.731636244179867,
          6.731636244179867,
          6.731636244179867,
          6.731636244179867,
          6.731636244179867,
          6.731636244179867,
          7.509924281967244,
          7.509924281967244,
          7.509924281967244,
          7.509924281967244,
          7.509924281967244,
          7.509924281967244,
          9.024924899957142,
          9.024924899957142,
          9.762604501909493,
          10.487673576642493,
          10.487673576642493,
          10.487673576642493,
          10.487673576642493,
          11.200556037876964,
          11.200556037876964,
          12.591353029810648,
          12.591353029810648,
          13.270015636030621,
          14.595608144731443,
          15.881024938385167,
          16.509414327874822,
          16.509414327874822,
          17.128629821364626,
          17.128629821364626,
          17.128629821364626,
          17.738935429727746,
          18.34058392856187,
          18.93381748678914,
          19.518868251899534,
          20.09595889537826,
          21.227106142566413,
          22.869201843288863,
          24.450086987102935,
          24.96422065161022,
          28.8672489854944,
          50.90543139299288
         ],
         "yaxis": "y"
        }
       ],
       "layout": {
        "coloraxis": {
         "colorbar": {
          "title": {
           "text": "goals_scored"
          }
         },
         "colorscale": [
          [
           0,
           "#0d0887"
          ],
          [
           0.1111111111111111,
           "#46039f"
          ],
          [
           0.2222222222222222,
           "#7201a8"
          ],
          [
           0.3333333333333333,
           "#9c179e"
          ],
          [
           0.4444444444444444,
           "#bd3786"
          ],
          [
           0.5555555555555556,
           "#d8576b"
          ],
          [
           0.6666666666666666,
           "#ed7953"
          ],
          [
           0.7777777777777778,
           "#fb9f3a"
          ],
          [
           0.8888888888888888,
           "#fdca26"
          ],
          [
           1,
           "#f0f921"
          ]
         ]
        },
        "legend": {
         "tracegroupgap": 0
        },
        "margin": {
         "t": 60
        },
        "template": {
         "data": {
          "bar": [
           {
            "error_x": {
             "color": "#2a3f5f"
            },
            "error_y": {
             "color": "#2a3f5f"
            },
            "marker": {
             "line": {
              "color": "#E5ECF6",
              "width": 0.5
             },
             "pattern": {
              "fillmode": "overlay",
              "size": 10,
              "solidity": 0.2
             }
            },
            "type": "bar"
           }
          ],
          "barpolar": [
           {
            "marker": {
             "line": {
              "color": "#E5ECF6",
              "width": 0.5
             },
             "pattern": {
              "fillmode": "overlay",
              "size": 10,
              "solidity": 0.2
             }
            },
            "type": "barpolar"
           }
          ],
          "carpet": [
           {
            "aaxis": {
             "endlinecolor": "#2a3f5f",
             "gridcolor": "white",
             "linecolor": "white",
             "minorgridcolor": "white",
             "startlinecolor": "#2a3f5f"
            },
            "baxis": {
             "endlinecolor": "#2a3f5f",
             "gridcolor": "white",
             "linecolor": "white",
             "minorgridcolor": "white",
             "startlinecolor": "#2a3f5f"
            },
            "type": "carpet"
           }
          ],
          "choropleth": [
           {
            "colorbar": {
             "outlinewidth": 0,
             "ticks": ""
            },
            "type": "choropleth"
           }
          ],
          "contour": [
           {
            "colorbar": {
             "outlinewidth": 0,
             "ticks": ""
            },
            "colorscale": [
             [
              0,
              "#0d0887"
             ],
             [
              0.1111111111111111,
              "#46039f"
             ],
             [
              0.2222222222222222,
              "#7201a8"
             ],
             [
              0.3333333333333333,
              "#9c179e"
             ],
             [
              0.4444444444444444,
              "#bd3786"
             ],
             [
              0.5555555555555556,
              "#d8576b"
             ],
             [
              0.6666666666666666,
              "#ed7953"
             ],
             [
              0.7777777777777778,
              "#fb9f3a"
             ],
             [
              0.8888888888888888,
              "#fdca26"
             ],
             [
              1,
              "#f0f921"
             ]
            ],
            "type": "contour"
           }
          ],
          "contourcarpet": [
           {
            "colorbar": {
             "outlinewidth": 0,
             "ticks": ""
            },
            "type": "contourcarpet"
           }
          ],
          "heatmap": [
           {
            "colorbar": {
             "outlinewidth": 0,
             "ticks": ""
            },
            "colorscale": [
             [
              0,
              "#0d0887"
             ],
             [
              0.1111111111111111,
              "#46039f"
             ],
             [
              0.2222222222222222,
              "#7201a8"
             ],
             [
              0.3333333333333333,
              "#9c179e"
             ],
             [
              0.4444444444444444,
              "#bd3786"
             ],
             [
              0.5555555555555556,
              "#d8576b"
             ],
             [
              0.6666666666666666,
              "#ed7953"
             ],
             [
              0.7777777777777778,
              "#fb9f3a"
             ],
             [
              0.8888888888888888,
              "#fdca26"
             ],
             [
              1,
              "#f0f921"
             ]
            ],
            "type": "heatmap"
           }
          ],
          "heatmapgl": [
           {
            "colorbar": {
             "outlinewidth": 0,
             "ticks": ""
            },
            "colorscale": [
             [
              0,
              "#0d0887"
             ],
             [
              0.1111111111111111,
              "#46039f"
             ],
             [
              0.2222222222222222,
              "#7201a8"
             ],
             [
              0.3333333333333333,
              "#9c179e"
             ],
             [
              0.4444444444444444,
              "#bd3786"
             ],
             [
              0.5555555555555556,
              "#d8576b"
             ],
             [
              0.6666666666666666,
              "#ed7953"
             ],
             [
              0.7777777777777778,
              "#fb9f3a"
             ],
             [
              0.8888888888888888,
              "#fdca26"
             ],
             [
              1,
              "#f0f921"
             ]
            ],
            "type": "heatmapgl"
           }
          ],
          "histogram": [
           {
            "marker": {
             "pattern": {
              "fillmode": "overlay",
              "size": 10,
              "solidity": 0.2
             }
            },
            "type": "histogram"
           }
          ],
          "histogram2d": [
           {
            "colorbar": {
             "outlinewidth": 0,
             "ticks": ""
            },
            "colorscale": [
             [
              0,
              "#0d0887"
             ],
             [
              0.1111111111111111,
              "#46039f"
             ],
             [
              0.2222222222222222,
              "#7201a8"
             ],
             [
              0.3333333333333333,
              "#9c179e"
             ],
             [
              0.4444444444444444,
              "#bd3786"
             ],
             [
              0.5555555555555556,
              "#d8576b"
             ],
             [
              0.6666666666666666,
              "#ed7953"
             ],
             [
              0.7777777777777778,
              "#fb9f3a"
             ],
             [
              0.8888888888888888,
              "#fdca26"
             ],
             [
              1,
              "#f0f921"
             ]
            ],
            "type": "histogram2d"
           }
          ],
          "histogram2dcontour": [
           {
            "colorbar": {
             "outlinewidth": 0,
             "ticks": ""
            },
            "colorscale": [
             [
              0,
              "#0d0887"
             ],
             [
              0.1111111111111111,
              "#46039f"
             ],
             [
              0.2222222222222222,
              "#7201a8"
             ],
             [
              0.3333333333333333,
              "#9c179e"
             ],
             [
              0.4444444444444444,
              "#bd3786"
             ],
             [
              0.5555555555555556,
              "#d8576b"
             ],
             [
              0.6666666666666666,
              "#ed7953"
             ],
             [
              0.7777777777777778,
              "#fb9f3a"
             ],
             [
              0.8888888888888888,
              "#fdca26"
             ],
             [
              1,
              "#f0f921"
             ]
            ],
            "type": "histogram2dcontour"
           }
          ],
          "mesh3d": [
           {
            "colorbar": {
             "outlinewidth": 0,
             "ticks": ""
            },
            "type": "mesh3d"
           }
          ],
          "parcoords": [
           {
            "line": {
             "colorbar": {
              "outlinewidth": 0,
              "ticks": ""
             }
            },
            "type": "parcoords"
           }
          ],
          "pie": [
           {
            "automargin": true,
            "type": "pie"
           }
          ],
          "scatter": [
           {
            "fillpattern": {
             "fillmode": "overlay",
             "size": 10,
             "solidity": 0.2
            },
            "type": "scatter"
           }
          ],
          "scatter3d": [
           {
            "line": {
             "colorbar": {
              "outlinewidth": 0,
              "ticks": ""
             }
            },
            "marker": {
             "colorbar": {
              "outlinewidth": 0,
              "ticks": ""
             }
            },
            "type": "scatter3d"
           }
          ],
          "scattercarpet": [
           {
            "marker": {
             "colorbar": {
              "outlinewidth": 0,
              "ticks": ""
             }
            },
            "type": "scattercarpet"
           }
          ],
          "scattergeo": [
           {
            "marker": {
             "colorbar": {
              "outlinewidth": 0,
              "ticks": ""
             }
            },
            "type": "scattergeo"
           }
          ],
          "scattergl": [
           {
            "marker": {
             "colorbar": {
              "outlinewidth": 0,
              "ticks": ""
             }
            },
            "type": "scattergl"
           }
          ],
          "scattermapbox": [
           {
            "marker": {
             "colorbar": {
              "outlinewidth": 0,
              "ticks": ""
             }
            },
            "type": "scattermapbox"
           }
          ],
          "scatterpolar": [
           {
            "marker": {
             "colorbar": {
              "outlinewidth": 0,
              "ticks": ""
             }
            },
            "type": "scatterpolar"
           }
          ],
          "scatterpolargl": [
           {
            "marker": {
             "colorbar": {
              "outlinewidth": 0,
              "ticks": ""
             }
            },
            "type": "scatterpolargl"
           }
          ],
          "scatterternary": [
           {
            "marker": {
             "colorbar": {
              "outlinewidth": 0,
              "ticks": ""
             }
            },
            "type": "scatterternary"
           }
          ],
          "surface": [
           {
            "colorbar": {
             "outlinewidth": 0,
             "ticks": ""
            },
            "colorscale": [
             [
              0,
              "#0d0887"
             ],
             [
              0.1111111111111111,
              "#46039f"
             ],
             [
              0.2222222222222222,
              "#7201a8"
             ],
             [
              0.3333333333333333,
              "#9c179e"
             ],
             [
              0.4444444444444444,
              "#bd3786"
             ],
             [
              0.5555555555555556,
              "#d8576b"
             ],
             [
              0.6666666666666666,
              "#ed7953"
             ],
             [
              0.7777777777777778,
              "#fb9f3a"
             ],
             [
              0.8888888888888888,
              "#fdca26"
             ],
             [
              1,
              "#f0f921"
             ]
            ],
            "type": "surface"
           }
          ],
          "table": [
           {
            "cells": {
             "fill": {
              "color": "#EBF0F8"
             },
             "line": {
              "color": "white"
             }
            },
            "header": {
             "fill": {
              "color": "#C8D4E3"
             },
             "line": {
              "color": "white"
             }
            },
            "type": "table"
           }
          ]
         },
         "layout": {
          "annotationdefaults": {
           "arrowcolor": "#2a3f5f",
           "arrowhead": 0,
           "arrowwidth": 1
          },
          "autotypenumbers": "strict",
          "coloraxis": {
           "colorbar": {
            "outlinewidth": 0,
            "ticks": ""
           }
          },
          "colorscale": {
           "diverging": [
            [
             0,
             "#8e0152"
            ],
            [
             0.1,
             "#c51b7d"
            ],
            [
             0.2,
             "#de77ae"
            ],
            [
             0.3,
             "#f1b6da"
            ],
            [
             0.4,
             "#fde0ef"
            ],
            [
             0.5,
             "#f7f7f7"
            ],
            [
             0.6,
             "#e6f5d0"
            ],
            [
             0.7,
             "#b8e186"
            ],
            [
             0.8,
             "#7fbc41"
            ],
            [
             0.9,
             "#4d9221"
            ],
            [
             1,
             "#276419"
            ]
           ],
           "sequential": [
            [
             0,
             "#0d0887"
            ],
            [
             0.1111111111111111,
             "#46039f"
            ],
            [
             0.2222222222222222,
             "#7201a8"
            ],
            [
             0.3333333333333333,
             "#9c179e"
            ],
            [
             0.4444444444444444,
             "#bd3786"
            ],
            [
             0.5555555555555556,
             "#d8576b"
            ],
            [
             0.6666666666666666,
             "#ed7953"
            ],
            [
             0.7777777777777778,
             "#fb9f3a"
            ],
            [
             0.8888888888888888,
             "#fdca26"
            ],
            [
             1,
             "#f0f921"
            ]
           ],
           "sequentialminus": [
            [
             0,
             "#0d0887"
            ],
            [
             0.1111111111111111,
             "#46039f"
            ],
            [
             0.2222222222222222,
             "#7201a8"
            ],
            [
             0.3333333333333333,
             "#9c179e"
            ],
            [
             0.4444444444444444,
             "#bd3786"
            ],
            [
             0.5555555555555556,
             "#d8576b"
            ],
            [
             0.6666666666666666,
             "#ed7953"
            ],
            [
             0.7777777777777778,
             "#fb9f3a"
            ],
            [
             0.8888888888888888,
             "#fdca26"
            ],
            [
             1,
             "#f0f921"
            ]
           ]
          },
          "colorway": [
           "#636efa",
           "#EF553B",
           "#00cc96",
           "#ab63fa",
           "#FFA15A",
           "#19d3f3",
           "#FF6692",
           "#B6E880",
           "#FF97FF",
           "#FECB52"
          ],
          "font": {
           "color": "#2a3f5f"
          },
          "geo": {
           "bgcolor": "white",
           "lakecolor": "white",
           "landcolor": "#E5ECF6",
           "showlakes": true,
           "showland": true,
           "subunitcolor": "white"
          },
          "hoverlabel": {
           "align": "left"
          },
          "hovermode": "closest",
          "mapbox": {
           "style": "light"
          },
          "paper_bgcolor": "white",
          "plot_bgcolor": "#E5ECF6",
          "polar": {
           "angularaxis": {
            "gridcolor": "white",
            "linecolor": "white",
            "ticks": ""
           },
           "bgcolor": "#E5ECF6",
           "radialaxis": {
            "gridcolor": "white",
            "linecolor": "white",
            "ticks": ""
           }
          },
          "scene": {
           "xaxis": {
            "backgroundcolor": "#E5ECF6",
            "gridcolor": "white",
            "gridwidth": 2,
            "linecolor": "white",
            "showbackground": true,
            "ticks": "",
            "zerolinecolor": "white"
           },
           "yaxis": {
            "backgroundcolor": "#E5ECF6",
            "gridcolor": "white",
            "gridwidth": 2,
            "linecolor": "white",
            "showbackground": true,
            "ticks": "",
            "zerolinecolor": "white"
           },
           "zaxis": {
            "backgroundcolor": "#E5ECF6",
            "gridcolor": "white",
            "gridwidth": 2,
            "linecolor": "white",
            "showbackground": true,
            "ticks": "",
            "zerolinecolor": "white"
           }
          },
          "shapedefaults": {
           "line": {
            "color": "#2a3f5f"
           }
          },
          "ternary": {
           "aaxis": {
            "gridcolor": "white",
            "linecolor": "white",
            "ticks": ""
           },
           "baxis": {
            "gridcolor": "white",
            "linecolor": "white",
            "ticks": ""
           },
           "bgcolor": "#E5ECF6",
           "caxis": {
            "gridcolor": "white",
            "linecolor": "white",
            "ticks": ""
           }
          },
          "title": {
           "x": 0.05
          },
          "xaxis": {
           "automargin": true,
           "gridcolor": "white",
           "linecolor": "white",
           "ticks": "",
           "title": {
            "standoff": 15
           },
           "zerolinecolor": "white",
           "zerolinewidth": 2
          },
          "yaxis": {
           "automargin": true,
           "gridcolor": "white",
           "linecolor": "white",
           "ticks": "",
           "title": {
            "standoff": 15
           },
           "zerolinecolor": "white",
           "zerolinewidth": 2
          }
         }
        },
        "xaxis": {
         "anchor": "y",
         "domain": [
          0,
          1
         ],
         "title": {
          "text": "now_cost"
         }
        },
        "yaxis": {
         "anchor": "x",
         "domain": [
          0,
          1
         ],
         "title": {
          "text": "total_points"
         }
        }
       }
      },
      "text/html": [
       "<div>                            <div id=\"d6627a18-f19d-4614-99de-f4f5db4c62a9\" class=\"plotly-graph-div\" style=\"height:525px; width:100%;\"></div>            <script type=\"text/javascript\">                require([\"plotly\"], function(Plotly) {                    window.PLOTLYENV=window.PLOTLYENV || {};                                    if (document.getElementById(\"d6627a18-f19d-4614-99de-f4f5db4c62a9\")) {                    Plotly.newPlot(                        \"d6627a18-f19d-4614-99de-f4f5db4c62a9\",                        [{\"customdata\":[[\"Gabriel\",\"Fernando de Jesus\"],[\"Kai\",\"Havertz\"],[\"Jhon\",\"Dur\\u00e1n\"],[\"Ollie\",\"Watkins\"],[\"Enes\",\"\\u00dcnal\"],[\"Daniel\",\"Jebbison\"],[\"Francisco Evanilson\",\"de Lima Barbosa\"],[\"Igor Thiago\",\"Nascimento Rodrigues\"],[\"Ivan\",\"Toney\"],[\"Yoane\",\"Wissa\"],[\"Evan\",\"Ferguson\"],[\"Jo\\u00e3o Pedro\",\"Junqueira de Jesus\"],[\"Mark\",\"O\\u2019Mahony\"],[\"Deniz\",\"Undav\"],[\"Danny\",\"Welbeck\"],[\"David Datro\",\"Fofana\"],[\"Deivid Washington\",\"de Souza Eug\\u00eanio\"],[\"Romelu\",\"Lukaku Bolingoli\"],[\"Marc\",\"Guiu Paz\"],[\"Nicolas\",\"Jackson\"],[\"Eddie\",\"Nketiah\"],[\"Jean-Philippe\",\"Mateta\"],[\"Armando\",\"Broja\"],[\"Norberto Bercique\",\"Gomes Betuncal\"],[\"Dominic\",\"Calvert-Lewin\"],[\"Neal\",\"Maupay\"],[\"Iliman\",\"Ndiaye\"],[\"Youssef\",\"Ramalho Chermiti\"],[\"Rodrigo\",\"Muniz Carvalho\"],[\"Ra\\u00fal\",\"Jim\\u00e9nez\"],[\"Jay\",\"Stansfield\"],[\"Carlos Vin\\u00edcius\",\"Alves Morais\"],[\"Ali\",\"Al-Hamadi\"],[\"Liam\",\"Delap\"],[\"George\",\"Hirst\"],[\"Freddie\",\"Ladapo\"],[\"Odsonne\",\"Edouard\"],[\"Tom\",\"Cannon\"],[\"Patson\",\"Daka\"],[\"Jamie\",\"Vardy\"],[\"Darwin\",\"N\\u00fa\\u00f1ez Ribeiro\"],[\"Cody\",\"Gakpo\"],[\"Erling\",\"Haaland\"],[\"Juli\\u00e1n\",\"\\u00c1lvarez\"],[\"Rasmus\",\"H\\u00f8jlund\"],[\"Joshua\",\"Zirkzee\"],[\"Ethan\",\"Wheatley\"],[\"Alexander\",\"Isak\"],[\"Callum\",\"Wilson\"],[\"William\",\"Osula\"],[\"Taiwo\",\"Awoniyi\"],[\"Emmanuel\",\"Dennis\"],[\"Hwang\",\"Ui-jo\"],[\"Chris\",\"Wood\"],[\"Cameron\",\"Archer\"],[\"Adam\",\"Armstrong\"],[\"S\\u00e9kou\",\"Mara\"],[\"Paul\",\"Onuachu\"],[\"Ross\",\"Stewart\"],[\"Dominic\",\"Solanke-Mitchell\"],[\"Richarlison\",\"de Andrade\"],[\"Dane\",\"Scarlett\"],[\"Alejo\",\"V\\u00e9liz\"],[\"Will\",\"Lankshear\"],[\"Michail\",\"Antonio\"],[\"Danny\",\"Ings\"],[\"Niclas\",\"F\\u00fcllkrug\"],[\"Leon\",\"Chiwome\"],[\"Matheus\",\"Santos Carneiro Da Cunha\"],[\"F\\u00e1bio\",\"Silva\"],[\"Nathan\",\"Fraser\"],[\"Sa\\u0161a\",\"Kalajd\\u017ei\\u0107\"],[\"J\\u00f8rgen\",\"Strand Larsen\"]],\"hovertemplate\":\"now_cost=%{x}\\u003cbr\\u003etotal_points=%{y}\\u003cbr\\u003efirst_name=%{customdata[0]}\\u003cbr\\u003esecond_name=%{customdata[1]}\\u003cbr\\u003egoals_scored=%{marker.color}\\u003cextra\\u003e\\u003c\\u002fextra\\u003e\",\"legendgroup\":\"\",\"marker\":{\"color\":[0,3,4,4,0,0,1,0,0,3,0,2,0,0,3,0,0,0,0,4,0,2,0,0,2,0,1,0,0,3,0,0,0,3,0,0,0,0,0,2,1,0,10,0,0,1,0,1,0,0,0,0,0,3,0,0,0,0,0,2,0,0,0,0,0,1,0,0,2,0,0,0,1],\"coloraxis\":\"coloraxis\",\"symbol\":\"circle\"},\"mode\":\"markers\",\"name\":\"\",\"orientation\":\"v\",\"showlegend\":false,\"x\":[68,82,62,91,54,45,59,59,73,60,55,55,45,55,58,54,50,63,49,79,59,74,54,50,60,49,54,49,59,55,50,50,49,55,54,45,54,45,49,57,72,71,153,70,69,69,45,83,69,50,57,49,45,62,50,53,50,49,46,76,68,45,50,45,54,50,67,45,65,50,45,49,55],\"xaxis\":\"x\",\"y\":[2,32,26,39,3,2,15,0,0,28,3,19,0,0,33,0,0,0,1,40,6,21,0,4,25,0,16,0,12,27,1,0,1,25,3,0,5,0,0,22,9,5,65,0,2,15,0,19,0,1,4,0,0,31,5,5,0,0,2,16,2,0,0,0,12,10,3,0,21,0,0,0,19],\"yaxis\":\"y\",\"type\":\"scatter\"},{\"hovertemplate\":\"\\u003cb\\u003eOLS trendline\\u003c\\u002fb\\u003e\\u003cbr\\u003etotal_points = 97.6653 * log10(now_cost) + -162.463\\u003cbr\\u003eR\\u003csup\\u003e2\\u003c\\u002fsup\\u003e=0.473626\\u003cbr\\u003e\\u003cbr\\u003enow_cost=%{x}\\u003cbr\\u003etotal_points=%{y} \\u003cb\\u003e(trend)\\u003c\\u002fb\\u003e\\u003cextra\\u003e\\u003c\\u002fextra\\u003e\",\"legendgroup\":\"\",\"marker\":{\"symbol\":\"circle\"},\"mode\":\"lines\",\"name\":\"\",\"showlegend\":false,\"x\":[45,45,45,45,45,45,45,45,45,45,46,49,49,49,49,49,49,49,49,50,50,50,50,50,50,50,50,50,50,53,54,54,54,54,54,54,54,55,55,55,55,55,55,57,57,58,59,59,59,59,60,60,62,62,63,65,67,68,68,69,69,69,70,71,72,73,74,76,79,82,83,91,153],\"xaxis\":\"x\",\"y\":[-1.0016252047323349,-1.0016252047323349,-1.0016252047323349,-1.0016252047323349,-1.0016252047323349,-1.0016252047323349,-1.0016252047323349,-1.0016252047323349,-1.0016252047323349,-1.0016252047323349,-0.0693787111943891,2.610386495322331,2.610386495322331,2.610386495322331,2.610386495322331,2.610386495322331,2.610386495322331,2.610386495322331,2.610386495322331,3.4672945889647906,3.4672945889647906,3.4672945889647906,3.4672945889647906,3.4672945889647906,3.4672945889647906,3.4672945889647906,3.4672945889647906,3.4672945889647906,3.4672945889647906,5.938799927055925,6.731636244179867,6.731636244179867,6.731636244179867,6.731636244179867,6.731636244179867,6.731636244179867,6.731636244179867,7.509924281967244,7.509924281967244,7.509924281967244,7.509924281967244,7.509924281967244,7.509924281967244,9.024924899957142,9.024924899957142,9.762604501909493,10.487673576642493,10.487673576642493,10.487673576642493,10.487673576642493,11.200556037876964,11.200556037876964,12.591353029810648,12.591353029810648,13.270015636030621,14.595608144731443,15.881024938385167,16.509414327874822,16.509414327874822,17.128629821364626,17.128629821364626,17.128629821364626,17.738935429727746,18.34058392856187,18.93381748678914,19.518868251899534,20.09595889537826,21.227106142566413,22.869201843288863,24.450086987102935,24.96422065161022,28.8672489854944,50.90543139299288],\"yaxis\":\"y\",\"type\":\"scatter\"}],                        {\"template\":{\"data\":{\"histogram2dcontour\":[{\"type\":\"histogram2dcontour\",\"colorbar\":{\"outlinewidth\":0,\"ticks\":\"\"},\"colorscale\":[[0.0,\"#0d0887\"],[0.1111111111111111,\"#46039f\"],[0.2222222222222222,\"#7201a8\"],[0.3333333333333333,\"#9c179e\"],[0.4444444444444444,\"#bd3786\"],[0.5555555555555556,\"#d8576b\"],[0.6666666666666666,\"#ed7953\"],[0.7777777777777778,\"#fb9f3a\"],[0.8888888888888888,\"#fdca26\"],[1.0,\"#f0f921\"]]}],\"choropleth\":[{\"type\":\"choropleth\",\"colorbar\":{\"outlinewidth\":0,\"ticks\":\"\"}}],\"histogram2d\":[{\"type\":\"histogram2d\",\"colorbar\":{\"outlinewidth\":0,\"ticks\":\"\"},\"colorscale\":[[0.0,\"#0d0887\"],[0.1111111111111111,\"#46039f\"],[0.2222222222222222,\"#7201a8\"],[0.3333333333333333,\"#9c179e\"],[0.4444444444444444,\"#bd3786\"],[0.5555555555555556,\"#d8576b\"],[0.6666666666666666,\"#ed7953\"],[0.7777777777777778,\"#fb9f3a\"],[0.8888888888888888,\"#fdca26\"],[1.0,\"#f0f921\"]]}],\"heatmap\":[{\"type\":\"heatmap\",\"colorbar\":{\"outlinewidth\":0,\"ticks\":\"\"},\"colorscale\":[[0.0,\"#0d0887\"],[0.1111111111111111,\"#46039f\"],[0.2222222222222222,\"#7201a8\"],[0.3333333333333333,\"#9c179e\"],[0.4444444444444444,\"#bd3786\"],[0.5555555555555556,\"#d8576b\"],[0.6666666666666666,\"#ed7953\"],[0.7777777777777778,\"#fb9f3a\"],[0.8888888888888888,\"#fdca26\"],[1.0,\"#f0f921\"]]}],\"heatmapgl\":[{\"type\":\"heatmapgl\",\"colorbar\":{\"outlinewidth\":0,\"ticks\":\"\"},\"colorscale\":[[0.0,\"#0d0887\"],[0.1111111111111111,\"#46039f\"],[0.2222222222222222,\"#7201a8\"],[0.3333333333333333,\"#9c179e\"],[0.4444444444444444,\"#bd3786\"],[0.5555555555555556,\"#d8576b\"],[0.6666666666666666,\"#ed7953\"],[0.7777777777777778,\"#fb9f3a\"],[0.8888888888888888,\"#fdca26\"],[1.0,\"#f0f921\"]]}],\"contourcarpet\":[{\"type\":\"contourcarpet\",\"colorbar\":{\"outlinewidth\":0,\"ticks\":\"\"}}],\"contour\":[{\"type\":\"contour\",\"colorbar\":{\"outlinewidth\":0,\"ticks\":\"\"},\"colorscale\":[[0.0,\"#0d0887\"],[0.1111111111111111,\"#46039f\"],[0.2222222222222222,\"#7201a8\"],[0.3333333333333333,\"#9c179e\"],[0.4444444444444444,\"#bd3786\"],[0.5555555555555556,\"#d8576b\"],[0.6666666666666666,\"#ed7953\"],[0.7777777777777778,\"#fb9f3a\"],[0.8888888888888888,\"#fdca26\"],[1.0,\"#f0f921\"]]}],\"surface\":[{\"type\":\"surface\",\"colorbar\":{\"outlinewidth\":0,\"ticks\":\"\"},\"colorscale\":[[0.0,\"#0d0887\"],[0.1111111111111111,\"#46039f\"],[0.2222222222222222,\"#7201a8\"],[0.3333333333333333,\"#9c179e\"],[0.4444444444444444,\"#bd3786\"],[0.5555555555555556,\"#d8576b\"],[0.6666666666666666,\"#ed7953\"],[0.7777777777777778,\"#fb9f3a\"],[0.8888888888888888,\"#fdca26\"],[1.0,\"#f0f921\"]]}],\"mesh3d\":[{\"type\":\"mesh3d\",\"colorbar\":{\"outlinewidth\":0,\"ticks\":\"\"}}],\"scatter\":[{\"fillpattern\":{\"fillmode\":\"overlay\",\"size\":10,\"solidity\":0.2},\"type\":\"scatter\"}],\"parcoords\":[{\"type\":\"parcoords\",\"line\":{\"colorbar\":{\"outlinewidth\":0,\"ticks\":\"\"}}}],\"scatterpolargl\":[{\"type\":\"scatterpolargl\",\"marker\":{\"colorbar\":{\"outlinewidth\":0,\"ticks\":\"\"}}}],\"bar\":[{\"error_x\":{\"color\":\"#2a3f5f\"},\"error_y\":{\"color\":\"#2a3f5f\"},\"marker\":{\"line\":{\"color\":\"#E5ECF6\",\"width\":0.5},\"pattern\":{\"fillmode\":\"overlay\",\"size\":10,\"solidity\":0.2}},\"type\":\"bar\"}],\"scattergeo\":[{\"type\":\"scattergeo\",\"marker\":{\"colorbar\":{\"outlinewidth\":0,\"ticks\":\"\"}}}],\"scatterpolar\":[{\"type\":\"scatterpolar\",\"marker\":{\"colorbar\":{\"outlinewidth\":0,\"ticks\":\"\"}}}],\"histogram\":[{\"marker\":{\"pattern\":{\"fillmode\":\"overlay\",\"size\":10,\"solidity\":0.2}},\"type\":\"histogram\"}],\"scattergl\":[{\"type\":\"scattergl\",\"marker\":{\"colorbar\":{\"outlinewidth\":0,\"ticks\":\"\"}}}],\"scatter3d\":[{\"type\":\"scatter3d\",\"line\":{\"colorbar\":{\"outlinewidth\":0,\"ticks\":\"\"}},\"marker\":{\"colorbar\":{\"outlinewidth\":0,\"ticks\":\"\"}}}],\"scattermapbox\":[{\"type\":\"scattermapbox\",\"marker\":{\"colorbar\":{\"outlinewidth\":0,\"ticks\":\"\"}}}],\"scatterternary\":[{\"type\":\"scatterternary\",\"marker\":{\"colorbar\":{\"outlinewidth\":0,\"ticks\":\"\"}}}],\"scattercarpet\":[{\"type\":\"scattercarpet\",\"marker\":{\"colorbar\":{\"outlinewidth\":0,\"ticks\":\"\"}}}],\"carpet\":[{\"aaxis\":{\"endlinecolor\":\"#2a3f5f\",\"gridcolor\":\"white\",\"linecolor\":\"white\",\"minorgridcolor\":\"white\",\"startlinecolor\":\"#2a3f5f\"},\"baxis\":{\"endlinecolor\":\"#2a3f5f\",\"gridcolor\":\"white\",\"linecolor\":\"white\",\"minorgridcolor\":\"white\",\"startlinecolor\":\"#2a3f5f\"},\"type\":\"carpet\"}],\"table\":[{\"cells\":{\"fill\":{\"color\":\"#EBF0F8\"},\"line\":{\"color\":\"white\"}},\"header\":{\"fill\":{\"color\":\"#C8D4E3\"},\"line\":{\"color\":\"white\"}},\"type\":\"table\"}],\"barpolar\":[{\"marker\":{\"line\":{\"color\":\"#E5ECF6\",\"width\":0.5},\"pattern\":{\"fillmode\":\"overlay\",\"size\":10,\"solidity\":0.2}},\"type\":\"barpolar\"}],\"pie\":[{\"automargin\":true,\"type\":\"pie\"}]},\"layout\":{\"autotypenumbers\":\"strict\",\"colorway\":[\"#636efa\",\"#EF553B\",\"#00cc96\",\"#ab63fa\",\"#FFA15A\",\"#19d3f3\",\"#FF6692\",\"#B6E880\",\"#FF97FF\",\"#FECB52\"],\"font\":{\"color\":\"#2a3f5f\"},\"hovermode\":\"closest\",\"hoverlabel\":{\"align\":\"left\"},\"paper_bgcolor\":\"white\",\"plot_bgcolor\":\"#E5ECF6\",\"polar\":{\"bgcolor\":\"#E5ECF6\",\"angularaxis\":{\"gridcolor\":\"white\",\"linecolor\":\"white\",\"ticks\":\"\"},\"radialaxis\":{\"gridcolor\":\"white\",\"linecolor\":\"white\",\"ticks\":\"\"}},\"ternary\":{\"bgcolor\":\"#E5ECF6\",\"aaxis\":{\"gridcolor\":\"white\",\"linecolor\":\"white\",\"ticks\":\"\"},\"baxis\":{\"gridcolor\":\"white\",\"linecolor\":\"white\",\"ticks\":\"\"},\"caxis\":{\"gridcolor\":\"white\",\"linecolor\":\"white\",\"ticks\":\"\"}},\"coloraxis\":{\"colorbar\":{\"outlinewidth\":0,\"ticks\":\"\"}},\"colorscale\":{\"sequential\":[[0.0,\"#0d0887\"],[0.1111111111111111,\"#46039f\"],[0.2222222222222222,\"#7201a8\"],[0.3333333333333333,\"#9c179e\"],[0.4444444444444444,\"#bd3786\"],[0.5555555555555556,\"#d8576b\"],[0.6666666666666666,\"#ed7953\"],[0.7777777777777778,\"#fb9f3a\"],[0.8888888888888888,\"#fdca26\"],[1.0,\"#f0f921\"]],\"sequentialminus\":[[0.0,\"#0d0887\"],[0.1111111111111111,\"#46039f\"],[0.2222222222222222,\"#7201a8\"],[0.3333333333333333,\"#9c179e\"],[0.4444444444444444,\"#bd3786\"],[0.5555555555555556,\"#d8576b\"],[0.6666666666666666,\"#ed7953\"],[0.7777777777777778,\"#fb9f3a\"],[0.8888888888888888,\"#fdca26\"],[1.0,\"#f0f921\"]],\"diverging\":[[0,\"#8e0152\"],[0.1,\"#c51b7d\"],[0.2,\"#de77ae\"],[0.3,\"#f1b6da\"],[0.4,\"#fde0ef\"],[0.5,\"#f7f7f7\"],[0.6,\"#e6f5d0\"],[0.7,\"#b8e186\"],[0.8,\"#7fbc41\"],[0.9,\"#4d9221\"],[1,\"#276419\"]]},\"xaxis\":{\"gridcolor\":\"white\",\"linecolor\":\"white\",\"ticks\":\"\",\"title\":{\"standoff\":15},\"zerolinecolor\":\"white\",\"automargin\":true,\"zerolinewidth\":2},\"yaxis\":{\"gridcolor\":\"white\",\"linecolor\":\"white\",\"ticks\":\"\",\"title\":{\"standoff\":15},\"zerolinecolor\":\"white\",\"automargin\":true,\"zerolinewidth\":2},\"scene\":{\"xaxis\":{\"backgroundcolor\":\"#E5ECF6\",\"gridcolor\":\"white\",\"linecolor\":\"white\",\"showbackground\":true,\"ticks\":\"\",\"zerolinecolor\":\"white\",\"gridwidth\":2},\"yaxis\":{\"backgroundcolor\":\"#E5ECF6\",\"gridcolor\":\"white\",\"linecolor\":\"white\",\"showbackground\":true,\"ticks\":\"\",\"zerolinecolor\":\"white\",\"gridwidth\":2},\"zaxis\":{\"backgroundcolor\":\"#E5ECF6\",\"gridcolor\":\"white\",\"linecolor\":\"white\",\"showbackground\":true,\"ticks\":\"\",\"zerolinecolor\":\"white\",\"gridwidth\":2}},\"shapedefaults\":{\"line\":{\"color\":\"#2a3f5f\"}},\"annotationdefaults\":{\"arrowcolor\":\"#2a3f5f\",\"arrowhead\":0,\"arrowwidth\":1},\"geo\":{\"bgcolor\":\"white\",\"landcolor\":\"#E5ECF6\",\"subunitcolor\":\"white\",\"showland\":true,\"showlakes\":true,\"lakecolor\":\"white\"},\"title\":{\"x\":0.05},\"mapbox\":{\"style\":\"light\"}}},\"xaxis\":{\"anchor\":\"y\",\"domain\":[0.0,1.0],\"title\":{\"text\":\"now_cost\"}},\"yaxis\":{\"anchor\":\"x\",\"domain\":[0.0,1.0],\"title\":{\"text\":\"total_points\"}},\"coloraxis\":{\"colorbar\":{\"title\":{\"text\":\"goals_scored\"}},\"colorscale\":[[0.0,\"#0d0887\"],[0.1111111111111111,\"#46039f\"],[0.2222222222222222,\"#7201a8\"],[0.3333333333333333,\"#9c179e\"],[0.4444444444444444,\"#bd3786\"],[0.5555555555555556,\"#d8576b\"],[0.6666666666666666,\"#ed7953\"],[0.7777777777777778,\"#fb9f3a\"],[0.8888888888888888,\"#fdca26\"],[1.0,\"#f0f921\"]]},\"legend\":{\"tracegroupgap\":0},\"margin\":{\"t\":60}},                        {\"responsive\": true}                    ).then(function(){\n",
       "                            \n",
       "var gd = document.getElementById('d6627a18-f19d-4614-99de-f4f5db4c62a9');\n",
       "var x = new MutationObserver(function (mutations, observer) {{\n",
       "        var display = window.getComputedStyle(gd).display;\n",
       "        if (!display || display === 'none') {{\n",
       "            console.log([gd, 'removed!']);\n",
       "            Plotly.purge(gd);\n",
       "            observer.disconnect();\n",
       "        }}\n",
       "}});\n",
       "\n",
       "// Listen for the removal of the full notebook cells\n",
       "var notebookContainer = gd.closest('#notebook-container');\n",
       "if (notebookContainer) {{\n",
       "    x.observe(notebookContainer, {childList: true});\n",
       "}}\n",
       "\n",
       "// Listen for the clearing of the current output cell\n",
       "var outputEl = gd.closest('.output');\n",
       "if (outputEl) {{\n",
       "    x.observe(outputEl, {childList: true});\n",
       "}}\n",
       "\n",
       "                        })                };                });            </script>        </div>"
      ]
     },
     "metadata": {},
     "output_type": "display_data"
    }
   ],
   "source": [
    "# Logarithmic trendline\n",
    "forwards.plot.scatter(x=\"now_cost\", y=\"total_points\", hover_data=[\"first_name\", \"second_name\"], color='goals_scored', trendline=\"ols\", trendline_options=dict(log_x=True))"
   ]
  },
  {
   "cell_type": "code",
   "execution_count": 72,
   "metadata": {},
   "outputs": [
    {
     "data": {
      "application/vnd.plotly.v1+json": {
       "config": {
        "plotlyServerURL": "https://plot.ly"
       },
       "data": [
        {
         "customdata": [
          [
           "Gabriel",
           "Fernando de Jesus"
          ],
          [
           "Kai",
           "Havertz"
          ],
          [
           "Jhon",
           "Durán"
          ],
          [
           "Ollie",
           "Watkins"
          ],
          [
           "Enes",
           "Ünal"
          ],
          [
           "Daniel",
           "Jebbison"
          ],
          [
           "Francisco Evanilson",
           "de Lima Barbosa"
          ],
          [
           "Igor Thiago",
           "Nascimento Rodrigues"
          ],
          [
           "Ivan",
           "Toney"
          ],
          [
           "Yoane",
           "Wissa"
          ],
          [
           "Evan",
           "Ferguson"
          ],
          [
           "João Pedro",
           "Junqueira de Jesus"
          ],
          [
           "Mark",
           "O’Mahony"
          ],
          [
           "Deniz",
           "Undav"
          ],
          [
           "Danny",
           "Welbeck"
          ],
          [
           "David Datro",
           "Fofana"
          ],
          [
           "Deivid Washington",
           "de Souza Eugênio"
          ],
          [
           "Romelu",
           "Lukaku Bolingoli"
          ],
          [
           "Marc",
           "Guiu Paz"
          ],
          [
           "Nicolas",
           "Jackson"
          ],
          [
           "Eddie",
           "Nketiah"
          ],
          [
           "Jean-Philippe",
           "Mateta"
          ],
          [
           "Armando",
           "Broja"
          ],
          [
           "Norberto Bercique",
           "Gomes Betuncal"
          ],
          [
           "Dominic",
           "Calvert-Lewin"
          ],
          [
           "Neal",
           "Maupay"
          ],
          [
           "Iliman",
           "Ndiaye"
          ],
          [
           "Youssef",
           "Ramalho Chermiti"
          ],
          [
           "Rodrigo",
           "Muniz Carvalho"
          ],
          [
           "Raúl",
           "Jiménez"
          ],
          [
           "Jay",
           "Stansfield"
          ],
          [
           "Carlos Vinícius",
           "Alves Morais"
          ],
          [
           "Ali",
           "Al-Hamadi"
          ],
          [
           "Liam",
           "Delap"
          ],
          [
           "George",
           "Hirst"
          ],
          [
           "Freddie",
           "Ladapo"
          ],
          [
           "Odsonne",
           "Edouard"
          ],
          [
           "Tom",
           "Cannon"
          ],
          [
           "Patson",
           "Daka"
          ],
          [
           "Jamie",
           "Vardy"
          ],
          [
           "Darwin",
           "Núñez Ribeiro"
          ],
          [
           "Cody",
           "Gakpo"
          ],
          [
           "Erling",
           "Haaland"
          ],
          [
           "Julián",
           "Álvarez"
          ],
          [
           "Rasmus",
           "Højlund"
          ],
          [
           "Joshua",
           "Zirkzee"
          ],
          [
           "Ethan",
           "Wheatley"
          ],
          [
           "Alexander",
           "Isak"
          ],
          [
           "Callum",
           "Wilson"
          ],
          [
           "William",
           "Osula"
          ],
          [
           "Taiwo",
           "Awoniyi"
          ],
          [
           "Emmanuel",
           "Dennis"
          ],
          [
           "Hwang",
           "Ui-jo"
          ],
          [
           "Chris",
           "Wood"
          ],
          [
           "Cameron",
           "Archer"
          ],
          [
           "Adam",
           "Armstrong"
          ],
          [
           "Sékou",
           "Mara"
          ],
          [
           "Paul",
           "Onuachu"
          ],
          [
           "Ross",
           "Stewart"
          ],
          [
           "Dominic",
           "Solanke-Mitchell"
          ],
          [
           "Richarlison",
           "de Andrade"
          ],
          [
           "Dane",
           "Scarlett"
          ],
          [
           "Alejo",
           "Véliz"
          ],
          [
           "Will",
           "Lankshear"
          ],
          [
           "Michail",
           "Antonio"
          ],
          [
           "Danny",
           "Ings"
          ],
          [
           "Niclas",
           "Füllkrug"
          ],
          [
           "Leon",
           "Chiwome"
          ],
          [
           "Matheus",
           "Santos Carneiro Da Cunha"
          ],
          [
           "Fábio",
           "Silva"
          ],
          [
           "Nathan",
           "Fraser"
          ],
          [
           "Saša",
           "Kalajdžić"
          ],
          [
           "Jørgen",
           "Strand Larsen"
          ]
         ],
         "hovertemplate": "now_cost=%{x}<br>total_points=%{y}<br>first_name=%{customdata[0]}<br>second_name=%{customdata[1]}<br>goals_scored=%{marker.color}<extra></extra>",
         "legendgroup": "",
         "marker": {
          "color": [
           0,
           3,
           4,
           4,
           0,
           0,
           1,
           0,
           0,
           3,
           0,
           2,
           0,
           0,
           3,
           0,
           0,
           0,
           0,
           4,
           0,
           2,
           0,
           0,
           2,
           0,
           1,
           0,
           0,
           3,
           0,
           0,
           0,
           3,
           0,
           0,
           0,
           0,
           0,
           2,
           1,
           0,
           10,
           0,
           0,
           1,
           0,
           1,
           0,
           0,
           0,
           0,
           0,
           3,
           0,
           0,
           0,
           0,
           0,
           2,
           0,
           0,
           0,
           0,
           0,
           1,
           0,
           0,
           2,
           0,
           0,
           0,
           1
          ],
          "coloraxis": "coloraxis",
          "symbol": "circle"
         },
         "mode": "markers",
         "name": "",
         "orientation": "v",
         "showlegend": false,
         "type": "scatter",
         "x": [
          68,
          82,
          62,
          91,
          54,
          45,
          59,
          59,
          73,
          60,
          55,
          55,
          45,
          55,
          58,
          54,
          50,
          63,
          49,
          79,
          59,
          74,
          54,
          50,
          60,
          49,
          54,
          49,
          59,
          55,
          50,
          50,
          49,
          55,
          54,
          45,
          54,
          45,
          49,
          57,
          72,
          71,
          153,
          70,
          69,
          69,
          45,
          83,
          69,
          50,
          57,
          49,
          45,
          62,
          50,
          53,
          50,
          49,
          46,
          76,
          68,
          45,
          50,
          45,
          54,
          50,
          67,
          45,
          65,
          50,
          45,
          49,
          55
         ],
         "xaxis": "x",
         "y": [
          2,
          32,
          26,
          39,
          3,
          2,
          15,
          0,
          0,
          28,
          3,
          19,
          0,
          0,
          33,
          0,
          0,
          0,
          1,
          40,
          6,
          21,
          0,
          4,
          25,
          0,
          16,
          0,
          12,
          27,
          1,
          0,
          1,
          25,
          3,
          0,
          5,
          0,
          0,
          22,
          9,
          5,
          65,
          0,
          2,
          15,
          0,
          19,
          0,
          1,
          4,
          0,
          0,
          31,
          5,
          5,
          0,
          0,
          2,
          16,
          2,
          0,
          0,
          0,
          12,
          10,
          3,
          0,
          21,
          0,
          0,
          0,
          19
         ],
         "yaxis": "y"
        },
        {
         "hovertemplate": "<b>LOWESS trendline</b><br><br>now_cost=%{x}<br>total_points=%{y} <b>(trend)</b><extra></extra>",
         "legendgroup": "",
         "marker": {
          "symbol": "circle"
         },
         "mode": "lines",
         "name": "",
         "showlegend": false,
         "type": "scatter",
         "x": [
          45,
          45,
          45,
          45,
          45,
          45,
          45,
          45,
          45,
          45,
          46,
          49,
          49,
          49,
          49,
          49,
          49,
          49,
          49,
          50,
          50,
          50,
          50,
          50,
          50,
          50,
          50,
          50,
          50,
          53,
          54,
          54,
          54,
          54,
          54,
          54,
          54,
          55,
          55,
          55,
          55,
          55,
          55,
          57,
          57,
          58,
          59,
          59,
          59,
          59,
          60,
          60,
          62,
          62,
          63,
          65,
          67,
          68,
          68,
          69,
          69,
          69,
          70,
          71,
          72,
          73,
          74,
          76,
          79,
          82,
          83,
          91,
          153
         ],
         "xaxis": "x",
         "y": [
          -0.6422361644348956,
          -0.6422361644348956,
          -0.6422361644348956,
          -0.6422361644348956,
          -0.6422361644348956,
          -0.6422361644348956,
          -0.6422361644348956,
          -0.6422361644348956,
          -0.6422361644348956,
          -0.6422361644348956,
          -0.03987053490250528,
          2.0144398493400333,
          2.0144398493400333,
          2.0144398493400333,
          2.0144398493400333,
          2.0144398493400333,
          2.0144398493400333,
          2.0144398493400333,
          2.0144398493400333,
          2.7516874929970077,
          2.7516874929970077,
          2.7516874929970077,
          2.7516874929970077,
          2.7516874929970077,
          2.7516874929970077,
          2.7516874929970077,
          2.7516874929970077,
          2.7516874929970077,
          2.7516874929970077,
          5.93819118444892,
          7.178267063270542,
          7.178267063270542,
          7.178267063270542,
          7.178267063270542,
          7.178267063270542,
          7.178267063270542,
          7.178267063270542,
          8.435739615476123,
          8.435739615476123,
          8.435739615476123,
          8.435739615476123,
          8.435739615476123,
          8.435739615476123,
          10.522646742447854,
          10.522646742447854,
          11.556662039241093,
          11.912529490767353,
          11.912529490767353,
          11.912529490767353,
          11.912529490767353,
          10.617097450166376,
          10.617097450166376,
          9.142023417604335,
          9.142023417604335,
          8.669783827240645,
          8.473130854377809,
          8.637827109455715,
          8.997391354590471,
          8.997391354590471,
          9.522248900585005,
          9.522248900585005,
          9.522248900585005,
          10.081705092851308,
          10.632146020216355,
          11.28405487329995,
          12.086147660674042,
          12.980811847831353,
          14.870985047085322,
          17.767230301232214,
          20.74651296326801,
          21.767764086273836,
          30.512547617511537,
          66.38311122862376
         ],
         "yaxis": "y"
        }
       ],
       "layout": {
        "coloraxis": {
         "colorbar": {
          "title": {
           "text": "goals_scored"
          }
         },
         "colorscale": [
          [
           0,
           "#0d0887"
          ],
          [
           0.1111111111111111,
           "#46039f"
          ],
          [
           0.2222222222222222,
           "#7201a8"
          ],
          [
           0.3333333333333333,
           "#9c179e"
          ],
          [
           0.4444444444444444,
           "#bd3786"
          ],
          [
           0.5555555555555556,
           "#d8576b"
          ],
          [
           0.6666666666666666,
           "#ed7953"
          ],
          [
           0.7777777777777778,
           "#fb9f3a"
          ],
          [
           0.8888888888888888,
           "#fdca26"
          ],
          [
           1,
           "#f0f921"
          ]
         ]
        },
        "legend": {
         "tracegroupgap": 0
        },
        "margin": {
         "t": 60
        },
        "template": {
         "data": {
          "bar": [
           {
            "error_x": {
             "color": "#2a3f5f"
            },
            "error_y": {
             "color": "#2a3f5f"
            },
            "marker": {
             "line": {
              "color": "#E5ECF6",
              "width": 0.5
             },
             "pattern": {
              "fillmode": "overlay",
              "size": 10,
              "solidity": 0.2
             }
            },
            "type": "bar"
           }
          ],
          "barpolar": [
           {
            "marker": {
             "line": {
              "color": "#E5ECF6",
              "width": 0.5
             },
             "pattern": {
              "fillmode": "overlay",
              "size": 10,
              "solidity": 0.2
             }
            },
            "type": "barpolar"
           }
          ],
          "carpet": [
           {
            "aaxis": {
             "endlinecolor": "#2a3f5f",
             "gridcolor": "white",
             "linecolor": "white",
             "minorgridcolor": "white",
             "startlinecolor": "#2a3f5f"
            },
            "baxis": {
             "endlinecolor": "#2a3f5f",
             "gridcolor": "white",
             "linecolor": "white",
             "minorgridcolor": "white",
             "startlinecolor": "#2a3f5f"
            },
            "type": "carpet"
           }
          ],
          "choropleth": [
           {
            "colorbar": {
             "outlinewidth": 0,
             "ticks": ""
            },
            "type": "choropleth"
           }
          ],
          "contour": [
           {
            "colorbar": {
             "outlinewidth": 0,
             "ticks": ""
            },
            "colorscale": [
             [
              0,
              "#0d0887"
             ],
             [
              0.1111111111111111,
              "#46039f"
             ],
             [
              0.2222222222222222,
              "#7201a8"
             ],
             [
              0.3333333333333333,
              "#9c179e"
             ],
             [
              0.4444444444444444,
              "#bd3786"
             ],
             [
              0.5555555555555556,
              "#d8576b"
             ],
             [
              0.6666666666666666,
              "#ed7953"
             ],
             [
              0.7777777777777778,
              "#fb9f3a"
             ],
             [
              0.8888888888888888,
              "#fdca26"
             ],
             [
              1,
              "#f0f921"
             ]
            ],
            "type": "contour"
           }
          ],
          "contourcarpet": [
           {
            "colorbar": {
             "outlinewidth": 0,
             "ticks": ""
            },
            "type": "contourcarpet"
           }
          ],
          "heatmap": [
           {
            "colorbar": {
             "outlinewidth": 0,
             "ticks": ""
            },
            "colorscale": [
             [
              0,
              "#0d0887"
             ],
             [
              0.1111111111111111,
              "#46039f"
             ],
             [
              0.2222222222222222,
              "#7201a8"
             ],
             [
              0.3333333333333333,
              "#9c179e"
             ],
             [
              0.4444444444444444,
              "#bd3786"
             ],
             [
              0.5555555555555556,
              "#d8576b"
             ],
             [
              0.6666666666666666,
              "#ed7953"
             ],
             [
              0.7777777777777778,
              "#fb9f3a"
             ],
             [
              0.8888888888888888,
              "#fdca26"
             ],
             [
              1,
              "#f0f921"
             ]
            ],
            "type": "heatmap"
           }
          ],
          "heatmapgl": [
           {
            "colorbar": {
             "outlinewidth": 0,
             "ticks": ""
            },
            "colorscale": [
             [
              0,
              "#0d0887"
             ],
             [
              0.1111111111111111,
              "#46039f"
             ],
             [
              0.2222222222222222,
              "#7201a8"
             ],
             [
              0.3333333333333333,
              "#9c179e"
             ],
             [
              0.4444444444444444,
              "#bd3786"
             ],
             [
              0.5555555555555556,
              "#d8576b"
             ],
             [
              0.6666666666666666,
              "#ed7953"
             ],
             [
              0.7777777777777778,
              "#fb9f3a"
             ],
             [
              0.8888888888888888,
              "#fdca26"
             ],
             [
              1,
              "#f0f921"
             ]
            ],
            "type": "heatmapgl"
           }
          ],
          "histogram": [
           {
            "marker": {
             "pattern": {
              "fillmode": "overlay",
              "size": 10,
              "solidity": 0.2
             }
            },
            "type": "histogram"
           }
          ],
          "histogram2d": [
           {
            "colorbar": {
             "outlinewidth": 0,
             "ticks": ""
            },
            "colorscale": [
             [
              0,
              "#0d0887"
             ],
             [
              0.1111111111111111,
              "#46039f"
             ],
             [
              0.2222222222222222,
              "#7201a8"
             ],
             [
              0.3333333333333333,
              "#9c179e"
             ],
             [
              0.4444444444444444,
              "#bd3786"
             ],
             [
              0.5555555555555556,
              "#d8576b"
             ],
             [
              0.6666666666666666,
              "#ed7953"
             ],
             [
              0.7777777777777778,
              "#fb9f3a"
             ],
             [
              0.8888888888888888,
              "#fdca26"
             ],
             [
              1,
              "#f0f921"
             ]
            ],
            "type": "histogram2d"
           }
          ],
          "histogram2dcontour": [
           {
            "colorbar": {
             "outlinewidth": 0,
             "ticks": ""
            },
            "colorscale": [
             [
              0,
              "#0d0887"
             ],
             [
              0.1111111111111111,
              "#46039f"
             ],
             [
              0.2222222222222222,
              "#7201a8"
             ],
             [
              0.3333333333333333,
              "#9c179e"
             ],
             [
              0.4444444444444444,
              "#bd3786"
             ],
             [
              0.5555555555555556,
              "#d8576b"
             ],
             [
              0.6666666666666666,
              "#ed7953"
             ],
             [
              0.7777777777777778,
              "#fb9f3a"
             ],
             [
              0.8888888888888888,
              "#fdca26"
             ],
             [
              1,
              "#f0f921"
             ]
            ],
            "type": "histogram2dcontour"
           }
          ],
          "mesh3d": [
           {
            "colorbar": {
             "outlinewidth": 0,
             "ticks": ""
            },
            "type": "mesh3d"
           }
          ],
          "parcoords": [
           {
            "line": {
             "colorbar": {
              "outlinewidth": 0,
              "ticks": ""
             }
            },
            "type": "parcoords"
           }
          ],
          "pie": [
           {
            "automargin": true,
            "type": "pie"
           }
          ],
          "scatter": [
           {
            "fillpattern": {
             "fillmode": "overlay",
             "size": 10,
             "solidity": 0.2
            },
            "type": "scatter"
           }
          ],
          "scatter3d": [
           {
            "line": {
             "colorbar": {
              "outlinewidth": 0,
              "ticks": ""
             }
            },
            "marker": {
             "colorbar": {
              "outlinewidth": 0,
              "ticks": ""
             }
            },
            "type": "scatter3d"
           }
          ],
          "scattercarpet": [
           {
            "marker": {
             "colorbar": {
              "outlinewidth": 0,
              "ticks": ""
             }
            },
            "type": "scattercarpet"
           }
          ],
          "scattergeo": [
           {
            "marker": {
             "colorbar": {
              "outlinewidth": 0,
              "ticks": ""
             }
            },
            "type": "scattergeo"
           }
          ],
          "scattergl": [
           {
            "marker": {
             "colorbar": {
              "outlinewidth": 0,
              "ticks": ""
             }
            },
            "type": "scattergl"
           }
          ],
          "scattermapbox": [
           {
            "marker": {
             "colorbar": {
              "outlinewidth": 0,
              "ticks": ""
             }
            },
            "type": "scattermapbox"
           }
          ],
          "scatterpolar": [
           {
            "marker": {
             "colorbar": {
              "outlinewidth": 0,
              "ticks": ""
             }
            },
            "type": "scatterpolar"
           }
          ],
          "scatterpolargl": [
           {
            "marker": {
             "colorbar": {
              "outlinewidth": 0,
              "ticks": ""
             }
            },
            "type": "scatterpolargl"
           }
          ],
          "scatterternary": [
           {
            "marker": {
             "colorbar": {
              "outlinewidth": 0,
              "ticks": ""
             }
            },
            "type": "scatterternary"
           }
          ],
          "surface": [
           {
            "colorbar": {
             "outlinewidth": 0,
             "ticks": ""
            },
            "colorscale": [
             [
              0,
              "#0d0887"
             ],
             [
              0.1111111111111111,
              "#46039f"
             ],
             [
              0.2222222222222222,
              "#7201a8"
             ],
             [
              0.3333333333333333,
              "#9c179e"
             ],
             [
              0.4444444444444444,
              "#bd3786"
             ],
             [
              0.5555555555555556,
              "#d8576b"
             ],
             [
              0.6666666666666666,
              "#ed7953"
             ],
             [
              0.7777777777777778,
              "#fb9f3a"
             ],
             [
              0.8888888888888888,
              "#fdca26"
             ],
             [
              1,
              "#f0f921"
             ]
            ],
            "type": "surface"
           }
          ],
          "table": [
           {
            "cells": {
             "fill": {
              "color": "#EBF0F8"
             },
             "line": {
              "color": "white"
             }
            },
            "header": {
             "fill": {
              "color": "#C8D4E3"
             },
             "line": {
              "color": "white"
             }
            },
            "type": "table"
           }
          ]
         },
         "layout": {
          "annotationdefaults": {
           "arrowcolor": "#2a3f5f",
           "arrowhead": 0,
           "arrowwidth": 1
          },
          "autotypenumbers": "strict",
          "coloraxis": {
           "colorbar": {
            "outlinewidth": 0,
            "ticks": ""
           }
          },
          "colorscale": {
           "diverging": [
            [
             0,
             "#8e0152"
            ],
            [
             0.1,
             "#c51b7d"
            ],
            [
             0.2,
             "#de77ae"
            ],
            [
             0.3,
             "#f1b6da"
            ],
            [
             0.4,
             "#fde0ef"
            ],
            [
             0.5,
             "#f7f7f7"
            ],
            [
             0.6,
             "#e6f5d0"
            ],
            [
             0.7,
             "#b8e186"
            ],
            [
             0.8,
             "#7fbc41"
            ],
            [
             0.9,
             "#4d9221"
            ],
            [
             1,
             "#276419"
            ]
           ],
           "sequential": [
            [
             0,
             "#0d0887"
            ],
            [
             0.1111111111111111,
             "#46039f"
            ],
            [
             0.2222222222222222,
             "#7201a8"
            ],
            [
             0.3333333333333333,
             "#9c179e"
            ],
            [
             0.4444444444444444,
             "#bd3786"
            ],
            [
             0.5555555555555556,
             "#d8576b"
            ],
            [
             0.6666666666666666,
             "#ed7953"
            ],
            [
             0.7777777777777778,
             "#fb9f3a"
            ],
            [
             0.8888888888888888,
             "#fdca26"
            ],
            [
             1,
             "#f0f921"
            ]
           ],
           "sequentialminus": [
            [
             0,
             "#0d0887"
            ],
            [
             0.1111111111111111,
             "#46039f"
            ],
            [
             0.2222222222222222,
             "#7201a8"
            ],
            [
             0.3333333333333333,
             "#9c179e"
            ],
            [
             0.4444444444444444,
             "#bd3786"
            ],
            [
             0.5555555555555556,
             "#d8576b"
            ],
            [
             0.6666666666666666,
             "#ed7953"
            ],
            [
             0.7777777777777778,
             "#fb9f3a"
            ],
            [
             0.8888888888888888,
             "#fdca26"
            ],
            [
             1,
             "#f0f921"
            ]
           ]
          },
          "colorway": [
           "#636efa",
           "#EF553B",
           "#00cc96",
           "#ab63fa",
           "#FFA15A",
           "#19d3f3",
           "#FF6692",
           "#B6E880",
           "#FF97FF",
           "#FECB52"
          ],
          "font": {
           "color": "#2a3f5f"
          },
          "geo": {
           "bgcolor": "white",
           "lakecolor": "white",
           "landcolor": "#E5ECF6",
           "showlakes": true,
           "showland": true,
           "subunitcolor": "white"
          },
          "hoverlabel": {
           "align": "left"
          },
          "hovermode": "closest",
          "mapbox": {
           "style": "light"
          },
          "paper_bgcolor": "white",
          "plot_bgcolor": "#E5ECF6",
          "polar": {
           "angularaxis": {
            "gridcolor": "white",
            "linecolor": "white",
            "ticks": ""
           },
           "bgcolor": "#E5ECF6",
           "radialaxis": {
            "gridcolor": "white",
            "linecolor": "white",
            "ticks": ""
           }
          },
          "scene": {
           "xaxis": {
            "backgroundcolor": "#E5ECF6",
            "gridcolor": "white",
            "gridwidth": 2,
            "linecolor": "white",
            "showbackground": true,
            "ticks": "",
            "zerolinecolor": "white"
           },
           "yaxis": {
            "backgroundcolor": "#E5ECF6",
            "gridcolor": "white",
            "gridwidth": 2,
            "linecolor": "white",
            "showbackground": true,
            "ticks": "",
            "zerolinecolor": "white"
           },
           "zaxis": {
            "backgroundcolor": "#E5ECF6",
            "gridcolor": "white",
            "gridwidth": 2,
            "linecolor": "white",
            "showbackground": true,
            "ticks": "",
            "zerolinecolor": "white"
           }
          },
          "shapedefaults": {
           "line": {
            "color": "#2a3f5f"
           }
          },
          "ternary": {
           "aaxis": {
            "gridcolor": "white",
            "linecolor": "white",
            "ticks": ""
           },
           "baxis": {
            "gridcolor": "white",
            "linecolor": "white",
            "ticks": ""
           },
           "bgcolor": "#E5ECF6",
           "caxis": {
            "gridcolor": "white",
            "linecolor": "white",
            "ticks": ""
           }
          },
          "title": {
           "x": 0.05
          },
          "xaxis": {
           "automargin": true,
           "gridcolor": "white",
           "linecolor": "white",
           "ticks": "",
           "title": {
            "standoff": 15
           },
           "zerolinecolor": "white",
           "zerolinewidth": 2
          },
          "yaxis": {
           "automargin": true,
           "gridcolor": "white",
           "linecolor": "white",
           "ticks": "",
           "title": {
            "standoff": 15
           },
           "zerolinecolor": "white",
           "zerolinewidth": 2
          }
         }
        },
        "xaxis": {
         "anchor": "y",
         "domain": [
          0,
          1
         ],
         "title": {
          "text": "now_cost"
         }
        },
        "yaxis": {
         "anchor": "x",
         "domain": [
          0,
          1
         ],
         "title": {
          "text": "total_points"
         }
        }
       }
      },
      "text/html": [
       "<div>                            <div id=\"8102b957-73eb-4dc6-9187-87b8fb7e3b7b\" class=\"plotly-graph-div\" style=\"height:525px; width:100%;\"></div>            <script type=\"text/javascript\">                require([\"plotly\"], function(Plotly) {                    window.PLOTLYENV=window.PLOTLYENV || {};                                    if (document.getElementById(\"8102b957-73eb-4dc6-9187-87b8fb7e3b7b\")) {                    Plotly.newPlot(                        \"8102b957-73eb-4dc6-9187-87b8fb7e3b7b\",                        [{\"customdata\":[[\"Gabriel\",\"Fernando de Jesus\"],[\"Kai\",\"Havertz\"],[\"Jhon\",\"Dur\\u00e1n\"],[\"Ollie\",\"Watkins\"],[\"Enes\",\"\\u00dcnal\"],[\"Daniel\",\"Jebbison\"],[\"Francisco Evanilson\",\"de Lima Barbosa\"],[\"Igor Thiago\",\"Nascimento Rodrigues\"],[\"Ivan\",\"Toney\"],[\"Yoane\",\"Wissa\"],[\"Evan\",\"Ferguson\"],[\"Jo\\u00e3o Pedro\",\"Junqueira de Jesus\"],[\"Mark\",\"O\\u2019Mahony\"],[\"Deniz\",\"Undav\"],[\"Danny\",\"Welbeck\"],[\"David Datro\",\"Fofana\"],[\"Deivid Washington\",\"de Souza Eug\\u00eanio\"],[\"Romelu\",\"Lukaku Bolingoli\"],[\"Marc\",\"Guiu Paz\"],[\"Nicolas\",\"Jackson\"],[\"Eddie\",\"Nketiah\"],[\"Jean-Philippe\",\"Mateta\"],[\"Armando\",\"Broja\"],[\"Norberto Bercique\",\"Gomes Betuncal\"],[\"Dominic\",\"Calvert-Lewin\"],[\"Neal\",\"Maupay\"],[\"Iliman\",\"Ndiaye\"],[\"Youssef\",\"Ramalho Chermiti\"],[\"Rodrigo\",\"Muniz Carvalho\"],[\"Ra\\u00fal\",\"Jim\\u00e9nez\"],[\"Jay\",\"Stansfield\"],[\"Carlos Vin\\u00edcius\",\"Alves Morais\"],[\"Ali\",\"Al-Hamadi\"],[\"Liam\",\"Delap\"],[\"George\",\"Hirst\"],[\"Freddie\",\"Ladapo\"],[\"Odsonne\",\"Edouard\"],[\"Tom\",\"Cannon\"],[\"Patson\",\"Daka\"],[\"Jamie\",\"Vardy\"],[\"Darwin\",\"N\\u00fa\\u00f1ez Ribeiro\"],[\"Cody\",\"Gakpo\"],[\"Erling\",\"Haaland\"],[\"Juli\\u00e1n\",\"\\u00c1lvarez\"],[\"Rasmus\",\"H\\u00f8jlund\"],[\"Joshua\",\"Zirkzee\"],[\"Ethan\",\"Wheatley\"],[\"Alexander\",\"Isak\"],[\"Callum\",\"Wilson\"],[\"William\",\"Osula\"],[\"Taiwo\",\"Awoniyi\"],[\"Emmanuel\",\"Dennis\"],[\"Hwang\",\"Ui-jo\"],[\"Chris\",\"Wood\"],[\"Cameron\",\"Archer\"],[\"Adam\",\"Armstrong\"],[\"S\\u00e9kou\",\"Mara\"],[\"Paul\",\"Onuachu\"],[\"Ross\",\"Stewart\"],[\"Dominic\",\"Solanke-Mitchell\"],[\"Richarlison\",\"de Andrade\"],[\"Dane\",\"Scarlett\"],[\"Alejo\",\"V\\u00e9liz\"],[\"Will\",\"Lankshear\"],[\"Michail\",\"Antonio\"],[\"Danny\",\"Ings\"],[\"Niclas\",\"F\\u00fcllkrug\"],[\"Leon\",\"Chiwome\"],[\"Matheus\",\"Santos Carneiro Da Cunha\"],[\"F\\u00e1bio\",\"Silva\"],[\"Nathan\",\"Fraser\"],[\"Sa\\u0161a\",\"Kalajd\\u017ei\\u0107\"],[\"J\\u00f8rgen\",\"Strand Larsen\"]],\"hovertemplate\":\"now_cost=%{x}\\u003cbr\\u003etotal_points=%{y}\\u003cbr\\u003efirst_name=%{customdata[0]}\\u003cbr\\u003esecond_name=%{customdata[1]}\\u003cbr\\u003egoals_scored=%{marker.color}\\u003cextra\\u003e\\u003c\\u002fextra\\u003e\",\"legendgroup\":\"\",\"marker\":{\"color\":[0,3,4,4,0,0,1,0,0,3,0,2,0,0,3,0,0,0,0,4,0,2,0,0,2,0,1,0,0,3,0,0,0,3,0,0,0,0,0,2,1,0,10,0,0,1,0,1,0,0,0,0,0,3,0,0,0,0,0,2,0,0,0,0,0,1,0,0,2,0,0,0,1],\"coloraxis\":\"coloraxis\",\"symbol\":\"circle\"},\"mode\":\"markers\",\"name\":\"\",\"orientation\":\"v\",\"showlegend\":false,\"x\":[68,82,62,91,54,45,59,59,73,60,55,55,45,55,58,54,50,63,49,79,59,74,54,50,60,49,54,49,59,55,50,50,49,55,54,45,54,45,49,57,72,71,153,70,69,69,45,83,69,50,57,49,45,62,50,53,50,49,46,76,68,45,50,45,54,50,67,45,65,50,45,49,55],\"xaxis\":\"x\",\"y\":[2,32,26,39,3,2,15,0,0,28,3,19,0,0,33,0,0,0,1,40,6,21,0,4,25,0,16,0,12,27,1,0,1,25,3,0,5,0,0,22,9,5,65,0,2,15,0,19,0,1,4,0,0,31,5,5,0,0,2,16,2,0,0,0,12,10,3,0,21,0,0,0,19],\"yaxis\":\"y\",\"type\":\"scatter\"},{\"hovertemplate\":\"\\u003cb\\u003eLOWESS trendline\\u003c\\u002fb\\u003e\\u003cbr\\u003e\\u003cbr\\u003enow_cost=%{x}\\u003cbr\\u003etotal_points=%{y} \\u003cb\\u003e(trend)\\u003c\\u002fb\\u003e\\u003cextra\\u003e\\u003c\\u002fextra\\u003e\",\"legendgroup\":\"\",\"marker\":{\"symbol\":\"circle\"},\"mode\":\"lines\",\"name\":\"\",\"showlegend\":false,\"x\":[45,45,45,45,45,45,45,45,45,45,46,49,49,49,49,49,49,49,49,50,50,50,50,50,50,50,50,50,50,53,54,54,54,54,54,54,54,55,55,55,55,55,55,57,57,58,59,59,59,59,60,60,62,62,63,65,67,68,68,69,69,69,70,71,72,73,74,76,79,82,83,91,153],\"xaxis\":\"x\",\"y\":[-0.6422361644348956,-0.6422361644348956,-0.6422361644348956,-0.6422361644348956,-0.6422361644348956,-0.6422361644348956,-0.6422361644348956,-0.6422361644348956,-0.6422361644348956,-0.6422361644348956,-0.03987053490250528,2.0144398493400333,2.0144398493400333,2.0144398493400333,2.0144398493400333,2.0144398493400333,2.0144398493400333,2.0144398493400333,2.0144398493400333,2.7516874929970077,2.7516874929970077,2.7516874929970077,2.7516874929970077,2.7516874929970077,2.7516874929970077,2.7516874929970077,2.7516874929970077,2.7516874929970077,2.7516874929970077,5.93819118444892,7.178267063270542,7.178267063270542,7.178267063270542,7.178267063270542,7.178267063270542,7.178267063270542,7.178267063270542,8.435739615476123,8.435739615476123,8.435739615476123,8.435739615476123,8.435739615476123,8.435739615476123,10.522646742447854,10.522646742447854,11.556662039241093,11.912529490767353,11.912529490767353,11.912529490767353,11.912529490767353,10.617097450166376,10.617097450166376,9.142023417604335,9.142023417604335,8.669783827240645,8.473130854377809,8.637827109455715,8.997391354590471,8.997391354590471,9.522248900585005,9.522248900585005,9.522248900585005,10.081705092851308,10.632146020216355,11.28405487329995,12.086147660674042,12.980811847831353,14.870985047085322,17.767230301232214,20.74651296326801,21.767764086273836,30.512547617511537,66.38311122862376],\"yaxis\":\"y\",\"type\":\"scatter\"}],                        {\"template\":{\"data\":{\"histogram2dcontour\":[{\"type\":\"histogram2dcontour\",\"colorbar\":{\"outlinewidth\":0,\"ticks\":\"\"},\"colorscale\":[[0.0,\"#0d0887\"],[0.1111111111111111,\"#46039f\"],[0.2222222222222222,\"#7201a8\"],[0.3333333333333333,\"#9c179e\"],[0.4444444444444444,\"#bd3786\"],[0.5555555555555556,\"#d8576b\"],[0.6666666666666666,\"#ed7953\"],[0.7777777777777778,\"#fb9f3a\"],[0.8888888888888888,\"#fdca26\"],[1.0,\"#f0f921\"]]}],\"choropleth\":[{\"type\":\"choropleth\",\"colorbar\":{\"outlinewidth\":0,\"ticks\":\"\"}}],\"histogram2d\":[{\"type\":\"histogram2d\",\"colorbar\":{\"outlinewidth\":0,\"ticks\":\"\"},\"colorscale\":[[0.0,\"#0d0887\"],[0.1111111111111111,\"#46039f\"],[0.2222222222222222,\"#7201a8\"],[0.3333333333333333,\"#9c179e\"],[0.4444444444444444,\"#bd3786\"],[0.5555555555555556,\"#d8576b\"],[0.6666666666666666,\"#ed7953\"],[0.7777777777777778,\"#fb9f3a\"],[0.8888888888888888,\"#fdca26\"],[1.0,\"#f0f921\"]]}],\"heatmap\":[{\"type\":\"heatmap\",\"colorbar\":{\"outlinewidth\":0,\"ticks\":\"\"},\"colorscale\":[[0.0,\"#0d0887\"],[0.1111111111111111,\"#46039f\"],[0.2222222222222222,\"#7201a8\"],[0.3333333333333333,\"#9c179e\"],[0.4444444444444444,\"#bd3786\"],[0.5555555555555556,\"#d8576b\"],[0.6666666666666666,\"#ed7953\"],[0.7777777777777778,\"#fb9f3a\"],[0.8888888888888888,\"#fdca26\"],[1.0,\"#f0f921\"]]}],\"heatmapgl\":[{\"type\":\"heatmapgl\",\"colorbar\":{\"outlinewidth\":0,\"ticks\":\"\"},\"colorscale\":[[0.0,\"#0d0887\"],[0.1111111111111111,\"#46039f\"],[0.2222222222222222,\"#7201a8\"],[0.3333333333333333,\"#9c179e\"],[0.4444444444444444,\"#bd3786\"],[0.5555555555555556,\"#d8576b\"],[0.6666666666666666,\"#ed7953\"],[0.7777777777777778,\"#fb9f3a\"],[0.8888888888888888,\"#fdca26\"],[1.0,\"#f0f921\"]]}],\"contourcarpet\":[{\"type\":\"contourcarpet\",\"colorbar\":{\"outlinewidth\":0,\"ticks\":\"\"}}],\"contour\":[{\"type\":\"contour\",\"colorbar\":{\"outlinewidth\":0,\"ticks\":\"\"},\"colorscale\":[[0.0,\"#0d0887\"],[0.1111111111111111,\"#46039f\"],[0.2222222222222222,\"#7201a8\"],[0.3333333333333333,\"#9c179e\"],[0.4444444444444444,\"#bd3786\"],[0.5555555555555556,\"#d8576b\"],[0.6666666666666666,\"#ed7953\"],[0.7777777777777778,\"#fb9f3a\"],[0.8888888888888888,\"#fdca26\"],[1.0,\"#f0f921\"]]}],\"surface\":[{\"type\":\"surface\",\"colorbar\":{\"outlinewidth\":0,\"ticks\":\"\"},\"colorscale\":[[0.0,\"#0d0887\"],[0.1111111111111111,\"#46039f\"],[0.2222222222222222,\"#7201a8\"],[0.3333333333333333,\"#9c179e\"],[0.4444444444444444,\"#bd3786\"],[0.5555555555555556,\"#d8576b\"],[0.6666666666666666,\"#ed7953\"],[0.7777777777777778,\"#fb9f3a\"],[0.8888888888888888,\"#fdca26\"],[1.0,\"#f0f921\"]]}],\"mesh3d\":[{\"type\":\"mesh3d\",\"colorbar\":{\"outlinewidth\":0,\"ticks\":\"\"}}],\"scatter\":[{\"fillpattern\":{\"fillmode\":\"overlay\",\"size\":10,\"solidity\":0.2},\"type\":\"scatter\"}],\"parcoords\":[{\"type\":\"parcoords\",\"line\":{\"colorbar\":{\"outlinewidth\":0,\"ticks\":\"\"}}}],\"scatterpolargl\":[{\"type\":\"scatterpolargl\",\"marker\":{\"colorbar\":{\"outlinewidth\":0,\"ticks\":\"\"}}}],\"bar\":[{\"error_x\":{\"color\":\"#2a3f5f\"},\"error_y\":{\"color\":\"#2a3f5f\"},\"marker\":{\"line\":{\"color\":\"#E5ECF6\",\"width\":0.5},\"pattern\":{\"fillmode\":\"overlay\",\"size\":10,\"solidity\":0.2}},\"type\":\"bar\"}],\"scattergeo\":[{\"type\":\"scattergeo\",\"marker\":{\"colorbar\":{\"outlinewidth\":0,\"ticks\":\"\"}}}],\"scatterpolar\":[{\"type\":\"scatterpolar\",\"marker\":{\"colorbar\":{\"outlinewidth\":0,\"ticks\":\"\"}}}],\"histogram\":[{\"marker\":{\"pattern\":{\"fillmode\":\"overlay\",\"size\":10,\"solidity\":0.2}},\"type\":\"histogram\"}],\"scattergl\":[{\"type\":\"scattergl\",\"marker\":{\"colorbar\":{\"outlinewidth\":0,\"ticks\":\"\"}}}],\"scatter3d\":[{\"type\":\"scatter3d\",\"line\":{\"colorbar\":{\"outlinewidth\":0,\"ticks\":\"\"}},\"marker\":{\"colorbar\":{\"outlinewidth\":0,\"ticks\":\"\"}}}],\"scattermapbox\":[{\"type\":\"scattermapbox\",\"marker\":{\"colorbar\":{\"outlinewidth\":0,\"ticks\":\"\"}}}],\"scatterternary\":[{\"type\":\"scatterternary\",\"marker\":{\"colorbar\":{\"outlinewidth\":0,\"ticks\":\"\"}}}],\"scattercarpet\":[{\"type\":\"scattercarpet\",\"marker\":{\"colorbar\":{\"outlinewidth\":0,\"ticks\":\"\"}}}],\"carpet\":[{\"aaxis\":{\"endlinecolor\":\"#2a3f5f\",\"gridcolor\":\"white\",\"linecolor\":\"white\",\"minorgridcolor\":\"white\",\"startlinecolor\":\"#2a3f5f\"},\"baxis\":{\"endlinecolor\":\"#2a3f5f\",\"gridcolor\":\"white\",\"linecolor\":\"white\",\"minorgridcolor\":\"white\",\"startlinecolor\":\"#2a3f5f\"},\"type\":\"carpet\"}],\"table\":[{\"cells\":{\"fill\":{\"color\":\"#EBF0F8\"},\"line\":{\"color\":\"white\"}},\"header\":{\"fill\":{\"color\":\"#C8D4E3\"},\"line\":{\"color\":\"white\"}},\"type\":\"table\"}],\"barpolar\":[{\"marker\":{\"line\":{\"color\":\"#E5ECF6\",\"width\":0.5},\"pattern\":{\"fillmode\":\"overlay\",\"size\":10,\"solidity\":0.2}},\"type\":\"barpolar\"}],\"pie\":[{\"automargin\":true,\"type\":\"pie\"}]},\"layout\":{\"autotypenumbers\":\"strict\",\"colorway\":[\"#636efa\",\"#EF553B\",\"#00cc96\",\"#ab63fa\",\"#FFA15A\",\"#19d3f3\",\"#FF6692\",\"#B6E880\",\"#FF97FF\",\"#FECB52\"],\"font\":{\"color\":\"#2a3f5f\"},\"hovermode\":\"closest\",\"hoverlabel\":{\"align\":\"left\"},\"paper_bgcolor\":\"white\",\"plot_bgcolor\":\"#E5ECF6\",\"polar\":{\"bgcolor\":\"#E5ECF6\",\"angularaxis\":{\"gridcolor\":\"white\",\"linecolor\":\"white\",\"ticks\":\"\"},\"radialaxis\":{\"gridcolor\":\"white\",\"linecolor\":\"white\",\"ticks\":\"\"}},\"ternary\":{\"bgcolor\":\"#E5ECF6\",\"aaxis\":{\"gridcolor\":\"white\",\"linecolor\":\"white\",\"ticks\":\"\"},\"baxis\":{\"gridcolor\":\"white\",\"linecolor\":\"white\",\"ticks\":\"\"},\"caxis\":{\"gridcolor\":\"white\",\"linecolor\":\"white\",\"ticks\":\"\"}},\"coloraxis\":{\"colorbar\":{\"outlinewidth\":0,\"ticks\":\"\"}},\"colorscale\":{\"sequential\":[[0.0,\"#0d0887\"],[0.1111111111111111,\"#46039f\"],[0.2222222222222222,\"#7201a8\"],[0.3333333333333333,\"#9c179e\"],[0.4444444444444444,\"#bd3786\"],[0.5555555555555556,\"#d8576b\"],[0.6666666666666666,\"#ed7953\"],[0.7777777777777778,\"#fb9f3a\"],[0.8888888888888888,\"#fdca26\"],[1.0,\"#f0f921\"]],\"sequentialminus\":[[0.0,\"#0d0887\"],[0.1111111111111111,\"#46039f\"],[0.2222222222222222,\"#7201a8\"],[0.3333333333333333,\"#9c179e\"],[0.4444444444444444,\"#bd3786\"],[0.5555555555555556,\"#d8576b\"],[0.6666666666666666,\"#ed7953\"],[0.7777777777777778,\"#fb9f3a\"],[0.8888888888888888,\"#fdca26\"],[1.0,\"#f0f921\"]],\"diverging\":[[0,\"#8e0152\"],[0.1,\"#c51b7d\"],[0.2,\"#de77ae\"],[0.3,\"#f1b6da\"],[0.4,\"#fde0ef\"],[0.5,\"#f7f7f7\"],[0.6,\"#e6f5d0\"],[0.7,\"#b8e186\"],[0.8,\"#7fbc41\"],[0.9,\"#4d9221\"],[1,\"#276419\"]]},\"xaxis\":{\"gridcolor\":\"white\",\"linecolor\":\"white\",\"ticks\":\"\",\"title\":{\"standoff\":15},\"zerolinecolor\":\"white\",\"automargin\":true,\"zerolinewidth\":2},\"yaxis\":{\"gridcolor\":\"white\",\"linecolor\":\"white\",\"ticks\":\"\",\"title\":{\"standoff\":15},\"zerolinecolor\":\"white\",\"automargin\":true,\"zerolinewidth\":2},\"scene\":{\"xaxis\":{\"backgroundcolor\":\"#E5ECF6\",\"gridcolor\":\"white\",\"linecolor\":\"white\",\"showbackground\":true,\"ticks\":\"\",\"zerolinecolor\":\"white\",\"gridwidth\":2},\"yaxis\":{\"backgroundcolor\":\"#E5ECF6\",\"gridcolor\":\"white\",\"linecolor\":\"white\",\"showbackground\":true,\"ticks\":\"\",\"zerolinecolor\":\"white\",\"gridwidth\":2},\"zaxis\":{\"backgroundcolor\":\"#E5ECF6\",\"gridcolor\":\"white\",\"linecolor\":\"white\",\"showbackground\":true,\"ticks\":\"\",\"zerolinecolor\":\"white\",\"gridwidth\":2}},\"shapedefaults\":{\"line\":{\"color\":\"#2a3f5f\"}},\"annotationdefaults\":{\"arrowcolor\":\"#2a3f5f\",\"arrowhead\":0,\"arrowwidth\":1},\"geo\":{\"bgcolor\":\"white\",\"landcolor\":\"#E5ECF6\",\"subunitcolor\":\"white\",\"showland\":true,\"showlakes\":true,\"lakecolor\":\"white\"},\"title\":{\"x\":0.05},\"mapbox\":{\"style\":\"light\"}}},\"xaxis\":{\"anchor\":\"y\",\"domain\":[0.0,1.0],\"title\":{\"text\":\"now_cost\"}},\"yaxis\":{\"anchor\":\"x\",\"domain\":[0.0,1.0],\"title\":{\"text\":\"total_points\"}},\"coloraxis\":{\"colorbar\":{\"title\":{\"text\":\"goals_scored\"}},\"colorscale\":[[0.0,\"#0d0887\"],[0.1111111111111111,\"#46039f\"],[0.2222222222222222,\"#7201a8\"],[0.3333333333333333,\"#9c179e\"],[0.4444444444444444,\"#bd3786\"],[0.5555555555555556,\"#d8576b\"],[0.6666666666666666,\"#ed7953\"],[0.7777777777777778,\"#fb9f3a\"],[0.8888888888888888,\"#fdca26\"],[1.0,\"#f0f921\"]]},\"legend\":{\"tracegroupgap\":0},\"margin\":{\"t\":60}},                        {\"responsive\": true}                    ).then(function(){\n",
       "                            \n",
       "var gd = document.getElementById('8102b957-73eb-4dc6-9187-87b8fb7e3b7b');\n",
       "var x = new MutationObserver(function (mutations, observer) {{\n",
       "        var display = window.getComputedStyle(gd).display;\n",
       "        if (!display || display === 'none') {{\n",
       "            console.log([gd, 'removed!']);\n",
       "            Plotly.purge(gd);\n",
       "            observer.disconnect();\n",
       "        }}\n",
       "}});\n",
       "\n",
       "// Listen for the removal of the full notebook cells\n",
       "var notebookContainer = gd.closest('#notebook-container');\n",
       "if (notebookContainer) {{\n",
       "    x.observe(notebookContainer, {childList: true});\n",
       "}}\n",
       "\n",
       "// Listen for the clearing of the current output cell\n",
       "var outputEl = gd.closest('.output');\n",
       "if (outputEl) {{\n",
       "    x.observe(outputEl, {childList: true});\n",
       "}}\n",
       "\n",
       "                        })                };                });            </script>        </div>"
      ]
     },
     "metadata": {},
     "output_type": "display_data"
    }
   ],
   "source": [
    "# LOWESS\n",
    "forwards.plot.scatter(x=\"now_cost\", y=\"total_points\", hover_data=[\"first_name\", \"second_name\"], color='goals_scored', trendline=\"lowess\")"
   ]
  },
  {
   "cell_type": "markdown",
   "metadata": {},
   "source": [
    "Forwards by creativity"
   ]
  },
  {
   "cell_type": "code",
   "execution_count": 73,
   "metadata": {},
   "outputs": [
    {
     "data": {
      "application/vnd.plotly.v1+json": {
       "config": {
        "plotlyServerURL": "https://plot.ly"
       },
       "data": [
        {
         "customdata": [
          [
           "Gabriel",
           "Fernando de Jesus"
          ],
          [
           "Kai",
           "Havertz"
          ],
          [
           "Jhon",
           "Durán"
          ],
          [
           "Ollie",
           "Watkins"
          ],
          [
           "Enes",
           "Ünal"
          ],
          [
           "Daniel",
           "Jebbison"
          ],
          [
           "Francisco Evanilson",
           "de Lima Barbosa"
          ],
          [
           "Igor Thiago",
           "Nascimento Rodrigues"
          ],
          [
           "Ivan",
           "Toney"
          ],
          [
           "Yoane",
           "Wissa"
          ],
          [
           "Evan",
           "Ferguson"
          ],
          [
           "João Pedro",
           "Junqueira de Jesus"
          ],
          [
           "Mark",
           "O’Mahony"
          ],
          [
           "Deniz",
           "Undav"
          ],
          [
           "Danny",
           "Welbeck"
          ],
          [
           "David Datro",
           "Fofana"
          ],
          [
           "Deivid Washington",
           "de Souza Eugênio"
          ],
          [
           "Romelu",
           "Lukaku Bolingoli"
          ],
          [
           "Marc",
           "Guiu Paz"
          ],
          [
           "Nicolas",
           "Jackson"
          ],
          [
           "Eddie",
           "Nketiah"
          ],
          [
           "Jean-Philippe",
           "Mateta"
          ],
          [
           "Armando",
           "Broja"
          ],
          [
           "Norberto Bercique",
           "Gomes Betuncal"
          ],
          [
           "Dominic",
           "Calvert-Lewin"
          ],
          [
           "Neal",
           "Maupay"
          ],
          [
           "Iliman",
           "Ndiaye"
          ],
          [
           "Youssef",
           "Ramalho Chermiti"
          ],
          [
           "Rodrigo",
           "Muniz Carvalho"
          ],
          [
           "Raúl",
           "Jiménez"
          ],
          [
           "Jay",
           "Stansfield"
          ],
          [
           "Carlos Vinícius",
           "Alves Morais"
          ],
          [
           "Ali",
           "Al-Hamadi"
          ],
          [
           "Liam",
           "Delap"
          ],
          [
           "George",
           "Hirst"
          ],
          [
           "Freddie",
           "Ladapo"
          ],
          [
           "Odsonne",
           "Edouard"
          ],
          [
           "Tom",
           "Cannon"
          ],
          [
           "Patson",
           "Daka"
          ],
          [
           "Jamie",
           "Vardy"
          ],
          [
           "Darwin",
           "Núñez Ribeiro"
          ],
          [
           "Cody",
           "Gakpo"
          ],
          [
           "Erling",
           "Haaland"
          ],
          [
           "Julián",
           "Álvarez"
          ],
          [
           "Rasmus",
           "Højlund"
          ],
          [
           "Joshua",
           "Zirkzee"
          ],
          [
           "Ethan",
           "Wheatley"
          ],
          [
           "Alexander",
           "Isak"
          ],
          [
           "Callum",
           "Wilson"
          ],
          [
           "William",
           "Osula"
          ],
          [
           "Taiwo",
           "Awoniyi"
          ],
          [
           "Emmanuel",
           "Dennis"
          ],
          [
           "Hwang",
           "Ui-jo"
          ],
          [
           "Chris",
           "Wood"
          ],
          [
           "Cameron",
           "Archer"
          ],
          [
           "Adam",
           "Armstrong"
          ],
          [
           "Sékou",
           "Mara"
          ],
          [
           "Paul",
           "Onuachu"
          ],
          [
           "Ross",
           "Stewart"
          ],
          [
           "Dominic",
           "Solanke-Mitchell"
          ],
          [
           "Richarlison",
           "de Andrade"
          ],
          [
           "Dane",
           "Scarlett"
          ],
          [
           "Alejo",
           "Véliz"
          ],
          [
           "Will",
           "Lankshear"
          ],
          [
           "Michail",
           "Antonio"
          ],
          [
           "Danny",
           "Ings"
          ],
          [
           "Niclas",
           "Füllkrug"
          ],
          [
           "Leon",
           "Chiwome"
          ],
          [
           "Matheus",
           "Santos Carneiro Da Cunha"
          ],
          [
           "Fábio",
           "Silva"
          ],
          [
           "Nathan",
           "Fraser"
          ],
          [
           "Saša",
           "Kalajdžić"
          ],
          [
           "Jørgen",
           "Strand Larsen"
          ]
         ],
         "hovertemplate": "now_cost=%{x}<br>creativity=%{y}<br>first_name=%{customdata[0]}<br>second_name=%{customdata[1]}<br>goals_scored=%{marker.color}<extra></extra>",
         "legendgroup": "",
         "marker": {
          "color": [
           0,
           3,
           4,
           4,
           0,
           0,
           1,
           0,
           0,
           3,
           0,
           2,
           0,
           0,
           3,
           0,
           0,
           0,
           0,
           4,
           0,
           2,
           0,
           0,
           2,
           0,
           1,
           0,
           0,
           3,
           0,
           0,
           0,
           3,
           0,
           0,
           0,
           0,
           0,
           2,
           1,
           0,
           10,
           0,
           0,
           1,
           0,
           1,
           0,
           0,
           0,
           0,
           0,
           3,
           0,
           0,
           0,
           0,
           0,
           2,
           0,
           0,
           0,
           0,
           0,
           1,
           0,
           0,
           2,
           0,
           0,
           0,
           1
          ],
          "coloraxis": "coloraxis",
          "symbol": "circle"
         },
         "mode": "markers",
         "name": "",
         "orientation": "v",
         "showlegend": false,
         "type": "scatter",
         "x": [
          68,
          82,
          62,
          91,
          54,
          45,
          59,
          59,
          73,
          60,
          55,
          55,
          45,
          55,
          58,
          54,
          50,
          63,
          49,
          79,
          59,
          74,
          54,
          50,
          60,
          49,
          54,
          49,
          59,
          55,
          50,
          50,
          49,
          55,
          54,
          45,
          54,
          45,
          49,
          57,
          72,
          71,
          153,
          70,
          69,
          69,
          45,
          83,
          69,
          50,
          57,
          49,
          45,
          62,
          50,
          53,
          50,
          49,
          46,
          76,
          68,
          45,
          50,
          45,
          54,
          50,
          67,
          45,
          65,
          50,
          45,
          49,
          55
         ],
         "xaxis": "x",
         "y": [
          0.8,
          68.9,
          20.3,
          67.1,
          21.2,
          10.6,
          40.7,
          0,
          0,
          56.9,
          0.6,
          50.6,
          0,
          0,
          86.7,
          0,
          0,
          0,
          0.3,
          87.5,
          18.1,
          55.6,
          0,
          0.3,
          33.3,
          0,
          70.8,
          0,
          52.9,
          31.1,
          0,
          0,
          11.5,
          40,
          11.6,
          0,
          23.5,
          0,
          0,
          40.5,
          17.8,
          36.4,
          29.3,
          0,
          0.8,
          70.4,
          0,
          51.9,
          0,
          0,
          3.8,
          0,
          0,
          42.1,
          9.6,
          16.7,
          0,
          0,
          6.7,
          41.2,
          2.2,
          0,
          0,
          0,
          26.1,
          0.8,
          2.5,
          0,
          153.4,
          0,
          0,
          0,
          56.4
         ],
         "yaxis": "y"
        }
       ],
       "layout": {
        "coloraxis": {
         "colorbar": {
          "title": {
           "text": "goals_scored"
          }
         },
         "colorscale": [
          [
           0,
           "#0d0887"
          ],
          [
           0.1111111111111111,
           "#46039f"
          ],
          [
           0.2222222222222222,
           "#7201a8"
          ],
          [
           0.3333333333333333,
           "#9c179e"
          ],
          [
           0.4444444444444444,
           "#bd3786"
          ],
          [
           0.5555555555555556,
           "#d8576b"
          ],
          [
           0.6666666666666666,
           "#ed7953"
          ],
          [
           0.7777777777777778,
           "#fb9f3a"
          ],
          [
           0.8888888888888888,
           "#fdca26"
          ],
          [
           1,
           "#f0f921"
          ]
         ]
        },
        "legend": {
         "tracegroupgap": 0
        },
        "margin": {
         "t": 60
        },
        "template": {
         "data": {
          "bar": [
           {
            "error_x": {
             "color": "#2a3f5f"
            },
            "error_y": {
             "color": "#2a3f5f"
            },
            "marker": {
             "line": {
              "color": "#E5ECF6",
              "width": 0.5
             },
             "pattern": {
              "fillmode": "overlay",
              "size": 10,
              "solidity": 0.2
             }
            },
            "type": "bar"
           }
          ],
          "barpolar": [
           {
            "marker": {
             "line": {
              "color": "#E5ECF6",
              "width": 0.5
             },
             "pattern": {
              "fillmode": "overlay",
              "size": 10,
              "solidity": 0.2
             }
            },
            "type": "barpolar"
           }
          ],
          "carpet": [
           {
            "aaxis": {
             "endlinecolor": "#2a3f5f",
             "gridcolor": "white",
             "linecolor": "white",
             "minorgridcolor": "white",
             "startlinecolor": "#2a3f5f"
            },
            "baxis": {
             "endlinecolor": "#2a3f5f",
             "gridcolor": "white",
             "linecolor": "white",
             "minorgridcolor": "white",
             "startlinecolor": "#2a3f5f"
            },
            "type": "carpet"
           }
          ],
          "choropleth": [
           {
            "colorbar": {
             "outlinewidth": 0,
             "ticks": ""
            },
            "type": "choropleth"
           }
          ],
          "contour": [
           {
            "colorbar": {
             "outlinewidth": 0,
             "ticks": ""
            },
            "colorscale": [
             [
              0,
              "#0d0887"
             ],
             [
              0.1111111111111111,
              "#46039f"
             ],
             [
              0.2222222222222222,
              "#7201a8"
             ],
             [
              0.3333333333333333,
              "#9c179e"
             ],
             [
              0.4444444444444444,
              "#bd3786"
             ],
             [
              0.5555555555555556,
              "#d8576b"
             ],
             [
              0.6666666666666666,
              "#ed7953"
             ],
             [
              0.7777777777777778,
              "#fb9f3a"
             ],
             [
              0.8888888888888888,
              "#fdca26"
             ],
             [
              1,
              "#f0f921"
             ]
            ],
            "type": "contour"
           }
          ],
          "contourcarpet": [
           {
            "colorbar": {
             "outlinewidth": 0,
             "ticks": ""
            },
            "type": "contourcarpet"
           }
          ],
          "heatmap": [
           {
            "colorbar": {
             "outlinewidth": 0,
             "ticks": ""
            },
            "colorscale": [
             [
              0,
              "#0d0887"
             ],
             [
              0.1111111111111111,
              "#46039f"
             ],
             [
              0.2222222222222222,
              "#7201a8"
             ],
             [
              0.3333333333333333,
              "#9c179e"
             ],
             [
              0.4444444444444444,
              "#bd3786"
             ],
             [
              0.5555555555555556,
              "#d8576b"
             ],
             [
              0.6666666666666666,
              "#ed7953"
             ],
             [
              0.7777777777777778,
              "#fb9f3a"
             ],
             [
              0.8888888888888888,
              "#fdca26"
             ],
             [
              1,
              "#f0f921"
             ]
            ],
            "type": "heatmap"
           }
          ],
          "heatmapgl": [
           {
            "colorbar": {
             "outlinewidth": 0,
             "ticks": ""
            },
            "colorscale": [
             [
              0,
              "#0d0887"
             ],
             [
              0.1111111111111111,
              "#46039f"
             ],
             [
              0.2222222222222222,
              "#7201a8"
             ],
             [
              0.3333333333333333,
              "#9c179e"
             ],
             [
              0.4444444444444444,
              "#bd3786"
             ],
             [
              0.5555555555555556,
              "#d8576b"
             ],
             [
              0.6666666666666666,
              "#ed7953"
             ],
             [
              0.7777777777777778,
              "#fb9f3a"
             ],
             [
              0.8888888888888888,
              "#fdca26"
             ],
             [
              1,
              "#f0f921"
             ]
            ],
            "type": "heatmapgl"
           }
          ],
          "histogram": [
           {
            "marker": {
             "pattern": {
              "fillmode": "overlay",
              "size": 10,
              "solidity": 0.2
             }
            },
            "type": "histogram"
           }
          ],
          "histogram2d": [
           {
            "colorbar": {
             "outlinewidth": 0,
             "ticks": ""
            },
            "colorscale": [
             [
              0,
              "#0d0887"
             ],
             [
              0.1111111111111111,
              "#46039f"
             ],
             [
              0.2222222222222222,
              "#7201a8"
             ],
             [
              0.3333333333333333,
              "#9c179e"
             ],
             [
              0.4444444444444444,
              "#bd3786"
             ],
             [
              0.5555555555555556,
              "#d8576b"
             ],
             [
              0.6666666666666666,
              "#ed7953"
             ],
             [
              0.7777777777777778,
              "#fb9f3a"
             ],
             [
              0.8888888888888888,
              "#fdca26"
             ],
             [
              1,
              "#f0f921"
             ]
            ],
            "type": "histogram2d"
           }
          ],
          "histogram2dcontour": [
           {
            "colorbar": {
             "outlinewidth": 0,
             "ticks": ""
            },
            "colorscale": [
             [
              0,
              "#0d0887"
             ],
             [
              0.1111111111111111,
              "#46039f"
             ],
             [
              0.2222222222222222,
              "#7201a8"
             ],
             [
              0.3333333333333333,
              "#9c179e"
             ],
             [
              0.4444444444444444,
              "#bd3786"
             ],
             [
              0.5555555555555556,
              "#d8576b"
             ],
             [
              0.6666666666666666,
              "#ed7953"
             ],
             [
              0.7777777777777778,
              "#fb9f3a"
             ],
             [
              0.8888888888888888,
              "#fdca26"
             ],
             [
              1,
              "#f0f921"
             ]
            ],
            "type": "histogram2dcontour"
           }
          ],
          "mesh3d": [
           {
            "colorbar": {
             "outlinewidth": 0,
             "ticks": ""
            },
            "type": "mesh3d"
           }
          ],
          "parcoords": [
           {
            "line": {
             "colorbar": {
              "outlinewidth": 0,
              "ticks": ""
             }
            },
            "type": "parcoords"
           }
          ],
          "pie": [
           {
            "automargin": true,
            "type": "pie"
           }
          ],
          "scatter": [
           {
            "fillpattern": {
             "fillmode": "overlay",
             "size": 10,
             "solidity": 0.2
            },
            "type": "scatter"
           }
          ],
          "scatter3d": [
           {
            "line": {
             "colorbar": {
              "outlinewidth": 0,
              "ticks": ""
             }
            },
            "marker": {
             "colorbar": {
              "outlinewidth": 0,
              "ticks": ""
             }
            },
            "type": "scatter3d"
           }
          ],
          "scattercarpet": [
           {
            "marker": {
             "colorbar": {
              "outlinewidth": 0,
              "ticks": ""
             }
            },
            "type": "scattercarpet"
           }
          ],
          "scattergeo": [
           {
            "marker": {
             "colorbar": {
              "outlinewidth": 0,
              "ticks": ""
             }
            },
            "type": "scattergeo"
           }
          ],
          "scattergl": [
           {
            "marker": {
             "colorbar": {
              "outlinewidth": 0,
              "ticks": ""
             }
            },
            "type": "scattergl"
           }
          ],
          "scattermapbox": [
           {
            "marker": {
             "colorbar": {
              "outlinewidth": 0,
              "ticks": ""
             }
            },
            "type": "scattermapbox"
           }
          ],
          "scatterpolar": [
           {
            "marker": {
             "colorbar": {
              "outlinewidth": 0,
              "ticks": ""
             }
            },
            "type": "scatterpolar"
           }
          ],
          "scatterpolargl": [
           {
            "marker": {
             "colorbar": {
              "outlinewidth": 0,
              "ticks": ""
             }
            },
            "type": "scatterpolargl"
           }
          ],
          "scatterternary": [
           {
            "marker": {
             "colorbar": {
              "outlinewidth": 0,
              "ticks": ""
             }
            },
            "type": "scatterternary"
           }
          ],
          "surface": [
           {
            "colorbar": {
             "outlinewidth": 0,
             "ticks": ""
            },
            "colorscale": [
             [
              0,
              "#0d0887"
             ],
             [
              0.1111111111111111,
              "#46039f"
             ],
             [
              0.2222222222222222,
              "#7201a8"
             ],
             [
              0.3333333333333333,
              "#9c179e"
             ],
             [
              0.4444444444444444,
              "#bd3786"
             ],
             [
              0.5555555555555556,
              "#d8576b"
             ],
             [
              0.6666666666666666,
              "#ed7953"
             ],
             [
              0.7777777777777778,
              "#fb9f3a"
             ],
             [
              0.8888888888888888,
              "#fdca26"
             ],
             [
              1,
              "#f0f921"
             ]
            ],
            "type": "surface"
           }
          ],
          "table": [
           {
            "cells": {
             "fill": {
              "color": "#EBF0F8"
             },
             "line": {
              "color": "white"
             }
            },
            "header": {
             "fill": {
              "color": "#C8D4E3"
             },
             "line": {
              "color": "white"
             }
            },
            "type": "table"
           }
          ]
         },
         "layout": {
          "annotationdefaults": {
           "arrowcolor": "#2a3f5f",
           "arrowhead": 0,
           "arrowwidth": 1
          },
          "autotypenumbers": "strict",
          "coloraxis": {
           "colorbar": {
            "outlinewidth": 0,
            "ticks": ""
           }
          },
          "colorscale": {
           "diverging": [
            [
             0,
             "#8e0152"
            ],
            [
             0.1,
             "#c51b7d"
            ],
            [
             0.2,
             "#de77ae"
            ],
            [
             0.3,
             "#f1b6da"
            ],
            [
             0.4,
             "#fde0ef"
            ],
            [
             0.5,
             "#f7f7f7"
            ],
            [
             0.6,
             "#e6f5d0"
            ],
            [
             0.7,
             "#b8e186"
            ],
            [
             0.8,
             "#7fbc41"
            ],
            [
             0.9,
             "#4d9221"
            ],
            [
             1,
             "#276419"
            ]
           ],
           "sequential": [
            [
             0,
             "#0d0887"
            ],
            [
             0.1111111111111111,
             "#46039f"
            ],
            [
             0.2222222222222222,
             "#7201a8"
            ],
            [
             0.3333333333333333,
             "#9c179e"
            ],
            [
             0.4444444444444444,
             "#bd3786"
            ],
            [
             0.5555555555555556,
             "#d8576b"
            ],
            [
             0.6666666666666666,
             "#ed7953"
            ],
            [
             0.7777777777777778,
             "#fb9f3a"
            ],
            [
             0.8888888888888888,
             "#fdca26"
            ],
            [
             1,
             "#f0f921"
            ]
           ],
           "sequentialminus": [
            [
             0,
             "#0d0887"
            ],
            [
             0.1111111111111111,
             "#46039f"
            ],
            [
             0.2222222222222222,
             "#7201a8"
            ],
            [
             0.3333333333333333,
             "#9c179e"
            ],
            [
             0.4444444444444444,
             "#bd3786"
            ],
            [
             0.5555555555555556,
             "#d8576b"
            ],
            [
             0.6666666666666666,
             "#ed7953"
            ],
            [
             0.7777777777777778,
             "#fb9f3a"
            ],
            [
             0.8888888888888888,
             "#fdca26"
            ],
            [
             1,
             "#f0f921"
            ]
           ]
          },
          "colorway": [
           "#636efa",
           "#EF553B",
           "#00cc96",
           "#ab63fa",
           "#FFA15A",
           "#19d3f3",
           "#FF6692",
           "#B6E880",
           "#FF97FF",
           "#FECB52"
          ],
          "font": {
           "color": "#2a3f5f"
          },
          "geo": {
           "bgcolor": "white",
           "lakecolor": "white",
           "landcolor": "#E5ECF6",
           "showlakes": true,
           "showland": true,
           "subunitcolor": "white"
          },
          "hoverlabel": {
           "align": "left"
          },
          "hovermode": "closest",
          "mapbox": {
           "style": "light"
          },
          "paper_bgcolor": "white",
          "plot_bgcolor": "#E5ECF6",
          "polar": {
           "angularaxis": {
            "gridcolor": "white",
            "linecolor": "white",
            "ticks": ""
           },
           "bgcolor": "#E5ECF6",
           "radialaxis": {
            "gridcolor": "white",
            "linecolor": "white",
            "ticks": ""
           }
          },
          "scene": {
           "xaxis": {
            "backgroundcolor": "#E5ECF6",
            "gridcolor": "white",
            "gridwidth": 2,
            "linecolor": "white",
            "showbackground": true,
            "ticks": "",
            "zerolinecolor": "white"
           },
           "yaxis": {
            "backgroundcolor": "#E5ECF6",
            "gridcolor": "white",
            "gridwidth": 2,
            "linecolor": "white",
            "showbackground": true,
            "ticks": "",
            "zerolinecolor": "white"
           },
           "zaxis": {
            "backgroundcolor": "#E5ECF6",
            "gridcolor": "white",
            "gridwidth": 2,
            "linecolor": "white",
            "showbackground": true,
            "ticks": "",
            "zerolinecolor": "white"
           }
          },
          "shapedefaults": {
           "line": {
            "color": "#2a3f5f"
           }
          },
          "ternary": {
           "aaxis": {
            "gridcolor": "white",
            "linecolor": "white",
            "ticks": ""
           },
           "baxis": {
            "gridcolor": "white",
            "linecolor": "white",
            "ticks": ""
           },
           "bgcolor": "#E5ECF6",
           "caxis": {
            "gridcolor": "white",
            "linecolor": "white",
            "ticks": ""
           }
          },
          "title": {
           "x": 0.05
          },
          "xaxis": {
           "automargin": true,
           "gridcolor": "white",
           "linecolor": "white",
           "ticks": "",
           "title": {
            "standoff": 15
           },
           "zerolinecolor": "white",
           "zerolinewidth": 2
          },
          "yaxis": {
           "automargin": true,
           "gridcolor": "white",
           "linecolor": "white",
           "ticks": "",
           "title": {
            "standoff": 15
           },
           "zerolinecolor": "white",
           "zerolinewidth": 2
          }
         }
        },
        "xaxis": {
         "anchor": "y",
         "domain": [
          0,
          1
         ],
         "title": {
          "text": "now_cost"
         }
        },
        "yaxis": {
         "anchor": "x",
         "domain": [
          0,
          1
         ],
         "title": {
          "text": "creativity"
         }
        }
       }
      },
      "text/html": [
       "<div>                            <div id=\"8004d083-6ba1-4e2a-b59a-7060c652ad6b\" class=\"plotly-graph-div\" style=\"height:525px; width:100%;\"></div>            <script type=\"text/javascript\">                require([\"plotly\"], function(Plotly) {                    window.PLOTLYENV=window.PLOTLYENV || {};                                    if (document.getElementById(\"8004d083-6ba1-4e2a-b59a-7060c652ad6b\")) {                    Plotly.newPlot(                        \"8004d083-6ba1-4e2a-b59a-7060c652ad6b\",                        [{\"customdata\":[[\"Gabriel\",\"Fernando de Jesus\"],[\"Kai\",\"Havertz\"],[\"Jhon\",\"Dur\\u00e1n\"],[\"Ollie\",\"Watkins\"],[\"Enes\",\"\\u00dcnal\"],[\"Daniel\",\"Jebbison\"],[\"Francisco Evanilson\",\"de Lima Barbosa\"],[\"Igor Thiago\",\"Nascimento Rodrigues\"],[\"Ivan\",\"Toney\"],[\"Yoane\",\"Wissa\"],[\"Evan\",\"Ferguson\"],[\"Jo\\u00e3o Pedro\",\"Junqueira de Jesus\"],[\"Mark\",\"O\\u2019Mahony\"],[\"Deniz\",\"Undav\"],[\"Danny\",\"Welbeck\"],[\"David Datro\",\"Fofana\"],[\"Deivid Washington\",\"de Souza Eug\\u00eanio\"],[\"Romelu\",\"Lukaku Bolingoli\"],[\"Marc\",\"Guiu Paz\"],[\"Nicolas\",\"Jackson\"],[\"Eddie\",\"Nketiah\"],[\"Jean-Philippe\",\"Mateta\"],[\"Armando\",\"Broja\"],[\"Norberto Bercique\",\"Gomes Betuncal\"],[\"Dominic\",\"Calvert-Lewin\"],[\"Neal\",\"Maupay\"],[\"Iliman\",\"Ndiaye\"],[\"Youssef\",\"Ramalho Chermiti\"],[\"Rodrigo\",\"Muniz Carvalho\"],[\"Ra\\u00fal\",\"Jim\\u00e9nez\"],[\"Jay\",\"Stansfield\"],[\"Carlos Vin\\u00edcius\",\"Alves Morais\"],[\"Ali\",\"Al-Hamadi\"],[\"Liam\",\"Delap\"],[\"George\",\"Hirst\"],[\"Freddie\",\"Ladapo\"],[\"Odsonne\",\"Edouard\"],[\"Tom\",\"Cannon\"],[\"Patson\",\"Daka\"],[\"Jamie\",\"Vardy\"],[\"Darwin\",\"N\\u00fa\\u00f1ez Ribeiro\"],[\"Cody\",\"Gakpo\"],[\"Erling\",\"Haaland\"],[\"Juli\\u00e1n\",\"\\u00c1lvarez\"],[\"Rasmus\",\"H\\u00f8jlund\"],[\"Joshua\",\"Zirkzee\"],[\"Ethan\",\"Wheatley\"],[\"Alexander\",\"Isak\"],[\"Callum\",\"Wilson\"],[\"William\",\"Osula\"],[\"Taiwo\",\"Awoniyi\"],[\"Emmanuel\",\"Dennis\"],[\"Hwang\",\"Ui-jo\"],[\"Chris\",\"Wood\"],[\"Cameron\",\"Archer\"],[\"Adam\",\"Armstrong\"],[\"S\\u00e9kou\",\"Mara\"],[\"Paul\",\"Onuachu\"],[\"Ross\",\"Stewart\"],[\"Dominic\",\"Solanke-Mitchell\"],[\"Richarlison\",\"de Andrade\"],[\"Dane\",\"Scarlett\"],[\"Alejo\",\"V\\u00e9liz\"],[\"Will\",\"Lankshear\"],[\"Michail\",\"Antonio\"],[\"Danny\",\"Ings\"],[\"Niclas\",\"F\\u00fcllkrug\"],[\"Leon\",\"Chiwome\"],[\"Matheus\",\"Santos Carneiro Da Cunha\"],[\"F\\u00e1bio\",\"Silva\"],[\"Nathan\",\"Fraser\"],[\"Sa\\u0161a\",\"Kalajd\\u017ei\\u0107\"],[\"J\\u00f8rgen\",\"Strand Larsen\"]],\"hovertemplate\":\"now_cost=%{x}\\u003cbr\\u003ecreativity=%{y}\\u003cbr\\u003efirst_name=%{customdata[0]}\\u003cbr\\u003esecond_name=%{customdata[1]}\\u003cbr\\u003egoals_scored=%{marker.color}\\u003cextra\\u003e\\u003c\\u002fextra\\u003e\",\"legendgroup\":\"\",\"marker\":{\"color\":[0,3,4,4,0,0,1,0,0,3,0,2,0,0,3,0,0,0,0,4,0,2,0,0,2,0,1,0,0,3,0,0,0,3,0,0,0,0,0,2,1,0,10,0,0,1,0,1,0,0,0,0,0,3,0,0,0,0,0,2,0,0,0,0,0,1,0,0,2,0,0,0,1],\"coloraxis\":\"coloraxis\",\"symbol\":\"circle\"},\"mode\":\"markers\",\"name\":\"\",\"orientation\":\"v\",\"showlegend\":false,\"x\":[68,82,62,91,54,45,59,59,73,60,55,55,45,55,58,54,50,63,49,79,59,74,54,50,60,49,54,49,59,55,50,50,49,55,54,45,54,45,49,57,72,71,153,70,69,69,45,83,69,50,57,49,45,62,50,53,50,49,46,76,68,45,50,45,54,50,67,45,65,50,45,49,55],\"xaxis\":\"x\",\"y\":[0.8,68.9,20.3,67.1,21.2,10.6,40.7,0.0,0.0,56.9,0.6,50.6,0.0,0.0,86.7,0.0,0.0,0.0,0.3,87.5,18.1,55.6,0.0,0.3,33.3,0.0,70.8,0.0,52.9,31.1,0.0,0.0,11.5,40.0,11.6,0.0,23.5,0.0,0.0,40.5,17.8,36.4,29.3,0.0,0.8,70.4,0.0,51.9,0.0,0.0,3.8,0.0,0.0,42.1,9.6,16.7,0.0,0.0,6.7,41.2,2.2,0.0,0.0,0.0,26.1,0.8,2.5,0.0,153.4,0.0,0.0,0.0,56.4],\"yaxis\":\"y\",\"type\":\"scatter\"}],                        {\"template\":{\"data\":{\"histogram2dcontour\":[{\"type\":\"histogram2dcontour\",\"colorbar\":{\"outlinewidth\":0,\"ticks\":\"\"},\"colorscale\":[[0.0,\"#0d0887\"],[0.1111111111111111,\"#46039f\"],[0.2222222222222222,\"#7201a8\"],[0.3333333333333333,\"#9c179e\"],[0.4444444444444444,\"#bd3786\"],[0.5555555555555556,\"#d8576b\"],[0.6666666666666666,\"#ed7953\"],[0.7777777777777778,\"#fb9f3a\"],[0.8888888888888888,\"#fdca26\"],[1.0,\"#f0f921\"]]}],\"choropleth\":[{\"type\":\"choropleth\",\"colorbar\":{\"outlinewidth\":0,\"ticks\":\"\"}}],\"histogram2d\":[{\"type\":\"histogram2d\",\"colorbar\":{\"outlinewidth\":0,\"ticks\":\"\"},\"colorscale\":[[0.0,\"#0d0887\"],[0.1111111111111111,\"#46039f\"],[0.2222222222222222,\"#7201a8\"],[0.3333333333333333,\"#9c179e\"],[0.4444444444444444,\"#bd3786\"],[0.5555555555555556,\"#d8576b\"],[0.6666666666666666,\"#ed7953\"],[0.7777777777777778,\"#fb9f3a\"],[0.8888888888888888,\"#fdca26\"],[1.0,\"#f0f921\"]]}],\"heatmap\":[{\"type\":\"heatmap\",\"colorbar\":{\"outlinewidth\":0,\"ticks\":\"\"},\"colorscale\":[[0.0,\"#0d0887\"],[0.1111111111111111,\"#46039f\"],[0.2222222222222222,\"#7201a8\"],[0.3333333333333333,\"#9c179e\"],[0.4444444444444444,\"#bd3786\"],[0.5555555555555556,\"#d8576b\"],[0.6666666666666666,\"#ed7953\"],[0.7777777777777778,\"#fb9f3a\"],[0.8888888888888888,\"#fdca26\"],[1.0,\"#f0f921\"]]}],\"heatmapgl\":[{\"type\":\"heatmapgl\",\"colorbar\":{\"outlinewidth\":0,\"ticks\":\"\"},\"colorscale\":[[0.0,\"#0d0887\"],[0.1111111111111111,\"#46039f\"],[0.2222222222222222,\"#7201a8\"],[0.3333333333333333,\"#9c179e\"],[0.4444444444444444,\"#bd3786\"],[0.5555555555555556,\"#d8576b\"],[0.6666666666666666,\"#ed7953\"],[0.7777777777777778,\"#fb9f3a\"],[0.8888888888888888,\"#fdca26\"],[1.0,\"#f0f921\"]]}],\"contourcarpet\":[{\"type\":\"contourcarpet\",\"colorbar\":{\"outlinewidth\":0,\"ticks\":\"\"}}],\"contour\":[{\"type\":\"contour\",\"colorbar\":{\"outlinewidth\":0,\"ticks\":\"\"},\"colorscale\":[[0.0,\"#0d0887\"],[0.1111111111111111,\"#46039f\"],[0.2222222222222222,\"#7201a8\"],[0.3333333333333333,\"#9c179e\"],[0.4444444444444444,\"#bd3786\"],[0.5555555555555556,\"#d8576b\"],[0.6666666666666666,\"#ed7953\"],[0.7777777777777778,\"#fb9f3a\"],[0.8888888888888888,\"#fdca26\"],[1.0,\"#f0f921\"]]}],\"surface\":[{\"type\":\"surface\",\"colorbar\":{\"outlinewidth\":0,\"ticks\":\"\"},\"colorscale\":[[0.0,\"#0d0887\"],[0.1111111111111111,\"#46039f\"],[0.2222222222222222,\"#7201a8\"],[0.3333333333333333,\"#9c179e\"],[0.4444444444444444,\"#bd3786\"],[0.5555555555555556,\"#d8576b\"],[0.6666666666666666,\"#ed7953\"],[0.7777777777777778,\"#fb9f3a\"],[0.8888888888888888,\"#fdca26\"],[1.0,\"#f0f921\"]]}],\"mesh3d\":[{\"type\":\"mesh3d\",\"colorbar\":{\"outlinewidth\":0,\"ticks\":\"\"}}],\"scatter\":[{\"fillpattern\":{\"fillmode\":\"overlay\",\"size\":10,\"solidity\":0.2},\"type\":\"scatter\"}],\"parcoords\":[{\"type\":\"parcoords\",\"line\":{\"colorbar\":{\"outlinewidth\":0,\"ticks\":\"\"}}}],\"scatterpolargl\":[{\"type\":\"scatterpolargl\",\"marker\":{\"colorbar\":{\"outlinewidth\":0,\"ticks\":\"\"}}}],\"bar\":[{\"error_x\":{\"color\":\"#2a3f5f\"},\"error_y\":{\"color\":\"#2a3f5f\"},\"marker\":{\"line\":{\"color\":\"#E5ECF6\",\"width\":0.5},\"pattern\":{\"fillmode\":\"overlay\",\"size\":10,\"solidity\":0.2}},\"type\":\"bar\"}],\"scattergeo\":[{\"type\":\"scattergeo\",\"marker\":{\"colorbar\":{\"outlinewidth\":0,\"ticks\":\"\"}}}],\"scatterpolar\":[{\"type\":\"scatterpolar\",\"marker\":{\"colorbar\":{\"outlinewidth\":0,\"ticks\":\"\"}}}],\"histogram\":[{\"marker\":{\"pattern\":{\"fillmode\":\"overlay\",\"size\":10,\"solidity\":0.2}},\"type\":\"histogram\"}],\"scattergl\":[{\"type\":\"scattergl\",\"marker\":{\"colorbar\":{\"outlinewidth\":0,\"ticks\":\"\"}}}],\"scatter3d\":[{\"type\":\"scatter3d\",\"line\":{\"colorbar\":{\"outlinewidth\":0,\"ticks\":\"\"}},\"marker\":{\"colorbar\":{\"outlinewidth\":0,\"ticks\":\"\"}}}],\"scattermapbox\":[{\"type\":\"scattermapbox\",\"marker\":{\"colorbar\":{\"outlinewidth\":0,\"ticks\":\"\"}}}],\"scatterternary\":[{\"type\":\"scatterternary\",\"marker\":{\"colorbar\":{\"outlinewidth\":0,\"ticks\":\"\"}}}],\"scattercarpet\":[{\"type\":\"scattercarpet\",\"marker\":{\"colorbar\":{\"outlinewidth\":0,\"ticks\":\"\"}}}],\"carpet\":[{\"aaxis\":{\"endlinecolor\":\"#2a3f5f\",\"gridcolor\":\"white\",\"linecolor\":\"white\",\"minorgridcolor\":\"white\",\"startlinecolor\":\"#2a3f5f\"},\"baxis\":{\"endlinecolor\":\"#2a3f5f\",\"gridcolor\":\"white\",\"linecolor\":\"white\",\"minorgridcolor\":\"white\",\"startlinecolor\":\"#2a3f5f\"},\"type\":\"carpet\"}],\"table\":[{\"cells\":{\"fill\":{\"color\":\"#EBF0F8\"},\"line\":{\"color\":\"white\"}},\"header\":{\"fill\":{\"color\":\"#C8D4E3\"},\"line\":{\"color\":\"white\"}},\"type\":\"table\"}],\"barpolar\":[{\"marker\":{\"line\":{\"color\":\"#E5ECF6\",\"width\":0.5},\"pattern\":{\"fillmode\":\"overlay\",\"size\":10,\"solidity\":0.2}},\"type\":\"barpolar\"}],\"pie\":[{\"automargin\":true,\"type\":\"pie\"}]},\"layout\":{\"autotypenumbers\":\"strict\",\"colorway\":[\"#636efa\",\"#EF553B\",\"#00cc96\",\"#ab63fa\",\"#FFA15A\",\"#19d3f3\",\"#FF6692\",\"#B6E880\",\"#FF97FF\",\"#FECB52\"],\"font\":{\"color\":\"#2a3f5f\"},\"hovermode\":\"closest\",\"hoverlabel\":{\"align\":\"left\"},\"paper_bgcolor\":\"white\",\"plot_bgcolor\":\"#E5ECF6\",\"polar\":{\"bgcolor\":\"#E5ECF6\",\"angularaxis\":{\"gridcolor\":\"white\",\"linecolor\":\"white\",\"ticks\":\"\"},\"radialaxis\":{\"gridcolor\":\"white\",\"linecolor\":\"white\",\"ticks\":\"\"}},\"ternary\":{\"bgcolor\":\"#E5ECF6\",\"aaxis\":{\"gridcolor\":\"white\",\"linecolor\":\"white\",\"ticks\":\"\"},\"baxis\":{\"gridcolor\":\"white\",\"linecolor\":\"white\",\"ticks\":\"\"},\"caxis\":{\"gridcolor\":\"white\",\"linecolor\":\"white\",\"ticks\":\"\"}},\"coloraxis\":{\"colorbar\":{\"outlinewidth\":0,\"ticks\":\"\"}},\"colorscale\":{\"sequential\":[[0.0,\"#0d0887\"],[0.1111111111111111,\"#46039f\"],[0.2222222222222222,\"#7201a8\"],[0.3333333333333333,\"#9c179e\"],[0.4444444444444444,\"#bd3786\"],[0.5555555555555556,\"#d8576b\"],[0.6666666666666666,\"#ed7953\"],[0.7777777777777778,\"#fb9f3a\"],[0.8888888888888888,\"#fdca26\"],[1.0,\"#f0f921\"]],\"sequentialminus\":[[0.0,\"#0d0887\"],[0.1111111111111111,\"#46039f\"],[0.2222222222222222,\"#7201a8\"],[0.3333333333333333,\"#9c179e\"],[0.4444444444444444,\"#bd3786\"],[0.5555555555555556,\"#d8576b\"],[0.6666666666666666,\"#ed7953\"],[0.7777777777777778,\"#fb9f3a\"],[0.8888888888888888,\"#fdca26\"],[1.0,\"#f0f921\"]],\"diverging\":[[0,\"#8e0152\"],[0.1,\"#c51b7d\"],[0.2,\"#de77ae\"],[0.3,\"#f1b6da\"],[0.4,\"#fde0ef\"],[0.5,\"#f7f7f7\"],[0.6,\"#e6f5d0\"],[0.7,\"#b8e186\"],[0.8,\"#7fbc41\"],[0.9,\"#4d9221\"],[1,\"#276419\"]]},\"xaxis\":{\"gridcolor\":\"white\",\"linecolor\":\"white\",\"ticks\":\"\",\"title\":{\"standoff\":15},\"zerolinecolor\":\"white\",\"automargin\":true,\"zerolinewidth\":2},\"yaxis\":{\"gridcolor\":\"white\",\"linecolor\":\"white\",\"ticks\":\"\",\"title\":{\"standoff\":15},\"zerolinecolor\":\"white\",\"automargin\":true,\"zerolinewidth\":2},\"scene\":{\"xaxis\":{\"backgroundcolor\":\"#E5ECF6\",\"gridcolor\":\"white\",\"linecolor\":\"white\",\"showbackground\":true,\"ticks\":\"\",\"zerolinecolor\":\"white\",\"gridwidth\":2},\"yaxis\":{\"backgroundcolor\":\"#E5ECF6\",\"gridcolor\":\"white\",\"linecolor\":\"white\",\"showbackground\":true,\"ticks\":\"\",\"zerolinecolor\":\"white\",\"gridwidth\":2},\"zaxis\":{\"backgroundcolor\":\"#E5ECF6\",\"gridcolor\":\"white\",\"linecolor\":\"white\",\"showbackground\":true,\"ticks\":\"\",\"zerolinecolor\":\"white\",\"gridwidth\":2}},\"shapedefaults\":{\"line\":{\"color\":\"#2a3f5f\"}},\"annotationdefaults\":{\"arrowcolor\":\"#2a3f5f\",\"arrowhead\":0,\"arrowwidth\":1},\"geo\":{\"bgcolor\":\"white\",\"landcolor\":\"#E5ECF6\",\"subunitcolor\":\"white\",\"showland\":true,\"showlakes\":true,\"lakecolor\":\"white\"},\"title\":{\"x\":0.05},\"mapbox\":{\"style\":\"light\"}}},\"xaxis\":{\"anchor\":\"y\",\"domain\":[0.0,1.0],\"title\":{\"text\":\"now_cost\"}},\"yaxis\":{\"anchor\":\"x\",\"domain\":[0.0,1.0],\"title\":{\"text\":\"creativity\"}},\"coloraxis\":{\"colorbar\":{\"title\":{\"text\":\"goals_scored\"}},\"colorscale\":[[0.0,\"#0d0887\"],[0.1111111111111111,\"#46039f\"],[0.2222222222222222,\"#7201a8\"],[0.3333333333333333,\"#9c179e\"],[0.4444444444444444,\"#bd3786\"],[0.5555555555555556,\"#d8576b\"],[0.6666666666666666,\"#ed7953\"],[0.7777777777777778,\"#fb9f3a\"],[0.8888888888888888,\"#fdca26\"],[1.0,\"#f0f921\"]]},\"legend\":{\"tracegroupgap\":0},\"margin\":{\"t\":60}},                        {\"responsive\": true}                    ).then(function(){\n",
       "                            \n",
       "var gd = document.getElementById('8004d083-6ba1-4e2a-b59a-7060c652ad6b');\n",
       "var x = new MutationObserver(function (mutations, observer) {{\n",
       "        var display = window.getComputedStyle(gd).display;\n",
       "        if (!display || display === 'none') {{\n",
       "            console.log([gd, 'removed!']);\n",
       "            Plotly.purge(gd);\n",
       "            observer.disconnect();\n",
       "        }}\n",
       "}});\n",
       "\n",
       "// Listen for the removal of the full notebook cells\n",
       "var notebookContainer = gd.closest('#notebook-container');\n",
       "if (notebookContainer) {{\n",
       "    x.observe(notebookContainer, {childList: true});\n",
       "}}\n",
       "\n",
       "// Listen for the clearing of the current output cell\n",
       "var outputEl = gd.closest('.output');\n",
       "if (outputEl) {{\n",
       "    x.observe(outputEl, {childList: true});\n",
       "}}\n",
       "\n",
       "                        })                };                });            </script>        </div>"
      ]
     },
     "metadata": {},
     "output_type": "display_data"
    }
   ],
   "source": [
    "forwards.plot.scatter(x=\"now_cost\", y=\"creativity\", hover_data=[\"first_name\", \"second_name\"], color='goals_scored')"
   ]
  },
  {
   "cell_type": "markdown",
   "metadata": {},
   "source": [
    "Goalkeepers"
   ]
  },
  {
   "cell_type": "code",
   "execution_count": 106,
   "metadata": {},
   "outputs": [
    {
     "data": {
      "text/html": [
       "<div>\n",
       "<style scoped>\n",
       "    .dataframe tbody tr th:only-of-type {\n",
       "        vertical-align: middle;\n",
       "    }\n",
       "\n",
       "    .dataframe tbody tr th {\n",
       "        vertical-align: top;\n",
       "    }\n",
       "\n",
       "    .dataframe thead th {\n",
       "        text-align: right;\n",
       "    }\n",
       "</style>\n",
       "<table border=\"1\" class=\"dataframe\">\n",
       "  <thead>\n",
       "    <tr style=\"text-align: right;\">\n",
       "      <th></th>\n",
       "      <th>first_name</th>\n",
       "      <th>second_name</th>\n",
       "      <th>goals_scored</th>\n",
       "      <th>assists</th>\n",
       "      <th>total_points</th>\n",
       "      <th>minutes</th>\n",
       "      <th>goals_conceded</th>\n",
       "      <th>creativity</th>\n",
       "      <th>influence</th>\n",
       "      <th>threat</th>\n",
       "      <th>bonus</th>\n",
       "      <th>bps</th>\n",
       "      <th>ict_index</th>\n",
       "      <th>clean_sheets</th>\n",
       "      <th>red_cards</th>\n",
       "      <th>yellow_cards</th>\n",
       "      <th>selected_by_percent</th>\n",
       "      <th>now_cost</th>\n",
       "      <th>element_type</th>\n",
       "    </tr>\n",
       "  </thead>\n",
       "  <tbody>\n",
       "    <tr>\n",
       "      <th>4</th>\n",
       "      <td>Karl</td>\n",
       "      <td>Hein</td>\n",
       "      <td>0</td>\n",
       "      <td>0</td>\n",
       "      <td>0</td>\n",
       "      <td>0</td>\n",
       "      <td>0</td>\n",
       "      <td>0.0</td>\n",
       "      <td>0.0</td>\n",
       "      <td>0.0</td>\n",
       "      <td>0</td>\n",
       "      <td>0</td>\n",
       "      <td>0.0</td>\n",
       "      <td>0</td>\n",
       "      <td>0</td>\n",
       "      <td>0</td>\n",
       "      <td>0.0</td>\n",
       "      <td>40</td>\n",
       "      <td>GK</td>\n",
       "    </tr>\n",
       "    <tr>\n",
       "      <th>11</th>\n",
       "      <td>David</td>\n",
       "      <td>Raya Martin</td>\n",
       "      <td>0</td>\n",
       "      <td>0</td>\n",
       "      <td>34</td>\n",
       "      <td>540</td>\n",
       "      <td>5</td>\n",
       "      <td>0.0</td>\n",
       "      <td>204.6</td>\n",
       "      <td>0.0</td>\n",
       "      <td>6</td>\n",
       "      <td>118</td>\n",
       "      <td>20.5</td>\n",
       "      <td>3</td>\n",
       "      <td>0</td>\n",
       "      <td>1</td>\n",
       "      <td>30.9</td>\n",
       "      <td>56</td>\n",
       "      <td>GK</td>\n",
       "    </tr>\n",
       "    <tr>\n",
       "      <th>21</th>\n",
       "      <td>Norberto</td>\n",
       "      <td>Murara Neto</td>\n",
       "      <td>0</td>\n",
       "      <td>0</td>\n",
       "      <td>7</td>\n",
       "      <td>180</td>\n",
       "      <td>2</td>\n",
       "      <td>0.0</td>\n",
       "      <td>77.8</td>\n",
       "      <td>0.0</td>\n",
       "      <td>0</td>\n",
       "      <td>30</td>\n",
       "      <td>7.8</td>\n",
       "      <td>0</td>\n",
       "      <td>0</td>\n",
       "      <td>0</td>\n",
       "      <td>1.4</td>\n",
       "      <td>43</td>\n",
       "      <td>GK</td>\n",
       "    </tr>\n",
       "    <tr>\n",
       "      <th>27</th>\n",
       "      <td>Tommy</td>\n",
       "      <td>Setford</td>\n",
       "      <td>0</td>\n",
       "      <td>0</td>\n",
       "      <td>0</td>\n",
       "      <td>0</td>\n",
       "      <td>0</td>\n",
       "      <td>0.0</td>\n",
       "      <td>0.0</td>\n",
       "      <td>0.0</td>\n",
       "      <td>0</td>\n",
       "      <td>0</td>\n",
       "      <td>0.0</td>\n",
       "      <td>0</td>\n",
       "      <td>0</td>\n",
       "      <td>0</td>\n",
       "      <td>0.0</td>\n",
       "      <td>45</td>\n",
       "      <td>GK</td>\n",
       "    </tr>\n",
       "    <tr>\n",
       "      <th>43</th>\n",
       "      <td>Joe</td>\n",
       "      <td>Gauci</td>\n",
       "      <td>0</td>\n",
       "      <td>0</td>\n",
       "      <td>0</td>\n",
       "      <td>0</td>\n",
       "      <td>0</td>\n",
       "      <td>0.0</td>\n",
       "      <td>0.0</td>\n",
       "      <td>0.0</td>\n",
       "      <td>0</td>\n",
       "      <td>0</td>\n",
       "      <td>0.0</td>\n",
       "      <td>0</td>\n",
       "      <td>0</td>\n",
       "      <td>0</td>\n",
       "      <td>0.9</td>\n",
       "      <td>40</td>\n",
       "      <td>GK</td>\n",
       "    </tr>\n",
       "    <tr>\n",
       "      <th>...</th>\n",
       "      <td>...</td>\n",
       "      <td>...</td>\n",
       "      <td>...</td>\n",
       "      <td>...</td>\n",
       "      <td>...</td>\n",
       "      <td>...</td>\n",
       "      <td>...</td>\n",
       "      <td>...</td>\n",
       "      <td>...</td>\n",
       "      <td>...</td>\n",
       "      <td>...</td>\n",
       "      <td>...</td>\n",
       "      <td>...</td>\n",
       "      <td>...</td>\n",
       "      <td>...</td>\n",
       "      <td>...</td>\n",
       "      <td>...</td>\n",
       "      <td>...</td>\n",
       "      <td>...</td>\n",
       "    </tr>\n",
       "    <tr>\n",
       "      <th>608</th>\n",
       "      <td>Wes</td>\n",
       "      <td>Foderingham</td>\n",
       "      <td>0</td>\n",
       "      <td>0</td>\n",
       "      <td>0</td>\n",
       "      <td>0</td>\n",
       "      <td>0</td>\n",
       "      <td>0.0</td>\n",
       "      <td>0.0</td>\n",
       "      <td>0.0</td>\n",
       "      <td>0</td>\n",
       "      <td>0</td>\n",
       "      <td>0.0</td>\n",
       "      <td>0</td>\n",
       "      <td>0</td>\n",
       "      <td>0</td>\n",
       "      <td>0.2</td>\n",
       "      <td>44</td>\n",
       "      <td>GK</td>\n",
       "    </tr>\n",
       "    <tr>\n",
       "      <th>625</th>\n",
       "      <td>Sam</td>\n",
       "      <td>Johnstone</td>\n",
       "      <td>0</td>\n",
       "      <td>0</td>\n",
       "      <td>8</td>\n",
       "      <td>360</td>\n",
       "      <td>8</td>\n",
       "      <td>10.0</td>\n",
       "      <td>102.6</td>\n",
       "      <td>0.0</td>\n",
       "      <td>0</td>\n",
       "      <td>29</td>\n",
       "      <td>11.3</td>\n",
       "      <td>0</td>\n",
       "      <td>0</td>\n",
       "      <td>0</td>\n",
       "      <td>0.5</td>\n",
       "      <td>44</td>\n",
       "      <td>GK</td>\n",
       "    </tr>\n",
       "    <tr>\n",
       "      <th>629</th>\n",
       "      <td>Daniel</td>\n",
       "      <td>Bentley</td>\n",
       "      <td>0</td>\n",
       "      <td>0</td>\n",
       "      <td>0</td>\n",
       "      <td>0</td>\n",
       "      <td>0</td>\n",
       "      <td>0.0</td>\n",
       "      <td>0.0</td>\n",
       "      <td>0.0</td>\n",
       "      <td>0</td>\n",
       "      <td>0</td>\n",
       "      <td>0.0</td>\n",
       "      <td>0</td>\n",
       "      <td>0</td>\n",
       "      <td>0</td>\n",
       "      <td>1.8</td>\n",
       "      <td>40</td>\n",
       "      <td>GK</td>\n",
       "    </tr>\n",
       "    <tr>\n",
       "      <th>647</th>\n",
       "      <td>José</td>\n",
       "      <td>Malheiro de Sá</td>\n",
       "      <td>0</td>\n",
       "      <td>0</td>\n",
       "      <td>1</td>\n",
       "      <td>180</td>\n",
       "      <td>8</td>\n",
       "      <td>10.0</td>\n",
       "      <td>53.0</td>\n",
       "      <td>0.0</td>\n",
       "      <td>0</td>\n",
       "      <td>-1</td>\n",
       "      <td>6.3</td>\n",
       "      <td>0</td>\n",
       "      <td>0</td>\n",
       "      <td>0</td>\n",
       "      <td>1.6</td>\n",
       "      <td>44</td>\n",
       "      <td>GK</td>\n",
       "    </tr>\n",
       "    <tr>\n",
       "      <th>649</th>\n",
       "      <td>Tom</td>\n",
       "      <td>King</td>\n",
       "      <td>0</td>\n",
       "      <td>0</td>\n",
       "      <td>0</td>\n",
       "      <td>0</td>\n",
       "      <td>0</td>\n",
       "      <td>0.0</td>\n",
       "      <td>0.0</td>\n",
       "      <td>0.0</td>\n",
       "      <td>0</td>\n",
       "      <td>0</td>\n",
       "      <td>0.0</td>\n",
       "      <td>0</td>\n",
       "      <td>0</td>\n",
       "      <td>0</td>\n",
       "      <td>1.6</td>\n",
       "      <td>40</td>\n",
       "      <td>GK</td>\n",
       "    </tr>\n",
       "  </tbody>\n",
       "</table>\n",
       "<p>70 rows × 19 columns</p>\n",
       "</div>"
      ],
      "text/plain": [
       "    first_name     second_name  goals_scored  assists  total_points  minutes  \\\n",
       "4         Karl            Hein             0        0             0        0   \n",
       "11       David     Raya Martin             0        0            34      540   \n",
       "21    Norberto     Murara Neto             0        0             7      180   \n",
       "27       Tommy         Setford             0        0             0        0   \n",
       "43         Joe           Gauci             0        0             0        0   \n",
       "..         ...             ...           ...      ...           ...      ...   \n",
       "608        Wes     Foderingham             0        0             0        0   \n",
       "625        Sam       Johnstone             0        0             8      360   \n",
       "629     Daniel         Bentley             0        0             0        0   \n",
       "647       José  Malheiro de Sá             0        0             1      180   \n",
       "649        Tom            King             0        0             0        0   \n",
       "\n",
       "     goals_conceded  creativity  influence  threat  bonus  bps  ict_index  \\\n",
       "4                 0         0.0        0.0     0.0      0    0        0.0   \n",
       "11                5         0.0      204.6     0.0      6  118       20.5   \n",
       "21                2         0.0       77.8     0.0      0   30        7.8   \n",
       "27                0         0.0        0.0     0.0      0    0        0.0   \n",
       "43                0         0.0        0.0     0.0      0    0        0.0   \n",
       "..              ...         ...        ...     ...    ...  ...        ...   \n",
       "608               0         0.0        0.0     0.0      0    0        0.0   \n",
       "625               8        10.0      102.6     0.0      0   29       11.3   \n",
       "629               0         0.0        0.0     0.0      0    0        0.0   \n",
       "647               8        10.0       53.0     0.0      0   -1        6.3   \n",
       "649               0         0.0        0.0     0.0      0    0        0.0   \n",
       "\n",
       "     clean_sheets  red_cards  yellow_cards  selected_by_percent  now_cost  \\\n",
       "4               0          0             0                  0.0        40   \n",
       "11              3          0             1                 30.9        56   \n",
       "21              0          0             0                  1.4        43   \n",
       "27              0          0             0                  0.0        45   \n",
       "43              0          0             0                  0.9        40   \n",
       "..            ...        ...           ...                  ...       ...   \n",
       "608             0          0             0                  0.2        44   \n",
       "625             0          0             0                  0.5        44   \n",
       "629             0          0             0                  1.8        40   \n",
       "647             0          0             0                  1.6        44   \n",
       "649             0          0             0                  1.6        40   \n",
       "\n",
       "    element_type  \n",
       "4             GK  \n",
       "11            GK  \n",
       "21            GK  \n",
       "27            GK  \n",
       "43            GK  \n",
       "..           ...  \n",
       "608           GK  \n",
       "625           GK  \n",
       "629           GK  \n",
       "647           GK  \n",
       "649           GK  \n",
       "\n",
       "[70 rows x 19 columns]"
      ]
     },
     "execution_count": 106,
     "metadata": {},
     "output_type": "execute_result"
    }
   ],
   "source": [
    "gks = df[df[\"element_type\"]==\"GK\"]\n",
    "gks"
   ]
  },
  {
   "cell_type": "code",
   "execution_count": 75,
   "metadata": {},
   "outputs": [
    {
     "data": {
      "application/vnd.plotly.v1+json": {
       "config": {
        "plotlyServerURL": "https://plot.ly"
       },
       "data": [
        {
         "customdata": [
          [
           "Karl",
           "Hein"
          ],
          [
           "David",
           "Raya Martin"
          ],
          [
           "Norberto",
           "Murara Neto"
          ],
          [
           "Tommy",
           "Setford"
          ],
          [
           "Joe",
           "Gauci"
          ],
          [
           "Filip",
           "Marschall"
          ],
          [
           "Emiliano",
           "Martínez Romero"
          ],
          [
           "Robin",
           "Olsen"
          ],
          [
           "Viljami",
           "Sinisalo"
          ],
          [
           "Oliwier",
           "Zych"
          ],
          [
           "Alex",
           "Paulsen"
          ],
          [
           "Mark",
           "Travers"
          ],
          [
           "Kepa",
           "Arrizabalaga"
          ],
          [
           "Will",
           "Dennis"
          ],
          [
           "Mark",
           "Flekken"
          ],
          [
           "Hákon",
           "Valdimarsson"
          ],
          [
           "Jason",
           "Steele"
          ],
          [
           "Bart",
           "Verbruggen"
          ],
          [
           "Carl",
           "Rushworth"
          ],
          [
           "Lucas",
           "Bergström"
          ],
          [
           "Marcus",
           "Bettinelli"
          ],
          [
           "Đorđe",
           "Petrović"
          ],
          [
           "Robert",
           "Sánchez"
          ],
          [
           "Filip",
           "Jørgensen"
          ],
          [
           "Dean",
           "Henderson"
          ],
          [
           "Remi",
           "Matthews"
          ],
          [
           "Matt",
           "Turner"
          ],
          [
           "João",
           "Neves Virgínia"
          ],
          [
           "Jordan",
           "Pickford"
          ],
          [
           "Asmir",
           "Begovic"
          ],
          [
           "Steven",
           "Benda"
          ],
          [
           "Bernd",
           "Leno"
          ],
          [
           "Cieran",
           "Slicker"
          ],
          [
           "Christian",
           "Walton"
          ],
          [
           "Arijanet",
           "Muric"
          ],
          [
           "Mads",
           "Hermansen"
          ],
          [
           "Daniel",
           "Iversen"
          ],
          [
           "Jakub",
           "Stolarczyk"
          ],
          [
           "Danny",
           "Ward"
          ],
          [
           "Alisson",
           "Ramses Becker"
          ],
          [
           "Caoimhin",
           "Kelleher"
          ],
          [
           "Vítezslav",
           "Jaros"
          ],
          [
           "Scott",
           "Carson"
          ],
          [
           "Ederson",
           "Santana de Moraes"
          ],
          [
           "Stefan",
           "Ortega Moreno"
          ],
          [
           "Altay",
           "Bayindir"
          ],
          [
           "Tom",
           "Heaton"
          ],
          [
           "André",
           "Onana"
          ],
          [
           "Martin",
           "Dúbravka"
          ],
          [
           "Odysseas",
           "Vlachodimos"
          ],
          [
           "Nick",
           "Pope"
          ],
          [
           "John",
           "Ruddy"
          ],
          [
           "Carlos Miguel",
           "dos Santos Pereira"
          ],
          [
           "Matz",
           "Sels"
          ],
          [
           "Aaron",
           "Ramsdale"
          ],
          [
           "Gavin",
           "Bazunu"
          ],
          [
           "Mateusz",
           "Lis"
          ],
          [
           "Joe",
           "Lumley"
          ],
          [
           "Alex",
           "McCarthy"
          ],
          [
           "Brandon",
           "Austin"
          ],
          [
           "Fraser",
           "Forster"
          ],
          [
           "Guglielmo",
           "Vicario"
          ],
          [
           "Alfie",
           "Whiteman"
          ],
          [
           "Alphonse",
           "Areola"
          ],
          [
           "Łukasz",
           "Fabiański"
          ],
          [
           "Wes",
           "Foderingham"
          ],
          [
           "Sam",
           "Johnstone"
          ],
          [
           "Daniel",
           "Bentley"
          ],
          [
           "José",
           "Malheiro de Sá"
          ],
          [
           "Tom",
           "King"
          ]
         ],
         "hovertemplate": "now_cost=%{x}<br>goals_conceded=%{y}<br>first_name=%{customdata[0]}<br>second_name=%{customdata[1]}<br>clean_sheets=%{marker.color}<extra></extra>",
         "legendgroup": "",
         "marker": {
          "color": [
           0,
           3,
           0,
           0,
           0,
           0,
           0,
           0,
           0,
           0,
           0,
           0,
           0,
           0,
           0,
           0,
           1,
           1,
           0,
           0,
           0,
           0,
           2,
           0,
           1,
           0,
           0,
           0,
           0,
           0,
           0,
           1,
           0,
           0,
           1,
           0,
           0,
           0,
           0,
           3,
           1,
           0,
           0,
           1,
           0,
           0,
           0,
           3,
           0,
           0,
           1,
           0,
           0,
           2,
           0,
           0,
           0,
           0,
           0,
           0,
           0,
           2,
           0,
           1,
           0,
           0,
           0,
           0,
           0,
           0
          ],
          "coloraxis": "coloraxis",
          "symbol": "circle"
         },
         "mode": "markers",
         "name": "",
         "orientation": "v",
         "showlegend": false,
         "type": "scatter",
         "x": [
          40,
          56,
          43,
          45,
          40,
          40,
          50,
          45,
          40,
          40,
          40,
          44,
          45,
          40,
          45,
          40,
          44,
          45,
          40,
          40,
          40,
          44,
          47,
          43,
          45,
          40,
          40,
          40,
          48,
          40,
          40,
          50,
          40,
          44,
          44,
          45,
          40,
          40,
          40,
          55,
          44,
          40,
          40,
          55,
          53,
          44,
          40,
          50,
          43,
          44,
          50,
          40,
          43,
          45,
          44,
          44,
          40,
          40,
          44,
          40,
          44,
          50,
          40,
          45,
          40,
          44,
          44,
          40,
          44,
          40
         ],
         "xaxis": "x",
         "y": [
          0,
          5,
          2,
          0,
          0,
          0,
          9,
          0,
          0,
          0,
          0,
          1,
          6,
          0,
          10,
          0,
          1,
          7,
          0,
          0,
          0,
          0,
          7,
          0,
          9,
          0,
          0,
          0,
          15,
          0,
          0,
          5,
          0,
          2,
          8,
          12,
          0,
          0,
          0,
          2,
          0,
          0,
          0,
          6,
          0,
          0,
          0,
          8,
          0,
          0,
          7,
          0,
          0,
          5,
          10,
          0,
          0,
          0,
          2,
          0,
          0,
          5,
          0,
          9,
          1,
          0,
          8,
          0,
          8,
          0
         ],
         "yaxis": "y"
        }
       ],
       "layout": {
        "coloraxis": {
         "colorbar": {
          "title": {
           "text": "clean_sheets"
          }
         },
         "colorscale": [
          [
           0,
           "#0d0887"
          ],
          [
           0.1111111111111111,
           "#46039f"
          ],
          [
           0.2222222222222222,
           "#7201a8"
          ],
          [
           0.3333333333333333,
           "#9c179e"
          ],
          [
           0.4444444444444444,
           "#bd3786"
          ],
          [
           0.5555555555555556,
           "#d8576b"
          ],
          [
           0.6666666666666666,
           "#ed7953"
          ],
          [
           0.7777777777777778,
           "#fb9f3a"
          ],
          [
           0.8888888888888888,
           "#fdca26"
          ],
          [
           1,
           "#f0f921"
          ]
         ]
        },
        "legend": {
         "tracegroupgap": 0
        },
        "margin": {
         "t": 60
        },
        "template": {
         "data": {
          "bar": [
           {
            "error_x": {
             "color": "#2a3f5f"
            },
            "error_y": {
             "color": "#2a3f5f"
            },
            "marker": {
             "line": {
              "color": "#E5ECF6",
              "width": 0.5
             },
             "pattern": {
              "fillmode": "overlay",
              "size": 10,
              "solidity": 0.2
             }
            },
            "type": "bar"
           }
          ],
          "barpolar": [
           {
            "marker": {
             "line": {
              "color": "#E5ECF6",
              "width": 0.5
             },
             "pattern": {
              "fillmode": "overlay",
              "size": 10,
              "solidity": 0.2
             }
            },
            "type": "barpolar"
           }
          ],
          "carpet": [
           {
            "aaxis": {
             "endlinecolor": "#2a3f5f",
             "gridcolor": "white",
             "linecolor": "white",
             "minorgridcolor": "white",
             "startlinecolor": "#2a3f5f"
            },
            "baxis": {
             "endlinecolor": "#2a3f5f",
             "gridcolor": "white",
             "linecolor": "white",
             "minorgridcolor": "white",
             "startlinecolor": "#2a3f5f"
            },
            "type": "carpet"
           }
          ],
          "choropleth": [
           {
            "colorbar": {
             "outlinewidth": 0,
             "ticks": ""
            },
            "type": "choropleth"
           }
          ],
          "contour": [
           {
            "colorbar": {
             "outlinewidth": 0,
             "ticks": ""
            },
            "colorscale": [
             [
              0,
              "#0d0887"
             ],
             [
              0.1111111111111111,
              "#46039f"
             ],
             [
              0.2222222222222222,
              "#7201a8"
             ],
             [
              0.3333333333333333,
              "#9c179e"
             ],
             [
              0.4444444444444444,
              "#bd3786"
             ],
             [
              0.5555555555555556,
              "#d8576b"
             ],
             [
              0.6666666666666666,
              "#ed7953"
             ],
             [
              0.7777777777777778,
              "#fb9f3a"
             ],
             [
              0.8888888888888888,
              "#fdca26"
             ],
             [
              1,
              "#f0f921"
             ]
            ],
            "type": "contour"
           }
          ],
          "contourcarpet": [
           {
            "colorbar": {
             "outlinewidth": 0,
             "ticks": ""
            },
            "type": "contourcarpet"
           }
          ],
          "heatmap": [
           {
            "colorbar": {
             "outlinewidth": 0,
             "ticks": ""
            },
            "colorscale": [
             [
              0,
              "#0d0887"
             ],
             [
              0.1111111111111111,
              "#46039f"
             ],
             [
              0.2222222222222222,
              "#7201a8"
             ],
             [
              0.3333333333333333,
              "#9c179e"
             ],
             [
              0.4444444444444444,
              "#bd3786"
             ],
             [
              0.5555555555555556,
              "#d8576b"
             ],
             [
              0.6666666666666666,
              "#ed7953"
             ],
             [
              0.7777777777777778,
              "#fb9f3a"
             ],
             [
              0.8888888888888888,
              "#fdca26"
             ],
             [
              1,
              "#f0f921"
             ]
            ],
            "type": "heatmap"
           }
          ],
          "heatmapgl": [
           {
            "colorbar": {
             "outlinewidth": 0,
             "ticks": ""
            },
            "colorscale": [
             [
              0,
              "#0d0887"
             ],
             [
              0.1111111111111111,
              "#46039f"
             ],
             [
              0.2222222222222222,
              "#7201a8"
             ],
             [
              0.3333333333333333,
              "#9c179e"
             ],
             [
              0.4444444444444444,
              "#bd3786"
             ],
             [
              0.5555555555555556,
              "#d8576b"
             ],
             [
              0.6666666666666666,
              "#ed7953"
             ],
             [
              0.7777777777777778,
              "#fb9f3a"
             ],
             [
              0.8888888888888888,
              "#fdca26"
             ],
             [
              1,
              "#f0f921"
             ]
            ],
            "type": "heatmapgl"
           }
          ],
          "histogram": [
           {
            "marker": {
             "pattern": {
              "fillmode": "overlay",
              "size": 10,
              "solidity": 0.2
             }
            },
            "type": "histogram"
           }
          ],
          "histogram2d": [
           {
            "colorbar": {
             "outlinewidth": 0,
             "ticks": ""
            },
            "colorscale": [
             [
              0,
              "#0d0887"
             ],
             [
              0.1111111111111111,
              "#46039f"
             ],
             [
              0.2222222222222222,
              "#7201a8"
             ],
             [
              0.3333333333333333,
              "#9c179e"
             ],
             [
              0.4444444444444444,
              "#bd3786"
             ],
             [
              0.5555555555555556,
              "#d8576b"
             ],
             [
              0.6666666666666666,
              "#ed7953"
             ],
             [
              0.7777777777777778,
              "#fb9f3a"
             ],
             [
              0.8888888888888888,
              "#fdca26"
             ],
             [
              1,
              "#f0f921"
             ]
            ],
            "type": "histogram2d"
           }
          ],
          "histogram2dcontour": [
           {
            "colorbar": {
             "outlinewidth": 0,
             "ticks": ""
            },
            "colorscale": [
             [
              0,
              "#0d0887"
             ],
             [
              0.1111111111111111,
              "#46039f"
             ],
             [
              0.2222222222222222,
              "#7201a8"
             ],
             [
              0.3333333333333333,
              "#9c179e"
             ],
             [
              0.4444444444444444,
              "#bd3786"
             ],
             [
              0.5555555555555556,
              "#d8576b"
             ],
             [
              0.6666666666666666,
              "#ed7953"
             ],
             [
              0.7777777777777778,
              "#fb9f3a"
             ],
             [
              0.8888888888888888,
              "#fdca26"
             ],
             [
              1,
              "#f0f921"
             ]
            ],
            "type": "histogram2dcontour"
           }
          ],
          "mesh3d": [
           {
            "colorbar": {
             "outlinewidth": 0,
             "ticks": ""
            },
            "type": "mesh3d"
           }
          ],
          "parcoords": [
           {
            "line": {
             "colorbar": {
              "outlinewidth": 0,
              "ticks": ""
             }
            },
            "type": "parcoords"
           }
          ],
          "pie": [
           {
            "automargin": true,
            "type": "pie"
           }
          ],
          "scatter": [
           {
            "fillpattern": {
             "fillmode": "overlay",
             "size": 10,
             "solidity": 0.2
            },
            "type": "scatter"
           }
          ],
          "scatter3d": [
           {
            "line": {
             "colorbar": {
              "outlinewidth": 0,
              "ticks": ""
             }
            },
            "marker": {
             "colorbar": {
              "outlinewidth": 0,
              "ticks": ""
             }
            },
            "type": "scatter3d"
           }
          ],
          "scattercarpet": [
           {
            "marker": {
             "colorbar": {
              "outlinewidth": 0,
              "ticks": ""
             }
            },
            "type": "scattercarpet"
           }
          ],
          "scattergeo": [
           {
            "marker": {
             "colorbar": {
              "outlinewidth": 0,
              "ticks": ""
             }
            },
            "type": "scattergeo"
           }
          ],
          "scattergl": [
           {
            "marker": {
             "colorbar": {
              "outlinewidth": 0,
              "ticks": ""
             }
            },
            "type": "scattergl"
           }
          ],
          "scattermapbox": [
           {
            "marker": {
             "colorbar": {
              "outlinewidth": 0,
              "ticks": ""
             }
            },
            "type": "scattermapbox"
           }
          ],
          "scatterpolar": [
           {
            "marker": {
             "colorbar": {
              "outlinewidth": 0,
              "ticks": ""
             }
            },
            "type": "scatterpolar"
           }
          ],
          "scatterpolargl": [
           {
            "marker": {
             "colorbar": {
              "outlinewidth": 0,
              "ticks": ""
             }
            },
            "type": "scatterpolargl"
           }
          ],
          "scatterternary": [
           {
            "marker": {
             "colorbar": {
              "outlinewidth": 0,
              "ticks": ""
             }
            },
            "type": "scatterternary"
           }
          ],
          "surface": [
           {
            "colorbar": {
             "outlinewidth": 0,
             "ticks": ""
            },
            "colorscale": [
             [
              0,
              "#0d0887"
             ],
             [
              0.1111111111111111,
              "#46039f"
             ],
             [
              0.2222222222222222,
              "#7201a8"
             ],
             [
              0.3333333333333333,
              "#9c179e"
             ],
             [
              0.4444444444444444,
              "#bd3786"
             ],
             [
              0.5555555555555556,
              "#d8576b"
             ],
             [
              0.6666666666666666,
              "#ed7953"
             ],
             [
              0.7777777777777778,
              "#fb9f3a"
             ],
             [
              0.8888888888888888,
              "#fdca26"
             ],
             [
              1,
              "#f0f921"
             ]
            ],
            "type": "surface"
           }
          ],
          "table": [
           {
            "cells": {
             "fill": {
              "color": "#EBF0F8"
             },
             "line": {
              "color": "white"
             }
            },
            "header": {
             "fill": {
              "color": "#C8D4E3"
             },
             "line": {
              "color": "white"
             }
            },
            "type": "table"
           }
          ]
         },
         "layout": {
          "annotationdefaults": {
           "arrowcolor": "#2a3f5f",
           "arrowhead": 0,
           "arrowwidth": 1
          },
          "autotypenumbers": "strict",
          "coloraxis": {
           "colorbar": {
            "outlinewidth": 0,
            "ticks": ""
           }
          },
          "colorscale": {
           "diverging": [
            [
             0,
             "#8e0152"
            ],
            [
             0.1,
             "#c51b7d"
            ],
            [
             0.2,
             "#de77ae"
            ],
            [
             0.3,
             "#f1b6da"
            ],
            [
             0.4,
             "#fde0ef"
            ],
            [
             0.5,
             "#f7f7f7"
            ],
            [
             0.6,
             "#e6f5d0"
            ],
            [
             0.7,
             "#b8e186"
            ],
            [
             0.8,
             "#7fbc41"
            ],
            [
             0.9,
             "#4d9221"
            ],
            [
             1,
             "#276419"
            ]
           ],
           "sequential": [
            [
             0,
             "#0d0887"
            ],
            [
             0.1111111111111111,
             "#46039f"
            ],
            [
             0.2222222222222222,
             "#7201a8"
            ],
            [
             0.3333333333333333,
             "#9c179e"
            ],
            [
             0.4444444444444444,
             "#bd3786"
            ],
            [
             0.5555555555555556,
             "#d8576b"
            ],
            [
             0.6666666666666666,
             "#ed7953"
            ],
            [
             0.7777777777777778,
             "#fb9f3a"
            ],
            [
             0.8888888888888888,
             "#fdca26"
            ],
            [
             1,
             "#f0f921"
            ]
           ],
           "sequentialminus": [
            [
             0,
             "#0d0887"
            ],
            [
             0.1111111111111111,
             "#46039f"
            ],
            [
             0.2222222222222222,
             "#7201a8"
            ],
            [
             0.3333333333333333,
             "#9c179e"
            ],
            [
             0.4444444444444444,
             "#bd3786"
            ],
            [
             0.5555555555555556,
             "#d8576b"
            ],
            [
             0.6666666666666666,
             "#ed7953"
            ],
            [
             0.7777777777777778,
             "#fb9f3a"
            ],
            [
             0.8888888888888888,
             "#fdca26"
            ],
            [
             1,
             "#f0f921"
            ]
           ]
          },
          "colorway": [
           "#636efa",
           "#EF553B",
           "#00cc96",
           "#ab63fa",
           "#FFA15A",
           "#19d3f3",
           "#FF6692",
           "#B6E880",
           "#FF97FF",
           "#FECB52"
          ],
          "font": {
           "color": "#2a3f5f"
          },
          "geo": {
           "bgcolor": "white",
           "lakecolor": "white",
           "landcolor": "#E5ECF6",
           "showlakes": true,
           "showland": true,
           "subunitcolor": "white"
          },
          "hoverlabel": {
           "align": "left"
          },
          "hovermode": "closest",
          "mapbox": {
           "style": "light"
          },
          "paper_bgcolor": "white",
          "plot_bgcolor": "#E5ECF6",
          "polar": {
           "angularaxis": {
            "gridcolor": "white",
            "linecolor": "white",
            "ticks": ""
           },
           "bgcolor": "#E5ECF6",
           "radialaxis": {
            "gridcolor": "white",
            "linecolor": "white",
            "ticks": ""
           }
          },
          "scene": {
           "xaxis": {
            "backgroundcolor": "#E5ECF6",
            "gridcolor": "white",
            "gridwidth": 2,
            "linecolor": "white",
            "showbackground": true,
            "ticks": "",
            "zerolinecolor": "white"
           },
           "yaxis": {
            "backgroundcolor": "#E5ECF6",
            "gridcolor": "white",
            "gridwidth": 2,
            "linecolor": "white",
            "showbackground": true,
            "ticks": "",
            "zerolinecolor": "white"
           },
           "zaxis": {
            "backgroundcolor": "#E5ECF6",
            "gridcolor": "white",
            "gridwidth": 2,
            "linecolor": "white",
            "showbackground": true,
            "ticks": "",
            "zerolinecolor": "white"
           }
          },
          "shapedefaults": {
           "line": {
            "color": "#2a3f5f"
           }
          },
          "ternary": {
           "aaxis": {
            "gridcolor": "white",
            "linecolor": "white",
            "ticks": ""
           },
           "baxis": {
            "gridcolor": "white",
            "linecolor": "white",
            "ticks": ""
           },
           "bgcolor": "#E5ECF6",
           "caxis": {
            "gridcolor": "white",
            "linecolor": "white",
            "ticks": ""
           }
          },
          "title": {
           "x": 0.05
          },
          "xaxis": {
           "automargin": true,
           "gridcolor": "white",
           "linecolor": "white",
           "ticks": "",
           "title": {
            "standoff": 15
           },
           "zerolinecolor": "white",
           "zerolinewidth": 2
          },
          "yaxis": {
           "automargin": true,
           "gridcolor": "white",
           "linecolor": "white",
           "ticks": "",
           "title": {
            "standoff": 15
           },
           "zerolinecolor": "white",
           "zerolinewidth": 2
          }
         }
        },
        "xaxis": {
         "anchor": "y",
         "domain": [
          0,
          1
         ],
         "title": {
          "text": "now_cost"
         }
        },
        "yaxis": {
         "anchor": "x",
         "domain": [
          0,
          1
         ],
         "title": {
          "text": "goals_conceded"
         }
        }
       }
      },
      "text/html": [
       "<div>                            <div id=\"3891fba4-bcbd-40f2-9f4d-afab44c6fa12\" class=\"plotly-graph-div\" style=\"height:525px; width:100%;\"></div>            <script type=\"text/javascript\">                require([\"plotly\"], function(Plotly) {                    window.PLOTLYENV=window.PLOTLYENV || {};                                    if (document.getElementById(\"3891fba4-bcbd-40f2-9f4d-afab44c6fa12\")) {                    Plotly.newPlot(                        \"3891fba4-bcbd-40f2-9f4d-afab44c6fa12\",                        [{\"customdata\":[[\"Karl\",\"Hein\"],[\"David\",\"Raya Martin\"],[\"Norberto\",\"Murara Neto\"],[\"Tommy\",\"Setford\"],[\"Joe\",\"Gauci\"],[\"Filip\",\"Marschall\"],[\"Emiliano\",\"Mart\\u00ednez Romero\"],[\"Robin\",\"Olsen\"],[\"Viljami\",\"Sinisalo\"],[\"Oliwier\",\"Zych\"],[\"Alex\",\"Paulsen\"],[\"Mark\",\"Travers\"],[\"Kepa\",\"Arrizabalaga\"],[\"Will\",\"Dennis\"],[\"Mark\",\"Flekken\"],[\"H\\u00e1kon\",\"Valdimarsson\"],[\"Jason\",\"Steele\"],[\"Bart\",\"Verbruggen\"],[\"Carl\",\"Rushworth\"],[\"Lucas\",\"Bergstr\\u00f6m\"],[\"Marcus\",\"Bettinelli\"],[\"\\u0110or\\u0111e\",\"Petrovi\\u0107\"],[\"Robert\",\"S\\u00e1nchez\"],[\"Filip\",\"J\\u00f8rgensen\"],[\"Dean\",\"Henderson\"],[\"Remi\",\"Matthews\"],[\"Matt\",\"Turner\"],[\"Jo\\u00e3o\",\"Neves Virg\\u00ednia\"],[\"Jordan\",\"Pickford\"],[\"Asmir\",\"Begovic\"],[\"Steven\",\"Benda\"],[\"Bernd\",\"Leno\"],[\"Cieran\",\"Slicker\"],[\"Christian\",\"Walton\"],[\"Arijanet\",\"Muric\"],[\"Mads\",\"Hermansen\"],[\"Daniel\",\"Iversen\"],[\"Jakub\",\"Stolarczyk\"],[\"Danny\",\"Ward\"],[\"Alisson\",\"Ramses Becker\"],[\"Caoimhin\",\"Kelleher\"],[\"V\\u00edtezslav\",\"Jaros\"],[\"Scott\",\"Carson\"],[\"Ederson\",\"Santana de Moraes\"],[\"Stefan\",\"Ortega Moreno\"],[\"Altay\",\"Bayindir\"],[\"Tom\",\"Heaton\"],[\"Andr\\u00e9\",\"Onana\"],[\"Martin\",\"D\\u00fabravka\"],[\"Odysseas\",\"Vlachodimos\"],[\"Nick\",\"Pope\"],[\"John\",\"Ruddy\"],[\"Carlos Miguel\",\"dos Santos Pereira\"],[\"Matz\",\"Sels\"],[\"Aaron\",\"Ramsdale\"],[\"Gavin\",\"Bazunu\"],[\"Mateusz\",\"Lis\"],[\"Joe\",\"Lumley\"],[\"Alex\",\"McCarthy\"],[\"Brandon\",\"Austin\"],[\"Fraser\",\"Forster\"],[\"Guglielmo\",\"Vicario\"],[\"Alfie\",\"Whiteman\"],[\"Alphonse\",\"Areola\"],[\"\\u0141ukasz\",\"Fabia\\u0144ski\"],[\"Wes\",\"Foderingham\"],[\"Sam\",\"Johnstone\"],[\"Daniel\",\"Bentley\"],[\"Jos\\u00e9\",\"Malheiro de S\\u00e1\"],[\"Tom\",\"King\"]],\"hovertemplate\":\"now_cost=%{x}\\u003cbr\\u003egoals_conceded=%{y}\\u003cbr\\u003efirst_name=%{customdata[0]}\\u003cbr\\u003esecond_name=%{customdata[1]}\\u003cbr\\u003eclean_sheets=%{marker.color}\\u003cextra\\u003e\\u003c\\u002fextra\\u003e\",\"legendgroup\":\"\",\"marker\":{\"color\":[0,3,0,0,0,0,0,0,0,0,0,0,0,0,0,0,1,1,0,0,0,0,2,0,1,0,0,0,0,0,0,1,0,0,1,0,0,0,0,3,1,0,0,1,0,0,0,3,0,0,1,0,0,2,0,0,0,0,0,0,0,2,0,1,0,0,0,0,0,0],\"coloraxis\":\"coloraxis\",\"symbol\":\"circle\"},\"mode\":\"markers\",\"name\":\"\",\"orientation\":\"v\",\"showlegend\":false,\"x\":[40,56,43,45,40,40,50,45,40,40,40,44,45,40,45,40,44,45,40,40,40,44,47,43,45,40,40,40,48,40,40,50,40,44,44,45,40,40,40,55,44,40,40,55,53,44,40,50,43,44,50,40,43,45,44,44,40,40,44,40,44,50,40,45,40,44,44,40,44,40],\"xaxis\":\"x\",\"y\":[0,5,2,0,0,0,9,0,0,0,0,1,6,0,10,0,1,7,0,0,0,0,7,0,9,0,0,0,15,0,0,5,0,2,8,12,0,0,0,2,0,0,0,6,0,0,0,8,0,0,7,0,0,5,10,0,0,0,2,0,0,5,0,9,1,0,8,0,8,0],\"yaxis\":\"y\",\"type\":\"scatter\"}],                        {\"template\":{\"data\":{\"histogram2dcontour\":[{\"type\":\"histogram2dcontour\",\"colorbar\":{\"outlinewidth\":0,\"ticks\":\"\"},\"colorscale\":[[0.0,\"#0d0887\"],[0.1111111111111111,\"#46039f\"],[0.2222222222222222,\"#7201a8\"],[0.3333333333333333,\"#9c179e\"],[0.4444444444444444,\"#bd3786\"],[0.5555555555555556,\"#d8576b\"],[0.6666666666666666,\"#ed7953\"],[0.7777777777777778,\"#fb9f3a\"],[0.8888888888888888,\"#fdca26\"],[1.0,\"#f0f921\"]]}],\"choropleth\":[{\"type\":\"choropleth\",\"colorbar\":{\"outlinewidth\":0,\"ticks\":\"\"}}],\"histogram2d\":[{\"type\":\"histogram2d\",\"colorbar\":{\"outlinewidth\":0,\"ticks\":\"\"},\"colorscale\":[[0.0,\"#0d0887\"],[0.1111111111111111,\"#46039f\"],[0.2222222222222222,\"#7201a8\"],[0.3333333333333333,\"#9c179e\"],[0.4444444444444444,\"#bd3786\"],[0.5555555555555556,\"#d8576b\"],[0.6666666666666666,\"#ed7953\"],[0.7777777777777778,\"#fb9f3a\"],[0.8888888888888888,\"#fdca26\"],[1.0,\"#f0f921\"]]}],\"heatmap\":[{\"type\":\"heatmap\",\"colorbar\":{\"outlinewidth\":0,\"ticks\":\"\"},\"colorscale\":[[0.0,\"#0d0887\"],[0.1111111111111111,\"#46039f\"],[0.2222222222222222,\"#7201a8\"],[0.3333333333333333,\"#9c179e\"],[0.4444444444444444,\"#bd3786\"],[0.5555555555555556,\"#d8576b\"],[0.6666666666666666,\"#ed7953\"],[0.7777777777777778,\"#fb9f3a\"],[0.8888888888888888,\"#fdca26\"],[1.0,\"#f0f921\"]]}],\"heatmapgl\":[{\"type\":\"heatmapgl\",\"colorbar\":{\"outlinewidth\":0,\"ticks\":\"\"},\"colorscale\":[[0.0,\"#0d0887\"],[0.1111111111111111,\"#46039f\"],[0.2222222222222222,\"#7201a8\"],[0.3333333333333333,\"#9c179e\"],[0.4444444444444444,\"#bd3786\"],[0.5555555555555556,\"#d8576b\"],[0.6666666666666666,\"#ed7953\"],[0.7777777777777778,\"#fb9f3a\"],[0.8888888888888888,\"#fdca26\"],[1.0,\"#f0f921\"]]}],\"contourcarpet\":[{\"type\":\"contourcarpet\",\"colorbar\":{\"outlinewidth\":0,\"ticks\":\"\"}}],\"contour\":[{\"type\":\"contour\",\"colorbar\":{\"outlinewidth\":0,\"ticks\":\"\"},\"colorscale\":[[0.0,\"#0d0887\"],[0.1111111111111111,\"#46039f\"],[0.2222222222222222,\"#7201a8\"],[0.3333333333333333,\"#9c179e\"],[0.4444444444444444,\"#bd3786\"],[0.5555555555555556,\"#d8576b\"],[0.6666666666666666,\"#ed7953\"],[0.7777777777777778,\"#fb9f3a\"],[0.8888888888888888,\"#fdca26\"],[1.0,\"#f0f921\"]]}],\"surface\":[{\"type\":\"surface\",\"colorbar\":{\"outlinewidth\":0,\"ticks\":\"\"},\"colorscale\":[[0.0,\"#0d0887\"],[0.1111111111111111,\"#46039f\"],[0.2222222222222222,\"#7201a8\"],[0.3333333333333333,\"#9c179e\"],[0.4444444444444444,\"#bd3786\"],[0.5555555555555556,\"#d8576b\"],[0.6666666666666666,\"#ed7953\"],[0.7777777777777778,\"#fb9f3a\"],[0.8888888888888888,\"#fdca26\"],[1.0,\"#f0f921\"]]}],\"mesh3d\":[{\"type\":\"mesh3d\",\"colorbar\":{\"outlinewidth\":0,\"ticks\":\"\"}}],\"scatter\":[{\"fillpattern\":{\"fillmode\":\"overlay\",\"size\":10,\"solidity\":0.2},\"type\":\"scatter\"}],\"parcoords\":[{\"type\":\"parcoords\",\"line\":{\"colorbar\":{\"outlinewidth\":0,\"ticks\":\"\"}}}],\"scatterpolargl\":[{\"type\":\"scatterpolargl\",\"marker\":{\"colorbar\":{\"outlinewidth\":0,\"ticks\":\"\"}}}],\"bar\":[{\"error_x\":{\"color\":\"#2a3f5f\"},\"error_y\":{\"color\":\"#2a3f5f\"},\"marker\":{\"line\":{\"color\":\"#E5ECF6\",\"width\":0.5},\"pattern\":{\"fillmode\":\"overlay\",\"size\":10,\"solidity\":0.2}},\"type\":\"bar\"}],\"scattergeo\":[{\"type\":\"scattergeo\",\"marker\":{\"colorbar\":{\"outlinewidth\":0,\"ticks\":\"\"}}}],\"scatterpolar\":[{\"type\":\"scatterpolar\",\"marker\":{\"colorbar\":{\"outlinewidth\":0,\"ticks\":\"\"}}}],\"histogram\":[{\"marker\":{\"pattern\":{\"fillmode\":\"overlay\",\"size\":10,\"solidity\":0.2}},\"type\":\"histogram\"}],\"scattergl\":[{\"type\":\"scattergl\",\"marker\":{\"colorbar\":{\"outlinewidth\":0,\"ticks\":\"\"}}}],\"scatter3d\":[{\"type\":\"scatter3d\",\"line\":{\"colorbar\":{\"outlinewidth\":0,\"ticks\":\"\"}},\"marker\":{\"colorbar\":{\"outlinewidth\":0,\"ticks\":\"\"}}}],\"scattermapbox\":[{\"type\":\"scattermapbox\",\"marker\":{\"colorbar\":{\"outlinewidth\":0,\"ticks\":\"\"}}}],\"scatterternary\":[{\"type\":\"scatterternary\",\"marker\":{\"colorbar\":{\"outlinewidth\":0,\"ticks\":\"\"}}}],\"scattercarpet\":[{\"type\":\"scattercarpet\",\"marker\":{\"colorbar\":{\"outlinewidth\":0,\"ticks\":\"\"}}}],\"carpet\":[{\"aaxis\":{\"endlinecolor\":\"#2a3f5f\",\"gridcolor\":\"white\",\"linecolor\":\"white\",\"minorgridcolor\":\"white\",\"startlinecolor\":\"#2a3f5f\"},\"baxis\":{\"endlinecolor\":\"#2a3f5f\",\"gridcolor\":\"white\",\"linecolor\":\"white\",\"minorgridcolor\":\"white\",\"startlinecolor\":\"#2a3f5f\"},\"type\":\"carpet\"}],\"table\":[{\"cells\":{\"fill\":{\"color\":\"#EBF0F8\"},\"line\":{\"color\":\"white\"}},\"header\":{\"fill\":{\"color\":\"#C8D4E3\"},\"line\":{\"color\":\"white\"}},\"type\":\"table\"}],\"barpolar\":[{\"marker\":{\"line\":{\"color\":\"#E5ECF6\",\"width\":0.5},\"pattern\":{\"fillmode\":\"overlay\",\"size\":10,\"solidity\":0.2}},\"type\":\"barpolar\"}],\"pie\":[{\"automargin\":true,\"type\":\"pie\"}]},\"layout\":{\"autotypenumbers\":\"strict\",\"colorway\":[\"#636efa\",\"#EF553B\",\"#00cc96\",\"#ab63fa\",\"#FFA15A\",\"#19d3f3\",\"#FF6692\",\"#B6E880\",\"#FF97FF\",\"#FECB52\"],\"font\":{\"color\":\"#2a3f5f\"},\"hovermode\":\"closest\",\"hoverlabel\":{\"align\":\"left\"},\"paper_bgcolor\":\"white\",\"plot_bgcolor\":\"#E5ECF6\",\"polar\":{\"bgcolor\":\"#E5ECF6\",\"angularaxis\":{\"gridcolor\":\"white\",\"linecolor\":\"white\",\"ticks\":\"\"},\"radialaxis\":{\"gridcolor\":\"white\",\"linecolor\":\"white\",\"ticks\":\"\"}},\"ternary\":{\"bgcolor\":\"#E5ECF6\",\"aaxis\":{\"gridcolor\":\"white\",\"linecolor\":\"white\",\"ticks\":\"\"},\"baxis\":{\"gridcolor\":\"white\",\"linecolor\":\"white\",\"ticks\":\"\"},\"caxis\":{\"gridcolor\":\"white\",\"linecolor\":\"white\",\"ticks\":\"\"}},\"coloraxis\":{\"colorbar\":{\"outlinewidth\":0,\"ticks\":\"\"}},\"colorscale\":{\"sequential\":[[0.0,\"#0d0887\"],[0.1111111111111111,\"#46039f\"],[0.2222222222222222,\"#7201a8\"],[0.3333333333333333,\"#9c179e\"],[0.4444444444444444,\"#bd3786\"],[0.5555555555555556,\"#d8576b\"],[0.6666666666666666,\"#ed7953\"],[0.7777777777777778,\"#fb9f3a\"],[0.8888888888888888,\"#fdca26\"],[1.0,\"#f0f921\"]],\"sequentialminus\":[[0.0,\"#0d0887\"],[0.1111111111111111,\"#46039f\"],[0.2222222222222222,\"#7201a8\"],[0.3333333333333333,\"#9c179e\"],[0.4444444444444444,\"#bd3786\"],[0.5555555555555556,\"#d8576b\"],[0.6666666666666666,\"#ed7953\"],[0.7777777777777778,\"#fb9f3a\"],[0.8888888888888888,\"#fdca26\"],[1.0,\"#f0f921\"]],\"diverging\":[[0,\"#8e0152\"],[0.1,\"#c51b7d\"],[0.2,\"#de77ae\"],[0.3,\"#f1b6da\"],[0.4,\"#fde0ef\"],[0.5,\"#f7f7f7\"],[0.6,\"#e6f5d0\"],[0.7,\"#b8e186\"],[0.8,\"#7fbc41\"],[0.9,\"#4d9221\"],[1,\"#276419\"]]},\"xaxis\":{\"gridcolor\":\"white\",\"linecolor\":\"white\",\"ticks\":\"\",\"title\":{\"standoff\":15},\"zerolinecolor\":\"white\",\"automargin\":true,\"zerolinewidth\":2},\"yaxis\":{\"gridcolor\":\"white\",\"linecolor\":\"white\",\"ticks\":\"\",\"title\":{\"standoff\":15},\"zerolinecolor\":\"white\",\"automargin\":true,\"zerolinewidth\":2},\"scene\":{\"xaxis\":{\"backgroundcolor\":\"#E5ECF6\",\"gridcolor\":\"white\",\"linecolor\":\"white\",\"showbackground\":true,\"ticks\":\"\",\"zerolinecolor\":\"white\",\"gridwidth\":2},\"yaxis\":{\"backgroundcolor\":\"#E5ECF6\",\"gridcolor\":\"white\",\"linecolor\":\"white\",\"showbackground\":true,\"ticks\":\"\",\"zerolinecolor\":\"white\",\"gridwidth\":2},\"zaxis\":{\"backgroundcolor\":\"#E5ECF6\",\"gridcolor\":\"white\",\"linecolor\":\"white\",\"showbackground\":true,\"ticks\":\"\",\"zerolinecolor\":\"white\",\"gridwidth\":2}},\"shapedefaults\":{\"line\":{\"color\":\"#2a3f5f\"}},\"annotationdefaults\":{\"arrowcolor\":\"#2a3f5f\",\"arrowhead\":0,\"arrowwidth\":1},\"geo\":{\"bgcolor\":\"white\",\"landcolor\":\"#E5ECF6\",\"subunitcolor\":\"white\",\"showland\":true,\"showlakes\":true,\"lakecolor\":\"white\"},\"title\":{\"x\":0.05},\"mapbox\":{\"style\":\"light\"}}},\"xaxis\":{\"anchor\":\"y\",\"domain\":[0.0,1.0],\"title\":{\"text\":\"now_cost\"}},\"yaxis\":{\"anchor\":\"x\",\"domain\":[0.0,1.0],\"title\":{\"text\":\"goals_conceded\"}},\"coloraxis\":{\"colorbar\":{\"title\":{\"text\":\"clean_sheets\"}},\"colorscale\":[[0.0,\"#0d0887\"],[0.1111111111111111,\"#46039f\"],[0.2222222222222222,\"#7201a8\"],[0.3333333333333333,\"#9c179e\"],[0.4444444444444444,\"#bd3786\"],[0.5555555555555556,\"#d8576b\"],[0.6666666666666666,\"#ed7953\"],[0.7777777777777778,\"#fb9f3a\"],[0.8888888888888888,\"#fdca26\"],[1.0,\"#f0f921\"]]},\"legend\":{\"tracegroupgap\":0},\"margin\":{\"t\":60}},                        {\"responsive\": true}                    ).then(function(){\n",
       "                            \n",
       "var gd = document.getElementById('3891fba4-bcbd-40f2-9f4d-afab44c6fa12');\n",
       "var x = new MutationObserver(function (mutations, observer) {{\n",
       "        var display = window.getComputedStyle(gd).display;\n",
       "        if (!display || display === 'none') {{\n",
       "            console.log([gd, 'removed!']);\n",
       "            Plotly.purge(gd);\n",
       "            observer.disconnect();\n",
       "        }}\n",
       "}});\n",
       "\n",
       "// Listen for the removal of the full notebook cells\n",
       "var notebookContainer = gd.closest('#notebook-container');\n",
       "if (notebookContainer) {{\n",
       "    x.observe(notebookContainer, {childList: true});\n",
       "}}\n",
       "\n",
       "// Listen for the clearing of the current output cell\n",
       "var outputEl = gd.closest('.output');\n",
       "if (outputEl) {{\n",
       "    x.observe(outputEl, {childList: true});\n",
       "}}\n",
       "\n",
       "                        })                };                });            </script>        </div>"
      ]
     },
     "metadata": {},
     "output_type": "display_data"
    }
   ],
   "source": [
    "gks.plot.scatter(x=\"now_cost\", y=\"goals_conceded\", hover_data=[\"first_name\", \"second_name\"], color='clean_sheets')"
   ]
  },
  {
   "cell_type": "markdown",
   "metadata": {},
   "source": [
    "# ROI for GK\n",
    "\n",
    "ROI = goals conceded per minute played per cost"
   ]
  },
  {
   "cell_type": "code",
   "execution_count": 111,
   "metadata": {},
   "outputs": [
    {
     "name": "stderr",
     "output_type": "stream",
     "text": [
      "/tmp/ipykernel_1660291/2267593952.py:7: SettingWithCopyWarning:\n",
      "\n",
      "\n",
      "A value is trying to be set on a copy of a slice from a DataFrame.\n",
      "Try using .loc[row_indexer,col_indexer] = value instead\n",
      "\n",
      "See the caveats in the documentation: https://pandas.pydata.org/pandas-docs/stable/user_guide/indexing.html#returning-a-view-versus-a-copy\n",
      "\n",
      "/tmp/ipykernel_1660291/2267593952.py:8: SettingWithCopyWarning:\n",
      "\n",
      "\n",
      "A value is trying to be set on a copy of a slice from a DataFrame\n",
      "\n",
      "See the caveats in the documentation: https://pandas.pydata.org/pandas-docs/stable/user_guide/indexing.html#returning-a-view-versus-a-copy\n",
      "\n"
     ]
    },
    {
     "data": {
      "text/html": [
       "<div>\n",
       "<style scoped>\n",
       "    .dataframe tbody tr th:only-of-type {\n",
       "        vertical-align: middle;\n",
       "    }\n",
       "\n",
       "    .dataframe tbody tr th {\n",
       "        vertical-align: top;\n",
       "    }\n",
       "\n",
       "    .dataframe thead th {\n",
       "        text-align: right;\n",
       "    }\n",
       "</style>\n",
       "<table border=\"1\" class=\"dataframe\">\n",
       "  <thead>\n",
       "    <tr style=\"text-align: right;\">\n",
       "      <th></th>\n",
       "      <th>first_name</th>\n",
       "      <th>second_name</th>\n",
       "      <th>minutes</th>\n",
       "      <th>goals_conceded</th>\n",
       "      <th>minutes_per_goals_conceded</th>\n",
       "    </tr>\n",
       "  </thead>\n",
       "  <tbody>\n",
       "    <tr>\n",
       "      <th>372</th>\n",
       "      <td>Alisson</td>\n",
       "      <td>Ramses Becker</td>\n",
       "      <td>450</td>\n",
       "      <td>2</td>\n",
       "      <td>225.000000</td>\n",
       "    </tr>\n",
       "    <tr>\n",
       "      <th>160</th>\n",
       "      <td>Jason</td>\n",
       "      <td>Steele</td>\n",
       "      <td>180</td>\n",
       "      <td>1</td>\n",
       "      <td>180.000000</td>\n",
       "    </tr>\n",
       "    <tr>\n",
       "      <th>11</th>\n",
       "      <td>David</td>\n",
       "      <td>Raya Martin</td>\n",
       "      <td>540</td>\n",
       "      <td>5</td>\n",
       "      <td>108.000000</td>\n",
       "    </tr>\n",
       "    <tr>\n",
       "      <th>514</th>\n",
       "      <td>Matz</td>\n",
       "      <td>Sels</td>\n",
       "      <td>540</td>\n",
       "      <td>5</td>\n",
       "      <td>108.000000</td>\n",
       "    </tr>\n",
       "    <tr>\n",
       "      <th>592</th>\n",
       "      <td>Guglielmo</td>\n",
       "      <td>Vicario</td>\n",
       "      <td>540</td>\n",
       "      <td>5</td>\n",
       "      <td>108.000000</td>\n",
       "    </tr>\n",
       "    <tr>\n",
       "      <th>289</th>\n",
       "      <td>Bernd</td>\n",
       "      <td>Leno</td>\n",
       "      <td>540</td>\n",
       "      <td>5</td>\n",
       "      <td>108.000000</td>\n",
       "    </tr>\n",
       "    <tr>\n",
       "      <th>409</th>\n",
       "      <td>Ederson</td>\n",
       "      <td>Santana de Moraes</td>\n",
       "      <td>540</td>\n",
       "      <td>6</td>\n",
       "      <td>90.000000</td>\n",
       "    </tr>\n",
       "    <tr>\n",
       "      <th>92</th>\n",
       "      <td>Mark</td>\n",
       "      <td>Travers</td>\n",
       "      <td>90</td>\n",
       "      <td>1</td>\n",
       "      <td>90.000000</td>\n",
       "    </tr>\n",
       "    <tr>\n",
       "      <th>21</th>\n",
       "      <td>Norberto</td>\n",
       "      <td>Murara Neto</td>\n",
       "      <td>180</td>\n",
       "      <td>2</td>\n",
       "      <td>90.000000</td>\n",
       "    </tr>\n",
       "    <tr>\n",
       "      <th>548</th>\n",
       "      <td>Alex</td>\n",
       "      <td>McCarthy</td>\n",
       "      <td>180</td>\n",
       "      <td>2</td>\n",
       "      <td>90.000000</td>\n",
       "    </tr>\n",
       "    <tr>\n",
       "      <th>208</th>\n",
       "      <td>Robert</td>\n",
       "      <td>Sánchez</td>\n",
       "      <td>540</td>\n",
       "      <td>7</td>\n",
       "      <td>77.142857</td>\n",
       "    </tr>\n",
       "    <tr>\n",
       "      <th>481</th>\n",
       "      <td>Nick</td>\n",
       "      <td>Pope</td>\n",
       "      <td>540</td>\n",
       "      <td>7</td>\n",
       "      <td>77.142857</td>\n",
       "    </tr>\n",
       "    <tr>\n",
       "      <th>448</th>\n",
       "      <td>André</td>\n",
       "      <td>Onana</td>\n",
       "      <td>540</td>\n",
       "      <td>8</td>\n",
       "      <td>67.500000</td>\n",
       "    </tr>\n",
       "    <tr>\n",
       "      <th>226</th>\n",
       "      <td>Dean</td>\n",
       "      <td>Henderson</td>\n",
       "      <td>540</td>\n",
       "      <td>9</td>\n",
       "      <td>60.000000</td>\n",
       "    </tr>\n",
       "    <tr>\n",
       "      <th>51</th>\n",
       "      <td>Emiliano</td>\n",
       "      <td>Martínez Romero</td>\n",
       "      <td>540</td>\n",
       "      <td>9</td>\n",
       "      <td>60.000000</td>\n",
       "    </tr>\n",
       "    <tr>\n",
       "      <th>332</th>\n",
       "      <td>Arijanet</td>\n",
       "      <td>Muric</td>\n",
       "      <td>450</td>\n",
       "      <td>8</td>\n",
       "      <td>56.250000</td>\n",
       "    </tr>\n",
       "    <tr>\n",
       "      <th>601</th>\n",
       "      <td>Alphonse</td>\n",
       "      <td>Areola</td>\n",
       "      <td>495</td>\n",
       "      <td>9</td>\n",
       "      <td>55.000000</td>\n",
       "    </tr>\n",
       "    <tr>\n",
       "      <th>104</th>\n",
       "      <td>Mark</td>\n",
       "      <td>Flekken</td>\n",
       "      <td>540</td>\n",
       "      <td>10</td>\n",
       "      <td>54.000000</td>\n",
       "    </tr>\n",
       "    <tr>\n",
       "      <th>164</th>\n",
       "      <td>Bart</td>\n",
       "      <td>Verbruggen</td>\n",
       "      <td>360</td>\n",
       "      <td>7</td>\n",
       "      <td>51.428571</td>\n",
       "    </tr>\n",
       "    <tr>\n",
       "      <th>625</th>\n",
       "      <td>Sam</td>\n",
       "      <td>Johnstone</td>\n",
       "      <td>360</td>\n",
       "      <td>8</td>\n",
       "      <td>45.000000</td>\n",
       "    </tr>\n",
       "    <tr>\n",
       "      <th>94</th>\n",
       "      <td>Kepa</td>\n",
       "      <td>Arrizabalaga</td>\n",
       "      <td>270</td>\n",
       "      <td>6</td>\n",
       "      <td>45.000000</td>\n",
       "    </tr>\n",
       "    <tr>\n",
       "      <th>329</th>\n",
       "      <td>Christian</td>\n",
       "      <td>Walton</td>\n",
       "      <td>90</td>\n",
       "      <td>2</td>\n",
       "      <td>45.000000</td>\n",
       "    </tr>\n",
       "    <tr>\n",
       "      <th>350</th>\n",
       "      <td>Mads</td>\n",
       "      <td>Hermansen</td>\n",
       "      <td>540</td>\n",
       "      <td>12</td>\n",
       "      <td>45.000000</td>\n",
       "    </tr>\n",
       "    <tr>\n",
       "      <th>607</th>\n",
       "      <td>Łukasz</td>\n",
       "      <td>Fabiański</td>\n",
       "      <td>45</td>\n",
       "      <td>1</td>\n",
       "      <td>45.000000</td>\n",
       "    </tr>\n",
       "    <tr>\n",
       "      <th>266</th>\n",
       "      <td>Jordan</td>\n",
       "      <td>Pickford</td>\n",
       "      <td>540</td>\n",
       "      <td>15</td>\n",
       "      <td>36.000000</td>\n",
       "    </tr>\n",
       "    <tr>\n",
       "      <th>525</th>\n",
       "      <td>Aaron</td>\n",
       "      <td>Ramsdale</td>\n",
       "      <td>360</td>\n",
       "      <td>10</td>\n",
       "      <td>36.000000</td>\n",
       "    </tr>\n",
       "    <tr>\n",
       "      <th>647</th>\n",
       "      <td>José</td>\n",
       "      <td>Malheiro de Sá</td>\n",
       "      <td>180</td>\n",
       "      <td>8</td>\n",
       "      <td>22.500000</td>\n",
       "    </tr>\n",
       "  </tbody>\n",
       "</table>\n",
       "</div>"
      ],
      "text/plain": [
       "    first_name        second_name  minutes  goals_conceded  \\\n",
       "372    Alisson      Ramses Becker      450               2   \n",
       "160      Jason             Steele      180               1   \n",
       "11       David        Raya Martin      540               5   \n",
       "514       Matz               Sels      540               5   \n",
       "592  Guglielmo            Vicario      540               5   \n",
       "289      Bernd               Leno      540               5   \n",
       "409    Ederson  Santana de Moraes      540               6   \n",
       "92        Mark            Travers       90               1   \n",
       "21    Norberto        Murara Neto      180               2   \n",
       "548       Alex           McCarthy      180               2   \n",
       "208     Robert            Sánchez      540               7   \n",
       "481       Nick               Pope      540               7   \n",
       "448      André              Onana      540               8   \n",
       "226       Dean          Henderson      540               9   \n",
       "51    Emiliano    Martínez Romero      540               9   \n",
       "332   Arijanet              Muric      450               8   \n",
       "601   Alphonse             Areola      495               9   \n",
       "104       Mark            Flekken      540              10   \n",
       "164       Bart         Verbruggen      360               7   \n",
       "625        Sam          Johnstone      360               8   \n",
       "94        Kepa       Arrizabalaga      270               6   \n",
       "329  Christian             Walton       90               2   \n",
       "350       Mads          Hermansen      540              12   \n",
       "607     Łukasz          Fabiański       45               1   \n",
       "266     Jordan           Pickford      540              15   \n",
       "525      Aaron           Ramsdale      360              10   \n",
       "647       José     Malheiro de Sá      180               8   \n",
       "\n",
       "     minutes_per_goals_conceded  \n",
       "372                  225.000000  \n",
       "160                  180.000000  \n",
       "11                   108.000000  \n",
       "514                  108.000000  \n",
       "592                  108.000000  \n",
       "289                  108.000000  \n",
       "409                   90.000000  \n",
       "92                    90.000000  \n",
       "21                    90.000000  \n",
       "548                   90.000000  \n",
       "208                   77.142857  \n",
       "481                   77.142857  \n",
       "448                   67.500000  \n",
       "226                   60.000000  \n",
       "51                    60.000000  \n",
       "332                   56.250000  \n",
       "601                   55.000000  \n",
       "104                   54.000000  \n",
       "164                   51.428571  \n",
       "625                   45.000000  \n",
       "94                    45.000000  \n",
       "329                   45.000000  \n",
       "350                   45.000000  \n",
       "607                   45.000000  \n",
       "266                   36.000000  \n",
       "525                   36.000000  \n",
       "647                   22.500000  "
      ]
     },
     "execution_count": 111,
     "metadata": {},
     "output_type": "execute_result"
    }
   ],
   "source": [
    "played_gks = gks.loc[df['minutes'] != 0]\n",
    "\n",
    "def getMinutesPerConceded(row: pd.Series) -> pd.Series:\n",
    "  if row[\"goals_conceded\"] == 0:\n",
    "    return np.nan\n",
    "  return row['minutes'] / row[\"goals_conceded\"]\n",
    "played_gks['minutes_per_goals_conceded'] = played_gks.apply(getMinutesPerConceded, axis=1)\n",
    "played_gks.dropna(subset=[\"minutes_per_goals_conceded\"], how=\"all\", inplace=True)\n",
    "best_gks = played_gks.sort_values(by='minutes_per_goals_conceded', ascending=False)\n",
    "best_gks[['first_name', 'second_name', 'minutes', 'goals_conceded', 'minutes_per_goals_conceded']]"
   ]
  },
  {
   "cell_type": "code",
   "execution_count": 113,
   "metadata": {},
   "outputs": [
    {
     "data": {
      "text/html": [
       "<div>\n",
       "<style scoped>\n",
       "    .dataframe tbody tr th:only-of-type {\n",
       "        vertical-align: middle;\n",
       "    }\n",
       "\n",
       "    .dataframe tbody tr th {\n",
       "        vertical-align: top;\n",
       "    }\n",
       "\n",
       "    .dataframe thead th {\n",
       "        text-align: right;\n",
       "    }\n",
       "</style>\n",
       "<table border=\"1\" class=\"dataframe\">\n",
       "  <thead>\n",
       "    <tr style=\"text-align: right;\">\n",
       "      <th></th>\n",
       "      <th>first_name</th>\n",
       "      <th>second_name</th>\n",
       "      <th>minutes</th>\n",
       "      <th>goals_conceded</th>\n",
       "      <th>minutes_per_goals_conceded</th>\n",
       "      <th>cost_per_minutes_per_goals_conceded</th>\n",
       "    </tr>\n",
       "  </thead>\n",
       "  <tbody>\n",
       "    <tr>\n",
       "      <th>372</th>\n",
       "      <td>Alisson</td>\n",
       "      <td>Ramses Becker</td>\n",
       "      <td>450</td>\n",
       "      <td>2</td>\n",
       "      <td>225.000000</td>\n",
       "      <td>0.244444</td>\n",
       "    </tr>\n",
       "    <tr>\n",
       "      <th>160</th>\n",
       "      <td>Jason</td>\n",
       "      <td>Steele</td>\n",
       "      <td>180</td>\n",
       "      <td>1</td>\n",
       "      <td>180.000000</td>\n",
       "      <td>0.244444</td>\n",
       "    </tr>\n",
       "    <tr>\n",
       "      <th>514</th>\n",
       "      <td>Matz</td>\n",
       "      <td>Sels</td>\n",
       "      <td>540</td>\n",
       "      <td>5</td>\n",
       "      <td>108.000000</td>\n",
       "      <td>0.416667</td>\n",
       "    </tr>\n",
       "    <tr>\n",
       "      <th>592</th>\n",
       "      <td>Guglielmo</td>\n",
       "      <td>Vicario</td>\n",
       "      <td>540</td>\n",
       "      <td>5</td>\n",
       "      <td>108.000000</td>\n",
       "      <td>0.462963</td>\n",
       "    </tr>\n",
       "    <tr>\n",
       "      <th>289</th>\n",
       "      <td>Bernd</td>\n",
       "      <td>Leno</td>\n",
       "      <td>540</td>\n",
       "      <td>5</td>\n",
       "      <td>108.000000</td>\n",
       "      <td>0.462963</td>\n",
       "    </tr>\n",
       "    <tr>\n",
       "      <th>21</th>\n",
       "      <td>Norberto</td>\n",
       "      <td>Murara Neto</td>\n",
       "      <td>180</td>\n",
       "      <td>2</td>\n",
       "      <td>90.000000</td>\n",
       "      <td>0.477778</td>\n",
       "    </tr>\n",
       "    <tr>\n",
       "      <th>548</th>\n",
       "      <td>Alex</td>\n",
       "      <td>McCarthy</td>\n",
       "      <td>180</td>\n",
       "      <td>2</td>\n",
       "      <td>90.000000</td>\n",
       "      <td>0.488889</td>\n",
       "    </tr>\n",
       "    <tr>\n",
       "      <th>92</th>\n",
       "      <td>Mark</td>\n",
       "      <td>Travers</td>\n",
       "      <td>90</td>\n",
       "      <td>1</td>\n",
       "      <td>90.000000</td>\n",
       "      <td>0.488889</td>\n",
       "    </tr>\n",
       "    <tr>\n",
       "      <th>11</th>\n",
       "      <td>David</td>\n",
       "      <td>Raya Martin</td>\n",
       "      <td>540</td>\n",
       "      <td>5</td>\n",
       "      <td>108.000000</td>\n",
       "      <td>0.518519</td>\n",
       "    </tr>\n",
       "    <tr>\n",
       "      <th>208</th>\n",
       "      <td>Robert</td>\n",
       "      <td>Sánchez</td>\n",
       "      <td>540</td>\n",
       "      <td>7</td>\n",
       "      <td>77.142857</td>\n",
       "      <td>0.609259</td>\n",
       "    </tr>\n",
       "    <tr>\n",
       "      <th>409</th>\n",
       "      <td>Ederson</td>\n",
       "      <td>Santana de Moraes</td>\n",
       "      <td>540</td>\n",
       "      <td>6</td>\n",
       "      <td>90.000000</td>\n",
       "      <td>0.611111</td>\n",
       "    </tr>\n",
       "    <tr>\n",
       "      <th>481</th>\n",
       "      <td>Nick</td>\n",
       "      <td>Pope</td>\n",
       "      <td>540</td>\n",
       "      <td>7</td>\n",
       "      <td>77.142857</td>\n",
       "      <td>0.648148</td>\n",
       "    </tr>\n",
       "    <tr>\n",
       "      <th>448</th>\n",
       "      <td>André</td>\n",
       "      <td>Onana</td>\n",
       "      <td>540</td>\n",
       "      <td>8</td>\n",
       "      <td>67.500000</td>\n",
       "      <td>0.740741</td>\n",
       "    </tr>\n",
       "    <tr>\n",
       "      <th>226</th>\n",
       "      <td>Dean</td>\n",
       "      <td>Henderson</td>\n",
       "      <td>540</td>\n",
       "      <td>9</td>\n",
       "      <td>60.000000</td>\n",
       "      <td>0.750000</td>\n",
       "    </tr>\n",
       "    <tr>\n",
       "      <th>332</th>\n",
       "      <td>Arijanet</td>\n",
       "      <td>Muric</td>\n",
       "      <td>450</td>\n",
       "      <td>8</td>\n",
       "      <td>56.250000</td>\n",
       "      <td>0.782222</td>\n",
       "    </tr>\n",
       "    <tr>\n",
       "      <th>601</th>\n",
       "      <td>Alphonse</td>\n",
       "      <td>Areola</td>\n",
       "      <td>495</td>\n",
       "      <td>9</td>\n",
       "      <td>55.000000</td>\n",
       "      <td>0.818182</td>\n",
       "    </tr>\n",
       "    <tr>\n",
       "      <th>51</th>\n",
       "      <td>Emiliano</td>\n",
       "      <td>Martínez Romero</td>\n",
       "      <td>540</td>\n",
       "      <td>9</td>\n",
       "      <td>60.000000</td>\n",
       "      <td>0.833333</td>\n",
       "    </tr>\n",
       "    <tr>\n",
       "      <th>104</th>\n",
       "      <td>Mark</td>\n",
       "      <td>Flekken</td>\n",
       "      <td>540</td>\n",
       "      <td>10</td>\n",
       "      <td>54.000000</td>\n",
       "      <td>0.833333</td>\n",
       "    </tr>\n",
       "    <tr>\n",
       "      <th>164</th>\n",
       "      <td>Bart</td>\n",
       "      <td>Verbruggen</td>\n",
       "      <td>360</td>\n",
       "      <td>7</td>\n",
       "      <td>51.428571</td>\n",
       "      <td>0.875000</td>\n",
       "    </tr>\n",
       "    <tr>\n",
       "      <th>607</th>\n",
       "      <td>Łukasz</td>\n",
       "      <td>Fabiański</td>\n",
       "      <td>45</td>\n",
       "      <td>1</td>\n",
       "      <td>45.000000</td>\n",
       "      <td>0.888889</td>\n",
       "    </tr>\n",
       "    <tr>\n",
       "      <th>625</th>\n",
       "      <td>Sam</td>\n",
       "      <td>Johnstone</td>\n",
       "      <td>360</td>\n",
       "      <td>8</td>\n",
       "      <td>45.000000</td>\n",
       "      <td>0.977778</td>\n",
       "    </tr>\n",
       "    <tr>\n",
       "      <th>329</th>\n",
       "      <td>Christian</td>\n",
       "      <td>Walton</td>\n",
       "      <td>90</td>\n",
       "      <td>2</td>\n",
       "      <td>45.000000</td>\n",
       "      <td>0.977778</td>\n",
       "    </tr>\n",
       "    <tr>\n",
       "      <th>94</th>\n",
       "      <td>Kepa</td>\n",
       "      <td>Arrizabalaga</td>\n",
       "      <td>270</td>\n",
       "      <td>6</td>\n",
       "      <td>45.000000</td>\n",
       "      <td>1.000000</td>\n",
       "    </tr>\n",
       "    <tr>\n",
       "      <th>350</th>\n",
       "      <td>Mads</td>\n",
       "      <td>Hermansen</td>\n",
       "      <td>540</td>\n",
       "      <td>12</td>\n",
       "      <td>45.000000</td>\n",
       "      <td>1.000000</td>\n",
       "    </tr>\n",
       "    <tr>\n",
       "      <th>525</th>\n",
       "      <td>Aaron</td>\n",
       "      <td>Ramsdale</td>\n",
       "      <td>360</td>\n",
       "      <td>10</td>\n",
       "      <td>36.000000</td>\n",
       "      <td>1.222222</td>\n",
       "    </tr>\n",
       "    <tr>\n",
       "      <th>266</th>\n",
       "      <td>Jordan</td>\n",
       "      <td>Pickford</td>\n",
       "      <td>540</td>\n",
       "      <td>15</td>\n",
       "      <td>36.000000</td>\n",
       "      <td>1.333333</td>\n",
       "    </tr>\n",
       "    <tr>\n",
       "      <th>647</th>\n",
       "      <td>José</td>\n",
       "      <td>Malheiro de Sá</td>\n",
       "      <td>180</td>\n",
       "      <td>8</td>\n",
       "      <td>22.500000</td>\n",
       "      <td>1.955556</td>\n",
       "    </tr>\n",
       "  </tbody>\n",
       "</table>\n",
       "</div>"
      ],
      "text/plain": [
       "    first_name        second_name  minutes  goals_conceded  \\\n",
       "372    Alisson      Ramses Becker      450               2   \n",
       "160      Jason             Steele      180               1   \n",
       "514       Matz               Sels      540               5   \n",
       "592  Guglielmo            Vicario      540               5   \n",
       "289      Bernd               Leno      540               5   \n",
       "21    Norberto        Murara Neto      180               2   \n",
       "548       Alex           McCarthy      180               2   \n",
       "92        Mark            Travers       90               1   \n",
       "11       David        Raya Martin      540               5   \n",
       "208     Robert            Sánchez      540               7   \n",
       "409    Ederson  Santana de Moraes      540               6   \n",
       "481       Nick               Pope      540               7   \n",
       "448      André              Onana      540               8   \n",
       "226       Dean          Henderson      540               9   \n",
       "332   Arijanet              Muric      450               8   \n",
       "601   Alphonse             Areola      495               9   \n",
       "51    Emiliano    Martínez Romero      540               9   \n",
       "104       Mark            Flekken      540              10   \n",
       "164       Bart         Verbruggen      360               7   \n",
       "607     Łukasz          Fabiański       45               1   \n",
       "625        Sam          Johnstone      360               8   \n",
       "329  Christian             Walton       90               2   \n",
       "94        Kepa       Arrizabalaga      270               6   \n",
       "350       Mads          Hermansen      540              12   \n",
       "525      Aaron           Ramsdale      360              10   \n",
       "266     Jordan           Pickford      540              15   \n",
       "647       José     Malheiro de Sá      180               8   \n",
       "\n",
       "     minutes_per_goals_conceded  cost_per_minutes_per_goals_conceded  \n",
       "372                  225.000000                             0.244444  \n",
       "160                  180.000000                             0.244444  \n",
       "514                  108.000000                             0.416667  \n",
       "592                  108.000000                             0.462963  \n",
       "289                  108.000000                             0.462963  \n",
       "21                    90.000000                             0.477778  \n",
       "548                   90.000000                             0.488889  \n",
       "92                    90.000000                             0.488889  \n",
       "11                   108.000000                             0.518519  \n",
       "208                   77.142857                             0.609259  \n",
       "409                   90.000000                             0.611111  \n",
       "481                   77.142857                             0.648148  \n",
       "448                   67.500000                             0.740741  \n",
       "226                   60.000000                             0.750000  \n",
       "332                   56.250000                             0.782222  \n",
       "601                   55.000000                             0.818182  \n",
       "51                    60.000000                             0.833333  \n",
       "104                   54.000000                             0.833333  \n",
       "164                   51.428571                             0.875000  \n",
       "607                   45.000000                             0.888889  \n",
       "625                   45.000000                             0.977778  \n",
       "329                   45.000000                             0.977778  \n",
       "94                    45.000000                             1.000000  \n",
       "350                   45.000000                             1.000000  \n",
       "525                   36.000000                             1.222222  \n",
       "266                   36.000000                             1.333333  \n",
       "647                   22.500000                             1.955556  "
      ]
     },
     "execution_count": 113,
     "metadata": {},
     "output_type": "execute_result"
    }
   ],
   "source": [
    "def getPointsPerMinutesPerConceded(row: pd.Series) -> pd.Series:\n",
    "  return row['now_cost'] / row[\"minutes_per_goals_conceded\"]\n",
    "best_gks['cost_per_minutes_per_goals_conceded'] = best_gks.apply(getPointsPerMinutesPerConceded, axis=1)\n",
    "affordable_gks = best_gks.sort_values(by='cost_per_minutes_per_goals_conceded', ascending=True)\n",
    "affordable_gks[['first_name', 'second_name', 'minutes', 'goals_conceded', 'minutes_per_goals_conceded', 'cost_per_minutes_per_goals_conceded']]"
   ]
  },
  {
   "cell_type": "code",
   "execution_count": 115,
   "metadata": {},
   "outputs": [
    {
     "data": {
      "application/vnd.plotly.v1+json": {
       "config": {
        "plotlyServerURL": "https://plot.ly"
       },
       "data": [
        {
         "customdata": [
          [
           "Alisson",
           "Ramses Becker"
          ],
          [
           "Jason",
           "Steele"
          ],
          [
           "Matz",
           "Sels"
          ],
          [
           "Guglielmo",
           "Vicario"
          ],
          [
           "Bernd",
           "Leno"
          ],
          [
           "Norberto",
           "Murara Neto"
          ],
          [
           "Alex",
           "McCarthy"
          ],
          [
           "Mark",
           "Travers"
          ],
          [
           "David",
           "Raya Martin"
          ],
          [
           "Robert",
           "Sánchez"
          ],
          [
           "Ederson",
           "Santana de Moraes"
          ],
          [
           "Nick",
           "Pope"
          ],
          [
           "André",
           "Onana"
          ],
          [
           "Dean",
           "Henderson"
          ],
          [
           "Arijanet",
           "Muric"
          ],
          [
           "Alphonse",
           "Areola"
          ],
          [
           "Emiliano",
           "Martínez Romero"
          ],
          [
           "Mark",
           "Flekken"
          ],
          [
           "Bart",
           "Verbruggen"
          ],
          [
           "Łukasz",
           "Fabiański"
          ],
          [
           "Sam",
           "Johnstone"
          ],
          [
           "Christian",
           "Walton"
          ],
          [
           "Kepa",
           "Arrizabalaga"
          ],
          [
           "Mads",
           "Hermansen"
          ],
          [
           "Aaron",
           "Ramsdale"
          ],
          [
           "Jordan",
           "Pickford"
          ],
          [
           "José",
           "Malheiro de Sá"
          ]
         ],
         "hovertemplate": "cost_per_minutes_per_goals_conceded=%{x}<br>goals_conceded=%{y}<br>first_name=%{customdata[0]}<br>second_name=%{customdata[1]}<br>bps=%{marker.color}<extra></extra>",
         "legendgroup": "",
         "marker": {
          "color": [
           99,
           46,
           74,
           106,
           83,
           30,
           21,
           8,
           118,
           117,
           75,
           92,
           119,
           61,
           45,
           51,
           51,
           96,
           47,
           4,
           29,
           9,
           33,
           74,
           37,
           25,
           -1
          ],
          "coloraxis": "coloraxis",
          "symbol": "circle"
         },
         "mode": "markers",
         "name": "",
         "orientation": "v",
         "showlegend": false,
         "type": "scatter",
         "x": [
          0.24444444444444444,
          0.24444444444444444,
          0.4166666666666667,
          0.46296296296296297,
          0.46296296296296297,
          0.4777777777777778,
          0.4888888888888889,
          0.4888888888888889,
          0.5185185185185185,
          0.6092592592592593,
          0.6111111111111112,
          0.6481481481481481,
          0.7407407407407407,
          0.75,
          0.7822222222222223,
          0.8181818181818182,
          0.8333333333333334,
          0.8333333333333334,
          0.875,
          0.8888888888888888,
          0.9777777777777777,
          0.9777777777777777,
          1,
          1,
          1.2222222222222223,
          1.3333333333333333,
          1.9555555555555555
         ],
         "xaxis": "x",
         "y": [
          2,
          1,
          5,
          5,
          5,
          2,
          2,
          1,
          5,
          7,
          6,
          7,
          8,
          9,
          8,
          9,
          9,
          10,
          7,
          1,
          8,
          2,
          6,
          12,
          10,
          15,
          8
         ],
         "yaxis": "y"
        }
       ],
       "layout": {
        "coloraxis": {
         "colorbar": {
          "title": {
           "text": "bps"
          }
         },
         "colorscale": [
          [
           0,
           "#0d0887"
          ],
          [
           0.1111111111111111,
           "#46039f"
          ],
          [
           0.2222222222222222,
           "#7201a8"
          ],
          [
           0.3333333333333333,
           "#9c179e"
          ],
          [
           0.4444444444444444,
           "#bd3786"
          ],
          [
           0.5555555555555556,
           "#d8576b"
          ],
          [
           0.6666666666666666,
           "#ed7953"
          ],
          [
           0.7777777777777778,
           "#fb9f3a"
          ],
          [
           0.8888888888888888,
           "#fdca26"
          ],
          [
           1,
           "#f0f921"
          ]
         ]
        },
        "legend": {
         "tracegroupgap": 0
        },
        "margin": {
         "t": 60
        },
        "template": {
         "data": {
          "bar": [
           {
            "error_x": {
             "color": "#2a3f5f"
            },
            "error_y": {
             "color": "#2a3f5f"
            },
            "marker": {
             "line": {
              "color": "#E5ECF6",
              "width": 0.5
             },
             "pattern": {
              "fillmode": "overlay",
              "size": 10,
              "solidity": 0.2
             }
            },
            "type": "bar"
           }
          ],
          "barpolar": [
           {
            "marker": {
             "line": {
              "color": "#E5ECF6",
              "width": 0.5
             },
             "pattern": {
              "fillmode": "overlay",
              "size": 10,
              "solidity": 0.2
             }
            },
            "type": "barpolar"
           }
          ],
          "carpet": [
           {
            "aaxis": {
             "endlinecolor": "#2a3f5f",
             "gridcolor": "white",
             "linecolor": "white",
             "minorgridcolor": "white",
             "startlinecolor": "#2a3f5f"
            },
            "baxis": {
             "endlinecolor": "#2a3f5f",
             "gridcolor": "white",
             "linecolor": "white",
             "minorgridcolor": "white",
             "startlinecolor": "#2a3f5f"
            },
            "type": "carpet"
           }
          ],
          "choropleth": [
           {
            "colorbar": {
             "outlinewidth": 0,
             "ticks": ""
            },
            "type": "choropleth"
           }
          ],
          "contour": [
           {
            "colorbar": {
             "outlinewidth": 0,
             "ticks": ""
            },
            "colorscale": [
             [
              0,
              "#0d0887"
             ],
             [
              0.1111111111111111,
              "#46039f"
             ],
             [
              0.2222222222222222,
              "#7201a8"
             ],
             [
              0.3333333333333333,
              "#9c179e"
             ],
             [
              0.4444444444444444,
              "#bd3786"
             ],
             [
              0.5555555555555556,
              "#d8576b"
             ],
             [
              0.6666666666666666,
              "#ed7953"
             ],
             [
              0.7777777777777778,
              "#fb9f3a"
             ],
             [
              0.8888888888888888,
              "#fdca26"
             ],
             [
              1,
              "#f0f921"
             ]
            ],
            "type": "contour"
           }
          ],
          "contourcarpet": [
           {
            "colorbar": {
             "outlinewidth": 0,
             "ticks": ""
            },
            "type": "contourcarpet"
           }
          ],
          "heatmap": [
           {
            "colorbar": {
             "outlinewidth": 0,
             "ticks": ""
            },
            "colorscale": [
             [
              0,
              "#0d0887"
             ],
             [
              0.1111111111111111,
              "#46039f"
             ],
             [
              0.2222222222222222,
              "#7201a8"
             ],
             [
              0.3333333333333333,
              "#9c179e"
             ],
             [
              0.4444444444444444,
              "#bd3786"
             ],
             [
              0.5555555555555556,
              "#d8576b"
             ],
             [
              0.6666666666666666,
              "#ed7953"
             ],
             [
              0.7777777777777778,
              "#fb9f3a"
             ],
             [
              0.8888888888888888,
              "#fdca26"
             ],
             [
              1,
              "#f0f921"
             ]
            ],
            "type": "heatmap"
           }
          ],
          "heatmapgl": [
           {
            "colorbar": {
             "outlinewidth": 0,
             "ticks": ""
            },
            "colorscale": [
             [
              0,
              "#0d0887"
             ],
             [
              0.1111111111111111,
              "#46039f"
             ],
             [
              0.2222222222222222,
              "#7201a8"
             ],
             [
              0.3333333333333333,
              "#9c179e"
             ],
             [
              0.4444444444444444,
              "#bd3786"
             ],
             [
              0.5555555555555556,
              "#d8576b"
             ],
             [
              0.6666666666666666,
              "#ed7953"
             ],
             [
              0.7777777777777778,
              "#fb9f3a"
             ],
             [
              0.8888888888888888,
              "#fdca26"
             ],
             [
              1,
              "#f0f921"
             ]
            ],
            "type": "heatmapgl"
           }
          ],
          "histogram": [
           {
            "marker": {
             "pattern": {
              "fillmode": "overlay",
              "size": 10,
              "solidity": 0.2
             }
            },
            "type": "histogram"
           }
          ],
          "histogram2d": [
           {
            "colorbar": {
             "outlinewidth": 0,
             "ticks": ""
            },
            "colorscale": [
             [
              0,
              "#0d0887"
             ],
             [
              0.1111111111111111,
              "#46039f"
             ],
             [
              0.2222222222222222,
              "#7201a8"
             ],
             [
              0.3333333333333333,
              "#9c179e"
             ],
             [
              0.4444444444444444,
              "#bd3786"
             ],
             [
              0.5555555555555556,
              "#d8576b"
             ],
             [
              0.6666666666666666,
              "#ed7953"
             ],
             [
              0.7777777777777778,
              "#fb9f3a"
             ],
             [
              0.8888888888888888,
              "#fdca26"
             ],
             [
              1,
              "#f0f921"
             ]
            ],
            "type": "histogram2d"
           }
          ],
          "histogram2dcontour": [
           {
            "colorbar": {
             "outlinewidth": 0,
             "ticks": ""
            },
            "colorscale": [
             [
              0,
              "#0d0887"
             ],
             [
              0.1111111111111111,
              "#46039f"
             ],
             [
              0.2222222222222222,
              "#7201a8"
             ],
             [
              0.3333333333333333,
              "#9c179e"
             ],
             [
              0.4444444444444444,
              "#bd3786"
             ],
             [
              0.5555555555555556,
              "#d8576b"
             ],
             [
              0.6666666666666666,
              "#ed7953"
             ],
             [
              0.7777777777777778,
              "#fb9f3a"
             ],
             [
              0.8888888888888888,
              "#fdca26"
             ],
             [
              1,
              "#f0f921"
             ]
            ],
            "type": "histogram2dcontour"
           }
          ],
          "mesh3d": [
           {
            "colorbar": {
             "outlinewidth": 0,
             "ticks": ""
            },
            "type": "mesh3d"
           }
          ],
          "parcoords": [
           {
            "line": {
             "colorbar": {
              "outlinewidth": 0,
              "ticks": ""
             }
            },
            "type": "parcoords"
           }
          ],
          "pie": [
           {
            "automargin": true,
            "type": "pie"
           }
          ],
          "scatter": [
           {
            "fillpattern": {
             "fillmode": "overlay",
             "size": 10,
             "solidity": 0.2
            },
            "type": "scatter"
           }
          ],
          "scatter3d": [
           {
            "line": {
             "colorbar": {
              "outlinewidth": 0,
              "ticks": ""
             }
            },
            "marker": {
             "colorbar": {
              "outlinewidth": 0,
              "ticks": ""
             }
            },
            "type": "scatter3d"
           }
          ],
          "scattercarpet": [
           {
            "marker": {
             "colorbar": {
              "outlinewidth": 0,
              "ticks": ""
             }
            },
            "type": "scattercarpet"
           }
          ],
          "scattergeo": [
           {
            "marker": {
             "colorbar": {
              "outlinewidth": 0,
              "ticks": ""
             }
            },
            "type": "scattergeo"
           }
          ],
          "scattergl": [
           {
            "marker": {
             "colorbar": {
              "outlinewidth": 0,
              "ticks": ""
             }
            },
            "type": "scattergl"
           }
          ],
          "scattermapbox": [
           {
            "marker": {
             "colorbar": {
              "outlinewidth": 0,
              "ticks": ""
             }
            },
            "type": "scattermapbox"
           }
          ],
          "scatterpolar": [
           {
            "marker": {
             "colorbar": {
              "outlinewidth": 0,
              "ticks": ""
             }
            },
            "type": "scatterpolar"
           }
          ],
          "scatterpolargl": [
           {
            "marker": {
             "colorbar": {
              "outlinewidth": 0,
              "ticks": ""
             }
            },
            "type": "scatterpolargl"
           }
          ],
          "scatterternary": [
           {
            "marker": {
             "colorbar": {
              "outlinewidth": 0,
              "ticks": ""
             }
            },
            "type": "scatterternary"
           }
          ],
          "surface": [
           {
            "colorbar": {
             "outlinewidth": 0,
             "ticks": ""
            },
            "colorscale": [
             [
              0,
              "#0d0887"
             ],
             [
              0.1111111111111111,
              "#46039f"
             ],
             [
              0.2222222222222222,
              "#7201a8"
             ],
             [
              0.3333333333333333,
              "#9c179e"
             ],
             [
              0.4444444444444444,
              "#bd3786"
             ],
             [
              0.5555555555555556,
              "#d8576b"
             ],
             [
              0.6666666666666666,
              "#ed7953"
             ],
             [
              0.7777777777777778,
              "#fb9f3a"
             ],
             [
              0.8888888888888888,
              "#fdca26"
             ],
             [
              1,
              "#f0f921"
             ]
            ],
            "type": "surface"
           }
          ],
          "table": [
           {
            "cells": {
             "fill": {
              "color": "#EBF0F8"
             },
             "line": {
              "color": "white"
             }
            },
            "header": {
             "fill": {
              "color": "#C8D4E3"
             },
             "line": {
              "color": "white"
             }
            },
            "type": "table"
           }
          ]
         },
         "layout": {
          "annotationdefaults": {
           "arrowcolor": "#2a3f5f",
           "arrowhead": 0,
           "arrowwidth": 1
          },
          "autotypenumbers": "strict",
          "coloraxis": {
           "colorbar": {
            "outlinewidth": 0,
            "ticks": ""
           }
          },
          "colorscale": {
           "diverging": [
            [
             0,
             "#8e0152"
            ],
            [
             0.1,
             "#c51b7d"
            ],
            [
             0.2,
             "#de77ae"
            ],
            [
             0.3,
             "#f1b6da"
            ],
            [
             0.4,
             "#fde0ef"
            ],
            [
             0.5,
             "#f7f7f7"
            ],
            [
             0.6,
             "#e6f5d0"
            ],
            [
             0.7,
             "#b8e186"
            ],
            [
             0.8,
             "#7fbc41"
            ],
            [
             0.9,
             "#4d9221"
            ],
            [
             1,
             "#276419"
            ]
           ],
           "sequential": [
            [
             0,
             "#0d0887"
            ],
            [
             0.1111111111111111,
             "#46039f"
            ],
            [
             0.2222222222222222,
             "#7201a8"
            ],
            [
             0.3333333333333333,
             "#9c179e"
            ],
            [
             0.4444444444444444,
             "#bd3786"
            ],
            [
             0.5555555555555556,
             "#d8576b"
            ],
            [
             0.6666666666666666,
             "#ed7953"
            ],
            [
             0.7777777777777778,
             "#fb9f3a"
            ],
            [
             0.8888888888888888,
             "#fdca26"
            ],
            [
             1,
             "#f0f921"
            ]
           ],
           "sequentialminus": [
            [
             0,
             "#0d0887"
            ],
            [
             0.1111111111111111,
             "#46039f"
            ],
            [
             0.2222222222222222,
             "#7201a8"
            ],
            [
             0.3333333333333333,
             "#9c179e"
            ],
            [
             0.4444444444444444,
             "#bd3786"
            ],
            [
             0.5555555555555556,
             "#d8576b"
            ],
            [
             0.6666666666666666,
             "#ed7953"
            ],
            [
             0.7777777777777778,
             "#fb9f3a"
            ],
            [
             0.8888888888888888,
             "#fdca26"
            ],
            [
             1,
             "#f0f921"
            ]
           ]
          },
          "colorway": [
           "#636efa",
           "#EF553B",
           "#00cc96",
           "#ab63fa",
           "#FFA15A",
           "#19d3f3",
           "#FF6692",
           "#B6E880",
           "#FF97FF",
           "#FECB52"
          ],
          "font": {
           "color": "#2a3f5f"
          },
          "geo": {
           "bgcolor": "white",
           "lakecolor": "white",
           "landcolor": "#E5ECF6",
           "showlakes": true,
           "showland": true,
           "subunitcolor": "white"
          },
          "hoverlabel": {
           "align": "left"
          },
          "hovermode": "closest",
          "mapbox": {
           "style": "light"
          },
          "paper_bgcolor": "white",
          "plot_bgcolor": "#E5ECF6",
          "polar": {
           "angularaxis": {
            "gridcolor": "white",
            "linecolor": "white",
            "ticks": ""
           },
           "bgcolor": "#E5ECF6",
           "radialaxis": {
            "gridcolor": "white",
            "linecolor": "white",
            "ticks": ""
           }
          },
          "scene": {
           "xaxis": {
            "backgroundcolor": "#E5ECF6",
            "gridcolor": "white",
            "gridwidth": 2,
            "linecolor": "white",
            "showbackground": true,
            "ticks": "",
            "zerolinecolor": "white"
           },
           "yaxis": {
            "backgroundcolor": "#E5ECF6",
            "gridcolor": "white",
            "gridwidth": 2,
            "linecolor": "white",
            "showbackground": true,
            "ticks": "",
            "zerolinecolor": "white"
           },
           "zaxis": {
            "backgroundcolor": "#E5ECF6",
            "gridcolor": "white",
            "gridwidth": 2,
            "linecolor": "white",
            "showbackground": true,
            "ticks": "",
            "zerolinecolor": "white"
           }
          },
          "shapedefaults": {
           "line": {
            "color": "#2a3f5f"
           }
          },
          "ternary": {
           "aaxis": {
            "gridcolor": "white",
            "linecolor": "white",
            "ticks": ""
           },
           "baxis": {
            "gridcolor": "white",
            "linecolor": "white",
            "ticks": ""
           },
           "bgcolor": "#E5ECF6",
           "caxis": {
            "gridcolor": "white",
            "linecolor": "white",
            "ticks": ""
           }
          },
          "title": {
           "x": 0.05
          },
          "xaxis": {
           "automargin": true,
           "gridcolor": "white",
           "linecolor": "white",
           "ticks": "",
           "title": {
            "standoff": 15
           },
           "zerolinecolor": "white",
           "zerolinewidth": 2
          },
          "yaxis": {
           "automargin": true,
           "gridcolor": "white",
           "linecolor": "white",
           "ticks": "",
           "title": {
            "standoff": 15
           },
           "zerolinecolor": "white",
           "zerolinewidth": 2
          }
         }
        },
        "xaxis": {
         "anchor": "y",
         "domain": [
          0,
          1
         ],
         "title": {
          "text": "cost_per_minutes_per_goals_conceded"
         }
        },
        "yaxis": {
         "anchor": "x",
         "domain": [
          0,
          1
         ],
         "title": {
          "text": "goals_conceded"
         }
        }
       }
      },
      "text/html": [
       "<div>                            <div id=\"120fb8c2-9d1c-408f-ba2f-5e025cfa172b\" class=\"plotly-graph-div\" style=\"height:525px; width:100%;\"></div>            <script type=\"text/javascript\">                require([\"plotly\"], function(Plotly) {                    window.PLOTLYENV=window.PLOTLYENV || {};                                    if (document.getElementById(\"120fb8c2-9d1c-408f-ba2f-5e025cfa172b\")) {                    Plotly.newPlot(                        \"120fb8c2-9d1c-408f-ba2f-5e025cfa172b\",                        [{\"customdata\":[[\"Alisson\",\"Ramses Becker\"],[\"Jason\",\"Steele\"],[\"Matz\",\"Sels\"],[\"Guglielmo\",\"Vicario\"],[\"Bernd\",\"Leno\"],[\"Norberto\",\"Murara Neto\"],[\"Alex\",\"McCarthy\"],[\"Mark\",\"Travers\"],[\"David\",\"Raya Martin\"],[\"Robert\",\"S\\u00e1nchez\"],[\"Ederson\",\"Santana de Moraes\"],[\"Nick\",\"Pope\"],[\"Andr\\u00e9\",\"Onana\"],[\"Dean\",\"Henderson\"],[\"Arijanet\",\"Muric\"],[\"Alphonse\",\"Areola\"],[\"Emiliano\",\"Mart\\u00ednez Romero\"],[\"Mark\",\"Flekken\"],[\"Bart\",\"Verbruggen\"],[\"\\u0141ukasz\",\"Fabia\\u0144ski\"],[\"Sam\",\"Johnstone\"],[\"Christian\",\"Walton\"],[\"Kepa\",\"Arrizabalaga\"],[\"Mads\",\"Hermansen\"],[\"Aaron\",\"Ramsdale\"],[\"Jordan\",\"Pickford\"],[\"Jos\\u00e9\",\"Malheiro de S\\u00e1\"]],\"hovertemplate\":\"cost_per_minutes_per_goals_conceded=%{x}\\u003cbr\\u003egoals_conceded=%{y}\\u003cbr\\u003efirst_name=%{customdata[0]}\\u003cbr\\u003esecond_name=%{customdata[1]}\\u003cbr\\u003ebps=%{marker.color}\\u003cextra\\u003e\\u003c\\u002fextra\\u003e\",\"legendgroup\":\"\",\"marker\":{\"color\":[99,46,74,106,83,30,21,8,118,117,75,92,119,61,45,51,51,96,47,4,29,9,33,74,37,25,-1],\"coloraxis\":\"coloraxis\",\"symbol\":\"circle\"},\"mode\":\"markers\",\"name\":\"\",\"orientation\":\"v\",\"showlegend\":false,\"x\":[0.24444444444444444,0.24444444444444444,0.4166666666666667,0.46296296296296297,0.46296296296296297,0.4777777777777778,0.4888888888888889,0.4888888888888889,0.5185185185185185,0.6092592592592593,0.6111111111111112,0.6481481481481481,0.7407407407407407,0.75,0.7822222222222223,0.8181818181818182,0.8333333333333334,0.8333333333333334,0.875,0.8888888888888888,0.9777777777777777,0.9777777777777777,1.0,1.0,1.2222222222222223,1.3333333333333333,1.9555555555555555],\"xaxis\":\"x\",\"y\":[2,1,5,5,5,2,2,1,5,7,6,7,8,9,8,9,9,10,7,1,8,2,6,12,10,15,8],\"yaxis\":\"y\",\"type\":\"scatter\"}],                        {\"template\":{\"data\":{\"histogram2dcontour\":[{\"type\":\"histogram2dcontour\",\"colorbar\":{\"outlinewidth\":0,\"ticks\":\"\"},\"colorscale\":[[0.0,\"#0d0887\"],[0.1111111111111111,\"#46039f\"],[0.2222222222222222,\"#7201a8\"],[0.3333333333333333,\"#9c179e\"],[0.4444444444444444,\"#bd3786\"],[0.5555555555555556,\"#d8576b\"],[0.6666666666666666,\"#ed7953\"],[0.7777777777777778,\"#fb9f3a\"],[0.8888888888888888,\"#fdca26\"],[1.0,\"#f0f921\"]]}],\"choropleth\":[{\"type\":\"choropleth\",\"colorbar\":{\"outlinewidth\":0,\"ticks\":\"\"}}],\"histogram2d\":[{\"type\":\"histogram2d\",\"colorbar\":{\"outlinewidth\":0,\"ticks\":\"\"},\"colorscale\":[[0.0,\"#0d0887\"],[0.1111111111111111,\"#46039f\"],[0.2222222222222222,\"#7201a8\"],[0.3333333333333333,\"#9c179e\"],[0.4444444444444444,\"#bd3786\"],[0.5555555555555556,\"#d8576b\"],[0.6666666666666666,\"#ed7953\"],[0.7777777777777778,\"#fb9f3a\"],[0.8888888888888888,\"#fdca26\"],[1.0,\"#f0f921\"]]}],\"heatmap\":[{\"type\":\"heatmap\",\"colorbar\":{\"outlinewidth\":0,\"ticks\":\"\"},\"colorscale\":[[0.0,\"#0d0887\"],[0.1111111111111111,\"#46039f\"],[0.2222222222222222,\"#7201a8\"],[0.3333333333333333,\"#9c179e\"],[0.4444444444444444,\"#bd3786\"],[0.5555555555555556,\"#d8576b\"],[0.6666666666666666,\"#ed7953\"],[0.7777777777777778,\"#fb9f3a\"],[0.8888888888888888,\"#fdca26\"],[1.0,\"#f0f921\"]]}],\"heatmapgl\":[{\"type\":\"heatmapgl\",\"colorbar\":{\"outlinewidth\":0,\"ticks\":\"\"},\"colorscale\":[[0.0,\"#0d0887\"],[0.1111111111111111,\"#46039f\"],[0.2222222222222222,\"#7201a8\"],[0.3333333333333333,\"#9c179e\"],[0.4444444444444444,\"#bd3786\"],[0.5555555555555556,\"#d8576b\"],[0.6666666666666666,\"#ed7953\"],[0.7777777777777778,\"#fb9f3a\"],[0.8888888888888888,\"#fdca26\"],[1.0,\"#f0f921\"]]}],\"contourcarpet\":[{\"type\":\"contourcarpet\",\"colorbar\":{\"outlinewidth\":0,\"ticks\":\"\"}}],\"contour\":[{\"type\":\"contour\",\"colorbar\":{\"outlinewidth\":0,\"ticks\":\"\"},\"colorscale\":[[0.0,\"#0d0887\"],[0.1111111111111111,\"#46039f\"],[0.2222222222222222,\"#7201a8\"],[0.3333333333333333,\"#9c179e\"],[0.4444444444444444,\"#bd3786\"],[0.5555555555555556,\"#d8576b\"],[0.6666666666666666,\"#ed7953\"],[0.7777777777777778,\"#fb9f3a\"],[0.8888888888888888,\"#fdca26\"],[1.0,\"#f0f921\"]]}],\"surface\":[{\"type\":\"surface\",\"colorbar\":{\"outlinewidth\":0,\"ticks\":\"\"},\"colorscale\":[[0.0,\"#0d0887\"],[0.1111111111111111,\"#46039f\"],[0.2222222222222222,\"#7201a8\"],[0.3333333333333333,\"#9c179e\"],[0.4444444444444444,\"#bd3786\"],[0.5555555555555556,\"#d8576b\"],[0.6666666666666666,\"#ed7953\"],[0.7777777777777778,\"#fb9f3a\"],[0.8888888888888888,\"#fdca26\"],[1.0,\"#f0f921\"]]}],\"mesh3d\":[{\"type\":\"mesh3d\",\"colorbar\":{\"outlinewidth\":0,\"ticks\":\"\"}}],\"scatter\":[{\"fillpattern\":{\"fillmode\":\"overlay\",\"size\":10,\"solidity\":0.2},\"type\":\"scatter\"}],\"parcoords\":[{\"type\":\"parcoords\",\"line\":{\"colorbar\":{\"outlinewidth\":0,\"ticks\":\"\"}}}],\"scatterpolargl\":[{\"type\":\"scatterpolargl\",\"marker\":{\"colorbar\":{\"outlinewidth\":0,\"ticks\":\"\"}}}],\"bar\":[{\"error_x\":{\"color\":\"#2a3f5f\"},\"error_y\":{\"color\":\"#2a3f5f\"},\"marker\":{\"line\":{\"color\":\"#E5ECF6\",\"width\":0.5},\"pattern\":{\"fillmode\":\"overlay\",\"size\":10,\"solidity\":0.2}},\"type\":\"bar\"}],\"scattergeo\":[{\"type\":\"scattergeo\",\"marker\":{\"colorbar\":{\"outlinewidth\":0,\"ticks\":\"\"}}}],\"scatterpolar\":[{\"type\":\"scatterpolar\",\"marker\":{\"colorbar\":{\"outlinewidth\":0,\"ticks\":\"\"}}}],\"histogram\":[{\"marker\":{\"pattern\":{\"fillmode\":\"overlay\",\"size\":10,\"solidity\":0.2}},\"type\":\"histogram\"}],\"scattergl\":[{\"type\":\"scattergl\",\"marker\":{\"colorbar\":{\"outlinewidth\":0,\"ticks\":\"\"}}}],\"scatter3d\":[{\"type\":\"scatter3d\",\"line\":{\"colorbar\":{\"outlinewidth\":0,\"ticks\":\"\"}},\"marker\":{\"colorbar\":{\"outlinewidth\":0,\"ticks\":\"\"}}}],\"scattermapbox\":[{\"type\":\"scattermapbox\",\"marker\":{\"colorbar\":{\"outlinewidth\":0,\"ticks\":\"\"}}}],\"scatterternary\":[{\"type\":\"scatterternary\",\"marker\":{\"colorbar\":{\"outlinewidth\":0,\"ticks\":\"\"}}}],\"scattercarpet\":[{\"type\":\"scattercarpet\",\"marker\":{\"colorbar\":{\"outlinewidth\":0,\"ticks\":\"\"}}}],\"carpet\":[{\"aaxis\":{\"endlinecolor\":\"#2a3f5f\",\"gridcolor\":\"white\",\"linecolor\":\"white\",\"minorgridcolor\":\"white\",\"startlinecolor\":\"#2a3f5f\"},\"baxis\":{\"endlinecolor\":\"#2a3f5f\",\"gridcolor\":\"white\",\"linecolor\":\"white\",\"minorgridcolor\":\"white\",\"startlinecolor\":\"#2a3f5f\"},\"type\":\"carpet\"}],\"table\":[{\"cells\":{\"fill\":{\"color\":\"#EBF0F8\"},\"line\":{\"color\":\"white\"}},\"header\":{\"fill\":{\"color\":\"#C8D4E3\"},\"line\":{\"color\":\"white\"}},\"type\":\"table\"}],\"barpolar\":[{\"marker\":{\"line\":{\"color\":\"#E5ECF6\",\"width\":0.5},\"pattern\":{\"fillmode\":\"overlay\",\"size\":10,\"solidity\":0.2}},\"type\":\"barpolar\"}],\"pie\":[{\"automargin\":true,\"type\":\"pie\"}]},\"layout\":{\"autotypenumbers\":\"strict\",\"colorway\":[\"#636efa\",\"#EF553B\",\"#00cc96\",\"#ab63fa\",\"#FFA15A\",\"#19d3f3\",\"#FF6692\",\"#B6E880\",\"#FF97FF\",\"#FECB52\"],\"font\":{\"color\":\"#2a3f5f\"},\"hovermode\":\"closest\",\"hoverlabel\":{\"align\":\"left\"},\"paper_bgcolor\":\"white\",\"plot_bgcolor\":\"#E5ECF6\",\"polar\":{\"bgcolor\":\"#E5ECF6\",\"angularaxis\":{\"gridcolor\":\"white\",\"linecolor\":\"white\",\"ticks\":\"\"},\"radialaxis\":{\"gridcolor\":\"white\",\"linecolor\":\"white\",\"ticks\":\"\"}},\"ternary\":{\"bgcolor\":\"#E5ECF6\",\"aaxis\":{\"gridcolor\":\"white\",\"linecolor\":\"white\",\"ticks\":\"\"},\"baxis\":{\"gridcolor\":\"white\",\"linecolor\":\"white\",\"ticks\":\"\"},\"caxis\":{\"gridcolor\":\"white\",\"linecolor\":\"white\",\"ticks\":\"\"}},\"coloraxis\":{\"colorbar\":{\"outlinewidth\":0,\"ticks\":\"\"}},\"colorscale\":{\"sequential\":[[0.0,\"#0d0887\"],[0.1111111111111111,\"#46039f\"],[0.2222222222222222,\"#7201a8\"],[0.3333333333333333,\"#9c179e\"],[0.4444444444444444,\"#bd3786\"],[0.5555555555555556,\"#d8576b\"],[0.6666666666666666,\"#ed7953\"],[0.7777777777777778,\"#fb9f3a\"],[0.8888888888888888,\"#fdca26\"],[1.0,\"#f0f921\"]],\"sequentialminus\":[[0.0,\"#0d0887\"],[0.1111111111111111,\"#46039f\"],[0.2222222222222222,\"#7201a8\"],[0.3333333333333333,\"#9c179e\"],[0.4444444444444444,\"#bd3786\"],[0.5555555555555556,\"#d8576b\"],[0.6666666666666666,\"#ed7953\"],[0.7777777777777778,\"#fb9f3a\"],[0.8888888888888888,\"#fdca26\"],[1.0,\"#f0f921\"]],\"diverging\":[[0,\"#8e0152\"],[0.1,\"#c51b7d\"],[0.2,\"#de77ae\"],[0.3,\"#f1b6da\"],[0.4,\"#fde0ef\"],[0.5,\"#f7f7f7\"],[0.6,\"#e6f5d0\"],[0.7,\"#b8e186\"],[0.8,\"#7fbc41\"],[0.9,\"#4d9221\"],[1,\"#276419\"]]},\"xaxis\":{\"gridcolor\":\"white\",\"linecolor\":\"white\",\"ticks\":\"\",\"title\":{\"standoff\":15},\"zerolinecolor\":\"white\",\"automargin\":true,\"zerolinewidth\":2},\"yaxis\":{\"gridcolor\":\"white\",\"linecolor\":\"white\",\"ticks\":\"\",\"title\":{\"standoff\":15},\"zerolinecolor\":\"white\",\"automargin\":true,\"zerolinewidth\":2},\"scene\":{\"xaxis\":{\"backgroundcolor\":\"#E5ECF6\",\"gridcolor\":\"white\",\"linecolor\":\"white\",\"showbackground\":true,\"ticks\":\"\",\"zerolinecolor\":\"white\",\"gridwidth\":2},\"yaxis\":{\"backgroundcolor\":\"#E5ECF6\",\"gridcolor\":\"white\",\"linecolor\":\"white\",\"showbackground\":true,\"ticks\":\"\",\"zerolinecolor\":\"white\",\"gridwidth\":2},\"zaxis\":{\"backgroundcolor\":\"#E5ECF6\",\"gridcolor\":\"white\",\"linecolor\":\"white\",\"showbackground\":true,\"ticks\":\"\",\"zerolinecolor\":\"white\",\"gridwidth\":2}},\"shapedefaults\":{\"line\":{\"color\":\"#2a3f5f\"}},\"annotationdefaults\":{\"arrowcolor\":\"#2a3f5f\",\"arrowhead\":0,\"arrowwidth\":1},\"geo\":{\"bgcolor\":\"white\",\"landcolor\":\"#E5ECF6\",\"subunitcolor\":\"white\",\"showland\":true,\"showlakes\":true,\"lakecolor\":\"white\"},\"title\":{\"x\":0.05},\"mapbox\":{\"style\":\"light\"}}},\"xaxis\":{\"anchor\":\"y\",\"domain\":[0.0,1.0],\"title\":{\"text\":\"cost_per_minutes_per_goals_conceded\"}},\"yaxis\":{\"anchor\":\"x\",\"domain\":[0.0,1.0],\"title\":{\"text\":\"goals_conceded\"}},\"coloraxis\":{\"colorbar\":{\"title\":{\"text\":\"bps\"}},\"colorscale\":[[0.0,\"#0d0887\"],[0.1111111111111111,\"#46039f\"],[0.2222222222222222,\"#7201a8\"],[0.3333333333333333,\"#9c179e\"],[0.4444444444444444,\"#bd3786\"],[0.5555555555555556,\"#d8576b\"],[0.6666666666666666,\"#ed7953\"],[0.7777777777777778,\"#fb9f3a\"],[0.8888888888888888,\"#fdca26\"],[1.0,\"#f0f921\"]]},\"legend\":{\"tracegroupgap\":0},\"margin\":{\"t\":60}},                        {\"responsive\": true}                    ).then(function(){\n",
       "                            \n",
       "var gd = document.getElementById('120fb8c2-9d1c-408f-ba2f-5e025cfa172b');\n",
       "var x = new MutationObserver(function (mutations, observer) {{\n",
       "        var display = window.getComputedStyle(gd).display;\n",
       "        if (!display || display === 'none') {{\n",
       "            console.log([gd, 'removed!']);\n",
       "            Plotly.purge(gd);\n",
       "            observer.disconnect();\n",
       "        }}\n",
       "}});\n",
       "\n",
       "// Listen for the removal of the full notebook cells\n",
       "var notebookContainer = gd.closest('#notebook-container');\n",
       "if (notebookContainer) {{\n",
       "    x.observe(notebookContainer, {childList: true});\n",
       "}}\n",
       "\n",
       "// Listen for the clearing of the current output cell\n",
       "var outputEl = gd.closest('.output');\n",
       "if (outputEl) {{\n",
       "    x.observe(outputEl, {childList: true});\n",
       "}}\n",
       "\n",
       "                        })                };                });            </script>        </div>"
      ]
     },
     "metadata": {},
     "output_type": "display_data"
    }
   ],
   "source": [
    "affordable_gks.plot.scatter(x=\"cost_per_minutes_per_goals_conceded\", y=\"goals_conceded\", hover_data=[\"first_name\", \"second_name\", \"goals_conceded\"], color='bps')"
   ]
  }
 ],
 "metadata": {
  "kernelspec": {
   "display_name": "Python 3",
   "language": "python",
   "name": "python3"
  },
  "language_info": {
   "codemirror_mode": {
    "name": "ipython",
    "version": 3
   },
   "file_extension": ".py",
   "mimetype": "text/x-python",
   "name": "python",
   "nbconvert_exporter": "python",
   "pygments_lexer": "ipython3",
   "version": "3.12.6"
  }
 },
 "nbformat": 4,
 "nbformat_minor": 2
}
